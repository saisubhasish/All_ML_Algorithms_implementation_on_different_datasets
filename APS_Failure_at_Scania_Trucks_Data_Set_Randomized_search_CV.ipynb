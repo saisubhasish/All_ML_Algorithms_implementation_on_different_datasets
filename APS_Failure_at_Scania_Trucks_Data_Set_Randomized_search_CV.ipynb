{
  "cells": [
    {
      "cell_type": "code",
      "execution_count": null,
      "id": "65484bde",
      "metadata": {
        "id": "65484bde",
        "colab": {
          "base_uri": "https://localhost:8080/",
          "height": 731
        },
        "outputId": "25808b75-3538-4956-959a-d21f9418b60a"
      },
      "outputs": [
        {
          "output_type": "stream",
          "name": "stdout",
          "text": [
            "Looking in indexes: https://pypi.org/simple, https://us-python.pkg.dev/colab-wheels/public/simple/\n",
            "Collecting skimpy\n",
            "  Downloading skimpy-0.0.5-py3-none-any.whl (15 kB)\n",
            "Collecting rich<11.0.0,>=10.9.0\n",
            "  Downloading rich-10.16.2-py3-none-any.whl (214 kB)\n",
            "\u001b[K     |████████████████████████████████| 214 kB 9.9 MB/s \n",
            "\u001b[?25hRequirement already satisfied: click==7.1.2 in /usr/local/lib/python3.7/dist-packages (from skimpy) (7.1.2)\n",
            "Requirement already satisfied: pandas<2.0.0,>=1.3.2 in /usr/local/lib/python3.7/dist-packages (from skimpy) (1.3.5)\n",
            "Collecting Pygments<3.0.0,>=2.10.0\n",
            "  Downloading Pygments-2.13.0-py3-none-any.whl (1.1 MB)\n",
            "\u001b[K     |████████████████████████████████| 1.1 MB 25.9 MB/s \n",
            "\u001b[?25hCollecting typeguard<3.0.0,>=2.12.1\n",
            "  Downloading typeguard-2.13.3-py3-none-any.whl (17 kB)\n",
            "Requirement already satisfied: python-dateutil>=2.7.3 in /usr/local/lib/python3.7/dist-packages (from pandas<2.0.0,>=1.3.2->skimpy) (2.8.2)\n",
            "Requirement already satisfied: numpy>=1.17.3 in /usr/local/lib/python3.7/dist-packages (from pandas<2.0.0,>=1.3.2->skimpy) (1.21.6)\n",
            "Requirement already satisfied: pytz>=2017.3 in /usr/local/lib/python3.7/dist-packages (from pandas<2.0.0,>=1.3.2->skimpy) (2022.6)\n",
            "Requirement already satisfied: six>=1.5 in /usr/local/lib/python3.7/dist-packages (from python-dateutil>=2.7.3->pandas<2.0.0,>=1.3.2->skimpy) (1.15.0)\n",
            "Requirement already satisfied: typing-extensions<5.0,>=3.7.4 in /usr/local/lib/python3.7/dist-packages (from rich<11.0.0,>=10.9.0->skimpy) (4.1.1)\n",
            "Collecting commonmark<0.10.0,>=0.9.0\n",
            "  Downloading commonmark-0.9.1-py2.py3-none-any.whl (51 kB)\n",
            "\u001b[K     |████████████████████████████████| 51 kB 1.9 MB/s \n",
            "\u001b[?25hCollecting colorama<0.5.0,>=0.4.0\n",
            "  Downloading colorama-0.4.6-py2.py3-none-any.whl (25 kB)\n",
            "Installing collected packages: Pygments, commonmark, colorama, typeguard, rich, skimpy\n",
            "  Attempting uninstall: Pygments\n",
            "    Found existing installation: Pygments 2.6.1\n",
            "    Uninstalling Pygments-2.6.1:\n",
            "      Successfully uninstalled Pygments-2.6.1\n",
            "  Attempting uninstall: typeguard\n",
            "    Found existing installation: typeguard 2.7.1\n",
            "    Uninstalling typeguard-2.7.1:\n",
            "      Successfully uninstalled typeguard-2.7.1\n",
            "\u001b[31mERROR: pip's dependency resolver does not currently take into account all the packages that are installed. This behaviour is the source of the following dependency conflicts.\n",
            "ipython 7.9.0 requires jedi>=0.10, which is not installed.\u001b[0m\n",
            "Successfully installed Pygments-2.13.0 colorama-0.4.6 commonmark-0.9.1 rich-10.16.2 skimpy-0.0.5 typeguard-2.13.3\n"
          ]
        },
        {
          "output_type": "display_data",
          "data": {
            "application/vnd.colab-display-data+json": {
              "pip_warning": {
                "packages": [
                  "pygments"
                ]
              }
            }
          },
          "metadata": {}
        }
      ],
      "source": [
        "pip install skimpy"
      ]
    },
    {
      "cell_type": "markdown",
      "source": [
        "### Problem statement : We need to predict the components failure cause related to APS system or not. Which will be helpful in future for Truck operation and to reduce cost."
      ],
      "metadata": {
        "id": "dLe1AnzfrMuX"
      },
      "id": "dLe1AnzfrMuX"
    },
    {
      "cell_type": "code",
      "execution_count": null,
      "id": "8133c35e",
      "metadata": {
        "id": "8133c35e"
      },
      "outputs": [],
      "source": [
        "### Importing the required libraries\n",
        "\n",
        "import pandas as pd\n",
        "import numpy as np\n",
        "import warnings\n",
        "\n",
        "from skimpy import skim\n",
        "from statistics import median\n",
        "\n",
        "import seaborn as sns\n",
        "import matplotlib.pyplot as plt\n",
        "\n",
        "from sklearn.linear_model import LogisticRegression\n",
        "from sklearn.ensemble import RandomForestClassifier, AdaBoostClassifier, GradientBoostingClassifier\n",
        "from sklearn.tree import DecisionTreeClassifier\n",
        "from sklearn.svm import SVC\n",
        "from sklearn.metrics import accuracy_score, classification_report,ConfusionMatrixDisplay, \\\n",
        "                            precision_score, recall_score, f1_score, roc_auc_score,roc_curve,confusion_matrix\n",
        "\n",
        "from sklearn import metrics \n",
        "from sklearn.model_selection import  train_test_split\n",
        "from xgboost import XGBClassifier\n",
        "from sklearn.preprocessing import StandardScaler\n",
        "from sklearn.impute import SimpleImputer\n",
        "from sklearn.model_selection import GridSearchCV, RandomizedSearchCV\n",
        "\n",
        "%matplotlib inline\n",
        "warnings.filterwarnings('ignore')"
      ]
    },
    {
      "cell_type": "markdown",
      "source": [
        "## Attribute Information:\n",
        "\n",
        "Attribute Information:\n",
        "The attribute names of the data have been anonymized for\n",
        "proprietary reasons. It consists of both single numerical\n",
        "counters and histograms consisting of bins with different\n",
        "conditions. Typically the histograms have open-ended\n",
        "conditions at each end. For example if we measuring\n",
        "the ambient temperature 'T' then the histogram could\n",
        "be defined with 4 bins where:\n",
        "\n",
        "bin 1 collect values for temperature T < -20\n",
        "bin 2 collect values for temperature T >= -20 and T < 0\n",
        "bin 3 collect values for temperature T >= 0 and T < 20\n",
        "bin 4 collect values for temperature T > 20\n",
        "\n",
        "| b1 | b2 | b3 | b4 |\n",
        "-----------------------------\n",
        "-20 0 20\n",
        "\n",
        "The attributes are as follows: class, then\n",
        "anonymized operational data. The operational data have\n",
        "an identifier and a bin id, like 'Identifier_Bin'.\n",
        "In total there are 171 attributes, of which 7 are\n",
        "histogram variabels. Missing values are denoted by 'na"
      ],
      "metadata": {
        "id": "PTFYfIk4eIXI"
      },
      "id": "PTFYfIk4eIXI"
    },
    {
      "cell_type": "markdown",
      "source": [
        "# 1. Data Injection"
      ],
      "metadata": {
        "id": "35iOOYQwYgdZ"
      },
      "id": "35iOOYQwYgdZ"
    },
    {
      "cell_type": "code",
      "execution_count": null,
      "id": "9dd005e3",
      "metadata": {
        "id": "9dd005e3",
        "colab": {
          "base_uri": "https://localhost:8080/",
          "height": 74
        },
        "outputId": "6d4335b5-6248-4eff-f044-032e71ab23e4"
      },
      "outputs": [
        {
          "output_type": "display_data",
          "data": {
            "text/plain": [
              "<IPython.core.display.HTML object>"
            ],
            "text/html": [
              "\n",
              "     <input type=\"file\" id=\"files-c6dea38e-c161-4376-a44f-d762f8974729\" name=\"files[]\" multiple disabled\n",
              "        style=\"border:none\" />\n",
              "     <output id=\"result-c6dea38e-c161-4376-a44f-d762f8974729\">\n",
              "      Upload widget is only available when the cell has been executed in the\n",
              "      current browser session. Please rerun this cell to enable.\n",
              "      </output>\n",
              "      <script>// Copyright 2017 Google LLC\n",
              "//\n",
              "// Licensed under the Apache License, Version 2.0 (the \"License\");\n",
              "// you may not use this file except in compliance with the License.\n",
              "// You may obtain a copy of the License at\n",
              "//\n",
              "//      http://www.apache.org/licenses/LICENSE-2.0\n",
              "//\n",
              "// Unless required by applicable law or agreed to in writing, software\n",
              "// distributed under the License is distributed on an \"AS IS\" BASIS,\n",
              "// WITHOUT WARRANTIES OR CONDITIONS OF ANY KIND, either express or implied.\n",
              "// See the License for the specific language governing permissions and\n",
              "// limitations under the License.\n",
              "\n",
              "/**\n",
              " * @fileoverview Helpers for google.colab Python module.\n",
              " */\n",
              "(function(scope) {\n",
              "function span(text, styleAttributes = {}) {\n",
              "  const element = document.createElement('span');\n",
              "  element.textContent = text;\n",
              "  for (const key of Object.keys(styleAttributes)) {\n",
              "    element.style[key] = styleAttributes[key];\n",
              "  }\n",
              "  return element;\n",
              "}\n",
              "\n",
              "// Max number of bytes which will be uploaded at a time.\n",
              "const MAX_PAYLOAD_SIZE = 100 * 1024;\n",
              "\n",
              "function _uploadFiles(inputId, outputId) {\n",
              "  const steps = uploadFilesStep(inputId, outputId);\n",
              "  const outputElement = document.getElementById(outputId);\n",
              "  // Cache steps on the outputElement to make it available for the next call\n",
              "  // to uploadFilesContinue from Python.\n",
              "  outputElement.steps = steps;\n",
              "\n",
              "  return _uploadFilesContinue(outputId);\n",
              "}\n",
              "\n",
              "// This is roughly an async generator (not supported in the browser yet),\n",
              "// where there are multiple asynchronous steps and the Python side is going\n",
              "// to poll for completion of each step.\n",
              "// This uses a Promise to block the python side on completion of each step,\n",
              "// then passes the result of the previous step as the input to the next step.\n",
              "function _uploadFilesContinue(outputId) {\n",
              "  const outputElement = document.getElementById(outputId);\n",
              "  const steps = outputElement.steps;\n",
              "\n",
              "  const next = steps.next(outputElement.lastPromiseValue);\n",
              "  return Promise.resolve(next.value.promise).then((value) => {\n",
              "    // Cache the last promise value to make it available to the next\n",
              "    // step of the generator.\n",
              "    outputElement.lastPromiseValue = value;\n",
              "    return next.value.response;\n",
              "  });\n",
              "}\n",
              "\n",
              "/**\n",
              " * Generator function which is called between each async step of the upload\n",
              " * process.\n",
              " * @param {string} inputId Element ID of the input file picker element.\n",
              " * @param {string} outputId Element ID of the output display.\n",
              " * @return {!Iterable<!Object>} Iterable of next steps.\n",
              " */\n",
              "function* uploadFilesStep(inputId, outputId) {\n",
              "  const inputElement = document.getElementById(inputId);\n",
              "  inputElement.disabled = false;\n",
              "\n",
              "  const outputElement = document.getElementById(outputId);\n",
              "  outputElement.innerHTML = '';\n",
              "\n",
              "  const pickedPromise = new Promise((resolve) => {\n",
              "    inputElement.addEventListener('change', (e) => {\n",
              "      resolve(e.target.files);\n",
              "    });\n",
              "  });\n",
              "\n",
              "  const cancel = document.createElement('button');\n",
              "  inputElement.parentElement.appendChild(cancel);\n",
              "  cancel.textContent = 'Cancel upload';\n",
              "  const cancelPromise = new Promise((resolve) => {\n",
              "    cancel.onclick = () => {\n",
              "      resolve(null);\n",
              "    };\n",
              "  });\n",
              "\n",
              "  // Wait for the user to pick the files.\n",
              "  const files = yield {\n",
              "    promise: Promise.race([pickedPromise, cancelPromise]),\n",
              "    response: {\n",
              "      action: 'starting',\n",
              "    }\n",
              "  };\n",
              "\n",
              "  cancel.remove();\n",
              "\n",
              "  // Disable the input element since further picks are not allowed.\n",
              "  inputElement.disabled = true;\n",
              "\n",
              "  if (!files) {\n",
              "    return {\n",
              "      response: {\n",
              "        action: 'complete',\n",
              "      }\n",
              "    };\n",
              "  }\n",
              "\n",
              "  for (const file of files) {\n",
              "    const li = document.createElement('li');\n",
              "    li.append(span(file.name, {fontWeight: 'bold'}));\n",
              "    li.append(span(\n",
              "        `(${file.type || 'n/a'}) - ${file.size} bytes, ` +\n",
              "        `last modified: ${\n",
              "            file.lastModifiedDate ? file.lastModifiedDate.toLocaleDateString() :\n",
              "                                    'n/a'} - `));\n",
              "    const percent = span('0% done');\n",
              "    li.appendChild(percent);\n",
              "\n",
              "    outputElement.appendChild(li);\n",
              "\n",
              "    const fileDataPromise = new Promise((resolve) => {\n",
              "      const reader = new FileReader();\n",
              "      reader.onload = (e) => {\n",
              "        resolve(e.target.result);\n",
              "      };\n",
              "      reader.readAsArrayBuffer(file);\n",
              "    });\n",
              "    // Wait for the data to be ready.\n",
              "    let fileData = yield {\n",
              "      promise: fileDataPromise,\n",
              "      response: {\n",
              "        action: 'continue',\n",
              "      }\n",
              "    };\n",
              "\n",
              "    // Use a chunked sending to avoid message size limits. See b/62115660.\n",
              "    let position = 0;\n",
              "    do {\n",
              "      const length = Math.min(fileData.byteLength - position, MAX_PAYLOAD_SIZE);\n",
              "      const chunk = new Uint8Array(fileData, position, length);\n",
              "      position += length;\n",
              "\n",
              "      const base64 = btoa(String.fromCharCode.apply(null, chunk));\n",
              "      yield {\n",
              "        response: {\n",
              "          action: 'append',\n",
              "          file: file.name,\n",
              "          data: base64,\n",
              "        },\n",
              "      };\n",
              "\n",
              "      let percentDone = fileData.byteLength === 0 ?\n",
              "          100 :\n",
              "          Math.round((position / fileData.byteLength) * 100);\n",
              "      percent.textContent = `${percentDone}% done`;\n",
              "\n",
              "    } while (position < fileData.byteLength);\n",
              "  }\n",
              "\n",
              "  // All done.\n",
              "  yield {\n",
              "    response: {\n",
              "      action: 'complete',\n",
              "    }\n",
              "  };\n",
              "}\n",
              "\n",
              "scope.google = scope.google || {};\n",
              "scope.google.colab = scope.google.colab || {};\n",
              "scope.google.colab._files = {\n",
              "  _uploadFiles,\n",
              "  _uploadFilesContinue,\n",
              "};\n",
              "})(self);\n",
              "</script> "
            ]
          },
          "metadata": {}
        },
        {
          "output_type": "stream",
          "name": "stdout",
          "text": [
            "Saving aps_failure_training_set.csv to aps_failure_training_set.csv\n"
          ]
        }
      ],
      "source": [
        "### Uploading the local file\n",
        "from google.colab import files\n",
        "\n",
        "uploaded = files.upload()"
      ]
    },
    {
      "cell_type": "code",
      "source": [
        "### Reading the uploaded file\n",
        "import io\n",
        "\n",
        "df_train = pd.read_csv(io.StringIO(uploaded['aps_failure_training_set.csv'].decode('utf-8')),  on_bad_lines='skip', header=[14], na_values='na')"
      ],
      "metadata": {
        "id": "SRe3UmYzOtQ3"
      },
      "id": "SRe3UmYzOtQ3",
      "execution_count": null,
      "outputs": []
    },
    {
      "cell_type": "code",
      "source": [
        "### Uploading the local file\n",
        "from google.colab import files\n",
        "\n",
        "uploaded = files.upload()"
      ],
      "metadata": {
        "colab": {
          "base_uri": "https://localhost:8080/",
          "height": 74
        },
        "id": "gr4mqO3OVN9G",
        "outputId": "bace216a-1495-45d9-bc84-07c3ec587869"
      },
      "id": "gr4mqO3OVN9G",
      "execution_count": null,
      "outputs": [
        {
          "output_type": "display_data",
          "data": {
            "text/plain": [
              "<IPython.core.display.HTML object>"
            ],
            "text/html": [
              "\n",
              "     <input type=\"file\" id=\"files-1131b3bf-301f-4a37-858c-64912f2a4b5f\" name=\"files[]\" multiple disabled\n",
              "        style=\"border:none\" />\n",
              "     <output id=\"result-1131b3bf-301f-4a37-858c-64912f2a4b5f\">\n",
              "      Upload widget is only available when the cell has been executed in the\n",
              "      current browser session. Please rerun this cell to enable.\n",
              "      </output>\n",
              "      <script>// Copyright 2017 Google LLC\n",
              "//\n",
              "// Licensed under the Apache License, Version 2.0 (the \"License\");\n",
              "// you may not use this file except in compliance with the License.\n",
              "// You may obtain a copy of the License at\n",
              "//\n",
              "//      http://www.apache.org/licenses/LICENSE-2.0\n",
              "//\n",
              "// Unless required by applicable law or agreed to in writing, software\n",
              "// distributed under the License is distributed on an \"AS IS\" BASIS,\n",
              "// WITHOUT WARRANTIES OR CONDITIONS OF ANY KIND, either express or implied.\n",
              "// See the License for the specific language governing permissions and\n",
              "// limitations under the License.\n",
              "\n",
              "/**\n",
              " * @fileoverview Helpers for google.colab Python module.\n",
              " */\n",
              "(function(scope) {\n",
              "function span(text, styleAttributes = {}) {\n",
              "  const element = document.createElement('span');\n",
              "  element.textContent = text;\n",
              "  for (const key of Object.keys(styleAttributes)) {\n",
              "    element.style[key] = styleAttributes[key];\n",
              "  }\n",
              "  return element;\n",
              "}\n",
              "\n",
              "// Max number of bytes which will be uploaded at a time.\n",
              "const MAX_PAYLOAD_SIZE = 100 * 1024;\n",
              "\n",
              "function _uploadFiles(inputId, outputId) {\n",
              "  const steps = uploadFilesStep(inputId, outputId);\n",
              "  const outputElement = document.getElementById(outputId);\n",
              "  // Cache steps on the outputElement to make it available for the next call\n",
              "  // to uploadFilesContinue from Python.\n",
              "  outputElement.steps = steps;\n",
              "\n",
              "  return _uploadFilesContinue(outputId);\n",
              "}\n",
              "\n",
              "// This is roughly an async generator (not supported in the browser yet),\n",
              "// where there are multiple asynchronous steps and the Python side is going\n",
              "// to poll for completion of each step.\n",
              "// This uses a Promise to block the python side on completion of each step,\n",
              "// then passes the result of the previous step as the input to the next step.\n",
              "function _uploadFilesContinue(outputId) {\n",
              "  const outputElement = document.getElementById(outputId);\n",
              "  const steps = outputElement.steps;\n",
              "\n",
              "  const next = steps.next(outputElement.lastPromiseValue);\n",
              "  return Promise.resolve(next.value.promise).then((value) => {\n",
              "    // Cache the last promise value to make it available to the next\n",
              "    // step of the generator.\n",
              "    outputElement.lastPromiseValue = value;\n",
              "    return next.value.response;\n",
              "  });\n",
              "}\n",
              "\n",
              "/**\n",
              " * Generator function which is called between each async step of the upload\n",
              " * process.\n",
              " * @param {string} inputId Element ID of the input file picker element.\n",
              " * @param {string} outputId Element ID of the output display.\n",
              " * @return {!Iterable<!Object>} Iterable of next steps.\n",
              " */\n",
              "function* uploadFilesStep(inputId, outputId) {\n",
              "  const inputElement = document.getElementById(inputId);\n",
              "  inputElement.disabled = false;\n",
              "\n",
              "  const outputElement = document.getElementById(outputId);\n",
              "  outputElement.innerHTML = '';\n",
              "\n",
              "  const pickedPromise = new Promise((resolve) => {\n",
              "    inputElement.addEventListener('change', (e) => {\n",
              "      resolve(e.target.files);\n",
              "    });\n",
              "  });\n",
              "\n",
              "  const cancel = document.createElement('button');\n",
              "  inputElement.parentElement.appendChild(cancel);\n",
              "  cancel.textContent = 'Cancel upload';\n",
              "  const cancelPromise = new Promise((resolve) => {\n",
              "    cancel.onclick = () => {\n",
              "      resolve(null);\n",
              "    };\n",
              "  });\n",
              "\n",
              "  // Wait for the user to pick the files.\n",
              "  const files = yield {\n",
              "    promise: Promise.race([pickedPromise, cancelPromise]),\n",
              "    response: {\n",
              "      action: 'starting',\n",
              "    }\n",
              "  };\n",
              "\n",
              "  cancel.remove();\n",
              "\n",
              "  // Disable the input element since further picks are not allowed.\n",
              "  inputElement.disabled = true;\n",
              "\n",
              "  if (!files) {\n",
              "    return {\n",
              "      response: {\n",
              "        action: 'complete',\n",
              "      }\n",
              "    };\n",
              "  }\n",
              "\n",
              "  for (const file of files) {\n",
              "    const li = document.createElement('li');\n",
              "    li.append(span(file.name, {fontWeight: 'bold'}));\n",
              "    li.append(span(\n",
              "        `(${file.type || 'n/a'}) - ${file.size} bytes, ` +\n",
              "        `last modified: ${\n",
              "            file.lastModifiedDate ? file.lastModifiedDate.toLocaleDateString() :\n",
              "                                    'n/a'} - `));\n",
              "    const percent = span('0% done');\n",
              "    li.appendChild(percent);\n",
              "\n",
              "    outputElement.appendChild(li);\n",
              "\n",
              "    const fileDataPromise = new Promise((resolve) => {\n",
              "      const reader = new FileReader();\n",
              "      reader.onload = (e) => {\n",
              "        resolve(e.target.result);\n",
              "      };\n",
              "      reader.readAsArrayBuffer(file);\n",
              "    });\n",
              "    // Wait for the data to be ready.\n",
              "    let fileData = yield {\n",
              "      promise: fileDataPromise,\n",
              "      response: {\n",
              "        action: 'continue',\n",
              "      }\n",
              "    };\n",
              "\n",
              "    // Use a chunked sending to avoid message size limits. See b/62115660.\n",
              "    let position = 0;\n",
              "    do {\n",
              "      const length = Math.min(fileData.byteLength - position, MAX_PAYLOAD_SIZE);\n",
              "      const chunk = new Uint8Array(fileData, position, length);\n",
              "      position += length;\n",
              "\n",
              "      const base64 = btoa(String.fromCharCode.apply(null, chunk));\n",
              "      yield {\n",
              "        response: {\n",
              "          action: 'append',\n",
              "          file: file.name,\n",
              "          data: base64,\n",
              "        },\n",
              "      };\n",
              "\n",
              "      let percentDone = fileData.byteLength === 0 ?\n",
              "          100 :\n",
              "          Math.round((position / fileData.byteLength) * 100);\n",
              "      percent.textContent = `${percentDone}% done`;\n",
              "\n",
              "    } while (position < fileData.byteLength);\n",
              "  }\n",
              "\n",
              "  // All done.\n",
              "  yield {\n",
              "    response: {\n",
              "      action: 'complete',\n",
              "    }\n",
              "  };\n",
              "}\n",
              "\n",
              "scope.google = scope.google || {};\n",
              "scope.google.colab = scope.google.colab || {};\n",
              "scope.google.colab._files = {\n",
              "  _uploadFiles,\n",
              "  _uploadFilesContinue,\n",
              "};\n",
              "})(self);\n",
              "</script> "
            ]
          },
          "metadata": {}
        },
        {
          "output_type": "stream",
          "name": "stdout",
          "text": [
            "Saving aps_failure_test_set.csv to aps_failure_test_set.csv\n"
          ]
        }
      ]
    },
    {
      "cell_type": "code",
      "source": [
        "df_test = pd.read_csv(io.StringIO(uploaded['aps_failure_test_set.csv'].decode('utf-8')),  on_bad_lines='skip', header=[14], na_values='na')"
      ],
      "metadata": {
        "id": "nZz13hdrVlVo"
      },
      "id": "nZz13hdrVlVo",
      "execution_count": null,
      "outputs": []
    },
    {
      "cell_type": "code",
      "source": [
        "### Getting the number of records in each dataset\n",
        "\n",
        "print(f'Training dataset has : {df_train.shape[0]} number of records')\n",
        "print(f'Test dataset has : {df_test.shape[0]} number of records')"
      ],
      "metadata": {
        "colab": {
          "base_uri": "https://localhost:8080/"
        },
        "id": "VxF3_uYPXwEx",
        "outputId": "00acee70-ba7a-4186-cec0-73635e43b116"
      },
      "id": "VxF3_uYPXwEx",
      "execution_count": null,
      "outputs": [
        {
          "output_type": "stream",
          "name": "stdout",
          "text": [
            "Training dataset has : 60000 number of records\n",
            "Test dataset has : 16000 number of records\n"
          ]
        }
      ]
    },
    {
      "cell_type": "code",
      "execution_count": null,
      "id": "ffd20960",
      "metadata": {
        "id": "ffd20960"
      },
      "outputs": [],
      "source": [
        "# Combining both data frames \n",
        "\n",
        "df = pd.concat([df_train, df_test])"
      ]
    },
    {
      "cell_type": "code",
      "execution_count": null,
      "id": "60ca1d6b",
      "metadata": {
        "id": "60ca1d6b",
        "outputId": "3daba2c6-606a-4190-a80a-4b9cab342388",
        "colab": {
          "base_uri": "https://localhost:8080/",
          "height": 362
        }
      },
      "outputs": [
        {
          "output_type": "execute_result",
          "data": {
            "text/plain": [
              "      class  aa_000  ab_000        ac_000  ad_000  ae_000  af_000  ag_000  \\\n",
              "59998   neg   80292     NaN  2.130706e+09   494.0     0.0     0.0     0.0   \n",
              "59999   neg   40222     NaN  6.980000e+02   628.0     0.0     0.0     0.0   \n",
              "0       neg      60     0.0  2.000000e+01    12.0     0.0     0.0     0.0   \n",
              "1       neg      82     0.0  6.800000e+01    40.0     0.0     0.0     0.0   \n",
              "2       neg   66002     2.0  2.120000e+02   112.0     0.0     0.0     0.0   \n",
              "3       neg   59816     NaN  1.010000e+03   936.0     0.0     0.0     0.0   \n",
              "4       neg    1814     NaN  1.560000e+02   140.0     0.0     0.0     0.0   \n",
              "\n",
              "       ag_001  ag_002  ...    ee_002    ee_003    ee_004    ee_005     ee_006  \\\n",
              "59998     0.0     0.0  ...  699352.0  222654.0  347378.0  225724.0   194440.0   \n",
              "59999     0.0     0.0  ...  440066.0  183200.0  344546.0  254068.0   225148.0   \n",
              "0         0.0     0.0  ...    1098.0     138.0     412.0     654.0       78.0   \n",
              "1         0.0     0.0  ...    1068.0     276.0    1620.0     116.0       86.0   \n",
              "2         0.0     0.0  ...  495076.0  380368.0  440134.0  269556.0  1315022.0   \n",
              "3         0.0     0.0  ...  540820.0  243270.0  483302.0  485332.0   431376.0   \n",
              "4         0.0     0.0  ...    7646.0    4144.0   18466.0   49782.0     3176.0   \n",
              "\n",
              "         ee_007    ee_008    ee_009  ef_000  eg_000  \n",
              "59998  165070.0  802280.0  388422.0     0.0     0.0  \n",
              "59999  158304.0  170384.0     158.0     0.0     0.0  \n",
              "0          88.0       0.0       0.0     0.0     0.0  \n",
              "1         462.0       0.0       0.0     0.0     0.0  \n",
              "2      153680.0     516.0       0.0     0.0     0.0  \n",
              "3      210074.0  281662.0    3232.0     0.0     0.0  \n",
              "4         482.0      76.0       0.0     0.0     0.0  \n",
              "\n",
              "[7 rows x 171 columns]"
            ],
            "text/html": [
              "\n",
              "  <div id=\"df-5183e9b1-fcf4-4357-89f2-cd1d621cda0b\">\n",
              "    <div class=\"colab-df-container\">\n",
              "      <div>\n",
              "<style scoped>\n",
              "    .dataframe tbody tr th:only-of-type {\n",
              "        vertical-align: middle;\n",
              "    }\n",
              "\n",
              "    .dataframe tbody tr th {\n",
              "        vertical-align: top;\n",
              "    }\n",
              "\n",
              "    .dataframe thead th {\n",
              "        text-align: right;\n",
              "    }\n",
              "</style>\n",
              "<table border=\"1\" class=\"dataframe\">\n",
              "  <thead>\n",
              "    <tr style=\"text-align: right;\">\n",
              "      <th></th>\n",
              "      <th>class</th>\n",
              "      <th>aa_000</th>\n",
              "      <th>ab_000</th>\n",
              "      <th>ac_000</th>\n",
              "      <th>ad_000</th>\n",
              "      <th>ae_000</th>\n",
              "      <th>af_000</th>\n",
              "      <th>ag_000</th>\n",
              "      <th>ag_001</th>\n",
              "      <th>ag_002</th>\n",
              "      <th>...</th>\n",
              "      <th>ee_002</th>\n",
              "      <th>ee_003</th>\n",
              "      <th>ee_004</th>\n",
              "      <th>ee_005</th>\n",
              "      <th>ee_006</th>\n",
              "      <th>ee_007</th>\n",
              "      <th>ee_008</th>\n",
              "      <th>ee_009</th>\n",
              "      <th>ef_000</th>\n",
              "      <th>eg_000</th>\n",
              "    </tr>\n",
              "  </thead>\n",
              "  <tbody>\n",
              "    <tr>\n",
              "      <th>59998</th>\n",
              "      <td>neg</td>\n",
              "      <td>80292</td>\n",
              "      <td>NaN</td>\n",
              "      <td>2.130706e+09</td>\n",
              "      <td>494.0</td>\n",
              "      <td>0.0</td>\n",
              "      <td>0.0</td>\n",
              "      <td>0.0</td>\n",
              "      <td>0.0</td>\n",
              "      <td>0.0</td>\n",
              "      <td>...</td>\n",
              "      <td>699352.0</td>\n",
              "      <td>222654.0</td>\n",
              "      <td>347378.0</td>\n",
              "      <td>225724.0</td>\n",
              "      <td>194440.0</td>\n",
              "      <td>165070.0</td>\n",
              "      <td>802280.0</td>\n",
              "      <td>388422.0</td>\n",
              "      <td>0.0</td>\n",
              "      <td>0.0</td>\n",
              "    </tr>\n",
              "    <tr>\n",
              "      <th>59999</th>\n",
              "      <td>neg</td>\n",
              "      <td>40222</td>\n",
              "      <td>NaN</td>\n",
              "      <td>6.980000e+02</td>\n",
              "      <td>628.0</td>\n",
              "      <td>0.0</td>\n",
              "      <td>0.0</td>\n",
              "      <td>0.0</td>\n",
              "      <td>0.0</td>\n",
              "      <td>0.0</td>\n",
              "      <td>...</td>\n",
              "      <td>440066.0</td>\n",
              "      <td>183200.0</td>\n",
              "      <td>344546.0</td>\n",
              "      <td>254068.0</td>\n",
              "      <td>225148.0</td>\n",
              "      <td>158304.0</td>\n",
              "      <td>170384.0</td>\n",
              "      <td>158.0</td>\n",
              "      <td>0.0</td>\n",
              "      <td>0.0</td>\n",
              "    </tr>\n",
              "    <tr>\n",
              "      <th>0</th>\n",
              "      <td>neg</td>\n",
              "      <td>60</td>\n",
              "      <td>0.0</td>\n",
              "      <td>2.000000e+01</td>\n",
              "      <td>12.0</td>\n",
              "      <td>0.0</td>\n",
              "      <td>0.0</td>\n",
              "      <td>0.0</td>\n",
              "      <td>0.0</td>\n",
              "      <td>0.0</td>\n",
              "      <td>...</td>\n",
              "      <td>1098.0</td>\n",
              "      <td>138.0</td>\n",
              "      <td>412.0</td>\n",
              "      <td>654.0</td>\n",
              "      <td>78.0</td>\n",
              "      <td>88.0</td>\n",
              "      <td>0.0</td>\n",
              "      <td>0.0</td>\n",
              "      <td>0.0</td>\n",
              "      <td>0.0</td>\n",
              "    </tr>\n",
              "    <tr>\n",
              "      <th>1</th>\n",
              "      <td>neg</td>\n",
              "      <td>82</td>\n",
              "      <td>0.0</td>\n",
              "      <td>6.800000e+01</td>\n",
              "      <td>40.0</td>\n",
              "      <td>0.0</td>\n",
              "      <td>0.0</td>\n",
              "      <td>0.0</td>\n",
              "      <td>0.0</td>\n",
              "      <td>0.0</td>\n",
              "      <td>...</td>\n",
              "      <td>1068.0</td>\n",
              "      <td>276.0</td>\n",
              "      <td>1620.0</td>\n",
              "      <td>116.0</td>\n",
              "      <td>86.0</td>\n",
              "      <td>462.0</td>\n",
              "      <td>0.0</td>\n",
              "      <td>0.0</td>\n",
              "      <td>0.0</td>\n",
              "      <td>0.0</td>\n",
              "    </tr>\n",
              "    <tr>\n",
              "      <th>2</th>\n",
              "      <td>neg</td>\n",
              "      <td>66002</td>\n",
              "      <td>2.0</td>\n",
              "      <td>2.120000e+02</td>\n",
              "      <td>112.0</td>\n",
              "      <td>0.0</td>\n",
              "      <td>0.0</td>\n",
              "      <td>0.0</td>\n",
              "      <td>0.0</td>\n",
              "      <td>0.0</td>\n",
              "      <td>...</td>\n",
              "      <td>495076.0</td>\n",
              "      <td>380368.0</td>\n",
              "      <td>440134.0</td>\n",
              "      <td>269556.0</td>\n",
              "      <td>1315022.0</td>\n",
              "      <td>153680.0</td>\n",
              "      <td>516.0</td>\n",
              "      <td>0.0</td>\n",
              "      <td>0.0</td>\n",
              "      <td>0.0</td>\n",
              "    </tr>\n",
              "    <tr>\n",
              "      <th>3</th>\n",
              "      <td>neg</td>\n",
              "      <td>59816</td>\n",
              "      <td>NaN</td>\n",
              "      <td>1.010000e+03</td>\n",
              "      <td>936.0</td>\n",
              "      <td>0.0</td>\n",
              "      <td>0.0</td>\n",
              "      <td>0.0</td>\n",
              "      <td>0.0</td>\n",
              "      <td>0.0</td>\n",
              "      <td>...</td>\n",
              "      <td>540820.0</td>\n",
              "      <td>243270.0</td>\n",
              "      <td>483302.0</td>\n",
              "      <td>485332.0</td>\n",
              "      <td>431376.0</td>\n",
              "      <td>210074.0</td>\n",
              "      <td>281662.0</td>\n",
              "      <td>3232.0</td>\n",
              "      <td>0.0</td>\n",
              "      <td>0.0</td>\n",
              "    </tr>\n",
              "    <tr>\n",
              "      <th>4</th>\n",
              "      <td>neg</td>\n",
              "      <td>1814</td>\n",
              "      <td>NaN</td>\n",
              "      <td>1.560000e+02</td>\n",
              "      <td>140.0</td>\n",
              "      <td>0.0</td>\n",
              "      <td>0.0</td>\n",
              "      <td>0.0</td>\n",
              "      <td>0.0</td>\n",
              "      <td>0.0</td>\n",
              "      <td>...</td>\n",
              "      <td>7646.0</td>\n",
              "      <td>4144.0</td>\n",
              "      <td>18466.0</td>\n",
              "      <td>49782.0</td>\n",
              "      <td>3176.0</td>\n",
              "      <td>482.0</td>\n",
              "      <td>76.0</td>\n",
              "      <td>0.0</td>\n",
              "      <td>0.0</td>\n",
              "      <td>0.0</td>\n",
              "    </tr>\n",
              "  </tbody>\n",
              "</table>\n",
              "<p>7 rows × 171 columns</p>\n",
              "</div>\n",
              "      <button class=\"colab-df-convert\" onclick=\"convertToInteractive('df-5183e9b1-fcf4-4357-89f2-cd1d621cda0b')\"\n",
              "              title=\"Convert this dataframe to an interactive table.\"\n",
              "              style=\"display:none;\">\n",
              "        \n",
              "  <svg xmlns=\"http://www.w3.org/2000/svg\" height=\"24px\"viewBox=\"0 0 24 24\"\n",
              "       width=\"24px\">\n",
              "    <path d=\"M0 0h24v24H0V0z\" fill=\"none\"/>\n",
              "    <path d=\"M18.56 5.44l.94 2.06.94-2.06 2.06-.94-2.06-.94-.94-2.06-.94 2.06-2.06.94zm-11 1L8.5 8.5l.94-2.06 2.06-.94-2.06-.94L8.5 2.5l-.94 2.06-2.06.94zm10 10l.94 2.06.94-2.06 2.06-.94-2.06-.94-.94-2.06-.94 2.06-2.06.94z\"/><path d=\"M17.41 7.96l-1.37-1.37c-.4-.4-.92-.59-1.43-.59-.52 0-1.04.2-1.43.59L10.3 9.45l-7.72 7.72c-.78.78-.78 2.05 0 2.83L4 21.41c.39.39.9.59 1.41.59.51 0 1.02-.2 1.41-.59l7.78-7.78 2.81-2.81c.8-.78.8-2.07 0-2.86zM5.41 20L4 18.59l7.72-7.72 1.47 1.35L5.41 20z\"/>\n",
              "  </svg>\n",
              "      </button>\n",
              "      \n",
              "  <style>\n",
              "    .colab-df-container {\n",
              "      display:flex;\n",
              "      flex-wrap:wrap;\n",
              "      gap: 12px;\n",
              "    }\n",
              "\n",
              "    .colab-df-convert {\n",
              "      background-color: #E8F0FE;\n",
              "      border: none;\n",
              "      border-radius: 50%;\n",
              "      cursor: pointer;\n",
              "      display: none;\n",
              "      fill: #1967D2;\n",
              "      height: 32px;\n",
              "      padding: 0 0 0 0;\n",
              "      width: 32px;\n",
              "    }\n",
              "\n",
              "    .colab-df-convert:hover {\n",
              "      background-color: #E2EBFA;\n",
              "      box-shadow: 0px 1px 2px rgba(60, 64, 67, 0.3), 0px 1px 3px 1px rgba(60, 64, 67, 0.15);\n",
              "      fill: #174EA6;\n",
              "    }\n",
              "\n",
              "    [theme=dark] .colab-df-convert {\n",
              "      background-color: #3B4455;\n",
              "      fill: #D2E3FC;\n",
              "    }\n",
              "\n",
              "    [theme=dark] .colab-df-convert:hover {\n",
              "      background-color: #434B5C;\n",
              "      box-shadow: 0px 1px 3px 1px rgba(0, 0, 0, 0.15);\n",
              "      filter: drop-shadow(0px 1px 2px rgba(0, 0, 0, 0.3));\n",
              "      fill: #FFFFFF;\n",
              "    }\n",
              "  </style>\n",
              "\n",
              "      <script>\n",
              "        const buttonEl =\n",
              "          document.querySelector('#df-5183e9b1-fcf4-4357-89f2-cd1d621cda0b button.colab-df-convert');\n",
              "        buttonEl.style.display =\n",
              "          google.colab.kernel.accessAllowed ? 'block' : 'none';\n",
              "\n",
              "        async function convertToInteractive(key) {\n",
              "          const element = document.querySelector('#df-5183e9b1-fcf4-4357-89f2-cd1d621cda0b');\n",
              "          const dataTable =\n",
              "            await google.colab.kernel.invokeFunction('convertToInteractive',\n",
              "                                                     [key], {});\n",
              "          if (!dataTable) return;\n",
              "\n",
              "          const docLinkHtml = 'Like what you see? Visit the ' +\n",
              "            '<a target=\"_blank\" href=https://colab.research.google.com/notebooks/data_table.ipynb>data table notebook</a>'\n",
              "            + ' to learn more about interactive tables.';\n",
              "          element.innerHTML = '';\n",
              "          dataTable['output_type'] = 'display_data';\n",
              "          await google.colab.output.renderOutput(dataTable, element);\n",
              "          const docLink = document.createElement('div');\n",
              "          docLink.innerHTML = docLinkHtml;\n",
              "          element.appendChild(docLink);\n",
              "        }\n",
              "      </script>\n",
              "    </div>\n",
              "  </div>\n",
              "  "
            ]
          },
          "metadata": {},
          "execution_count": 10
        }
      ],
      "source": [
        "df[59998:60005]"
      ]
    },
    {
      "cell_type": "markdown",
      "source": [
        "#### Observation :\n",
        "- Row index are not in order"
      ],
      "metadata": {
        "id": "tAlOAfNSYz7W"
      },
      "id": "tAlOAfNSYz7W"
    },
    {
      "cell_type": "code",
      "execution_count": null,
      "id": "d27d42df",
      "metadata": {
        "id": "d27d42df",
        "colab": {
          "base_uri": "https://localhost:8080/",
          "height": 299
        },
        "outputId": "91c720af-3641-4fdc-b098-f33186bc17ce"
      },
      "outputs": [
        {
          "output_type": "execute_result",
          "data": {
            "text/plain": [
              "  class  aa_000  ab_000        ac_000  ad_000  ae_000  af_000  ag_000  ag_001  \\\n",
              "0   neg   76698     NaN  2.130706e+09   280.0     0.0     0.0     0.0     0.0   \n",
              "1   neg   33058     NaN  0.000000e+00     NaN     0.0     0.0     0.0     0.0   \n",
              "2   neg   41040     NaN  2.280000e+02   100.0     0.0     0.0     0.0     0.0   \n",
              "3   neg      12     0.0  7.000000e+01    66.0     0.0    10.0     0.0     0.0   \n",
              "4   neg   60874     NaN  1.368000e+03   458.0     0.0     0.0     0.0     0.0   \n",
              "\n",
              "   ag_002  ...     ee_002    ee_003    ee_004    ee_005    ee_006    ee_007  \\\n",
              "0     0.0  ...  1240520.0  493384.0  721044.0  469792.0  339156.0  157956.0   \n",
              "1     0.0  ...   421400.0  178064.0  293306.0  245416.0  133654.0   81140.0   \n",
              "2     0.0  ...   277378.0  159812.0  423992.0  409564.0  320746.0  158022.0   \n",
              "3     0.0  ...      240.0      46.0      58.0      44.0      10.0       0.0   \n",
              "4     0.0  ...   622012.0  229790.0  405298.0  347188.0  286954.0  311560.0   \n",
              "\n",
              "     ee_008  ee_009  ef_000  eg_000  \n",
              "0   73224.0     0.0     0.0     0.0  \n",
              "1   97576.0  1500.0     0.0     0.0  \n",
              "2   95128.0   514.0     0.0     0.0  \n",
              "3       0.0     0.0     4.0    32.0  \n",
              "4  433954.0  1218.0     0.0     0.0  \n",
              "\n",
              "[5 rows x 171 columns]"
            ],
            "text/html": [
              "\n",
              "  <div id=\"df-95c8c0ba-f431-4948-9a84-44c69f264015\">\n",
              "    <div class=\"colab-df-container\">\n",
              "      <div>\n",
              "<style scoped>\n",
              "    .dataframe tbody tr th:only-of-type {\n",
              "        vertical-align: middle;\n",
              "    }\n",
              "\n",
              "    .dataframe tbody tr th {\n",
              "        vertical-align: top;\n",
              "    }\n",
              "\n",
              "    .dataframe thead th {\n",
              "        text-align: right;\n",
              "    }\n",
              "</style>\n",
              "<table border=\"1\" class=\"dataframe\">\n",
              "  <thead>\n",
              "    <tr style=\"text-align: right;\">\n",
              "      <th></th>\n",
              "      <th>class</th>\n",
              "      <th>aa_000</th>\n",
              "      <th>ab_000</th>\n",
              "      <th>ac_000</th>\n",
              "      <th>ad_000</th>\n",
              "      <th>ae_000</th>\n",
              "      <th>af_000</th>\n",
              "      <th>ag_000</th>\n",
              "      <th>ag_001</th>\n",
              "      <th>ag_002</th>\n",
              "      <th>...</th>\n",
              "      <th>ee_002</th>\n",
              "      <th>ee_003</th>\n",
              "      <th>ee_004</th>\n",
              "      <th>ee_005</th>\n",
              "      <th>ee_006</th>\n",
              "      <th>ee_007</th>\n",
              "      <th>ee_008</th>\n",
              "      <th>ee_009</th>\n",
              "      <th>ef_000</th>\n",
              "      <th>eg_000</th>\n",
              "    </tr>\n",
              "  </thead>\n",
              "  <tbody>\n",
              "    <tr>\n",
              "      <th>0</th>\n",
              "      <td>neg</td>\n",
              "      <td>76698</td>\n",
              "      <td>NaN</td>\n",
              "      <td>2.130706e+09</td>\n",
              "      <td>280.0</td>\n",
              "      <td>0.0</td>\n",
              "      <td>0.0</td>\n",
              "      <td>0.0</td>\n",
              "      <td>0.0</td>\n",
              "      <td>0.0</td>\n",
              "      <td>...</td>\n",
              "      <td>1240520.0</td>\n",
              "      <td>493384.0</td>\n",
              "      <td>721044.0</td>\n",
              "      <td>469792.0</td>\n",
              "      <td>339156.0</td>\n",
              "      <td>157956.0</td>\n",
              "      <td>73224.0</td>\n",
              "      <td>0.0</td>\n",
              "      <td>0.0</td>\n",
              "      <td>0.0</td>\n",
              "    </tr>\n",
              "    <tr>\n",
              "      <th>1</th>\n",
              "      <td>neg</td>\n",
              "      <td>33058</td>\n",
              "      <td>NaN</td>\n",
              "      <td>0.000000e+00</td>\n",
              "      <td>NaN</td>\n",
              "      <td>0.0</td>\n",
              "      <td>0.0</td>\n",
              "      <td>0.0</td>\n",
              "      <td>0.0</td>\n",
              "      <td>0.0</td>\n",
              "      <td>...</td>\n",
              "      <td>421400.0</td>\n",
              "      <td>178064.0</td>\n",
              "      <td>293306.0</td>\n",
              "      <td>245416.0</td>\n",
              "      <td>133654.0</td>\n",
              "      <td>81140.0</td>\n",
              "      <td>97576.0</td>\n",
              "      <td>1500.0</td>\n",
              "      <td>0.0</td>\n",
              "      <td>0.0</td>\n",
              "    </tr>\n",
              "    <tr>\n",
              "      <th>2</th>\n",
              "      <td>neg</td>\n",
              "      <td>41040</td>\n",
              "      <td>NaN</td>\n",
              "      <td>2.280000e+02</td>\n",
              "      <td>100.0</td>\n",
              "      <td>0.0</td>\n",
              "      <td>0.0</td>\n",
              "      <td>0.0</td>\n",
              "      <td>0.0</td>\n",
              "      <td>0.0</td>\n",
              "      <td>...</td>\n",
              "      <td>277378.0</td>\n",
              "      <td>159812.0</td>\n",
              "      <td>423992.0</td>\n",
              "      <td>409564.0</td>\n",
              "      <td>320746.0</td>\n",
              "      <td>158022.0</td>\n",
              "      <td>95128.0</td>\n",
              "      <td>514.0</td>\n",
              "      <td>0.0</td>\n",
              "      <td>0.0</td>\n",
              "    </tr>\n",
              "    <tr>\n",
              "      <th>3</th>\n",
              "      <td>neg</td>\n",
              "      <td>12</td>\n",
              "      <td>0.0</td>\n",
              "      <td>7.000000e+01</td>\n",
              "      <td>66.0</td>\n",
              "      <td>0.0</td>\n",
              "      <td>10.0</td>\n",
              "      <td>0.0</td>\n",
              "      <td>0.0</td>\n",
              "      <td>0.0</td>\n",
              "      <td>...</td>\n",
              "      <td>240.0</td>\n",
              "      <td>46.0</td>\n",
              "      <td>58.0</td>\n",
              "      <td>44.0</td>\n",
              "      <td>10.0</td>\n",
              "      <td>0.0</td>\n",
              "      <td>0.0</td>\n",
              "      <td>0.0</td>\n",
              "      <td>4.0</td>\n",
              "      <td>32.0</td>\n",
              "    </tr>\n",
              "    <tr>\n",
              "      <th>4</th>\n",
              "      <td>neg</td>\n",
              "      <td>60874</td>\n",
              "      <td>NaN</td>\n",
              "      <td>1.368000e+03</td>\n",
              "      <td>458.0</td>\n",
              "      <td>0.0</td>\n",
              "      <td>0.0</td>\n",
              "      <td>0.0</td>\n",
              "      <td>0.0</td>\n",
              "      <td>0.0</td>\n",
              "      <td>...</td>\n",
              "      <td>622012.0</td>\n",
              "      <td>229790.0</td>\n",
              "      <td>405298.0</td>\n",
              "      <td>347188.0</td>\n",
              "      <td>286954.0</td>\n",
              "      <td>311560.0</td>\n",
              "      <td>433954.0</td>\n",
              "      <td>1218.0</td>\n",
              "      <td>0.0</td>\n",
              "      <td>0.0</td>\n",
              "    </tr>\n",
              "  </tbody>\n",
              "</table>\n",
              "<p>5 rows × 171 columns</p>\n",
              "</div>\n",
              "      <button class=\"colab-df-convert\" onclick=\"convertToInteractive('df-95c8c0ba-f431-4948-9a84-44c69f264015')\"\n",
              "              title=\"Convert this dataframe to an interactive table.\"\n",
              "              style=\"display:none;\">\n",
              "        \n",
              "  <svg xmlns=\"http://www.w3.org/2000/svg\" height=\"24px\"viewBox=\"0 0 24 24\"\n",
              "       width=\"24px\">\n",
              "    <path d=\"M0 0h24v24H0V0z\" fill=\"none\"/>\n",
              "    <path d=\"M18.56 5.44l.94 2.06.94-2.06 2.06-.94-2.06-.94-.94-2.06-.94 2.06-2.06.94zm-11 1L8.5 8.5l.94-2.06 2.06-.94-2.06-.94L8.5 2.5l-.94 2.06-2.06.94zm10 10l.94 2.06.94-2.06 2.06-.94-2.06-.94-.94-2.06-.94 2.06-2.06.94z\"/><path d=\"M17.41 7.96l-1.37-1.37c-.4-.4-.92-.59-1.43-.59-.52 0-1.04.2-1.43.59L10.3 9.45l-7.72 7.72c-.78.78-.78 2.05 0 2.83L4 21.41c.39.39.9.59 1.41.59.51 0 1.02-.2 1.41-.59l7.78-7.78 2.81-2.81c.8-.78.8-2.07 0-2.86zM5.41 20L4 18.59l7.72-7.72 1.47 1.35L5.41 20z\"/>\n",
              "  </svg>\n",
              "      </button>\n",
              "      \n",
              "  <style>\n",
              "    .colab-df-container {\n",
              "      display:flex;\n",
              "      flex-wrap:wrap;\n",
              "      gap: 12px;\n",
              "    }\n",
              "\n",
              "    .colab-df-convert {\n",
              "      background-color: #E8F0FE;\n",
              "      border: none;\n",
              "      border-radius: 50%;\n",
              "      cursor: pointer;\n",
              "      display: none;\n",
              "      fill: #1967D2;\n",
              "      height: 32px;\n",
              "      padding: 0 0 0 0;\n",
              "      width: 32px;\n",
              "    }\n",
              "\n",
              "    .colab-df-convert:hover {\n",
              "      background-color: #E2EBFA;\n",
              "      box-shadow: 0px 1px 2px rgba(60, 64, 67, 0.3), 0px 1px 3px 1px rgba(60, 64, 67, 0.15);\n",
              "      fill: #174EA6;\n",
              "    }\n",
              "\n",
              "    [theme=dark] .colab-df-convert {\n",
              "      background-color: #3B4455;\n",
              "      fill: #D2E3FC;\n",
              "    }\n",
              "\n",
              "    [theme=dark] .colab-df-convert:hover {\n",
              "      background-color: #434B5C;\n",
              "      box-shadow: 0px 1px 3px 1px rgba(0, 0, 0, 0.15);\n",
              "      filter: drop-shadow(0px 1px 2px rgba(0, 0, 0, 0.3));\n",
              "      fill: #FFFFFF;\n",
              "    }\n",
              "  </style>\n",
              "\n",
              "      <script>\n",
              "        const buttonEl =\n",
              "          document.querySelector('#df-95c8c0ba-f431-4948-9a84-44c69f264015 button.colab-df-convert');\n",
              "        buttonEl.style.display =\n",
              "          google.colab.kernel.accessAllowed ? 'block' : 'none';\n",
              "\n",
              "        async function convertToInteractive(key) {\n",
              "          const element = document.querySelector('#df-95c8c0ba-f431-4948-9a84-44c69f264015');\n",
              "          const dataTable =\n",
              "            await google.colab.kernel.invokeFunction('convertToInteractive',\n",
              "                                                     [key], {});\n",
              "          if (!dataTable) return;\n",
              "\n",
              "          const docLinkHtml = 'Like what you see? Visit the ' +\n",
              "            '<a target=\"_blank\" href=https://colab.research.google.com/notebooks/data_table.ipynb>data table notebook</a>'\n",
              "            + ' to learn more about interactive tables.';\n",
              "          element.innerHTML = '';\n",
              "          dataTable['output_type'] = 'display_data';\n",
              "          await google.colab.output.renderOutput(dataTable, element);\n",
              "          const docLink = document.createElement('div');\n",
              "          docLink.innerHTML = docLinkHtml;\n",
              "          element.appendChild(docLink);\n",
              "        }\n",
              "      </script>\n",
              "    </div>\n",
              "  </div>\n",
              "  "
            ]
          },
          "metadata": {},
          "execution_count": 11
        }
      ],
      "source": [
        "# Resetting index\n",
        "\n",
        "df = df.reset_index(drop=True)\n",
        "\n",
        "# Dropping the unnecessary 'index' column\n",
        "\n",
        "#df.drop('index', axis=1, inplace=True)\n",
        "df.head()"
      ]
    },
    {
      "cell_type": "code",
      "execution_count": null,
      "id": "16dd9469",
      "metadata": {
        "id": "16dd9469",
        "outputId": "30fb8ff1-b5fc-4bbb-c450-e607d5e03bfa",
        "colab": {
          "base_uri": "https://localhost:8080/",
          "height": 362
        }
      },
      "outputs": [
        {
          "output_type": "execute_result",
          "data": {
            "text/plain": [
              "      class  aa_000  ab_000        ac_000  ad_000  ae_000  af_000  ag_000  \\\n",
              "59998   neg   80292     NaN  2.130706e+09   494.0     0.0     0.0     0.0   \n",
              "59999   neg   40222     NaN  6.980000e+02   628.0     0.0     0.0     0.0   \n",
              "60000   neg      60     0.0  2.000000e+01    12.0     0.0     0.0     0.0   \n",
              "60001   neg      82     0.0  6.800000e+01    40.0     0.0     0.0     0.0   \n",
              "60002   neg   66002     2.0  2.120000e+02   112.0     0.0     0.0     0.0   \n",
              "60003   neg   59816     NaN  1.010000e+03   936.0     0.0     0.0     0.0   \n",
              "60004   neg    1814     NaN  1.560000e+02   140.0     0.0     0.0     0.0   \n",
              "\n",
              "       ag_001  ag_002  ...    ee_002    ee_003    ee_004    ee_005     ee_006  \\\n",
              "59998     0.0     0.0  ...  699352.0  222654.0  347378.0  225724.0   194440.0   \n",
              "59999     0.0     0.0  ...  440066.0  183200.0  344546.0  254068.0   225148.0   \n",
              "60000     0.0     0.0  ...    1098.0     138.0     412.0     654.0       78.0   \n",
              "60001     0.0     0.0  ...    1068.0     276.0    1620.0     116.0       86.0   \n",
              "60002     0.0     0.0  ...  495076.0  380368.0  440134.0  269556.0  1315022.0   \n",
              "60003     0.0     0.0  ...  540820.0  243270.0  483302.0  485332.0   431376.0   \n",
              "60004     0.0     0.0  ...    7646.0    4144.0   18466.0   49782.0     3176.0   \n",
              "\n",
              "         ee_007    ee_008    ee_009  ef_000  eg_000  \n",
              "59998  165070.0  802280.0  388422.0     0.0     0.0  \n",
              "59999  158304.0  170384.0     158.0     0.0     0.0  \n",
              "60000      88.0       0.0       0.0     0.0     0.0  \n",
              "60001     462.0       0.0       0.0     0.0     0.0  \n",
              "60002  153680.0     516.0       0.0     0.0     0.0  \n",
              "60003  210074.0  281662.0    3232.0     0.0     0.0  \n",
              "60004     482.0      76.0       0.0     0.0     0.0  \n",
              "\n",
              "[7 rows x 171 columns]"
            ],
            "text/html": [
              "\n",
              "  <div id=\"df-e3686a01-dce3-4cc7-86e5-9629691ac188\">\n",
              "    <div class=\"colab-df-container\">\n",
              "      <div>\n",
              "<style scoped>\n",
              "    .dataframe tbody tr th:only-of-type {\n",
              "        vertical-align: middle;\n",
              "    }\n",
              "\n",
              "    .dataframe tbody tr th {\n",
              "        vertical-align: top;\n",
              "    }\n",
              "\n",
              "    .dataframe thead th {\n",
              "        text-align: right;\n",
              "    }\n",
              "</style>\n",
              "<table border=\"1\" class=\"dataframe\">\n",
              "  <thead>\n",
              "    <tr style=\"text-align: right;\">\n",
              "      <th></th>\n",
              "      <th>class</th>\n",
              "      <th>aa_000</th>\n",
              "      <th>ab_000</th>\n",
              "      <th>ac_000</th>\n",
              "      <th>ad_000</th>\n",
              "      <th>ae_000</th>\n",
              "      <th>af_000</th>\n",
              "      <th>ag_000</th>\n",
              "      <th>ag_001</th>\n",
              "      <th>ag_002</th>\n",
              "      <th>...</th>\n",
              "      <th>ee_002</th>\n",
              "      <th>ee_003</th>\n",
              "      <th>ee_004</th>\n",
              "      <th>ee_005</th>\n",
              "      <th>ee_006</th>\n",
              "      <th>ee_007</th>\n",
              "      <th>ee_008</th>\n",
              "      <th>ee_009</th>\n",
              "      <th>ef_000</th>\n",
              "      <th>eg_000</th>\n",
              "    </tr>\n",
              "  </thead>\n",
              "  <tbody>\n",
              "    <tr>\n",
              "      <th>59998</th>\n",
              "      <td>neg</td>\n",
              "      <td>80292</td>\n",
              "      <td>NaN</td>\n",
              "      <td>2.130706e+09</td>\n",
              "      <td>494.0</td>\n",
              "      <td>0.0</td>\n",
              "      <td>0.0</td>\n",
              "      <td>0.0</td>\n",
              "      <td>0.0</td>\n",
              "      <td>0.0</td>\n",
              "      <td>...</td>\n",
              "      <td>699352.0</td>\n",
              "      <td>222654.0</td>\n",
              "      <td>347378.0</td>\n",
              "      <td>225724.0</td>\n",
              "      <td>194440.0</td>\n",
              "      <td>165070.0</td>\n",
              "      <td>802280.0</td>\n",
              "      <td>388422.0</td>\n",
              "      <td>0.0</td>\n",
              "      <td>0.0</td>\n",
              "    </tr>\n",
              "    <tr>\n",
              "      <th>59999</th>\n",
              "      <td>neg</td>\n",
              "      <td>40222</td>\n",
              "      <td>NaN</td>\n",
              "      <td>6.980000e+02</td>\n",
              "      <td>628.0</td>\n",
              "      <td>0.0</td>\n",
              "      <td>0.0</td>\n",
              "      <td>0.0</td>\n",
              "      <td>0.0</td>\n",
              "      <td>0.0</td>\n",
              "      <td>...</td>\n",
              "      <td>440066.0</td>\n",
              "      <td>183200.0</td>\n",
              "      <td>344546.0</td>\n",
              "      <td>254068.0</td>\n",
              "      <td>225148.0</td>\n",
              "      <td>158304.0</td>\n",
              "      <td>170384.0</td>\n",
              "      <td>158.0</td>\n",
              "      <td>0.0</td>\n",
              "      <td>0.0</td>\n",
              "    </tr>\n",
              "    <tr>\n",
              "      <th>60000</th>\n",
              "      <td>neg</td>\n",
              "      <td>60</td>\n",
              "      <td>0.0</td>\n",
              "      <td>2.000000e+01</td>\n",
              "      <td>12.0</td>\n",
              "      <td>0.0</td>\n",
              "      <td>0.0</td>\n",
              "      <td>0.0</td>\n",
              "      <td>0.0</td>\n",
              "      <td>0.0</td>\n",
              "      <td>...</td>\n",
              "      <td>1098.0</td>\n",
              "      <td>138.0</td>\n",
              "      <td>412.0</td>\n",
              "      <td>654.0</td>\n",
              "      <td>78.0</td>\n",
              "      <td>88.0</td>\n",
              "      <td>0.0</td>\n",
              "      <td>0.0</td>\n",
              "      <td>0.0</td>\n",
              "      <td>0.0</td>\n",
              "    </tr>\n",
              "    <tr>\n",
              "      <th>60001</th>\n",
              "      <td>neg</td>\n",
              "      <td>82</td>\n",
              "      <td>0.0</td>\n",
              "      <td>6.800000e+01</td>\n",
              "      <td>40.0</td>\n",
              "      <td>0.0</td>\n",
              "      <td>0.0</td>\n",
              "      <td>0.0</td>\n",
              "      <td>0.0</td>\n",
              "      <td>0.0</td>\n",
              "      <td>...</td>\n",
              "      <td>1068.0</td>\n",
              "      <td>276.0</td>\n",
              "      <td>1620.0</td>\n",
              "      <td>116.0</td>\n",
              "      <td>86.0</td>\n",
              "      <td>462.0</td>\n",
              "      <td>0.0</td>\n",
              "      <td>0.0</td>\n",
              "      <td>0.0</td>\n",
              "      <td>0.0</td>\n",
              "    </tr>\n",
              "    <tr>\n",
              "      <th>60002</th>\n",
              "      <td>neg</td>\n",
              "      <td>66002</td>\n",
              "      <td>2.0</td>\n",
              "      <td>2.120000e+02</td>\n",
              "      <td>112.0</td>\n",
              "      <td>0.0</td>\n",
              "      <td>0.0</td>\n",
              "      <td>0.0</td>\n",
              "      <td>0.0</td>\n",
              "      <td>0.0</td>\n",
              "      <td>...</td>\n",
              "      <td>495076.0</td>\n",
              "      <td>380368.0</td>\n",
              "      <td>440134.0</td>\n",
              "      <td>269556.0</td>\n",
              "      <td>1315022.0</td>\n",
              "      <td>153680.0</td>\n",
              "      <td>516.0</td>\n",
              "      <td>0.0</td>\n",
              "      <td>0.0</td>\n",
              "      <td>0.0</td>\n",
              "    </tr>\n",
              "    <tr>\n",
              "      <th>60003</th>\n",
              "      <td>neg</td>\n",
              "      <td>59816</td>\n",
              "      <td>NaN</td>\n",
              "      <td>1.010000e+03</td>\n",
              "      <td>936.0</td>\n",
              "      <td>0.0</td>\n",
              "      <td>0.0</td>\n",
              "      <td>0.0</td>\n",
              "      <td>0.0</td>\n",
              "      <td>0.0</td>\n",
              "      <td>...</td>\n",
              "      <td>540820.0</td>\n",
              "      <td>243270.0</td>\n",
              "      <td>483302.0</td>\n",
              "      <td>485332.0</td>\n",
              "      <td>431376.0</td>\n",
              "      <td>210074.0</td>\n",
              "      <td>281662.0</td>\n",
              "      <td>3232.0</td>\n",
              "      <td>0.0</td>\n",
              "      <td>0.0</td>\n",
              "    </tr>\n",
              "    <tr>\n",
              "      <th>60004</th>\n",
              "      <td>neg</td>\n",
              "      <td>1814</td>\n",
              "      <td>NaN</td>\n",
              "      <td>1.560000e+02</td>\n",
              "      <td>140.0</td>\n",
              "      <td>0.0</td>\n",
              "      <td>0.0</td>\n",
              "      <td>0.0</td>\n",
              "      <td>0.0</td>\n",
              "      <td>0.0</td>\n",
              "      <td>...</td>\n",
              "      <td>7646.0</td>\n",
              "      <td>4144.0</td>\n",
              "      <td>18466.0</td>\n",
              "      <td>49782.0</td>\n",
              "      <td>3176.0</td>\n",
              "      <td>482.0</td>\n",
              "      <td>76.0</td>\n",
              "      <td>0.0</td>\n",
              "      <td>0.0</td>\n",
              "      <td>0.0</td>\n",
              "    </tr>\n",
              "  </tbody>\n",
              "</table>\n",
              "<p>7 rows × 171 columns</p>\n",
              "</div>\n",
              "      <button class=\"colab-df-convert\" onclick=\"convertToInteractive('df-e3686a01-dce3-4cc7-86e5-9629691ac188')\"\n",
              "              title=\"Convert this dataframe to an interactive table.\"\n",
              "              style=\"display:none;\">\n",
              "        \n",
              "  <svg xmlns=\"http://www.w3.org/2000/svg\" height=\"24px\"viewBox=\"0 0 24 24\"\n",
              "       width=\"24px\">\n",
              "    <path d=\"M0 0h24v24H0V0z\" fill=\"none\"/>\n",
              "    <path d=\"M18.56 5.44l.94 2.06.94-2.06 2.06-.94-2.06-.94-.94-2.06-.94 2.06-2.06.94zm-11 1L8.5 8.5l.94-2.06 2.06-.94-2.06-.94L8.5 2.5l-.94 2.06-2.06.94zm10 10l.94 2.06.94-2.06 2.06-.94-2.06-.94-.94-2.06-.94 2.06-2.06.94z\"/><path d=\"M17.41 7.96l-1.37-1.37c-.4-.4-.92-.59-1.43-.59-.52 0-1.04.2-1.43.59L10.3 9.45l-7.72 7.72c-.78.78-.78 2.05 0 2.83L4 21.41c.39.39.9.59 1.41.59.51 0 1.02-.2 1.41-.59l7.78-7.78 2.81-2.81c.8-.78.8-2.07 0-2.86zM5.41 20L4 18.59l7.72-7.72 1.47 1.35L5.41 20z\"/>\n",
              "  </svg>\n",
              "      </button>\n",
              "      \n",
              "  <style>\n",
              "    .colab-df-container {\n",
              "      display:flex;\n",
              "      flex-wrap:wrap;\n",
              "      gap: 12px;\n",
              "    }\n",
              "\n",
              "    .colab-df-convert {\n",
              "      background-color: #E8F0FE;\n",
              "      border: none;\n",
              "      border-radius: 50%;\n",
              "      cursor: pointer;\n",
              "      display: none;\n",
              "      fill: #1967D2;\n",
              "      height: 32px;\n",
              "      padding: 0 0 0 0;\n",
              "      width: 32px;\n",
              "    }\n",
              "\n",
              "    .colab-df-convert:hover {\n",
              "      background-color: #E2EBFA;\n",
              "      box-shadow: 0px 1px 2px rgba(60, 64, 67, 0.3), 0px 1px 3px 1px rgba(60, 64, 67, 0.15);\n",
              "      fill: #174EA6;\n",
              "    }\n",
              "\n",
              "    [theme=dark] .colab-df-convert {\n",
              "      background-color: #3B4455;\n",
              "      fill: #D2E3FC;\n",
              "    }\n",
              "\n",
              "    [theme=dark] .colab-df-convert:hover {\n",
              "      background-color: #434B5C;\n",
              "      box-shadow: 0px 1px 3px 1px rgba(0, 0, 0, 0.15);\n",
              "      filter: drop-shadow(0px 1px 2px rgba(0, 0, 0, 0.3));\n",
              "      fill: #FFFFFF;\n",
              "    }\n",
              "  </style>\n",
              "\n",
              "      <script>\n",
              "        const buttonEl =\n",
              "          document.querySelector('#df-e3686a01-dce3-4cc7-86e5-9629691ac188 button.colab-df-convert');\n",
              "        buttonEl.style.display =\n",
              "          google.colab.kernel.accessAllowed ? 'block' : 'none';\n",
              "\n",
              "        async function convertToInteractive(key) {\n",
              "          const element = document.querySelector('#df-e3686a01-dce3-4cc7-86e5-9629691ac188');\n",
              "          const dataTable =\n",
              "            await google.colab.kernel.invokeFunction('convertToInteractive',\n",
              "                                                     [key], {});\n",
              "          if (!dataTable) return;\n",
              "\n",
              "          const docLinkHtml = 'Like what you see? Visit the ' +\n",
              "            '<a target=\"_blank\" href=https://colab.research.google.com/notebooks/data_table.ipynb>data table notebook</a>'\n",
              "            + ' to learn more about interactive tables.';\n",
              "          element.innerHTML = '';\n",
              "          dataTable['output_type'] = 'display_data';\n",
              "          await google.colab.output.renderOutput(dataTable, element);\n",
              "          const docLink = document.createElement('div');\n",
              "          docLink.innerHTML = docLinkHtml;\n",
              "          element.appendChild(docLink);\n",
              "        }\n",
              "      </script>\n",
              "    </div>\n",
              "  </div>\n",
              "  "
            ]
          },
          "metadata": {},
          "execution_count": 12
        }
      ],
      "source": [
        "df[59998:60005]"
      ]
    },
    {
      "cell_type": "markdown",
      "id": "206d2923",
      "metadata": {
        "id": "206d2923"
      },
      "source": [
        "## Basic Operation"
      ]
    },
    {
      "cell_type": "code",
      "execution_count": null,
      "id": "4d243436",
      "metadata": {
        "id": "4d243436"
      },
      "outputs": [],
      "source": [
        "df_bo = df.copy()"
      ]
    },
    {
      "cell_type": "code",
      "execution_count": null,
      "id": "6a8719d4",
      "metadata": {
        "id": "6a8719d4",
        "outputId": "4b77e434-5362-452f-f2c7-aad913881423",
        "colab": {
          "base_uri": "https://localhost:8080/"
        }
      },
      "outputs": [
        {
          "output_type": "stream",
          "name": "stdout",
          "text": [
            "There are 76000 number of rows(observations) and 171 number of columns\n"
          ]
        }
      ],
      "source": [
        "print(f'There are {df_bo.shape[0]} number of rows(observations) and {df_bo.shape[1]} number of columns')"
      ]
    },
    {
      "cell_type": "markdown",
      "source": [
        "#### Observation:\n",
        "- All records are present\n",
        "- There are 171 columns"
      ],
      "metadata": {
        "id": "I95az_uDZseN"
      },
      "id": "I95az_uDZseN"
    },
    {
      "cell_type": "code",
      "execution_count": null,
      "id": "c101e011",
      "metadata": {
        "id": "c101e011",
        "outputId": "aff73a43-19d8-4655-ea41-b4b138f7937c",
        "colab": {
          "base_uri": "https://localhost:8080/"
        }
      },
      "outputs": [
        {
          "output_type": "execute_result",
          "data": {
            "text/plain": [
              "Index(['class', 'aa_000', 'ab_000', 'ac_000', 'ad_000', 'ae_000', 'af_000',\n",
              "       'ag_000', 'ag_001', 'ag_002',\n",
              "       ...\n",
              "       'ee_002', 'ee_003', 'ee_004', 'ee_005', 'ee_006', 'ee_007', 'ee_008',\n",
              "       'ee_009', 'ef_000', 'eg_000'],\n",
              "      dtype='object', length=171)"
            ]
          },
          "metadata": {},
          "execution_count": 15
        }
      ],
      "source": [
        "df_bo.columns"
      ]
    },
    {
      "cell_type": "code",
      "execution_count": null,
      "id": "dfe9a57c",
      "metadata": {
        "id": "dfe9a57c",
        "outputId": "f6e4bc9d-08ea-4f1b-dcca-7827421f55e4",
        "colab": {
          "base_uri": "https://localhost:8080/"
        }
      },
      "outputs": [
        {
          "output_type": "stream",
          "name": "stdout",
          "text": [
            "<class 'pandas.core.frame.DataFrame'>\n",
            "RangeIndex: 76000 entries, 0 to 75999\n",
            "Columns: 171 entries, class to eg_000\n",
            "dtypes: float64(169), int64(1), object(1)\n",
            "memory usage: 99.2+ MB\n"
          ]
        }
      ],
      "source": [
        "# Printing basic information\n",
        "\n",
        "df_bo.info()"
      ]
    },
    {
      "cell_type": "markdown",
      "source": [
        "#### Observation:\n",
        "- There are 3 datatypes float, int, object\n",
        "- Memory usage is 99.2 MB"
      ],
      "metadata": {
        "id": "ktR9j8f2bzqD"
      },
      "id": "ktR9j8f2bzqD"
    },
    {
      "cell_type": "code",
      "source": [
        "# Checking the datatypes\n",
        "\n",
        "df_bo.dtypes"
      ],
      "metadata": {
        "colab": {
          "base_uri": "https://localhost:8080/"
        },
        "id": "f064xvWPbYHo",
        "outputId": "384604db-0ff6-446b-9aab-98bc9063e4b5"
      },
      "id": "f064xvWPbYHo",
      "execution_count": null,
      "outputs": [
        {
          "output_type": "execute_result",
          "data": {
            "text/plain": [
              "class      object\n",
              "aa_000      int64\n",
              "ab_000    float64\n",
              "ac_000    float64\n",
              "ad_000    float64\n",
              "           ...   \n",
              "ee_007    float64\n",
              "ee_008    float64\n",
              "ee_009    float64\n",
              "ef_000    float64\n",
              "eg_000    float64\n",
              "Length: 171, dtype: object"
            ]
          },
          "metadata": {},
          "execution_count": 17
        }
      ]
    },
    {
      "cell_type": "markdown",
      "source": [
        "#### Observation:\n",
        "- Class is of object type.\n",
        "- aa_000 is of int type\n",
        "- Rest all the columns are of float type"
      ],
      "metadata": {
        "id": "F2VRoU4dbeq4"
      },
      "id": "F2VRoU4dbeq4"
    },
    {
      "cell_type": "code",
      "execution_count": null,
      "id": "b39108de",
      "metadata": {
        "id": "b39108de",
        "outputId": "3fd6d8b8-f87c-44b7-9888-0a72f79aac36",
        "colab": {
          "base_uri": "https://localhost:8080/"
        }
      },
      "outputs": [
        {
          "output_type": "execute_result",
          "data": {
            "text/plain": [
              "class         0\n",
              "aa_000        0\n",
              "ab_000    58692\n",
              "ac_000     4261\n",
              "ad_000    18842\n",
              "          ...  \n",
              "ee_007      863\n",
              "ee_008      863\n",
              "ee_009      863\n",
              "ef_000     3486\n",
              "eg_000     3485\n",
              "Length: 171, dtype: int64"
            ]
          },
          "metadata": {},
          "execution_count": 18
        }
      ],
      "source": [
        "# Checking null values\n",
        "\n",
        "df_bo.isnull().sum()"
      ]
    },
    {
      "cell_type": "code",
      "execution_count": null,
      "id": "d6c7139b",
      "metadata": {
        "id": "d6c7139b",
        "colab": {
          "base_uri": "https://localhost:8080/"
        },
        "outputId": "a6142acc-b25a-4905-ad57-bebae5ae7a78"
      },
      "outputs": [
        {
          "output_type": "execute_result",
          "data": {
            "text/plain": [
              "0"
            ]
          },
          "metadata": {},
          "execution_count": 19
        }
      ],
      "source": [
        "# Checking duplicate values\n",
        "\n",
        "df_bo.duplicated().sum()"
      ]
    },
    {
      "cell_type": "markdown",
      "source": [
        "#### Observation:\n",
        "- There is no duplicate values"
      ],
      "metadata": {
        "id": "Vy0-4n5Ud3Nc"
      },
      "id": "Vy0-4n5Ud3Nc"
    },
    {
      "cell_type": "code",
      "source": [
        "# Checking missing values\n",
        "\n",
        "df_bo.isna().sum()"
      ],
      "metadata": {
        "colab": {
          "base_uri": "https://localhost:8080/"
        },
        "id": "2Wxfu4_5pMz_",
        "outputId": "102bc181-14c4-4bae-d13a-51b26212a15b"
      },
      "id": "2Wxfu4_5pMz_",
      "execution_count": null,
      "outputs": [
        {
          "output_type": "execute_result",
          "data": {
            "text/plain": [
              "class         0\n",
              "aa_000        0\n",
              "ab_000    58692\n",
              "ac_000     4261\n",
              "ad_000    18842\n",
              "          ...  \n",
              "ee_007      863\n",
              "ee_008      863\n",
              "ee_009      863\n",
              "ef_000     3486\n",
              "eg_000     3485\n",
              "Length: 171, dtype: int64"
            ]
          },
          "metadata": {},
          "execution_count": 20
        }
      ]
    },
    {
      "cell_type": "code",
      "execution_count": null,
      "id": "063418b1",
      "metadata": {
        "id": "063418b1",
        "colab": {
          "base_uri": "https://localhost:8080/",
          "height": 1000
        },
        "outputId": "690fb85b-c151-4b4a-82dd-63e70a589b4d"
      },
      "outputs": [
        {
          "output_type": "display_data",
          "data": {
            "text/plain": [
              "╭───────────────────────────────────── skimpy summary ──────────────────────────────────────╮\n",
              "│ \u001b[3m         Data Summary         \u001b[0m \u001b[3m      Data Types       \u001b[0m                                    │\n",
              "│ ┏━━━━━━━━━━━━━━━━━━━┳━━━━━━━━┓ ┏━━━━━━━━━━━━━┳━━━━━━━┓                                    │\n",
              "│ ┃\u001b[1;36m \u001b[0m\u001b[1;36mdataframe        \u001b[0m\u001b[1;36m \u001b[0m┃\u001b[1;36m \u001b[0m\u001b[1;36mValues\u001b[0m\u001b[1;36m \u001b[0m┃ ┃\u001b[1;36m \u001b[0m\u001b[1;36mColumn Type\u001b[0m\u001b[1;36m \u001b[0m┃\u001b[1;36m \u001b[0m\u001b[1;36mCount\u001b[0m\u001b[1;36m \u001b[0m┃                                    │\n",
              "│ ┡━━━━━━━━━━━━━━━━━━━╇━━━━━━━━┩ ┡━━━━━━━━━━━━━╇━━━━━━━┩                                    │\n",
              "│ │ Number of rows    │ 76000  │ │ float64     │ 169   │                                    │\n",
              "│ │ Number of columns │ 171    │ │ object      │ 1     │                                    │\n",
              "│ └───────────────────┴────────┘ │ int64       │ 1     │                                    │\n",
              "│                                └─────────────┴───────┘                                    │\n",
              "│ \u001b[3m                                         number                                         \u001b[0m  │\n",
              "│ ┏━━━━━━━━┳━━━━━━━━┳━━━━━━━━┳━━━━━━━━┳━━━━━━━━┳━━━━━━━┳━━━━━━━━┳━━━━━━━┳━━━━━━━━┳━━━━━━━┓  │\n",
              "│ ┃\u001b[1m \u001b[0m\u001b[1m      \u001b[0m\u001b[1m \u001b[0m┃\u001b[1m \u001b[0m\u001b[1mmissin\u001b[0m\u001b[1m \u001b[0m┃\u001b[1m \u001b[0m\u001b[1mcomple\u001b[0m\u001b[1m \u001b[0m┃\u001b[1m \u001b[0m\u001b[1mmean  \u001b[0m\u001b[1m \u001b[0m┃\u001b[1m \u001b[0m\u001b[1msd    \u001b[0m\u001b[1m \u001b[0m┃\u001b[1m \u001b[0m\u001b[1mp0   \u001b[0m\u001b[1m \u001b[0m┃\u001b[1m \u001b[0m\u001b[1mp25   \u001b[0m\u001b[1m \u001b[0m┃\u001b[1m \u001b[0m\u001b[1mp75  \u001b[0m\u001b[1m \u001b[0m┃\u001b[1m \u001b[0m\u001b[1mp100  \u001b[0m\u001b[1m \u001b[0m┃\u001b[1m \u001b[0m\u001b[1mhist \u001b[0m\u001b[1m \u001b[0m┃  │\n",
              "│ ┃        ┃\u001b[1m \u001b[0m\u001b[1mg     \u001b[0m\u001b[1m \u001b[0m┃\u001b[1m \u001b[0m\u001b[1mte    \u001b[0m\u001b[1m \u001b[0m┃        ┃        ┃       ┃        ┃       ┃        ┃       ┃  │\n",
              "│ ┃        ┃        ┃\u001b[1m \u001b[0m\u001b[1mrate  \u001b[0m\u001b[1m \u001b[0m┃        ┃        ┃       ┃        ┃       ┃        ┃       ┃  │\n",
              "│ ┡━━━━━━━━╇━━━━━━━━╇━━━━━━━━╇━━━━━━━━╇━━━━━━━━╇━━━━━━━╇━━━━━━━━╇━━━━━━━╇━━━━━━━━╇━━━━━━━┩  │\n",
              "│ │ \u001b[38;5;141maa_000\u001b[0m │ \u001b[36m     0\u001b[0m │ \u001b[36m     1\u001b[0m │ \u001b[36m 61000\u001b[0m │ \u001b[36m260000\u001b[0m │ \u001b[36m    0\u001b[0m │ \u001b[36m   860\u001b[0m │ \u001b[36m49000\u001b[0m │ \u001b[36m430000\u001b[0m │ \u001b[32m  █  \u001b[0m │  │\n",
              "│ │        │        │        │        │        │       │        │       │ \u001b[36m    00\u001b[0m │       │  │\n",
              "│ │ \u001b[38;5;141mab_000\u001b[0m │ \u001b[36m 59000\u001b[0m │ \u001b[36m  0.23\u001b[0m │ \u001b[36m  0.73\u001b[0m │ \u001b[36m   3.3\u001b[0m │ \u001b[36m    0\u001b[0m │ \u001b[36m     0\u001b[0m │ \u001b[36m    0\u001b[0m │ \u001b[36m   200\u001b[0m │ \u001b[32m  █  \u001b[0m │  │\n",
              "│ │ \u001b[38;5;141mac_000\u001b[0m │ \u001b[36m  4300\u001b[0m │ \u001b[36m  0.94\u001b[0m │ \u001b[36m360000\u001b[0m │ \u001b[36m800000\u001b[0m │ \u001b[36m    0\u001b[0m │ \u001b[36m    16\u001b[0m │ \u001b[36m  970\u001b[0m │ \u001b[36m210000\u001b[0m │ \u001b[32m  █  \u001b[0m │  │\n",
              "│ │        │        │        │ \u001b[36m   000\u001b[0m │ \u001b[36m   000\u001b[0m │       │        │       │ \u001b[36m  0000\u001b[0m │ \u001b[32m  ▂  \u001b[0m │  │\n",
              "│ │ \u001b[38;5;141mad_000\u001b[0m │ \u001b[36m 19000\u001b[0m │ \u001b[36m  0.75\u001b[0m │ \u001b[36m150000\u001b[0m │ \u001b[36m360000\u001b[0m │ \u001b[36m    0\u001b[0m │ \u001b[36m    24\u001b[0m │ \u001b[36m  430\u001b[0m │ \u001b[36m860000\u001b[0m │ \u001b[32m  █  \u001b[0m │  │\n",
              "│ │        │        │        │        │ \u001b[36m    00\u001b[0m │       │        │       │ \u001b[36m  0000\u001b[0m │       │  │\n",
              "│ │ \u001b[38;5;141mae_000\u001b[0m │ \u001b[36m  3200\u001b[0m │ \u001b[36m  0.96\u001b[0m │ \u001b[36m   6.7\u001b[0m │ \u001b[36m   150\u001b[0m │ \u001b[36m    0\u001b[0m │ \u001b[36m     0\u001b[0m │ \u001b[36m    0\u001b[0m │ \u001b[36m 21000\u001b[0m │ \u001b[32m  █  \u001b[0m │  │\n",
              "│ │ \u001b[38;5;141maf_000\u001b[0m │ \u001b[36m  3200\u001b[0m │ \u001b[36m  0.96\u001b[0m │ \u001b[36m    11\u001b[0m │ \u001b[36m   200\u001b[0m │ \u001b[36m    0\u001b[0m │ \u001b[36m     0\u001b[0m │ \u001b[36m    0\u001b[0m │ \u001b[36m 20000\u001b[0m │ \u001b[32m  █  \u001b[0m │  │\n",
              "│ │ \u001b[38;5;141mag_000\u001b[0m │ \u001b[36m   860\u001b[0m │ \u001b[36m  0.99\u001b[0m │ \u001b[36m   200\u001b[0m │ \u001b[36m 18000\u001b[0m │ \u001b[36m    0\u001b[0m │ \u001b[36m     0\u001b[0m │ \u001b[36m    0\u001b[0m │ \u001b[36m340000\u001b[0m │ \u001b[32m  █  \u001b[0m │  │\n",
              "│ │        │        │        │        │        │       │        │       │ \u001b[36m     0\u001b[0m │       │  │\n",
              "│ │ \u001b[38;5;141mag_001\u001b[0m │ \u001b[36m   860\u001b[0m │ \u001b[36m  0.99\u001b[0m │ \u001b[36m  1200\u001b[0m │ \u001b[36m 51000\u001b[0m │ \u001b[36m    0\u001b[0m │ \u001b[36m     0\u001b[0m │ \u001b[36m    0\u001b[0m │ \u001b[36m100000\u001b[0m │ \u001b[32m  █  \u001b[0m │  │\n",
              "│ │        │        │        │        │        │       │        │       │ \u001b[36m    00\u001b[0m │       │  │\n",
              "│ │ \u001b[38;5;141mag_002\u001b[0m │ \u001b[36m   860\u001b[0m │ \u001b[36m  0.99\u001b[0m │ \u001b[36m  9700\u001b[0m │ \u001b[36m170000\u001b[0m │ \u001b[36m    0\u001b[0m │ \u001b[36m     0\u001b[0m │ \u001b[36m    0\u001b[0m │ \u001b[36m190000\u001b[0m │ \u001b[32m  █  \u001b[0m │  │\n",
              "│ │        │        │        │        │        │       │        │       │ \u001b[36m    00\u001b[0m │       │  │\n",
              "│ │ \u001b[38;5;141mag_003\u001b[0m │ \u001b[36m   860\u001b[0m │ \u001b[36m  0.99\u001b[0m │ \u001b[36m 94000\u001b[0m │ \u001b[36m820000\u001b[0m │ \u001b[36m    0\u001b[0m │ \u001b[36m     0\u001b[0m │ \u001b[36m    0\u001b[0m │ \u001b[36m730000\u001b[0m │ \u001b[32m  █  \u001b[0m │  │\n",
              "│ │        │        │        │        │        │       │        │       │ \u001b[36m    00\u001b[0m │       │  │\n",
              "│ │ \u001b[38;5;141mag_004\u001b[0m │ \u001b[36m   860\u001b[0m │ \u001b[36m  0.99\u001b[0m │ \u001b[36m450000\u001b[0m │ \u001b[36m250000\u001b[0m │ \u001b[36m    0\u001b[0m │ \u001b[36m   310\u001b[0m │ \u001b[36m50000\u001b[0m │ \u001b[36m230000\u001b[0m │ \u001b[32m  █  \u001b[0m │  │\n",
              "│ │        │        │        │        │ \u001b[36m     0\u001b[0m │       │        │       │ \u001b[36m   000\u001b[0m │       │  │\n",
              "│ │ \u001b[38;5;141mag_005\u001b[0m │ \u001b[36m   860\u001b[0m │ \u001b[36m  0.99\u001b[0m │ \u001b[36m110000\u001b[0m │ \u001b[36m330000\u001b[0m │ \u001b[36m    0\u001b[0m │ \u001b[36m 14000\u001b[0m │ \u001b[36m92000\u001b[0m │ \u001b[36m180000\u001b[0m │ \u001b[32m  █  \u001b[0m │  │\n",
              "│ │        │        │        │ \u001b[36m     0\u001b[0m │ \u001b[36m     0\u001b[0m │       │        │ \u001b[36m    0\u001b[0m │ \u001b[36m   000\u001b[0m │       │  │\n",
              "│ │ \u001b[38;5;141mag_006\u001b[0m │ \u001b[36m   860\u001b[0m │ \u001b[36m  0.99\u001b[0m │ \u001b[36m170000\u001b[0m │ \u001b[36m390000\u001b[0m │ \u001b[36m    0\u001b[0m │ \u001b[36m 11000\u001b[0m │ \u001b[36m19000\u001b[0m │ \u001b[36m940000\u001b[0m │ \u001b[32m  █  \u001b[0m │  │\n",
              "│ │        │        │        │ \u001b[36m     0\u001b[0m │ \u001b[36m     0\u001b[0m │       │        │ \u001b[36m   00\u001b[0m │ \u001b[36m    00\u001b[0m │       │  │\n",
              "│ │ \u001b[38;5;141mag_007\u001b[0m │ \u001b[36m   860\u001b[0m │ \u001b[36m  0.99\u001b[0m │ \u001b[36m500000\u001b[0m │ \u001b[36m140000\u001b[0m │ \u001b[36m    0\u001b[0m │ \u001b[36m     0\u001b[0m │ \u001b[36m59000\u001b[0m │ \u001b[36m630000\u001b[0m │ \u001b[32m  █  \u001b[0m │  │\n",
              "│ │        │        │        │        │ \u001b[36m     0\u001b[0m │       │        │ \u001b[36m    0\u001b[0m │ \u001b[36m    00\u001b[0m │       │  │\n",
              "│ │ \u001b[38;5;141mag_008\u001b[0m │ \u001b[36m   860\u001b[0m │ \u001b[36m  0.99\u001b[0m │ \u001b[36m 36000\u001b[0m │ \u001b[36m220000\u001b[0m │ \u001b[36m    0\u001b[0m │ \u001b[36m     0\u001b[0m │ \u001b[36m27000\u001b[0m │ \u001b[36m180000\u001b[0m │ \u001b[32m  █  \u001b[0m │  │\n",
              "│ │        │        │        │        │        │       │        │       │ \u001b[36m    00\u001b[0m │       │  │\n",
              "│ │ \u001b[38;5;141mag_009\u001b[0m │ \u001b[36m   860\u001b[0m │ \u001b[36m  0.99\u001b[0m │ \u001b[36m  5300\u001b[0m │ \u001b[36m170000\u001b[0m │ \u001b[36m    0\u001b[0m │ \u001b[36m     0\u001b[0m │ \u001b[36m  370\u001b[0m │ \u001b[36m250000\u001b[0m │ \u001b[32m  █  \u001b[0m │  │\n",
              "│ │        │        │        │        │        │       │        │       │ \u001b[36m    00\u001b[0m │       │  │\n",
              "│ │ \u001b[38;5;141mah_000\u001b[0m │ \u001b[36m   820\u001b[0m │ \u001b[36m  0.99\u001b[0m │ \u001b[36m180000\u001b[0m │ \u001b[36m430000\u001b[0m │ \u001b[36m    0\u001b[0m │ \u001b[36m 30000\u001b[0m │ \u001b[36m16000\u001b[0m │ \u001b[36m820000\u001b[0m │ \u001b[32m  █  \u001b[0m │  │\n",
              "│ │        │        │        │ \u001b[36m     0\u001b[0m │ \u001b[36m     0\u001b[0m │       │        │ \u001b[36m   00\u001b[0m │ \u001b[36m    00\u001b[0m │       │  │\n",
              "│ │ \u001b[38;5;141mai_000\u001b[0m │ \u001b[36m   790\u001b[0m │ \u001b[36m  0.99\u001b[0m │ \u001b[36m  9600\u001b[0m │ \u001b[36m180000\u001b[0m │ \u001b[36m    0\u001b[0m │ \u001b[36m     0\u001b[0m │ \u001b[36m    0\u001b[0m │ \u001b[36m180000\u001b[0m │ \u001b[32m  █  \u001b[0m │  │\n",
              "│ │        │        │        │        │        │       │        │       │ \u001b[36m    00\u001b[0m │       │  │\n",
              "│ │ \u001b[38;5;141maj_000\u001b[0m │ \u001b[36m   790\u001b[0m │ \u001b[36m  0.99\u001b[0m │ \u001b[36m  1200\u001b[0m │ \u001b[36m 51000\u001b[0m │ \u001b[36m    0\u001b[0m │ \u001b[36m     0\u001b[0m │ \u001b[36m    0\u001b[0m │ \u001b[36m560000\u001b[0m │ \u001b[32m  █  \u001b[0m │  │\n",
              "│ │        │        │        │        │        │       │        │       │ \u001b[36m     0\u001b[0m │       │  │\n",
              "│ │ \u001b[38;5;141mak_000\u001b[0m │ \u001b[36m  5600\u001b[0m │ \u001b[36m  0.93\u001b[0m │ \u001b[36m   970\u001b[0m │ \u001b[36m 79000\u001b[0m │ \u001b[36m    0\u001b[0m │ \u001b[36m     0\u001b[0m │ \u001b[36m    0\u001b[0m │ \u001b[36m110000\u001b[0m │ \u001b[32m  █  \u001b[0m │  │\n",
              "│ │        │        │        │        │        │       │        │       │ \u001b[36m    00\u001b[0m │       │  │\n",
              "│ │ \u001b[38;5;141mal_000\u001b[0m │ \u001b[36m   810\u001b[0m │ \u001b[36m  0.99\u001b[0m │ \u001b[36m 62000\u001b[0m │ \u001b[36m560000\u001b[0m │ \u001b[36m    0\u001b[0m │ \u001b[36m     0\u001b[0m │ \u001b[36m 1200\u001b[0m │ \u001b[36m380000\u001b[0m │ \u001b[32m  █  \u001b[0m │  │\n",
              "│ │        │        │        │        │        │       │        │       │ \u001b[36m    00\u001b[0m │       │  │\n",
              "│ │ \u001b[38;5;141mam_0  \u001b[0m │ \u001b[36m   790\u001b[0m │ \u001b[36m  0.99\u001b[0m │ \u001b[36m 97000\u001b[0m │ \u001b[36m890000\u001b[0m │ \u001b[36m    0\u001b[0m │ \u001b[36m     0\u001b[0m │ \u001b[36m 2400\u001b[0m │ \u001b[36m560000\u001b[0m │ \u001b[32m  █  \u001b[0m │  │\n",
              "│ │        │        │        │        │        │       │        │       │ \u001b[36m    00\u001b[0m │       │  │\n",
              "│ │ \u001b[38;5;141man_000\u001b[0m │ \u001b[36m   810\u001b[0m │ \u001b[36m  0.99\u001b[0m │ \u001b[36m350000\u001b[0m │ \u001b[36m790000\u001b[0m │ \u001b[36m    0\u001b[0m │ \u001b[36m 74000\u001b[0m │ \u001b[36m31000\u001b[0m │ \u001b[36m150000\u001b[0m │ \u001b[32m  █  \u001b[0m │  │\n",
              "│ │        │        │        │ \u001b[36m     0\u001b[0m │ \u001b[36m     0\u001b[0m │       │        │ \u001b[36m   00\u001b[0m │ \u001b[36m   000\u001b[0m │       │  │\n",
              "│ │ \u001b[38;5;141mao_000\u001b[0m │ \u001b[36m   750\u001b[0m │ \u001b[36m  0.99\u001b[0m │ \u001b[36m300000\u001b[0m │ \u001b[36m700000\u001b[0m │ \u001b[36m    0\u001b[0m │ \u001b[36m 66000\u001b[0m │ \u001b[36m27000\u001b[0m │ \u001b[36m140000\u001b[0m │ \u001b[32m  █  \u001b[0m │  │\n",
              "│ │        │        │        │ \u001b[36m     0\u001b[0m │ \u001b[36m     0\u001b[0m │       │        │ \u001b[36m   00\u001b[0m │ \u001b[36m   000\u001b[0m │       │  │\n",
              "│ │ \u001b[38;5;141map_000\u001b[0m │ \u001b[36m   810\u001b[0m │ \u001b[36m  0.99\u001b[0m │ \u001b[36m100000\u001b[0m │ \u001b[36m320000\u001b[0m │ \u001b[36m    0\u001b[0m │ \u001b[36m 25000\u001b[0m │ \u001b[36m73000\u001b[0m │ \u001b[36m120000\u001b[0m │ \u001b[32m  █  \u001b[0m │  │\n",
              "│ │        │        │        │ \u001b[36m     0\u001b[0m │ \u001b[36m     0\u001b[0m │       │        │ \u001b[36m    0\u001b[0m │ \u001b[36m   000\u001b[0m │       │  │\n",
              "│ │ \u001b[38;5;141maq_000\u001b[0m │ \u001b[36m   750\u001b[0m │ \u001b[36m  0.99\u001b[0m │ \u001b[36m450000\u001b[0m │ \u001b[36m130000\u001b[0m │ \u001b[36m    0\u001b[0m │ \u001b[36m  4200\u001b[0m │ \u001b[36m38000\u001b[0m │ \u001b[36m350000\u001b[0m │ \u001b[32m  █  \u001b[0m │  │\n",
              "│ │        │        │        │        │ \u001b[36m     0\u001b[0m │       │        │ \u001b[36m    0\u001b[0m │ \u001b[36m    00\u001b[0m │       │  │\n",
              "│ │ \u001b[38;5;141mar_000\u001b[0m │ \u001b[36m  3500\u001b[0m │ \u001b[36m  0.95\u001b[0m │ \u001b[36m  0.49\u001b[0m │ \u001b[36m   5.3\u001b[0m │ \u001b[36m    0\u001b[0m │ \u001b[36m     0\u001b[0m │ \u001b[36m    0\u001b[0m │ \u001b[36m   350\u001b[0m │ \u001b[32m  █  \u001b[0m │  │\n",
              "│ │ \u001b[38;5;141mas_000\u001b[0m │ \u001b[36m   790\u001b[0m │ \u001b[36m  0.99\u001b[0m │ \u001b[36m   250\u001b[0m │ \u001b[36m 28000\u001b[0m │ \u001b[36m    0\u001b[0m │ \u001b[36m     0\u001b[0m │ \u001b[36m    0\u001b[0m │ \u001b[36m640000\u001b[0m │ \u001b[32m  █  \u001b[0m │  │\n",
              "│ │        │        │        │        │        │       │        │       │ \u001b[36m     0\u001b[0m │       │  │\n",
              "│ │ \u001b[38;5;141mat_000\u001b[0m │ \u001b[36m   790\u001b[0m │ \u001b[36m  0.99\u001b[0m │ \u001b[36m  5200\u001b[0m │ \u001b[36m120000\u001b[0m │ \u001b[36m    0\u001b[0m │ \u001b[36m     0\u001b[0m │ \u001b[36m    0\u001b[0m │ \u001b[36m110000\u001b[0m │ \u001b[32m  █  \u001b[0m │  │\n",
              "│ │        │        │        │        │        │       │        │       │ \u001b[36m    00\u001b[0m │       │  │\n",
              "│ │ \u001b[38;5;141mau_000\u001b[0m │ \u001b[36m   790\u001b[0m │ \u001b[36m  0.99\u001b[0m │ \u001b[36m   300\u001b[0m │ \u001b[36m 26000\u001b[0m │ \u001b[36m    0\u001b[0m │ \u001b[36m     0\u001b[0m │ \u001b[36m    0\u001b[0m │ \u001b[36m570000\u001b[0m │ \u001b[32m  █  \u001b[0m │  │\n",
              "│ │        │        │        │        │        │       │        │       │ \u001b[36m     0\u001b[0m │       │  │\n",
              "│ │ \u001b[38;5;141mav_000\u001b[0m │ \u001b[36m  3200\u001b[0m │ \u001b[36m  0.96\u001b[0m │ \u001b[36m  1100\u001b[0m │ \u001b[36m  6700\u001b[0m │ \u001b[36m    0\u001b[0m │ \u001b[36m    12\u001b[0m │ \u001b[36m  650\u001b[0m │ \u001b[36m790000\u001b[0m │ \u001b[32m  █  \u001b[0m │  │\n",
              "│ │ \u001b[38;5;141max_000\u001b[0m │ \u001b[36m  3200\u001b[0m │ \u001b[36m  0.96\u001b[0m │ \u001b[36m   380\u001b[0m │ \u001b[36m  1500\u001b[0m │ \u001b[36m    0\u001b[0m │ \u001b[36m    10\u001b[0m │ \u001b[36m  260\u001b[0m │ \u001b[36m120000\u001b[0m │ \u001b[32m  █  \u001b[0m │  │\n",
              "│ │ \u001b[38;5;141may_000\u001b[0m │ \u001b[36m   860\u001b[0m │ \u001b[36m  0.99\u001b[0m │ \u001b[36m 15000\u001b[0m │ \u001b[36m620000\u001b[0m │ \u001b[36m    0\u001b[0m │ \u001b[36m     0\u001b[0m │ \u001b[36m    0\u001b[0m │ \u001b[36m740000\u001b[0m │ \u001b[32m  █  \u001b[0m │  │\n",
              "│ │        │        │        │        │        │       │        │       │ \u001b[36m    00\u001b[0m │       │  │\n",
              "│ │ \u001b[38;5;141may_001\u001b[0m │ \u001b[36m   860\u001b[0m │ \u001b[36m  0.99\u001b[0m │ \u001b[36m 11000\u001b[0m │ \u001b[36m560000\u001b[0m │ \u001b[36m    0\u001b[0m │ \u001b[36m     0\u001b[0m │ \u001b[36m    0\u001b[0m │ \u001b[36m810000\u001b[0m │ \u001b[32m  █  \u001b[0m │  │\n",
              "│ │        │        │        │        │        │       │        │       │ \u001b[36m    00\u001b[0m │       │  │\n",
              "│ │ \u001b[38;5;141may_002\u001b[0m │ \u001b[36m   860\u001b[0m │ \u001b[36m  0.99\u001b[0m │ \u001b[36m 11000\u001b[0m │ \u001b[36m440000\u001b[0m │ \u001b[36m    0\u001b[0m │ \u001b[36m     0\u001b[0m │ \u001b[36m    0\u001b[0m │ \u001b[36m300000\u001b[0m │ \u001b[32m  █  \u001b[0m │  │\n",
              "│ │        │        │        │        │        │       │        │       │ \u001b[36m    00\u001b[0m │       │  │\n",
              "│ │ \u001b[38;5;141may_003\u001b[0m │ \u001b[36m   860\u001b[0m │ \u001b[36m  0.99\u001b[0m │ \u001b[36m  7300\u001b[0m │ \u001b[36m210000\u001b[0m │ \u001b[36m    0\u001b[0m │ \u001b[36m     0\u001b[0m │ \u001b[36m    0\u001b[0m │ \u001b[36m140000\u001b[0m │ \u001b[32m  █  \u001b[0m │  │\n",
              "│ │        │        │        │        │        │       │        │       │ \u001b[36m    00\u001b[0m │       │  │\n",
              "│ │ \u001b[38;5;141may_004\u001b[0m │ \u001b[36m   860\u001b[0m │ \u001b[36m  0.99\u001b[0m │ \u001b[36m 10000\u001b[0m │ \u001b[36m340000\u001b[0m │ \u001b[36m    0\u001b[0m │ \u001b[36m     0\u001b[0m │ \u001b[36m    0\u001b[0m │ \u001b[36m400000\u001b[0m │ \u001b[32m  █  \u001b[0m │  │\n",
              "│ │        │        │        │        │        │       │        │       │ \u001b[36m    00\u001b[0m │       │  │\n",
              "│ │ \u001b[38;5;141may_005\u001b[0m │ \u001b[36m   860\u001b[0m │ \u001b[36m  0.99\u001b[0m │ \u001b[36m110000\u001b[0m │ \u001b[36m130000\u001b[0m │ \u001b[36m    0\u001b[0m │ \u001b[36m     0\u001b[0m │ \u001b[36m40000\u001b[0m │ \u001b[36m120000\u001b[0m │ \u001b[32m  █  \u001b[0m │  │\n",
              "│ │        │        │        │        │ \u001b[36m     0\u001b[0m │       │        │       │ \u001b[36m   000\u001b[0m │       │  │\n",
              "│ │ \u001b[38;5;141may_006\u001b[0m │ \u001b[36m   860\u001b[0m │ \u001b[36m  0.99\u001b[0m │ \u001b[36m110000\u001b[0m │ \u001b[36m330000\u001b[0m │ \u001b[36m    0\u001b[0m │ \u001b[36m     0\u001b[0m │ \u001b[36m13000\u001b[0m │ \u001b[36m130000\u001b[0m │ \u001b[32m  █  \u001b[0m │  │\n",
              "│ │        │        │        │ \u001b[36m     0\u001b[0m │ \u001b[36m     0\u001b[0m │       │        │ \u001b[36m   00\u001b[0m │ \u001b[36m   000\u001b[0m │       │  │\n",
              "│ │ \u001b[38;5;141may_007\u001b[0m │ \u001b[36m   860\u001b[0m │ \u001b[36m  0.99\u001b[0m │ \u001b[36m160000\u001b[0m │ \u001b[36m510000\u001b[0m │ \u001b[36m    0\u001b[0m │ \u001b[36m  6100\u001b[0m │ \u001b[36m13000\u001b[0m │ \u001b[36m490000\u001b[0m │ \u001b[32m  █  \u001b[0m │  │\n",
              "│ │        │        │        │ \u001b[36m     0\u001b[0m │ \u001b[36m     0\u001b[0m │       │        │ \u001b[36m   00\u001b[0m │ \u001b[36m   000\u001b[0m │       │  │\n",
              "│ │ \u001b[38;5;141may_008\u001b[0m │ \u001b[36m   860\u001b[0m │ \u001b[36m  0.99\u001b[0m │ \u001b[36m110000\u001b[0m │ \u001b[36m430000\u001b[0m │ \u001b[36m    0\u001b[0m │ \u001b[36m  7600\u001b[0m │ \u001b[36m62000\u001b[0m │ \u001b[36m330000\u001b[0m │ \u001b[32m  █  \u001b[0m │  │\n",
              "│ │        │        │        │ \u001b[36m     0\u001b[0m │ \u001b[36m     0\u001b[0m │       │        │ \u001b[36m    0\u001b[0m │ \u001b[36m   000\u001b[0m │       │  │\n",
              "│ │ \u001b[38;5;141may_009\u001b[0m │ \u001b[36m   860\u001b[0m │ \u001b[36m  0.99\u001b[0m │ \u001b[36m  1200\u001b[0m │ \u001b[36m 90000\u001b[0m │ \u001b[36m    0\u001b[0m │ \u001b[36m     0\u001b[0m │ \u001b[36m    0\u001b[0m │ \u001b[36m190000\u001b[0m │ \u001b[32m  █  \u001b[0m │  │\n",
              "│ │        │        │        │        │        │       │        │       │ \u001b[36m    00\u001b[0m │       │  │\n",
              "│ │ \u001b[38;5;141maz_000\u001b[0m │ \u001b[36m   860\u001b[0m │ \u001b[36m  0.99\u001b[0m │ \u001b[36m  7900\u001b[0m │ \u001b[36m 72000\u001b[0m │ \u001b[36m    0\u001b[0m │ \u001b[36m  1000\u001b[0m │ \u001b[36m 4200\u001b[0m │ \u001b[36m100000\u001b[0m │ \u001b[32m  █  \u001b[0m │  │\n",
              "│ │        │        │        │        │        │       │        │       │ \u001b[36m    00\u001b[0m │       │  │\n",
              "│ │ \u001b[38;5;141maz_001\u001b[0m │ \u001b[36m   860\u001b[0m │ \u001b[36m  0.99\u001b[0m │ \u001b[36m  4500\u001b[0m │ \u001b[36m 33000\u001b[0m │ \u001b[36m    0\u001b[0m │ \u001b[36m    60\u001b[0m │ \u001b[36m 2000\u001b[0m │ \u001b[36m450000\u001b[0m │ \u001b[32m  █  \u001b[0m │  │\n",
              "│ │        │        │        │        │        │       │        │       │ \u001b[36m     0\u001b[0m │       │  │\n",
              "│ │ \u001b[38;5;141maz_002\u001b[0m │ \u001b[36m   860\u001b[0m │ \u001b[36m  0.99\u001b[0m │ \u001b[36m  8000\u001b[0m │ \u001b[36m 98000\u001b[0m │ \u001b[36m    0\u001b[0m │ \u001b[36m    90\u001b[0m │ \u001b[36m 3100\u001b[0m │ \u001b[36m140000\u001b[0m │ \u001b[32m  █  \u001b[0m │  │\n",
              "│ │        │        │        │        │        │       │        │       │ \u001b[36m    00\u001b[0m │       │  │\n",
              "│ │ \u001b[38;5;141maz_003\u001b[0m │ \u001b[36m   860\u001b[0m │ \u001b[36m  0.99\u001b[0m │ \u001b[36m 88000\u001b[0m │ \u001b[36m670000\u001b[0m │ \u001b[36m    0\u001b[0m │ \u001b[36m   300\u001b[0m │ \u001b[36m43000\u001b[0m │ \u001b[36m460000\u001b[0m │ \u001b[32m  █  \u001b[0m │  │\n",
              "│ │        │        │        │        │        │       │        │       │ \u001b[36m    00\u001b[0m │       │  │\n",
              "│ │ \u001b[38;5;141maz_004\u001b[0m │ \u001b[36m   860\u001b[0m │ \u001b[36m  0.99\u001b[0m │ \u001b[36m150000\u001b[0m │ \u001b[36m420000\u001b[0m │ \u001b[36m    0\u001b[0m │ \u001b[36m  1500\u001b[0m │ \u001b[36m18000\u001b[0m │ \u001b[36m130000\u001b[0m │ \u001b[32m  █  \u001b[0m │  │\n",
              "│ │        │        │        │ \u001b[36m     0\u001b[0m │ \u001b[36m     0\u001b[0m │       │        │ \u001b[36m   00\u001b[0m │ \u001b[36m   000\u001b[0m │       │  │\n",
              "│ │ \u001b[38;5;141maz_005\u001b[0m │ \u001b[36m   860\u001b[0m │ \u001b[36m  0.99\u001b[0m │ \u001b[36m220000\u001b[0m │ \u001b[36m670000\u001b[0m │ \u001b[36m    0\u001b[0m │ \u001b[36m 39000\u001b[0m │ \u001b[36m18000\u001b[0m │ \u001b[36m480000\u001b[0m │ \u001b[32m  █  \u001b[0m │  │\n",
              "│ │        │        │        │ \u001b[36m     0\u001b[0m │ \u001b[36m     0\u001b[0m │       │        │ \u001b[36m   00\u001b[0m │ \u001b[36m   000\u001b[0m │       │  │\n",
              "│ │ \u001b[38;5;141maz_006\u001b[0m │ \u001b[36m   860\u001b[0m │ \u001b[36m  0.99\u001b[0m │ \u001b[36m100000\u001b[0m │ \u001b[36m900000\u001b[0m │ \u001b[36m    0\u001b[0m │ \u001b[36m    10\u001b[0m │ \u001b[36m 4300\u001b[0m │ \u001b[36m650000\u001b[0m │ \u001b[32m  █  \u001b[0m │  │\n",
              "│ │        │        │        │        │        │       │        │       │ \u001b[36m    00\u001b[0m │       │  │\n",
              "│ │ \u001b[38;5;141maz_007\u001b[0m │ \u001b[36m   860\u001b[0m │ \u001b[36m  0.99\u001b[0m │ \u001b[36m 18000\u001b[0m │ \u001b[36m280000\u001b[0m │ \u001b[36m    0\u001b[0m │ \u001b[36m     0\u001b[0m │ \u001b[36m    0\u001b[0m │ \u001b[36m390000\u001b[0m │ \u001b[32m  █  \u001b[0m │  │\n",
              "│ │        │        │        │        │        │       │        │       │ \u001b[36m    00\u001b[0m │       │  │\n",
              "│ │ \u001b[38;5;141maz_008\u001b[0m │ \u001b[36m   860\u001b[0m │ \u001b[36m  0.99\u001b[0m │ \u001b[36m   630\u001b[0m │ \u001b[36m 14000\u001b[0m │ \u001b[36m    0\u001b[0m │ \u001b[36m     0\u001b[0m │ \u001b[36m    0\u001b[0m │ \u001b[36m190000\u001b[0m │ \u001b[32m  █  \u001b[0m │  │\n",
              "│ │        │        │        │        │        │       │        │       │ \u001b[36m     0\u001b[0m │       │  │\n",
              "│ │ \u001b[38;5;141maz_009\u001b[0m │ \u001b[36m   860\u001b[0m │ \u001b[36m  0.99\u001b[0m │ \u001b[36m    38\u001b[0m │ \u001b[36m  3000\u001b[0m │ \u001b[36m    0\u001b[0m │ \u001b[36m     0\u001b[0m │ \u001b[36m    0\u001b[0m │ \u001b[36m670000\u001b[0m │ \u001b[32m  █  \u001b[0m │  │\n",
              "│ │ \u001b[38;5;141mba_000\u001b[0m │ \u001b[36m   880\u001b[0m │ \u001b[36m  0.99\u001b[0m │ \u001b[36m140000\u001b[0m │ \u001b[36m380000\u001b[0m │ \u001b[36m    0\u001b[0m │ \u001b[36m 34000\u001b[0m │ \u001b[36m13000\u001b[0m │ \u001b[36m230000\u001b[0m │ \u001b[32m  █  \u001b[0m │  │\n",
              "│ │        │        │        │ \u001b[36m     0\u001b[0m │ \u001b[36m     0\u001b[0m │       │        │ \u001b[36m   00\u001b[0m │ \u001b[36m   000\u001b[0m │       │  │\n",
              "│ │ \u001b[38;5;141mba_001\u001b[0m │ \u001b[36m   880\u001b[0m │ \u001b[36m  0.99\u001b[0m │ \u001b[36m900000\u001b[0m │ \u001b[36m240000\u001b[0m │ \u001b[36m    0\u001b[0m │ \u001b[36m 15000\u001b[0m │ \u001b[36m81000\u001b[0m │ \u001b[36m140000\u001b[0m │ \u001b[32m  █  \u001b[0m │  │\n",
              "│ │        │        │        │        │ \u001b[36m     0\u001b[0m │       │        │ \u001b[36m    0\u001b[0m │ \u001b[36m   000\u001b[0m │       │  │\n",
              "│ │ \u001b[38;5;141mba_002\u001b[0m │ \u001b[36m   880\u001b[0m │ \u001b[36m  0.99\u001b[0m │ \u001b[36m420000\u001b[0m │ \u001b[36m120000\u001b[0m │ \u001b[36m    0\u001b[0m │ \u001b[36m  5300\u001b[0m │ \u001b[36m34000\u001b[0m │ \u001b[36m560000\u001b[0m │ \u001b[32m  █  \u001b[0m │  │\n",
              "│ │        │        │        │        │ \u001b[36m     0\u001b[0m │       │        │ \u001b[36m    0\u001b[0m │ \u001b[36m    00\u001b[0m │       │  │\n",
              "│ │ \u001b[38;5;141mba_003\u001b[0m │ \u001b[36m   880\u001b[0m │ \u001b[36m  0.99\u001b[0m │ \u001b[36m280000\u001b[0m │ \u001b[36m760000\u001b[0m │ \u001b[36m    0\u001b[0m │ \u001b[36m  1900\u001b[0m │ \u001b[36m24000\u001b[0m │ \u001b[36m370000\u001b[0m │ \u001b[32m  █  \u001b[0m │  │\n",
              "│ │        │        │        │        │        │       │        │ \u001b[36m    0\u001b[0m │ \u001b[36m    00\u001b[0m │       │  │\n",
              "│ │ \u001b[38;5;141mba_004\u001b[0m │ \u001b[36m   880\u001b[0m │ \u001b[36m  0.99\u001b[0m │ \u001b[36m210000\u001b[0m │ \u001b[36m550000\u001b[0m │ \u001b[36m    0\u001b[0m │ \u001b[36m   630\u001b[0m │ \u001b[36m20000\u001b[0m │ \u001b[36m250000\u001b[0m │ \u001b[32m  █  \u001b[0m │  │\n",
              "│ │        │        │        │        │        │       │        │ \u001b[36m    0\u001b[0m │ \u001b[36m    00\u001b[0m │       │  │\n",
              "│ │ \u001b[38;5;141mba_005\u001b[0m │ \u001b[36m   880\u001b[0m │ \u001b[36m  0.99\u001b[0m │ \u001b[36m190000\u001b[0m │ \u001b[36m520000\u001b[0m │ \u001b[36m    0\u001b[0m │ \u001b[36m   380\u001b[0m │ \u001b[36m18000\u001b[0m │ \u001b[36m190000\u001b[0m │ \u001b[32m  █  \u001b[0m │  │\n",
              "│ │        │        │        │        │        │       │        │ \u001b[36m    0\u001b[0m │ \u001b[36m    00\u001b[0m │       │  │\n",
              "│ │ \u001b[38;5;141mba_006\u001b[0m │ \u001b[36m   880\u001b[0m │ \u001b[36m  0.99\u001b[0m │ \u001b[36m210000\u001b[0m │ \u001b[36m640000\u001b[0m │ \u001b[36m    0\u001b[0m │ \u001b[36m   360\u001b[0m │ \u001b[36m21000\u001b[0m │ \u001b[36m190000\u001b[0m │ \u001b[32m  █  \u001b[0m │  │\n",
              "│ │        │        │        │        │        │       │        │ \u001b[36m    0\u001b[0m │ \u001b[36m    00\u001b[0m │       │  │\n",
              "│ │ \u001b[38;5;141mba_007\u001b[0m │ \u001b[36m   880\u001b[0m │ \u001b[36m  0.99\u001b[0m │ \u001b[36m190000\u001b[0m │ \u001b[36m530000\u001b[0m │ \u001b[36m    0\u001b[0m │ \u001b[36m    74\u001b[0m │ \u001b[36m21000\u001b[0m │ \u001b[36m150000\u001b[0m │ \u001b[32m  █  \u001b[0m │  │\n",
              "│ │        │        │        │        │        │       │        │ \u001b[36m    0\u001b[0m │ \u001b[36m    00\u001b[0m │       │  │\n",
              "│ │ \u001b[38;5;141mba_008\u001b[0m │ \u001b[36m   880\u001b[0m │ \u001b[36m  0.99\u001b[0m │ \u001b[36m 36000\u001b[0m │ \u001b[36m240000\u001b[0m │ \u001b[36m    0\u001b[0m │ \u001b[36m     0\u001b[0m │ \u001b[36m 1800\u001b[0m │ \u001b[36m310000\u001b[0m │ \u001b[32m  █  \u001b[0m │  │\n",
              "│ │        │        │        │        │        │       │        │       │ \u001b[36m    00\u001b[0m │       │  │\n",
              "│ │ \u001b[38;5;141mba_009\u001b[0m │ \u001b[36m   880\u001b[0m │ \u001b[36m  0.99\u001b[0m │ \u001b[36m 37000\u001b[0m │ \u001b[36m360000\u001b[0m │ \u001b[36m    0\u001b[0m │ \u001b[36m     0\u001b[0m │ \u001b[36m   62\u001b[0m │ \u001b[36m440000\u001b[0m │ \u001b[32m  █  \u001b[0m │  │\n",
              "│ │        │        │        │        │        │       │        │       │ \u001b[36m    00\u001b[0m │       │  │\n",
              "│ │ \u001b[38;5;141mbb_000\u001b[0m │ \u001b[36m   820\u001b[0m │ \u001b[36m  0.99\u001b[0m │ \u001b[36m460000\u001b[0m │ \u001b[36m110000\u001b[0m │ \u001b[36m    0\u001b[0m │ \u001b[36m110000\u001b[0m │ \u001b[36m39000\u001b[0m │ \u001b[36m230000\u001b[0m │ \u001b[32m  █  \u001b[0m │  │\n",
              "│ │        │        │        │ \u001b[36m     0\u001b[0m │ \u001b[36m    00\u001b[0m │       │        │ \u001b[36m   00\u001b[0m │ \u001b[36m   000\u001b[0m │       │  │\n",
              "│ │ \u001b[38;5;141mbc_000\u001b[0m │ \u001b[36m  3500\u001b[0m │ \u001b[36m  0.95\u001b[0m │ \u001b[36m   570\u001b[0m │ \u001b[36m  3900\u001b[0m │ \u001b[36m    0\u001b[0m │ \u001b[36m     0\u001b[0m │ \u001b[36m  140\u001b[0m │ \u001b[36m400000\u001b[0m │ \u001b[32m  █  \u001b[0m │  │\n",
              "│ │ \u001b[38;5;141mbd_000\u001b[0m │ \u001b[36m  3500\u001b[0m │ \u001b[36m  0.95\u001b[0m │ \u001b[36m   930\u001b[0m │ \u001b[36m  4800\u001b[0m │ \u001b[36m    0\u001b[0m │ \u001b[36m     8\u001b[0m │ \u001b[36m  440\u001b[0m │ \u001b[36m310000\u001b[0m │ \u001b[32m  █  \u001b[0m │  │\n",
              "│ │ \u001b[38;5;141mbe_000\u001b[0m │ \u001b[36m  3200\u001b[0m │ \u001b[36m  0.96\u001b[0m │ \u001b[36m  1400\u001b[0m │ \u001b[36m  9000\u001b[0m │ \u001b[36m    0\u001b[0m │ \u001b[36m    18\u001b[0m │ \u001b[36m  620\u001b[0m │ \u001b[36m810000\u001b[0m │ \u001b[32m  █  \u001b[0m │  │\n",
              "│ │ \u001b[38;5;141mbf_000\u001b[0m │ \u001b[36m  3200\u001b[0m │ \u001b[36m  0.96\u001b[0m │ \u001b[36m    76\u001b[0m │ \u001b[36m   550\u001b[0m │ \u001b[36m    0\u001b[0m │ \u001b[36m     0\u001b[0m │ \u001b[36m   20\u001b[0m │ \u001b[36m 51000\u001b[0m │ \u001b[32m  █  \u001b[0m │  │\n",
              "│ │ \u001b[38;5;141mbg_000\u001b[0m │ \u001b[36m   810\u001b[0m │ \u001b[36m  0.99\u001b[0m │ \u001b[36m180000\u001b[0m │ \u001b[36m430000\u001b[0m │ \u001b[36m    0\u001b[0m │ \u001b[36m 30000\u001b[0m │ \u001b[36m16000\u001b[0m │ \u001b[36m820000\u001b[0m │ \u001b[32m  █  \u001b[0m │  │\n",
              "│ │        │        │        │ \u001b[36m     0\u001b[0m │ \u001b[36m     0\u001b[0m │       │        │ \u001b[36m   00\u001b[0m │ \u001b[36m    00\u001b[0m │       │  │\n",
              "│ │ \u001b[38;5;141mbh_000\u001b[0m │ \u001b[36m   810\u001b[0m │ \u001b[36m  0.99\u001b[0m │ \u001b[36m 59000\u001b[0m │ \u001b[36m160000\u001b[0m │ \u001b[36m    0\u001b[0m │ \u001b[36m   860\u001b[0m │ \u001b[36m49000\u001b[0m │ \u001b[36m390000\u001b[0m │ \u001b[32m  █  \u001b[0m │  │\n",
              "│ │        │        │        │        │        │       │        │       │ \u001b[36m     0\u001b[0m │       │  │\n",
              "│ │ \u001b[38;5;141mbi_000\u001b[0m │ \u001b[36m   750\u001b[0m │ \u001b[36m  0.99\u001b[0m │ \u001b[36m500000\u001b[0m │ \u001b[36m150000\u001b[0m │ \u001b[36m    0\u001b[0m │ \u001b[36m 16000\u001b[0m │ \u001b[36m38000\u001b[0m │ \u001b[36m540000\u001b[0m │ \u001b[32m  █  \u001b[0m │  │\n",
              "│ │        │        │        │        │ \u001b[36m     0\u001b[0m │       │        │ \u001b[36m    0\u001b[0m │ \u001b[36m    00\u001b[0m │       │  │\n",
              "│ │ \u001b[38;5;141mbj_000\u001b[0m │ \u001b[36m   750\u001b[0m │ \u001b[36m  0.99\u001b[0m │ \u001b[36m520000\u001b[0m │ \u001b[36m190000\u001b[0m │ \u001b[36m    0\u001b[0m │ \u001b[36m  8700\u001b[0m │ \u001b[36m33000\u001b[0m │ \u001b[36m640000\u001b[0m │ \u001b[32m  █  \u001b[0m │  │\n",
              "│ │        │        │        │        │ \u001b[36m     0\u001b[0m │       │        │ \u001b[36m    0\u001b[0m │ \u001b[36m    00\u001b[0m │       │  │\n",
              "│ │ \u001b[38;5;141mbk_000\u001b[0m │ \u001b[36m 29000\u001b[0m │ \u001b[36m  0.62\u001b[0m │ \u001b[36m280000\u001b[0m │ \u001b[36m260000\u001b[0m │ \u001b[36m    0\u001b[0m │ \u001b[36m160000\u001b[0m │ \u001b[36m28000\u001b[0m │ \u001b[36m130000\u001b[0m │ \u001b[32m █▆  \u001b[0m │  │\n",
              "│ │        │        │        │        │        │       │        │ \u001b[36m    0\u001b[0m │ \u001b[36m     0\u001b[0m │ \u001b[32m  ▁  \u001b[0m │  │\n",
              "│ │ \u001b[38;5;141mbl_000\u001b[0m │ \u001b[36m 35000\u001b[0m │ \u001b[36m  0.55\u001b[0m │ \u001b[36m320000\u001b[0m │ \u001b[36m320000\u001b[0m │ \u001b[36m    0\u001b[0m │ \u001b[36m170000\u001b[0m │ \u001b[36m30000\u001b[0m │ \u001b[36m130000\u001b[0m │ \u001b[32m █▇▁ \u001b[0m │  │\n",
              "│ │        │        │        │        │        │       │        │ \u001b[36m    0\u001b[0m │ \u001b[36m     0\u001b[0m │ \u001b[32m  ▁  \u001b[0m │  │\n",
              "│ │ \u001b[38;5;141mbm_000\u001b[0m │ \u001b[36m 50000\u001b[0m │ \u001b[36m  0.34\u001b[0m │ \u001b[36m400000\u001b[0m │ \u001b[36m410000\u001b[0m │ \u001b[36m    0\u001b[0m │ \u001b[36m170000\u001b[0m │ \u001b[36m37000\u001b[0m │ \u001b[36m130000\u001b[0m │ \u001b[32m █▇▁ \u001b[0m │  │\n",
              "│ │        │        │        │        │        │       │        │ \u001b[36m    0\u001b[0m │ \u001b[36m     0\u001b[0m │ \u001b[32m  ▃  \u001b[0m │  │\n",
              "│ │ \u001b[38;5;141mbn_000\u001b[0m │ \u001b[36m 56000\u001b[0m │ \u001b[36m  0.27\u001b[0m │ \u001b[36m460000\u001b[0m │ \u001b[36m460000\u001b[0m │ \u001b[36m    0\u001b[0m │ \u001b[36m170000\u001b[0m │ \u001b[36m49000\u001b[0m │ \u001b[36m130000\u001b[0m │ \u001b[32m █▆▁ \u001b[0m │  │\n",
              "│ │        │        │        │        │        │       │        │ \u001b[36m    0\u001b[0m │ \u001b[36m     0\u001b[0m │ \u001b[32m  ▄  \u001b[0m │  │\n",
              "│ │ \u001b[38;5;141mbo_000\u001b[0m │ \u001b[36m 59000\u001b[0m │ \u001b[36m  0.23\u001b[0m │ \u001b[36m510000\u001b[0m │ \u001b[36m500000\u001b[0m │ \u001b[36m    0\u001b[0m │ \u001b[36m170000\u001b[0m │ \u001b[36m13000\u001b[0m │ \u001b[36m130000\u001b[0m │ \u001b[32m █▆▁ \u001b[0m │  │\n",
              "│ │        │        │        │        │        │       │        │ \u001b[36m   00\u001b[0m │ \u001b[36m     0\u001b[0m │ \u001b[32m  ▆  \u001b[0m │  │\n",
              "│ │ \u001b[38;5;141mbp_000\u001b[0m │ \u001b[36m 60000\u001b[0m │ \u001b[36m   0.2\u001b[0m │ \u001b[36m550000\u001b[0m │ \u001b[36m520000\u001b[0m │ \u001b[36m    0\u001b[0m │ \u001b[36m170000\u001b[0m │ \u001b[36m13000\u001b[0m │ \u001b[36m130000\u001b[0m │ \u001b[32m █▆▁ \u001b[0m │  │\n",
              "│ │        │        │        │        │        │       │        │ \u001b[36m   00\u001b[0m │ \u001b[36m     0\u001b[0m │ \u001b[32m  ▇  \u001b[0m │  │\n",
              "│ │ \u001b[38;5;141mbq_000\u001b[0m │ \u001b[36m 62000\u001b[0m │ \u001b[36m  0.19\u001b[0m │ \u001b[36m580000\u001b[0m │ \u001b[36m530000\u001b[0m │ \u001b[36m    0\u001b[0m │ \u001b[36m170000\u001b[0m │ \u001b[36m13000\u001b[0m │ \u001b[36m130000\u001b[0m │ \u001b[32m █▆▁ \u001b[0m │  │\n",
              "│ │        │        │        │        │        │       │        │ \u001b[36m   00\u001b[0m │ \u001b[36m     0\u001b[0m │ \u001b[32m  █  \u001b[0m │  │\n",
              "│ │ \u001b[38;5;141mbr_000\u001b[0m │ \u001b[36m 62000\u001b[0m │ \u001b[36m  0.18\u001b[0m │ \u001b[36m600000\u001b[0m │ \u001b[36m550000\u001b[0m │ \u001b[36m    0\u001b[0m │ \u001b[36m170000\u001b[0m │ \u001b[36m13000\u001b[0m │ \u001b[36m130000\u001b[0m │ \u001b[32m █▆▁ \u001b[0m │  │\n",
              "│ │        │        │        │        │        │       │        │ \u001b[36m   00\u001b[0m │ \u001b[36m     0\u001b[0m │ \u001b[32m  █  \u001b[0m │  │\n",
              "│ │ \u001b[38;5;141mbs_000\u001b[0m │ \u001b[36m   930\u001b[0m │ \u001b[36m  0.99\u001b[0m │ \u001b[36m 81000\u001b[0m │ \u001b[36m 85000\u001b[0m │ \u001b[36m    0\u001b[0m │ \u001b[36m 17000\u001b[0m │ \u001b[36m12000\u001b[0m │ \u001b[36m100000\u001b[0m │ \u001b[32m █▁  \u001b[0m │  │\n",
              "│ │        │        │        │        │        │       │        │ \u001b[36m    0\u001b[0m │ \u001b[36m     0\u001b[0m │       │  │\n",
              "│ │ \u001b[38;5;141mbt_000\u001b[0m │ \u001b[36m   200\u001b[0m │ \u001b[36m     1\u001b[0m │ \u001b[36m 61000\u001b[0m │ \u001b[36m260000\u001b[0m │ \u001b[36m    0\u001b[0m │ \u001b[36m   880\u001b[0m │ \u001b[36m49000\u001b[0m │ \u001b[36m430000\u001b[0m │ \u001b[32m  █  \u001b[0m │  │\n",
              "│ │        │        │        │        │        │       │        │       │ \u001b[36m    00\u001b[0m │       │  │\n",
              "│ │ \u001b[38;5;141mbu_000\u001b[0m │ \u001b[36m   880\u001b[0m │ \u001b[36m  0.99\u001b[0m │ \u001b[36m460000\u001b[0m │ \u001b[36m110000\u001b[0m │ \u001b[36m    0\u001b[0m │ \u001b[36m110000\u001b[0m │ \u001b[36m39000\u001b[0m │ \u001b[36m230000\u001b[0m │ \u001b[32m  █  \u001b[0m │  │\n",
              "│ │        │        │        │ \u001b[36m     0\u001b[0m │ \u001b[36m    00\u001b[0m │       │        │ \u001b[36m   00\u001b[0m │ \u001b[36m   000\u001b[0m │       │  │\n",
              "│ │ \u001b[38;5;141mbv_000\u001b[0m │ \u001b[36m   880\u001b[0m │ \u001b[36m  0.99\u001b[0m │ \u001b[36m460000\u001b[0m │ \u001b[36m110000\u001b[0m │ \u001b[36m    0\u001b[0m │ \u001b[36m110000\u001b[0m │ \u001b[36m39000\u001b[0m │ \u001b[36m230000\u001b[0m │ \u001b[32m  █  \u001b[0m │  │\n",
              "│ │        │        │        │ \u001b[36m     0\u001b[0m │ \u001b[36m    00\u001b[0m │       │        │ \u001b[36m   00\u001b[0m │ \u001b[36m   000\u001b[0m │       │  │\n",
              "│ │ \u001b[38;5;141mbx_000\u001b[0m │ \u001b[36m  4100\u001b[0m │ \u001b[36m  0.95\u001b[0m │ \u001b[36m420000\u001b[0m │ \u001b[36m110000\u001b[0m │ \u001b[36m  170\u001b[0m │ \u001b[36m 91000\u001b[0m │ \u001b[36m36000\u001b[0m │ \u001b[36m530000\u001b[0m │ \u001b[32m  █  \u001b[0m │  │\n",
              "│ │        │        │        │ \u001b[36m     0\u001b[0m │ \u001b[36m    00\u001b[0m │       │        │ \u001b[36m   00\u001b[0m │ \u001b[36m   000\u001b[0m │       │  │\n",
              "│ │ \u001b[38;5;141mby_000\u001b[0m │ \u001b[36m   580\u001b[0m │ \u001b[36m  0.99\u001b[0m │ \u001b[36m 22000\u001b[0m │ \u001b[36m 54000\u001b[0m │ \u001b[36m    0\u001b[0m │ \u001b[36m   220\u001b[0m │ \u001b[36m20000\u001b[0m │ \u001b[36m100000\u001b[0m │ \u001b[32m  █  \u001b[0m │  │\n",
              "│ │        │        │        │        │        │       │        │       │ \u001b[36m     0\u001b[0m │       │  │\n",
              "│ │ \u001b[38;5;141mbz_000\u001b[0m │ \u001b[36m  3500\u001b[0m │ \u001b[36m  0.95\u001b[0m │ \u001b[36m100000\u001b[0m │ \u001b[36m640000\u001b[0m │ \u001b[36m    0\u001b[0m │ \u001b[36m     8\u001b[0m │ \u001b[36m14000\u001b[0m │ \u001b[36m410000\u001b[0m │ \u001b[32m  █  \u001b[0m │  │\n",
              "│ │        │        │        │        │        │       │        │       │ \u001b[36m    00\u001b[0m │       │  │\n",
              "│ │ \u001b[38;5;141mca_000\u001b[0m │ \u001b[36m  5600\u001b[0m │ \u001b[36m  0.93\u001b[0m │ \u001b[36m 39000\u001b[0m │ \u001b[36m 37000\u001b[0m │ \u001b[36m    0\u001b[0m │ \u001b[36m  7000\u001b[0m │ \u001b[36m68000\u001b[0m │ \u001b[36m120000\u001b[0m │ \u001b[32m█▂▂▂▂\u001b[0m │  │\n",
              "│ │        │        │        │        │        │       │        │       │        │ \u001b[32m  ▂  \u001b[0m │  │\n",
              "│ │ \u001b[38;5;141mcb_000\u001b[0m │ \u001b[36m   930\u001b[0m │ \u001b[36m  0.99\u001b[0m │ \u001b[36m410000\u001b[0m │ \u001b[36m370000\u001b[0m │ \u001b[36m    0\u001b[0m │ \u001b[36m 78000\u001b[0m │ \u001b[36m71000\u001b[0m │ \u001b[36m120000\u001b[0m │ \u001b[32m█▃▂▂▂\u001b[0m │  │\n",
              "│ │        │        │        │        │        │       │        │ \u001b[36m    0\u001b[0m │ \u001b[36m     0\u001b[0m │ \u001b[32m  ▂  \u001b[0m │  │\n",
              "│ │ \u001b[38;5;141mcc_000\u001b[0m │ \u001b[36m  4100\u001b[0m │ \u001b[36m  0.95\u001b[0m │ \u001b[36m380000\u001b[0m │ \u001b[36m990000\u001b[0m │ \u001b[36m    0\u001b[0m │ \u001b[36m 63000\u001b[0m │ \u001b[36m34000\u001b[0m │ \u001b[36m510000\u001b[0m │ \u001b[32m  █  \u001b[0m │  │\n",
              "│ │        │        │        │ \u001b[36m     0\u001b[0m │ \u001b[36m     0\u001b[0m │       │        │ \u001b[36m   00\u001b[0m │ \u001b[36m   000\u001b[0m │       │  │\n",
              "│ │ \u001b[38;5;141mcd_000\u001b[0m │ \u001b[36m   860\u001b[0m │ \u001b[36m  0.99\u001b[0m │ \u001b[36m120000\u001b[0m │ \u001b[36m     0\u001b[0m │ \u001b[36m12000\u001b[0m │ \u001b[36m120000\u001b[0m │ \u001b[36m12000\u001b[0m │ \u001b[36m120000\u001b[0m │ \u001b[32m   █ \u001b[0m │  │\n",
              "│ │        │        │        │ \u001b[36m     0\u001b[0m │        │ \u001b[36m   00\u001b[0m │ \u001b[36m     0\u001b[0m │ \u001b[36m   00\u001b[0m │ \u001b[36m     0\u001b[0m │       │  │\n",
              "│ │ \u001b[38;5;141mce_000\u001b[0m │ \u001b[36m  3200\u001b[0m │ \u001b[36m  0.96\u001b[0m │ \u001b[36m 64000\u001b[0m │ \u001b[36m140000\u001b[0m │ \u001b[36m    0\u001b[0m │ \u001b[36m   260\u001b[0m │ \u001b[36m87000\u001b[0m │ \u001b[36m490000\u001b[0m │ \u001b[32m  █  \u001b[0m │  │\n",
              "│ │        │        │        │        │        │       │        │       │ \u001b[36m     0\u001b[0m │       │  │\n",
              "│ │ \u001b[38;5;141mcf_000\u001b[0m │ \u001b[36m 19000\u001b[0m │ \u001b[36m  0.75\u001b[0m │ \u001b[36m150000\u001b[0m │ \u001b[36m360000\u001b[0m │ \u001b[36m    0\u001b[0m │ \u001b[36m     0\u001b[0m │ \u001b[36m    2\u001b[0m │ \u001b[36m860000\u001b[0m │ \u001b[32m  █  \u001b[0m │  │\n",
              "│ │        │        │        │        │ \u001b[36m    00\u001b[0m │       │        │       │ \u001b[36m  0000\u001b[0m │       │  │\n",
              "│ │ \u001b[38;5;141mcg_000\u001b[0m │ \u001b[36m 19000\u001b[0m │ \u001b[36m  0.75\u001b[0m │ \u001b[36m    92\u001b[0m │ \u001b[36m   370\u001b[0m │ \u001b[36m    0\u001b[0m │ \u001b[36m     8\u001b[0m │ \u001b[36m  100\u001b[0m │ \u001b[36m 21000\u001b[0m │ \u001b[32m  █  \u001b[0m │  │\n",
              "│ │ \u001b[38;5;141mch_000\u001b[0m │ \u001b[36m 19000\u001b[0m │ \u001b[36m  0.75\u001b[0m │ \u001b[36m0.0004\u001b[0m │ \u001b[36m  0.03\u001b[0m │ \u001b[36m    0\u001b[0m │ \u001b[36m     0\u001b[0m │ \u001b[36m    0\u001b[0m │ \u001b[36m     2\u001b[0m │ \u001b[32m  █  \u001b[0m │  │\n",
              "│ │        │        │        │ \u001b[36m     5\u001b[0m │        │       │        │       │        │       │  │\n",
              "│ │ \u001b[38;5;141mci_000\u001b[0m │ \u001b[36m   420\u001b[0m │ \u001b[36m  0.99\u001b[0m │ \u001b[36m350000\u001b[0m │ \u001b[36m840000\u001b[0m │ \u001b[36m    0\u001b[0m │ \u001b[36m 49000\u001b[0m │ \u001b[36m30000\u001b[0m │ \u001b[36m140000\u001b[0m │ \u001b[32m  █  \u001b[0m │  │\n",
              "│ │        │        │        │ \u001b[36m     0\u001b[0m │ \u001b[36m     0\u001b[0m │       │        │ \u001b[36m   00\u001b[0m │ \u001b[36m   000\u001b[0m │       │  │\n",
              "│ │ \u001b[38;5;141mcj_000\u001b[0m │ \u001b[36m   420\u001b[0m │ \u001b[36m  0.99\u001b[0m │ \u001b[36m110000\u001b[0m │ \u001b[36m120000\u001b[0m │ \u001b[36m    0\u001b[0m │ \u001b[36m     0\u001b[0m │ \u001b[36m    0\u001b[0m │ \u001b[36m740000\u001b[0m │ \u001b[32m  █  \u001b[0m │  │\n",
              "│ │        │        │        │        │ \u001b[36m     0\u001b[0m │       │        │       │ \u001b[36m    00\u001b[0m │       │  │\n",
              "│ │ \u001b[38;5;141mck_000\u001b[0m │ \u001b[36m   420\u001b[0m │ \u001b[36m  0.99\u001b[0m │ \u001b[36m720000\u001b[0m │ \u001b[36m220000\u001b[0m │ \u001b[36m    0\u001b[0m │ \u001b[36m 15000\u001b[0m │ \u001b[36m55000\u001b[0m │ \u001b[36m550000\u001b[0m │ \u001b[32m  █  \u001b[0m │  │\n",
              "│ │        │        │        │        │ \u001b[36m     0\u001b[0m │       │        │ \u001b[36m    0\u001b[0m │ \u001b[36m    00\u001b[0m │       │  │\n",
              "│ │ \u001b[38;5;141mcl_000\u001b[0m │ \u001b[36m 12000\u001b[0m │ \u001b[36m  0.84\u001b[0m │ \u001b[36m   360\u001b[0m │ \u001b[36m  4800\u001b[0m │ \u001b[36m    0\u001b[0m │ \u001b[36m     0\u001b[0m │ \u001b[36m    2\u001b[0m │ \u001b[36m130000\u001b[0m │ \u001b[32m  █  \u001b[0m │  │\n",
              "│ │ \u001b[38;5;141mcm_000\u001b[0m │ \u001b[36m 12000\u001b[0m │ \u001b[36m  0.84\u001b[0m │ \u001b[36m   350\u001b[0m │ \u001b[36m  1800\u001b[0m │ \u001b[36m    0\u001b[0m │ \u001b[36m     0\u001b[0m │ \u001b[36m  100\u001b[0m │ \u001b[36m 98000\u001b[0m │ \u001b[32m  █  \u001b[0m │  │\n",
              "│ │ \u001b[38;5;141mcn_000\u001b[0m │ \u001b[36m   880\u001b[0m │ \u001b[36m  0.99\u001b[0m │ \u001b[36m  2700\u001b[0m │ \u001b[36m 75000\u001b[0m │ \u001b[36m    0\u001b[0m │ \u001b[36m     0\u001b[0m │ \u001b[36m    0\u001b[0m │ \u001b[36m130000\u001b[0m │ \u001b[32m  █  \u001b[0m │  │\n",
              "│ │        │        │        │        │        │       │        │       │ \u001b[36m    00\u001b[0m │       │  │\n",
              "│ │ \u001b[38;5;141mcn_001\u001b[0m │ \u001b[36m   880\u001b[0m │ \u001b[36m  0.99\u001b[0m │ \u001b[36m 24000\u001b[0m │ \u001b[36m310000\u001b[0m │ \u001b[36m    0\u001b[0m │ \u001b[36m     0\u001b[0m │ \u001b[36m    0\u001b[0m │ \u001b[36m450000\u001b[0m │ \u001b[32m  █  \u001b[0m │  │\n",
              "│ │        │        │        │        │        │       │        │       │ \u001b[36m    00\u001b[0m │       │  │\n",
              "│ │ \u001b[38;5;141mcn_002\u001b[0m │ \u001b[36m   880\u001b[0m │ \u001b[36m  0.99\u001b[0m │ \u001b[36m170000\u001b[0m │ \u001b[36m110000\u001b[0m │ \u001b[36m    0\u001b[0m │ \u001b[36m     0\u001b[0m │ \u001b[36m 8000\u001b[0m │ \u001b[36m840000\u001b[0m │ \u001b[32m  █  \u001b[0m │  │\n",
              "│ │        │        │        │        │ \u001b[36m     0\u001b[0m │       │        │       │ \u001b[36m    00\u001b[0m │       │  │\n",
              "│ │ \u001b[38;5;141mcn_003\u001b[0m │ \u001b[36m   880\u001b[0m │ \u001b[36m  0.99\u001b[0m │ \u001b[36m540000\u001b[0m │ \u001b[36m230000\u001b[0m │ \u001b[36m    0\u001b[0m │ \u001b[36m  4700\u001b[0m │ \u001b[36m24000\u001b[0m │ \u001b[36m160000\u001b[0m │ \u001b[32m  █  \u001b[0m │  │\n",
              "│ │        │        │        │        │ \u001b[36m     0\u001b[0m │       │        │ \u001b[36m    0\u001b[0m │ \u001b[36m   000\u001b[0m │       │  │\n",
              "│ │ \u001b[38;5;141mcn_004\u001b[0m │ \u001b[36m   880\u001b[0m │ \u001b[36m  0.99\u001b[0m │ \u001b[36m130000\u001b[0m │ \u001b[36m340000\u001b[0m │ \u001b[36m    0\u001b[0m │ \u001b[36m 20000\u001b[0m │ \u001b[36m12000\u001b[0m │ \u001b[36m170000\u001b[0m │ \u001b[32m  █  \u001b[0m │  │\n",
              "│ │        │        │        │ \u001b[36m     0\u001b[0m │ \u001b[36m     0\u001b[0m │       │        │ \u001b[36m   00\u001b[0m │ \u001b[36m   000\u001b[0m │       │  │\n",
              "│ │ \u001b[38;5;141mcn_005\u001b[0m │ \u001b[36m   880\u001b[0m │ \u001b[36m  0.99\u001b[0m │ \u001b[36m130000\u001b[0m │ \u001b[36m320000\u001b[0m │ \u001b[36m    0\u001b[0m │ \u001b[36m  5200\u001b[0m │ \u001b[36m15000\u001b[0m │ \u001b[36m120000\u001b[0m │ \u001b[32m  █  \u001b[0m │  │\n",
              "│ │        │        │        │ \u001b[36m     0\u001b[0m │ \u001b[36m     0\u001b[0m │       │        │ \u001b[36m   00\u001b[0m │ \u001b[36m   000\u001b[0m │       │  │\n",
              "│ │ \u001b[38;5;141mcn_006\u001b[0m │ \u001b[36m   880\u001b[0m │ \u001b[36m  0.99\u001b[0m │ \u001b[36m410000\u001b[0m │ \u001b[36m130000\u001b[0m │ \u001b[36m    0\u001b[0m │ \u001b[36m   630\u001b[0m │ \u001b[36m45000\u001b[0m │ \u001b[36m720000\u001b[0m │ \u001b[32m  █  \u001b[0m │  │\n",
              "│ │        │        │        │        │ \u001b[36m     0\u001b[0m │       │        │ \u001b[36m    0\u001b[0m │ \u001b[36m    00\u001b[0m │       │  │\n",
              "│ │ \u001b[38;5;141mcn_007\u001b[0m │ \u001b[36m   880\u001b[0m │ \u001b[36m  0.99\u001b[0m │ \u001b[36m 65000\u001b[0m │ \u001b[36m400000\u001b[0m │ \u001b[36m    0\u001b[0m │ \u001b[36m    64\u001b[0m │ \u001b[36m31000\u001b[0m │ \u001b[36m330000\u001b[0m │ \u001b[32m  █  \u001b[0m │  │\n",
              "│ │        │        │        │        │        │       │        │       │ \u001b[36m    00\u001b[0m │       │  │\n",
              "│ │ \u001b[38;5;141mcn_008\u001b[0m │ \u001b[36m   880\u001b[0m │ \u001b[36m  0.99\u001b[0m │ \u001b[36m 20000\u001b[0m │ \u001b[36m190000\u001b[0m │ \u001b[36m    0\u001b[0m │ \u001b[36m     0\u001b[0m │ \u001b[36m 5300\u001b[0m │ \u001b[36m960000\u001b[0m │ \u001b[32m  █  \u001b[0m │  │\n",
              "│ │        │        │        │        │        │       │        │       │ \u001b[36m     0\u001b[0m │       │  │\n",
              "│ │ \u001b[38;5;141mcn_009\u001b[0m │ \u001b[36m   880\u001b[0m │ \u001b[36m  0.99\u001b[0m │ \u001b[36m  8000\u001b[0m │ \u001b[36m250000\u001b[0m │ \u001b[36m    0\u001b[0m │ \u001b[36m     0\u001b[0m │ \u001b[36m  290\u001b[0m │ \u001b[36m360000\u001b[0m │ \u001b[32m  █  \u001b[0m │  │\n",
              "│ │        │        │        │        │        │       │        │       │ \u001b[36m    00\u001b[0m │       │  │\n",
              "│ │ \u001b[38;5;141mco_000\u001b[0m │ \u001b[36m 19000\u001b[0m │ \u001b[36m  0.75\u001b[0m │ \u001b[36m150000\u001b[0m │ \u001b[36m360000\u001b[0m │ \u001b[36m    0\u001b[0m │ \u001b[36m     0\u001b[0m │ \u001b[36m   74\u001b[0m │ \u001b[36m860000\u001b[0m │ \u001b[32m  █  \u001b[0m │  │\n",
              "│ │        │        │        │        │ \u001b[36m    00\u001b[0m │       │        │       │ \u001b[36m  0000\u001b[0m │       │  │\n",
              "│ │ \u001b[38;5;141mcp_000\u001b[0m │ \u001b[36m  3500\u001b[0m │ \u001b[36m  0.95\u001b[0m │ \u001b[36m   550\u001b[0m │ \u001b[36m  7300\u001b[0m │ \u001b[36m    0\u001b[0m │ \u001b[36m     4\u001b[0m │ \u001b[36m   82\u001b[0m │ \u001b[36m500000\u001b[0m │ \u001b[32m  █  \u001b[0m │  │\n",
              "│ │ \u001b[38;5;141mcq_000\u001b[0m │ \u001b[36m   880\u001b[0m │ \u001b[36m  0.99\u001b[0m │ \u001b[36m460000\u001b[0m │ \u001b[36m110000\u001b[0m │ \u001b[36m    0\u001b[0m │ \u001b[36m110000\u001b[0m │ \u001b[36m39000\u001b[0m │ \u001b[36m230000\u001b[0m │ \u001b[32m  █  \u001b[0m │  │\n",
              "│ │        │        │        │ \u001b[36m     0\u001b[0m │ \u001b[36m    00\u001b[0m │       │        │ \u001b[36m   00\u001b[0m │ \u001b[36m   000\u001b[0m │       │  │\n",
              "│ │ \u001b[38;5;141mcr_000\u001b[0m │ \u001b[36m 59000\u001b[0m │ \u001b[36m  0.23\u001b[0m │ \u001b[36m    40\u001b[0m │ \u001b[36m  1000\u001b[0m │ \u001b[36m    0\u001b[0m │ \u001b[36m     0\u001b[0m │ \u001b[36m    0\u001b[0m │ \u001b[36m 57000\u001b[0m │ \u001b[32m  █  \u001b[0m │  │\n",
              "│ │ \u001b[38;5;141mcs_000\u001b[0m │ \u001b[36m   860\u001b[0m │ \u001b[36m  0.99\u001b[0m │ \u001b[36m  5500\u001b[0m │ \u001b[36m 11000\u001b[0m │ \u001b[36m    0\u001b[0m │ \u001b[36m  1200\u001b[0m │ \u001b[36m 5700\u001b[0m │ \u001b[36m920000\u001b[0m │ \u001b[32m  █  \u001b[0m │  │\n",
              "│ │ \u001b[38;5;141mcs_001\u001b[0m │ \u001b[36m   860\u001b[0m │ \u001b[36m  0.99\u001b[0m │ \u001b[36m   790\u001b[0m │ \u001b[36m  2800\u001b[0m │ \u001b[36m    0\u001b[0m │ \u001b[36m    32\u001b[0m │ \u001b[36m  690\u001b[0m │ \u001b[36m440000\u001b[0m │ \u001b[32m  █  \u001b[0m │  │\n",
              "│ │ \u001b[38;5;141mcs_002\u001b[0m │ \u001b[36m   860\u001b[0m │ \u001b[36m  0.99\u001b[0m │ \u001b[36m240000\u001b[0m │ \u001b[36m130000\u001b[0m │ \u001b[36m    0\u001b[0m │ \u001b[36m   230\u001b[0m │ \u001b[36m95000\u001b[0m │ \u001b[36m660000\u001b[0m │ \u001b[32m  █  \u001b[0m │  │\n",
              "│ │        │        │        │        │ \u001b[36m     0\u001b[0m │       │        │       │ \u001b[36m    00\u001b[0m │       │  │\n",
              "│ │ \u001b[38;5;141mcs_003\u001b[0m │ \u001b[36m   860\u001b[0m │ \u001b[36m  0.99\u001b[0m │ \u001b[36m360000\u001b[0m │ \u001b[36m120000\u001b[0m │ \u001b[36m    0\u001b[0m │ \u001b[36m  3100\u001b[0m │ \u001b[36m30000\u001b[0m │ \u001b[36m620000\u001b[0m │ \u001b[32m  █  \u001b[0m │  │\n",
              "│ │        │        │        │        │ \u001b[36m     0\u001b[0m │       │        │ \u001b[36m    0\u001b[0m │ \u001b[36m    00\u001b[0m │       │  │\n",
              "│ │ \u001b[38;5;141mcs_004\u001b[0m │ \u001b[36m   860\u001b[0m │ \u001b[36m  0.99\u001b[0m │ \u001b[36m450000\u001b[0m │ \u001b[36m220000\u001b[0m │ \u001b[36m    0\u001b[0m │ \u001b[36m  2800\u001b[0m │ \u001b[36m21000\u001b[0m │ \u001b[36m150000\u001b[0m │ \u001b[32m  █  \u001b[0m │  │\n",
              "│ │        │        │        │        │ \u001b[36m     0\u001b[0m │       │        │ \u001b[36m    0\u001b[0m │ \u001b[36m   000\u001b[0m │       │  │\n",
              "│ │ \u001b[38;5;141mcs_005\u001b[0m │ \u001b[36m   860\u001b[0m │ \u001b[36m  0.99\u001b[0m │ \u001b[36m230000\u001b[0m │ \u001b[36m570000\u001b[0m │ \u001b[36m    0\u001b[0m │ \u001b[36m 19000\u001b[0m │ \u001b[36m21000\u001b[0m │ \u001b[36m380000\u001b[0m │ \u001b[32m  █  \u001b[0m │  │\n",
              "│ │        │        │        │ \u001b[36m     0\u001b[0m │ \u001b[36m     0\u001b[0m │       │        │ \u001b[36m   00\u001b[0m │ \u001b[36m   000\u001b[0m │       │  │\n",
              "│ │ \u001b[38;5;141mcs_006\u001b[0m │ \u001b[36m   860\u001b[0m │ \u001b[36m  0.99\u001b[0m │ \u001b[36m550000\u001b[0m │ \u001b[36m120000\u001b[0m │ \u001b[36m    0\u001b[0m │ \u001b[36m 13000\u001b[0m │ \u001b[36m69000\u001b[0m │ \u001b[36m740000\u001b[0m │ \u001b[32m  █  \u001b[0m │  │\n",
              "│ │        │        │        │        │ \u001b[36m     0\u001b[0m │       │        │ \u001b[36m    0\u001b[0m │ \u001b[36m    00\u001b[0m │       │  │\n",
              "│ │ \u001b[38;5;141mcs_007\u001b[0m │ \u001b[36m   860\u001b[0m │ \u001b[36m  0.99\u001b[0m │ \u001b[36m 15000\u001b[0m │ \u001b[36m 73000\u001b[0m │ \u001b[36m    0\u001b[0m │ \u001b[36m  1200\u001b[0m │ \u001b[36m18000\u001b[0m │ \u001b[36m130000\u001b[0m │ \u001b[32m  █  \u001b[0m │  │\n",
              "│ │        │        │        │        │        │       │        │       │ \u001b[36m    00\u001b[0m │       │  │\n",
              "│ │ \u001b[38;5;141mcs_008\u001b[0m │ \u001b[36m   860\u001b[0m │ \u001b[36m  0.99\u001b[0m │ \u001b[36m   250\u001b[0m │ \u001b[36m 14000\u001b[0m │ \u001b[36m    0\u001b[0m │ \u001b[36m     2\u001b[0m │ \u001b[36m  150\u001b[0m │ \u001b[36m280000\u001b[0m │ \u001b[32m  █  \u001b[0m │  │\n",
              "│ │        │        │        │        │        │       │        │       │ \u001b[36m     0\u001b[0m │       │  │\n",
              "│ │ \u001b[38;5;141mcs_009\u001b[0m │ \u001b[36m   860\u001b[0m │ \u001b[36m  0.99\u001b[0m │ \u001b[36m  1000\u001b[0m │ \u001b[36m200000\u001b[0m │ \u001b[36m    0\u001b[0m │ \u001b[36m     0\u001b[0m │ \u001b[36m    0\u001b[0m │ \u001b[36m450000\u001b[0m │ \u001b[32m  █  \u001b[0m │  │\n",
              "│ │        │        │        │        │        │       │        │       │ \u001b[36m    00\u001b[0m │       │  │\n",
              "│ │ \u001b[38;5;141mct_000\u001b[0m │ \u001b[36m 18000\u001b[0m │ \u001b[36m  0.77\u001b[0m │ \u001b[36m   750\u001b[0m │ \u001b[36m  5300\u001b[0m │ \u001b[36m    0\u001b[0m │ \u001b[36m    40\u001b[0m │ \u001b[36m  670\u001b[0m │ \u001b[36m910000\u001b[0m │ \u001b[32m  █  \u001b[0m │  │\n",
              "│ │ \u001b[38;5;141mcu_000\u001b[0m │ \u001b[36m 18000\u001b[0m │ \u001b[36m  0.77\u001b[0m │ \u001b[36m  1200\u001b[0m │ \u001b[36m  7400\u001b[0m │ \u001b[36m    0\u001b[0m │ \u001b[36m    82\u001b[0m │ \u001b[36m  860\u001b[0m │ \u001b[36m730000\u001b[0m │ \u001b[32m  █  \u001b[0m │  │\n",
              "│ │ \u001b[38;5;141mcv_000\u001b[0m │ \u001b[36m 18000\u001b[0m │ \u001b[36m  0.77\u001b[0m │ \u001b[36m190000\u001b[0m │ \u001b[36m360000\u001b[0m │ \u001b[36m    0\u001b[0m │ \u001b[36m 24000\u001b[0m │ \u001b[36m24000\u001b[0m │ \u001b[36m820000\u001b[0m │ \u001b[32m  █  \u001b[0m │  │\n",
              "│ │        │        │        │ \u001b[36m     0\u001b[0m │ \u001b[36m     0\u001b[0m │       │        │ \u001b[36m   00\u001b[0m │ \u001b[36m    00\u001b[0m │       │  │\n",
              "│ │ \u001b[38;5;141mcx_000\u001b[0m │ \u001b[36m 18000\u001b[0m │ \u001b[36m  0.77\u001b[0m │ \u001b[36m350000\u001b[0m │ \u001b[36m150000\u001b[0m │ \u001b[36m    0\u001b[0m │ \u001b[36m   940\u001b[0m │ \u001b[36m13000\u001b[0m │ \u001b[36m440000\u001b[0m │ \u001b[32m  █  \u001b[0m │  │\n",
              "│ │        │        │        │        │ \u001b[36m     0\u001b[0m │       │        │ \u001b[36m    0\u001b[0m │ \u001b[36m    00\u001b[0m │       │  │\n",
              "│ │ \u001b[38;5;141mcy_000\u001b[0m │ \u001b[36m 18000\u001b[0m │ \u001b[36m  0.77\u001b[0m │ \u001b[36m   260\u001b[0m │ \u001b[36m  8100\u001b[0m │ \u001b[36m    0\u001b[0m │ \u001b[36m     0\u001b[0m │ \u001b[36m    0\u001b[0m │ \u001b[36m930000\u001b[0m │ \u001b[32m  █  \u001b[0m │  │\n",
              "│ │ \u001b[38;5;141mcz_000\u001b[0m │ \u001b[36m 18000\u001b[0m │ \u001b[36m  0.77\u001b[0m │ \u001b[36m 19000\u001b[0m │ \u001b[36m230000\u001b[0m │ \u001b[36m    0\u001b[0m │ \u001b[36m     4\u001b[0m │ \u001b[36m 6200\u001b[0m │ \u001b[36m190000\u001b[0m │ \u001b[32m  █  \u001b[0m │  │\n",
              "│ │        │        │        │        │        │       │        │       │ \u001b[36m    00\u001b[0m │       │  │\n",
              "│ │ \u001b[38;5;141mda_000\u001b[0m │ \u001b[36m 18000\u001b[0m │ \u001b[36m  0.77\u001b[0m │ \u001b[36m   7.5\u001b[0m │ \u001b[36m   210\u001b[0m │ \u001b[36m    0\u001b[0m │ \u001b[36m     0\u001b[0m │ \u001b[36m    0\u001b[0m │ \u001b[36m 22000\u001b[0m │ \u001b[32m  █  \u001b[0m │  │\n",
              "│ │ \u001b[38;5;141mdb_000\u001b[0m │ \u001b[36m 18000\u001b[0m │ \u001b[36m  0.77\u001b[0m │ \u001b[36m    13\u001b[0m │ \u001b[36m    66\u001b[0m │ \u001b[36m    0\u001b[0m │ \u001b[36m     0\u001b[0m │ \u001b[36m   18\u001b[0m │ \u001b[36m  9600\u001b[0m │ \u001b[32m  █  \u001b[0m │  │\n",
              "│ │ \u001b[38;5;141mdc_000\u001b[0m │ \u001b[36m 18000\u001b[0m │ \u001b[36m  0.77\u001b[0m │ \u001b[36m220000\u001b[0m │ \u001b[36m410000\u001b[0m │ \u001b[36m    0\u001b[0m │ \u001b[36m 27000\u001b[0m │ \u001b[36m26000\u001b[0m │ \u001b[36m120000\u001b[0m │ \u001b[32m  █  \u001b[0m │  │\n",
              "│ │        │        │        │ \u001b[36m     0\u001b[0m │ \u001b[36m     0\u001b[0m │       │        │ \u001b[36m   00\u001b[0m │ \u001b[36m   000\u001b[0m │       │  │\n",
              "│ │ \u001b[38;5;141mdd_000\u001b[0m │ \u001b[36m  3200\u001b[0m │ \u001b[36m  0.96\u001b[0m │ \u001b[36m  3200\u001b[0m │ \u001b[36m  9900\u001b[0m │ \u001b[36m    0\u001b[0m │ \u001b[36m   130\u001b[0m │ \u001b[36m 2700\u001b[0m │ \u001b[36m450000\u001b[0m │ \u001b[32m  █  \u001b[0m │  │\n",
              "│ │ \u001b[38;5;141mde_000\u001b[0m │ \u001b[36m  3500\u001b[0m │ \u001b[36m  0.95\u001b[0m │ \u001b[36m   370\u001b[0m │ \u001b[36m  1600\u001b[0m │ \u001b[36m    0\u001b[0m │ \u001b[36m    66\u001b[0m │ \u001b[36m  300\u001b[0m │ \u001b[36m180000\u001b[0m │ \u001b[32m  █  \u001b[0m │  │\n",
              "│ │ \u001b[38;5;141mdf_000\u001b[0m │ \u001b[36m  5100\u001b[0m │ \u001b[36m  0.93\u001b[0m │ \u001b[36m  7000\u001b[0m │ \u001b[36m810000\u001b[0m │ \u001b[36m    0\u001b[0m │ \u001b[36m     0\u001b[0m │ \u001b[36m    0\u001b[0m │ \u001b[36m200000\u001b[0m │ \u001b[32m  █  \u001b[0m │  │\n",
              "│ │        │        │        │        │        │       │        │       │ \u001b[36m   000\u001b[0m │       │  │\n",
              "│ │ \u001b[38;5;141mdg_000\u001b[0m │ \u001b[36m  5100\u001b[0m │ \u001b[36m  0.93\u001b[0m │ \u001b[36m  7000\u001b[0m │ \u001b[36m250000\u001b[0m │ \u001b[36m    0\u001b[0m │ \u001b[36m     0\u001b[0m │ \u001b[36m    0\u001b[0m │ \u001b[36m270000\u001b[0m │ \u001b[32m  █  \u001b[0m │  │\n",
              "│ │        │        │        │        │        │       │        │       │ \u001b[36m    00\u001b[0m │       │  │\n",
              "│ │ \u001b[38;5;141mdh_000\u001b[0m │ \u001b[36m  5100\u001b[0m │ \u001b[36m  0.93\u001b[0m │ \u001b[36m  4300\u001b[0m │ \u001b[36m500000\u001b[0m │ \u001b[36m    0\u001b[0m │ \u001b[36m     0\u001b[0m │ \u001b[36m    0\u001b[0m │ \u001b[36m120000\u001b[0m │ \u001b[32m  █  \u001b[0m │  │\n",
              "│ │        │        │        │        │        │       │        │       │ \u001b[36m   000\u001b[0m │       │  │\n",
              "│ │ \u001b[38;5;141mdi_000\u001b[0m │ \u001b[36m  5100\u001b[0m │ \u001b[36m  0.93\u001b[0m │ \u001b[36m 37000\u001b[0m │ \u001b[36m430000\u001b[0m │ \u001b[36m    0\u001b[0m │ \u001b[36m     0\u001b[0m │ \u001b[36m    0\u001b[0m │ \u001b[36m230000\u001b[0m │ \u001b[32m  █  \u001b[0m │  │\n",
              "│ │        │        │        │        │        │       │        │       │ \u001b[36m    00\u001b[0m │       │  │\n",
              "│ │ \u001b[38;5;141mdj_000\u001b[0m │ \u001b[36m  5100\u001b[0m │ \u001b[36m  0.93\u001b[0m │ \u001b[36m    32\u001b[0m │ \u001b[36m  4000\u001b[0m │ \u001b[36m    0\u001b[0m │ \u001b[36m     0\u001b[0m │ \u001b[36m    0\u001b[0m │ \u001b[36m730000\u001b[0m │ \u001b[32m  █  \u001b[0m │  │\n",
              "│ │ \u001b[38;5;141mdk_000\u001b[0m │ \u001b[36m  5100\u001b[0m │ \u001b[36m  0.93\u001b[0m │ \u001b[36m  1700\u001b[0m │ \u001b[36m 63000\u001b[0m │ \u001b[36m    0\u001b[0m │ \u001b[36m     0\u001b[0m │ \u001b[36m    0\u001b[0m │ \u001b[36m550000\u001b[0m │ \u001b[32m  █  \u001b[0m │  │\n",
              "│ │        │        │        │        │        │       │        │       │ \u001b[36m     0\u001b[0m │       │  │\n",
              "│ │ \u001b[38;5;141mdl_000\u001b[0m │ \u001b[36m  5100\u001b[0m │ \u001b[36m  0.93\u001b[0m │ \u001b[36m 29000\u001b[0m │ \u001b[36m110000\u001b[0m │ \u001b[36m    0\u001b[0m │ \u001b[36m     0\u001b[0m │ \u001b[36m    0\u001b[0m │ \u001b[36m100000\u001b[0m │ \u001b[32m  █  \u001b[0m │  │\n",
              "│ │        │        │        │        │ \u001b[36m     0\u001b[0m │       │        │       │ \u001b[36m   000\u001b[0m │       │  │\n",
              "│ │ \u001b[38;5;141mdm_000\u001b[0m │ \u001b[36m  5100\u001b[0m │ \u001b[36m  0.93\u001b[0m │ \u001b[36m  7800\u001b[0m │ \u001b[36m280000\u001b[0m │ \u001b[36m    0\u001b[0m │ \u001b[36m     0\u001b[0m │ \u001b[36m    0\u001b[0m │ \u001b[36m240000\u001b[0m │ \u001b[32m  █  \u001b[0m │  │\n",
              "│ │        │        │        │        │        │       │        │       │ \u001b[36m    00\u001b[0m │       │  │\n",
              "│ │ \u001b[38;5;141mdn_000\u001b[0m │ \u001b[36m   880\u001b[0m │ \u001b[36m  0.99\u001b[0m │ \u001b[36m 34000\u001b[0m │ \u001b[36m 99000\u001b[0m │ \u001b[36m    0\u001b[0m │ \u001b[36m   670\u001b[0m │ \u001b[36m27000\u001b[0m │ \u001b[36m290000\u001b[0m │ \u001b[32m  █  \u001b[0m │  │\n",
              "│ │        │        │        │        │        │       │        │       │ \u001b[36m     0\u001b[0m │       │  │\n",
              "│ │ \u001b[38;5;141mdo_000\u001b[0m │ \u001b[36m  3500\u001b[0m │ \u001b[36m  0.95\u001b[0m │ \u001b[36m 29000\u001b[0m │ \u001b[36m 64000\u001b[0m │ \u001b[36m    0\u001b[0m │ \u001b[36m    20\u001b[0m │ \u001b[36m38000\u001b[0m │ \u001b[36m250000\u001b[0m │ \u001b[32m  █  \u001b[0m │  │\n",
              "│ │        │        │        │        │        │       │        │       │ \u001b[36m     0\u001b[0m │       │  │\n",
              "│ │ \u001b[38;5;141mdp_000\u001b[0m │ \u001b[36m  3500\u001b[0m │ \u001b[36m  0.95\u001b[0m │ \u001b[36m  7000\u001b[0m │ \u001b[36m 14000\u001b[0m │ \u001b[36m    0\u001b[0m │ \u001b[36m     6\u001b[0m │ \u001b[36m 8300\u001b[0m │ \u001b[36m540000\u001b[0m │ \u001b[32m  █  \u001b[0m │  │\n",
              "│ │ \u001b[38;5;141mdq_000\u001b[0m │ \u001b[36m  3500\u001b[0m │ \u001b[36m  0.95\u001b[0m │ \u001b[36m440000\u001b[0m │ \u001b[36m940000\u001b[0m │ \u001b[36m    0\u001b[0m │ \u001b[36m     0\u001b[0m │ \u001b[36m    0\u001b[0m │ \u001b[36m640000\u001b[0m │ \u001b[32m  █  \u001b[0m │  │\n",
              "│ │        │        │        │ \u001b[36m     0\u001b[0m │ \u001b[36m    00\u001b[0m │       │        │       │ \u001b[36m  0000\u001b[0m │       │  │\n",
              "│ │ \u001b[38;5;141mdr_000\u001b[0m │ \u001b[36m  3500\u001b[0m │ \u001b[36m  0.95\u001b[0m │ \u001b[36m200000\u001b[0m │ \u001b[36m140000\u001b[0m │ \u001b[36m    0\u001b[0m │ \u001b[36m     0\u001b[0m │ \u001b[36m    0\u001b[0m │ \u001b[36m500000\u001b[0m │ \u001b[32m  █  \u001b[0m │  │\n",
              "│ │        │        │        │        │ \u001b[36m     0\u001b[0m │       │        │       │ \u001b[36m    00\u001b[0m │       │  │\n",
              "│ │ \u001b[38;5;141mds_000\u001b[0m │ \u001b[36m  3500\u001b[0m │ \u001b[36m  0.95\u001b[0m │ \u001b[36m 90000\u001b[0m │ \u001b[36m210000\u001b[0m │ \u001b[36m    0\u001b[0m │ \u001b[36m   700\u001b[0m │ \u001b[36m99000\u001b[0m │ \u001b[36m500000\u001b[0m │ \u001b[32m  █  \u001b[0m │  │\n",
              "│ │        │        │        │        │        │       │        │       │ \u001b[36m     0\u001b[0m │       │  │\n",
              "│ │ \u001b[38;5;141mdt_000\u001b[0m │ \u001b[36m  3500\u001b[0m │ \u001b[36m  0.95\u001b[0m │ \u001b[36m 16000\u001b[0m │ \u001b[36m 34000\u001b[0m │ \u001b[36m    0\u001b[0m │ \u001b[36m   150\u001b[0m │ \u001b[36m18000\u001b[0m │ \u001b[36m860000\u001b[0m │ \u001b[32m  █  \u001b[0m │  │\n",
              "│ │ \u001b[38;5;141mdu_000\u001b[0m │ \u001b[36m  3500\u001b[0m │ \u001b[36m  0.95\u001b[0m │ \u001b[36m410000\u001b[0m │ \u001b[36m120000\u001b[0m │ \u001b[36m    0\u001b[0m │ \u001b[36m  5500\u001b[0m │ \u001b[36m35000\u001b[0m │ \u001b[36m460000\u001b[0m │ \u001b[32m  █  \u001b[0m │  │\n",
              "│ │        │        │        │ \u001b[36m     0\u001b[0m │ \u001b[36m    00\u001b[0m │       │        │ \u001b[36m   00\u001b[0m │ \u001b[36m   000\u001b[0m │       │  │\n",
              "│ │ \u001b[38;5;141mdv_000\u001b[0m │ \u001b[36m  3500\u001b[0m │ \u001b[36m  0.95\u001b[0m │ \u001b[36m600000\u001b[0m │ \u001b[36m210000\u001b[0m │ \u001b[36m    0\u001b[0m │ \u001b[36m   760\u001b[0m │ \u001b[36m54000\u001b[0m │ \u001b[36m130000\u001b[0m │ \u001b[32m  █  \u001b[0m │  │\n",
              "│ │        │        │        │        │ \u001b[36m     0\u001b[0m │       │        │ \u001b[36m    0\u001b[0m │ \u001b[36m   000\u001b[0m │       │  │\n",
              "│ │ \u001b[38;5;141mdx_000\u001b[0m │ \u001b[36m  3500\u001b[0m │ \u001b[36m  0.95\u001b[0m │ \u001b[36m790000\u001b[0m │ \u001b[36m410000\u001b[0m │ \u001b[36m    0\u001b[0m │ \u001b[36m     0\u001b[0m │ \u001b[36m 9000\u001b[0m │ \u001b[36m110000\u001b[0m │ \u001b[32m  █  \u001b[0m │  │\n",
              "│ │        │        │        │        │ \u001b[36m     0\u001b[0m │       │        │       │ \u001b[36m   000\u001b[0m │       │  │\n",
              "│ │ \u001b[38;5;141mdy_000\u001b[0m │ \u001b[36m  3500\u001b[0m │ \u001b[36m  0.95\u001b[0m │ \u001b[36m  7800\u001b[0m │ \u001b[36m 60000\u001b[0m │ \u001b[36m    0\u001b[0m │ \u001b[36m     0\u001b[0m │ \u001b[36m   36\u001b[0m │ \u001b[36m380000\u001b[0m │ \u001b[32m  █  \u001b[0m │  │\n",
              "│ │        │        │        │        │        │       │        │       │ \u001b[36m     0\u001b[0m │       │  │\n",
              "│ │ \u001b[38;5;141mdz_000\u001b[0m │ \u001b[36m  3500\u001b[0m │ \u001b[36m  0.95\u001b[0m │ \u001b[36m  0.21\u001b[0m │ \u001b[36m    10\u001b[0m │ \u001b[36m    0\u001b[0m │ \u001b[36m     0\u001b[0m │ \u001b[36m    0\u001b[0m │ \u001b[36m  1400\u001b[0m │ \u001b[32m  █  \u001b[0m │  │\n",
              "│ │ \u001b[38;5;141mea_000\u001b[0m │ \u001b[36m  3500\u001b[0m │ \u001b[36m  0.95\u001b[0m │ \u001b[36m   1.5\u001b[0m │ \u001b[36m    52\u001b[0m │ \u001b[36m    0\u001b[0m │ \u001b[36m     0\u001b[0m │ \u001b[36m    0\u001b[0m │ \u001b[36m  8500\u001b[0m │ \u001b[32m  █  \u001b[0m │  │\n",
              "│ │ \u001b[38;5;141meb_000\u001b[0m │ \u001b[36m  5100\u001b[0m │ \u001b[36m  0.93\u001b[0m │ \u001b[36m990000\u001b[0m │ \u001b[36m470000\u001b[0m │ \u001b[36m    0\u001b[0m │ \u001b[36m     0\u001b[0m │ \u001b[36m40000\u001b[0m │ \u001b[36m450000\u001b[0m │ \u001b[32m  █  \u001b[0m │  │\n",
              "│ │        │        │        │ \u001b[36m     0\u001b[0m │ \u001b[36m    00\u001b[0m │       │        │ \u001b[36m   00\u001b[0m │ \u001b[36m  0000\u001b[0m │       │  │\n",
              "│ │ \u001b[38;5;141mec_00 \u001b[0m │ \u001b[36m 13000\u001b[0m │ \u001b[36m  0.83\u001b[0m │ \u001b[36m  1400\u001b[0m │ \u001b[36m  3500\u001b[0m │ \u001b[36m    0\u001b[0m │ \u001b[36m   120\u001b[0m │ \u001b[36m 1400\u001b[0m │ \u001b[36m110000\u001b[0m │ \u001b[32m  █  \u001b[0m │  │\n",
              "│ │ \u001b[38;5;141med_000\u001b[0m │ \u001b[36m 12000\u001b[0m │ \u001b[36m  0.84\u001b[0m │ \u001b[36m  1500\u001b[0m │ \u001b[36m  3600\u001b[0m │ \u001b[36m    0\u001b[0m │ \u001b[36m    98\u001b[0m │ \u001b[36m 1500\u001b[0m │ \u001b[36m 88000\u001b[0m │ \u001b[32m  █  \u001b[0m │  │\n",
              "│ │ \u001b[38;5;141mee_000\u001b[0m │ \u001b[36m   860\u001b[0m │ \u001b[36m  0.99\u001b[0m │ \u001b[36m740000\u001b[0m │ \u001b[36m250000\u001b[0m │ \u001b[36m    0\u001b[0m │ \u001b[36m 16000\u001b[0m │ \u001b[36m57000\u001b[0m │ \u001b[36m160000\u001b[0m │ \u001b[32m  █  \u001b[0m │  │\n",
              "│ │        │        │        │        │ \u001b[36m     0\u001b[0m │       │        │ \u001b[36m    0\u001b[0m │ \u001b[36m   000\u001b[0m │       │  │\n",
              "│ │ \u001b[38;5;141mee_001\u001b[0m │ \u001b[36m   860\u001b[0m │ \u001b[36m  0.99\u001b[0m │ \u001b[36m790000\u001b[0m │ \u001b[36m260000\u001b[0m │ \u001b[36m    0\u001b[0m │ \u001b[36m  8600\u001b[0m │ \u001b[36m67000\u001b[0m │ \u001b[36m980000\u001b[0m │ \u001b[32m  █  \u001b[0m │  │\n",
              "│ │        │        │        │        │ \u001b[36m     0\u001b[0m │       │        │ \u001b[36m    0\u001b[0m │ \u001b[36m    00\u001b[0m │       │  │\n",
              "│ │ \u001b[38;5;141mee_002\u001b[0m │ \u001b[36m   860\u001b[0m │ \u001b[36m  0.99\u001b[0m │ \u001b[36m450000\u001b[0m │ \u001b[36m120000\u001b[0m │ \u001b[36m    0\u001b[0m │ \u001b[36m  3000\u001b[0m │ \u001b[36m44000\u001b[0m │ \u001b[36m780000\u001b[0m │ \u001b[32m  █  \u001b[0m │  │\n",
              "│ │        │        │        │        │ \u001b[36m     0\u001b[0m │       │        │ \u001b[36m    0\u001b[0m │ \u001b[36m    00\u001b[0m │       │  │\n",
              "│ │ \u001b[38;5;141mee_003\u001b[0m │ \u001b[36m   860\u001b[0m │ \u001b[36m  0.99\u001b[0m │ \u001b[36m210000\u001b[0m │ \u001b[36m550000\u001b[0m │ \u001b[36m    0\u001b[0m │ \u001b[36m  1200\u001b[0m │ \u001b[36m22000\u001b[0m │ \u001b[36m380000\u001b[0m │ \u001b[32m  █  \u001b[0m │  │\n",
              "│ │        │        │        │        │        │       │        │ \u001b[36m    0\u001b[0m │ \u001b[36m    00\u001b[0m │       │  │\n",
              "│ │ \u001b[38;5;141mee_004\u001b[0m │ \u001b[36m   860\u001b[0m │ \u001b[36m  0.99\u001b[0m │ \u001b[36m450000\u001b[0m │ \u001b[36m120000\u001b[0m │ \u001b[36m    0\u001b[0m │ \u001b[36m  2700\u001b[0m │ \u001b[36m47000\u001b[0m │ \u001b[36m970000\u001b[0m │ \u001b[32m  █  \u001b[0m │  │\n",
              "│ │        │        │        │        │ \u001b[36m     0\u001b[0m │       │        │ \u001b[36m    0\u001b[0m │ \u001b[36m    00\u001b[0m │       │  │\n",
              "│ │ \u001b[38;5;141mee_005\u001b[0m │ \u001b[36m   860\u001b[0m │ \u001b[36m  0.99\u001b[0m │ \u001b[36m400000\u001b[0m │ \u001b[36m120000\u001b[0m │ \u001b[36m    0\u001b[0m │ \u001b[36m  3600\u001b[0m │ \u001b[36m40000\u001b[0m │ \u001b[36m570000\u001b[0m │ \u001b[32m  █  \u001b[0m │  │\n",
              "│ │        │        │        │        │ \u001b[36m     0\u001b[0m │       │        │ \u001b[36m    0\u001b[0m │ \u001b[36m    00\u001b[0m │       │  │\n",
              "│ │ \u001b[38;5;141mee_006\u001b[0m │ \u001b[36m   860\u001b[0m │ \u001b[36m  0.99\u001b[0m │ \u001b[36m340000\u001b[0m │ \u001b[36m110000\u001b[0m │ \u001b[36m    0\u001b[0m │ \u001b[36m   530\u001b[0m │ \u001b[36m28000\u001b[0m │ \u001b[36m420000\u001b[0m │ \u001b[32m  █  \u001b[0m │  │\n",
              "│ │        │        │        │        │ \u001b[36m     0\u001b[0m │       │        │ \u001b[36m    0\u001b[0m │ \u001b[36m    00\u001b[0m │       │  │\n",
              "│ │ \u001b[38;5;141mee_007\u001b[0m │ \u001b[36m   860\u001b[0m │ \u001b[36m  0.99\u001b[0m │ \u001b[36m350000\u001b[0m │ \u001b[36m170000\u001b[0m │ \u001b[36m    0\u001b[0m │ \u001b[36m   110\u001b[0m │ \u001b[36m17000\u001b[0m │ \u001b[36m120000\u001b[0m │ \u001b[32m  █  \u001b[0m │  │\n",
              "│ │        │        │        │        │ \u001b[36m     0\u001b[0m │       │        │ \u001b[36m    0\u001b[0m │ \u001b[36m   000\u001b[0m │       │  │\n",
              "│ │ \u001b[38;5;141mee_008\u001b[0m │ \u001b[36m   860\u001b[0m │ \u001b[36m  0.99\u001b[0m │ \u001b[36m140000\u001b[0m │ \u001b[36m470000\u001b[0m │ \u001b[36m    0\u001b[0m │ \u001b[36m     0\u001b[0m │ \u001b[36m14000\u001b[0m │ \u001b[36m190000\u001b[0m │ \u001b[32m  █  \u001b[0m │  │\n",
              "│ │        │        │        │        │        │       │        │ \u001b[36m    0\u001b[0m │ \u001b[36m    00\u001b[0m │       │  │\n",
              "│ │ \u001b[38;5;141mee_009\u001b[0m │ \u001b[36m   860\u001b[0m │ \u001b[36m  0.99\u001b[0m │ \u001b[36m  8400\u001b[0m │ \u001b[36m 49000\u001b[0m │ \u001b[36m    0\u001b[0m │ \u001b[36m     0\u001b[0m │ \u001b[36m 2000\u001b[0m │ \u001b[36m460000\u001b[0m │ \u001b[32m  █  \u001b[0m │  │\n",
              "│ │        │        │        │        │        │       │        │       │ \u001b[36m     0\u001b[0m │       │  │\n",
              "│ │ \u001b[38;5;141mef_000\u001b[0m │ \u001b[36m  3500\u001b[0m │ \u001b[36m  0.95\u001b[0m │ \u001b[36m 0.085\u001b[0m │ \u001b[36m   4.2\u001b[0m │ \u001b[36m    0\u001b[0m │ \u001b[36m     0\u001b[0m │ \u001b[36m    0\u001b[0m │ \u001b[36m   480\u001b[0m │ \u001b[32m  █  \u001b[0m │  │\n",
              "│ │ \u001b[38;5;141meg_000\u001b[0m │ \u001b[36m  3500\u001b[0m │ \u001b[36m  0.95\u001b[0m │ \u001b[36m  0.22\u001b[0m │ \u001b[36m    10\u001b[0m │ \u001b[36m    0\u001b[0m │ \u001b[36m     0\u001b[0m │ \u001b[36m    0\u001b[0m │ \u001b[36m  1700\u001b[0m │ \u001b[32m  █  \u001b[0m │  │\n",
              "│ └────────┴────────┴────────┴────────┴────────┴───────┴────────┴───────┴────────┴───────┘  │\n",
              "╰─────────────────────────────────────────── End ───────────────────────────────────────────╯\n"
            ],
            "text/html": [
              "<pre style=\"white-space:pre;overflow-x:auto;line-height:normal;font-family:Menlo,'DejaVu Sans Mono',consolas,'Courier New',monospace\">╭───────────────────────────────────── skimpy summary ──────────────────────────────────────╮\n",
              "│ <span style=\"font-style: italic\">         Data Summary         </span> <span style=\"font-style: italic\">      Data Types       </span>                                    │\n",
              "│ ┏━━━━━━━━━━━━━━━━━━━┳━━━━━━━━┓ ┏━━━━━━━━━━━━━┳━━━━━━━┓                                    │\n",
              "│ ┃<span style=\"color: #008080; text-decoration-color: #008080; font-weight: bold\"> dataframe         </span>┃<span style=\"color: #008080; text-decoration-color: #008080; font-weight: bold\"> Values </span>┃ ┃<span style=\"color: #008080; text-decoration-color: #008080; font-weight: bold\"> Column Type </span>┃<span style=\"color: #008080; text-decoration-color: #008080; font-weight: bold\"> Count </span>┃                                    │\n",
              "│ ┡━━━━━━━━━━━━━━━━━━━╇━━━━━━━━┩ ┡━━━━━━━━━━━━━╇━━━━━━━┩                                    │\n",
              "│ │ Number of rows    │ 76000  │ │ float64     │ 169   │                                    │\n",
              "│ │ Number of columns │ 171    │ │ object      │ 1     │                                    │\n",
              "│ └───────────────────┴────────┘ │ int64       │ 1     │                                    │\n",
              "│                                └─────────────┴───────┘                                    │\n",
              "│ <span style=\"font-style: italic\">                                         number                                         </span>  │\n",
              "│ ┏━━━━━━━━┳━━━━━━━━┳━━━━━━━━┳━━━━━━━━┳━━━━━━━━┳━━━━━━━┳━━━━━━━━┳━━━━━━━┳━━━━━━━━┳━━━━━━━┓  │\n",
              "│ ┃<span style=\"font-weight: bold\">        </span>┃<span style=\"font-weight: bold\"> missin </span>┃<span style=\"font-weight: bold\"> comple </span>┃<span style=\"font-weight: bold\"> mean   </span>┃<span style=\"font-weight: bold\"> sd     </span>┃<span style=\"font-weight: bold\"> p0    </span>┃<span style=\"font-weight: bold\"> p25    </span>┃<span style=\"font-weight: bold\"> p75   </span>┃<span style=\"font-weight: bold\"> p100   </span>┃<span style=\"font-weight: bold\"> hist  </span>┃  │\n",
              "│ ┃        ┃<span style=\"font-weight: bold\"> g      </span>┃<span style=\"font-weight: bold\"> te     </span>┃        ┃        ┃       ┃        ┃       ┃        ┃       ┃  │\n",
              "│ ┃        ┃        ┃<span style=\"font-weight: bold\"> rate   </span>┃        ┃        ┃       ┃        ┃       ┃        ┃       ┃  │\n",
              "│ ┡━━━━━━━━╇━━━━━━━━╇━━━━━━━━╇━━━━━━━━╇━━━━━━━━╇━━━━━━━╇━━━━━━━━╇━━━━━━━╇━━━━━━━━╇━━━━━━━┩  │\n",
              "│ │ <span style=\"color: #af87ff; text-decoration-color: #af87ff\">aa_000</span> │ <span style=\"color: #008080; text-decoration-color: #008080\">     0</span> │ <span style=\"color: #008080; text-decoration-color: #008080\">     1</span> │ <span style=\"color: #008080; text-decoration-color: #008080\"> 61000</span> │ <span style=\"color: #008080; text-decoration-color: #008080\">260000</span> │ <span style=\"color: #008080; text-decoration-color: #008080\">    0</span> │ <span style=\"color: #008080; text-decoration-color: #008080\">   860</span> │ <span style=\"color: #008080; text-decoration-color: #008080\">49000</span> │ <span style=\"color: #008080; text-decoration-color: #008080\">430000</span> │ <span style=\"color: #008000; text-decoration-color: #008000\">  █  </span> │  │\n",
              "│ │        │        │        │        │        │       │        │       │ <span style=\"color: #008080; text-decoration-color: #008080\">    00</span> │       │  │\n",
              "│ │ <span style=\"color: #af87ff; text-decoration-color: #af87ff\">ab_000</span> │ <span style=\"color: #008080; text-decoration-color: #008080\"> 59000</span> │ <span style=\"color: #008080; text-decoration-color: #008080\">  0.23</span> │ <span style=\"color: #008080; text-decoration-color: #008080\">  0.73</span> │ <span style=\"color: #008080; text-decoration-color: #008080\">   3.3</span> │ <span style=\"color: #008080; text-decoration-color: #008080\">    0</span> │ <span style=\"color: #008080; text-decoration-color: #008080\">     0</span> │ <span style=\"color: #008080; text-decoration-color: #008080\">    0</span> │ <span style=\"color: #008080; text-decoration-color: #008080\">   200</span> │ <span style=\"color: #008000; text-decoration-color: #008000\">  █  </span> │  │\n",
              "│ │ <span style=\"color: #af87ff; text-decoration-color: #af87ff\">ac_000</span> │ <span style=\"color: #008080; text-decoration-color: #008080\">  4300</span> │ <span style=\"color: #008080; text-decoration-color: #008080\">  0.94</span> │ <span style=\"color: #008080; text-decoration-color: #008080\">360000</span> │ <span style=\"color: #008080; text-decoration-color: #008080\">800000</span> │ <span style=\"color: #008080; text-decoration-color: #008080\">    0</span> │ <span style=\"color: #008080; text-decoration-color: #008080\">    16</span> │ <span style=\"color: #008080; text-decoration-color: #008080\">  970</span> │ <span style=\"color: #008080; text-decoration-color: #008080\">210000</span> │ <span style=\"color: #008000; text-decoration-color: #008000\">  █  </span> │  │\n",
              "│ │        │        │        │ <span style=\"color: #008080; text-decoration-color: #008080\">   000</span> │ <span style=\"color: #008080; text-decoration-color: #008080\">   000</span> │       │        │       │ <span style=\"color: #008080; text-decoration-color: #008080\">  0000</span> │ <span style=\"color: #008000; text-decoration-color: #008000\">  ▂  </span> │  │\n",
              "│ │ <span style=\"color: #af87ff; text-decoration-color: #af87ff\">ad_000</span> │ <span style=\"color: #008080; text-decoration-color: #008080\"> 19000</span> │ <span style=\"color: #008080; text-decoration-color: #008080\">  0.75</span> │ <span style=\"color: #008080; text-decoration-color: #008080\">150000</span> │ <span style=\"color: #008080; text-decoration-color: #008080\">360000</span> │ <span style=\"color: #008080; text-decoration-color: #008080\">    0</span> │ <span style=\"color: #008080; text-decoration-color: #008080\">    24</span> │ <span style=\"color: #008080; text-decoration-color: #008080\">  430</span> │ <span style=\"color: #008080; text-decoration-color: #008080\">860000</span> │ <span style=\"color: #008000; text-decoration-color: #008000\">  █  </span> │  │\n",
              "│ │        │        │        │        │ <span style=\"color: #008080; text-decoration-color: #008080\">    00</span> │       │        │       │ <span style=\"color: #008080; text-decoration-color: #008080\">  0000</span> │       │  │\n",
              "│ │ <span style=\"color: #af87ff; text-decoration-color: #af87ff\">ae_000</span> │ <span style=\"color: #008080; text-decoration-color: #008080\">  3200</span> │ <span style=\"color: #008080; text-decoration-color: #008080\">  0.96</span> │ <span style=\"color: #008080; text-decoration-color: #008080\">   6.7</span> │ <span style=\"color: #008080; text-decoration-color: #008080\">   150</span> │ <span style=\"color: #008080; text-decoration-color: #008080\">    0</span> │ <span style=\"color: #008080; text-decoration-color: #008080\">     0</span> │ <span style=\"color: #008080; text-decoration-color: #008080\">    0</span> │ <span style=\"color: #008080; text-decoration-color: #008080\"> 21000</span> │ <span style=\"color: #008000; text-decoration-color: #008000\">  █  </span> │  │\n",
              "│ │ <span style=\"color: #af87ff; text-decoration-color: #af87ff\">af_000</span> │ <span style=\"color: #008080; text-decoration-color: #008080\">  3200</span> │ <span style=\"color: #008080; text-decoration-color: #008080\">  0.96</span> │ <span style=\"color: #008080; text-decoration-color: #008080\">    11</span> │ <span style=\"color: #008080; text-decoration-color: #008080\">   200</span> │ <span style=\"color: #008080; text-decoration-color: #008080\">    0</span> │ <span style=\"color: #008080; text-decoration-color: #008080\">     0</span> │ <span style=\"color: #008080; text-decoration-color: #008080\">    0</span> │ <span style=\"color: #008080; text-decoration-color: #008080\"> 20000</span> │ <span style=\"color: #008000; text-decoration-color: #008000\">  █  </span> │  │\n",
              "│ │ <span style=\"color: #af87ff; text-decoration-color: #af87ff\">ag_000</span> │ <span style=\"color: #008080; text-decoration-color: #008080\">   860</span> │ <span style=\"color: #008080; text-decoration-color: #008080\">  0.99</span> │ <span style=\"color: #008080; text-decoration-color: #008080\">   200</span> │ <span style=\"color: #008080; text-decoration-color: #008080\"> 18000</span> │ <span style=\"color: #008080; text-decoration-color: #008080\">    0</span> │ <span style=\"color: #008080; text-decoration-color: #008080\">     0</span> │ <span style=\"color: #008080; text-decoration-color: #008080\">    0</span> │ <span style=\"color: #008080; text-decoration-color: #008080\">340000</span> │ <span style=\"color: #008000; text-decoration-color: #008000\">  █  </span> │  │\n",
              "│ │        │        │        │        │        │       │        │       │ <span style=\"color: #008080; text-decoration-color: #008080\">     0</span> │       │  │\n",
              "│ │ <span style=\"color: #af87ff; text-decoration-color: #af87ff\">ag_001</span> │ <span style=\"color: #008080; text-decoration-color: #008080\">   860</span> │ <span style=\"color: #008080; text-decoration-color: #008080\">  0.99</span> │ <span style=\"color: #008080; text-decoration-color: #008080\">  1200</span> │ <span style=\"color: #008080; text-decoration-color: #008080\"> 51000</span> │ <span style=\"color: #008080; text-decoration-color: #008080\">    0</span> │ <span style=\"color: #008080; text-decoration-color: #008080\">     0</span> │ <span style=\"color: #008080; text-decoration-color: #008080\">    0</span> │ <span style=\"color: #008080; text-decoration-color: #008080\">100000</span> │ <span style=\"color: #008000; text-decoration-color: #008000\">  █  </span> │  │\n",
              "│ │        │        │        │        │        │       │        │       │ <span style=\"color: #008080; text-decoration-color: #008080\">    00</span> │       │  │\n",
              "│ │ <span style=\"color: #af87ff; text-decoration-color: #af87ff\">ag_002</span> │ <span style=\"color: #008080; text-decoration-color: #008080\">   860</span> │ <span style=\"color: #008080; text-decoration-color: #008080\">  0.99</span> │ <span style=\"color: #008080; text-decoration-color: #008080\">  9700</span> │ <span style=\"color: #008080; text-decoration-color: #008080\">170000</span> │ <span style=\"color: #008080; text-decoration-color: #008080\">    0</span> │ <span style=\"color: #008080; text-decoration-color: #008080\">     0</span> │ <span style=\"color: #008080; text-decoration-color: #008080\">    0</span> │ <span style=\"color: #008080; text-decoration-color: #008080\">190000</span> │ <span style=\"color: #008000; text-decoration-color: #008000\">  █  </span> │  │\n",
              "│ │        │        │        │        │        │       │        │       │ <span style=\"color: #008080; text-decoration-color: #008080\">    00</span> │       │  │\n",
              "│ │ <span style=\"color: #af87ff; text-decoration-color: #af87ff\">ag_003</span> │ <span style=\"color: #008080; text-decoration-color: #008080\">   860</span> │ <span style=\"color: #008080; text-decoration-color: #008080\">  0.99</span> │ <span style=\"color: #008080; text-decoration-color: #008080\"> 94000</span> │ <span style=\"color: #008080; text-decoration-color: #008080\">820000</span> │ <span style=\"color: #008080; text-decoration-color: #008080\">    0</span> │ <span style=\"color: #008080; text-decoration-color: #008080\">     0</span> │ <span style=\"color: #008080; text-decoration-color: #008080\">    0</span> │ <span style=\"color: #008080; text-decoration-color: #008080\">730000</span> │ <span style=\"color: #008000; text-decoration-color: #008000\">  █  </span> │  │\n",
              "│ │        │        │        │        │        │       │        │       │ <span style=\"color: #008080; text-decoration-color: #008080\">    00</span> │       │  │\n",
              "│ │ <span style=\"color: #af87ff; text-decoration-color: #af87ff\">ag_004</span> │ <span style=\"color: #008080; text-decoration-color: #008080\">   860</span> │ <span style=\"color: #008080; text-decoration-color: #008080\">  0.99</span> │ <span style=\"color: #008080; text-decoration-color: #008080\">450000</span> │ <span style=\"color: #008080; text-decoration-color: #008080\">250000</span> │ <span style=\"color: #008080; text-decoration-color: #008080\">    0</span> │ <span style=\"color: #008080; text-decoration-color: #008080\">   310</span> │ <span style=\"color: #008080; text-decoration-color: #008080\">50000</span> │ <span style=\"color: #008080; text-decoration-color: #008080\">230000</span> │ <span style=\"color: #008000; text-decoration-color: #008000\">  █  </span> │  │\n",
              "│ │        │        │        │        │ <span style=\"color: #008080; text-decoration-color: #008080\">     0</span> │       │        │       │ <span style=\"color: #008080; text-decoration-color: #008080\">   000</span> │       │  │\n",
              "│ │ <span style=\"color: #af87ff; text-decoration-color: #af87ff\">ag_005</span> │ <span style=\"color: #008080; text-decoration-color: #008080\">   860</span> │ <span style=\"color: #008080; text-decoration-color: #008080\">  0.99</span> │ <span style=\"color: #008080; text-decoration-color: #008080\">110000</span> │ <span style=\"color: #008080; text-decoration-color: #008080\">330000</span> │ <span style=\"color: #008080; text-decoration-color: #008080\">    0</span> │ <span style=\"color: #008080; text-decoration-color: #008080\"> 14000</span> │ <span style=\"color: #008080; text-decoration-color: #008080\">92000</span> │ <span style=\"color: #008080; text-decoration-color: #008080\">180000</span> │ <span style=\"color: #008000; text-decoration-color: #008000\">  █  </span> │  │\n",
              "│ │        │        │        │ <span style=\"color: #008080; text-decoration-color: #008080\">     0</span> │ <span style=\"color: #008080; text-decoration-color: #008080\">     0</span> │       │        │ <span style=\"color: #008080; text-decoration-color: #008080\">    0</span> │ <span style=\"color: #008080; text-decoration-color: #008080\">   000</span> │       │  │\n",
              "│ │ <span style=\"color: #af87ff; text-decoration-color: #af87ff\">ag_006</span> │ <span style=\"color: #008080; text-decoration-color: #008080\">   860</span> │ <span style=\"color: #008080; text-decoration-color: #008080\">  0.99</span> │ <span style=\"color: #008080; text-decoration-color: #008080\">170000</span> │ <span style=\"color: #008080; text-decoration-color: #008080\">390000</span> │ <span style=\"color: #008080; text-decoration-color: #008080\">    0</span> │ <span style=\"color: #008080; text-decoration-color: #008080\"> 11000</span> │ <span style=\"color: #008080; text-decoration-color: #008080\">19000</span> │ <span style=\"color: #008080; text-decoration-color: #008080\">940000</span> │ <span style=\"color: #008000; text-decoration-color: #008000\">  █  </span> │  │\n",
              "│ │        │        │        │ <span style=\"color: #008080; text-decoration-color: #008080\">     0</span> │ <span style=\"color: #008080; text-decoration-color: #008080\">     0</span> │       │        │ <span style=\"color: #008080; text-decoration-color: #008080\">   00</span> │ <span style=\"color: #008080; text-decoration-color: #008080\">    00</span> │       │  │\n",
              "│ │ <span style=\"color: #af87ff; text-decoration-color: #af87ff\">ag_007</span> │ <span style=\"color: #008080; text-decoration-color: #008080\">   860</span> │ <span style=\"color: #008080; text-decoration-color: #008080\">  0.99</span> │ <span style=\"color: #008080; text-decoration-color: #008080\">500000</span> │ <span style=\"color: #008080; text-decoration-color: #008080\">140000</span> │ <span style=\"color: #008080; text-decoration-color: #008080\">    0</span> │ <span style=\"color: #008080; text-decoration-color: #008080\">     0</span> │ <span style=\"color: #008080; text-decoration-color: #008080\">59000</span> │ <span style=\"color: #008080; text-decoration-color: #008080\">630000</span> │ <span style=\"color: #008000; text-decoration-color: #008000\">  █  </span> │  │\n",
              "│ │        │        │        │        │ <span style=\"color: #008080; text-decoration-color: #008080\">     0</span> │       │        │ <span style=\"color: #008080; text-decoration-color: #008080\">    0</span> │ <span style=\"color: #008080; text-decoration-color: #008080\">    00</span> │       │  │\n",
              "│ │ <span style=\"color: #af87ff; text-decoration-color: #af87ff\">ag_008</span> │ <span style=\"color: #008080; text-decoration-color: #008080\">   860</span> │ <span style=\"color: #008080; text-decoration-color: #008080\">  0.99</span> │ <span style=\"color: #008080; text-decoration-color: #008080\"> 36000</span> │ <span style=\"color: #008080; text-decoration-color: #008080\">220000</span> │ <span style=\"color: #008080; text-decoration-color: #008080\">    0</span> │ <span style=\"color: #008080; text-decoration-color: #008080\">     0</span> │ <span style=\"color: #008080; text-decoration-color: #008080\">27000</span> │ <span style=\"color: #008080; text-decoration-color: #008080\">180000</span> │ <span style=\"color: #008000; text-decoration-color: #008000\">  █  </span> │  │\n",
              "│ │        │        │        │        │        │       │        │       │ <span style=\"color: #008080; text-decoration-color: #008080\">    00</span> │       │  │\n",
              "│ │ <span style=\"color: #af87ff; text-decoration-color: #af87ff\">ag_009</span> │ <span style=\"color: #008080; text-decoration-color: #008080\">   860</span> │ <span style=\"color: #008080; text-decoration-color: #008080\">  0.99</span> │ <span style=\"color: #008080; text-decoration-color: #008080\">  5300</span> │ <span style=\"color: #008080; text-decoration-color: #008080\">170000</span> │ <span style=\"color: #008080; text-decoration-color: #008080\">    0</span> │ <span style=\"color: #008080; text-decoration-color: #008080\">     0</span> │ <span style=\"color: #008080; text-decoration-color: #008080\">  370</span> │ <span style=\"color: #008080; text-decoration-color: #008080\">250000</span> │ <span style=\"color: #008000; text-decoration-color: #008000\">  █  </span> │  │\n",
              "│ │        │        │        │        │        │       │        │       │ <span style=\"color: #008080; text-decoration-color: #008080\">    00</span> │       │  │\n",
              "│ │ <span style=\"color: #af87ff; text-decoration-color: #af87ff\">ah_000</span> │ <span style=\"color: #008080; text-decoration-color: #008080\">   820</span> │ <span style=\"color: #008080; text-decoration-color: #008080\">  0.99</span> │ <span style=\"color: #008080; text-decoration-color: #008080\">180000</span> │ <span style=\"color: #008080; text-decoration-color: #008080\">430000</span> │ <span style=\"color: #008080; text-decoration-color: #008080\">    0</span> │ <span style=\"color: #008080; text-decoration-color: #008080\"> 30000</span> │ <span style=\"color: #008080; text-decoration-color: #008080\">16000</span> │ <span style=\"color: #008080; text-decoration-color: #008080\">820000</span> │ <span style=\"color: #008000; text-decoration-color: #008000\">  █  </span> │  │\n",
              "│ │        │        │        │ <span style=\"color: #008080; text-decoration-color: #008080\">     0</span> │ <span style=\"color: #008080; text-decoration-color: #008080\">     0</span> │       │        │ <span style=\"color: #008080; text-decoration-color: #008080\">   00</span> │ <span style=\"color: #008080; text-decoration-color: #008080\">    00</span> │       │  │\n",
              "│ │ <span style=\"color: #af87ff; text-decoration-color: #af87ff\">ai_000</span> │ <span style=\"color: #008080; text-decoration-color: #008080\">   790</span> │ <span style=\"color: #008080; text-decoration-color: #008080\">  0.99</span> │ <span style=\"color: #008080; text-decoration-color: #008080\">  9600</span> │ <span style=\"color: #008080; text-decoration-color: #008080\">180000</span> │ <span style=\"color: #008080; text-decoration-color: #008080\">    0</span> │ <span style=\"color: #008080; text-decoration-color: #008080\">     0</span> │ <span style=\"color: #008080; text-decoration-color: #008080\">    0</span> │ <span style=\"color: #008080; text-decoration-color: #008080\">180000</span> │ <span style=\"color: #008000; text-decoration-color: #008000\">  █  </span> │  │\n",
              "│ │        │        │        │        │        │       │        │       │ <span style=\"color: #008080; text-decoration-color: #008080\">    00</span> │       │  │\n",
              "│ │ <span style=\"color: #af87ff; text-decoration-color: #af87ff\">aj_000</span> │ <span style=\"color: #008080; text-decoration-color: #008080\">   790</span> │ <span style=\"color: #008080; text-decoration-color: #008080\">  0.99</span> │ <span style=\"color: #008080; text-decoration-color: #008080\">  1200</span> │ <span style=\"color: #008080; text-decoration-color: #008080\"> 51000</span> │ <span style=\"color: #008080; text-decoration-color: #008080\">    0</span> │ <span style=\"color: #008080; text-decoration-color: #008080\">     0</span> │ <span style=\"color: #008080; text-decoration-color: #008080\">    0</span> │ <span style=\"color: #008080; text-decoration-color: #008080\">560000</span> │ <span style=\"color: #008000; text-decoration-color: #008000\">  █  </span> │  │\n",
              "│ │        │        │        │        │        │       │        │       │ <span style=\"color: #008080; text-decoration-color: #008080\">     0</span> │       │  │\n",
              "│ │ <span style=\"color: #af87ff; text-decoration-color: #af87ff\">ak_000</span> │ <span style=\"color: #008080; text-decoration-color: #008080\">  5600</span> │ <span style=\"color: #008080; text-decoration-color: #008080\">  0.93</span> │ <span style=\"color: #008080; text-decoration-color: #008080\">   970</span> │ <span style=\"color: #008080; text-decoration-color: #008080\"> 79000</span> │ <span style=\"color: #008080; text-decoration-color: #008080\">    0</span> │ <span style=\"color: #008080; text-decoration-color: #008080\">     0</span> │ <span style=\"color: #008080; text-decoration-color: #008080\">    0</span> │ <span style=\"color: #008080; text-decoration-color: #008080\">110000</span> │ <span style=\"color: #008000; text-decoration-color: #008000\">  █  </span> │  │\n",
              "│ │        │        │        │        │        │       │        │       │ <span style=\"color: #008080; text-decoration-color: #008080\">    00</span> │       │  │\n",
              "│ │ <span style=\"color: #af87ff; text-decoration-color: #af87ff\">al_000</span> │ <span style=\"color: #008080; text-decoration-color: #008080\">   810</span> │ <span style=\"color: #008080; text-decoration-color: #008080\">  0.99</span> │ <span style=\"color: #008080; text-decoration-color: #008080\"> 62000</span> │ <span style=\"color: #008080; text-decoration-color: #008080\">560000</span> │ <span style=\"color: #008080; text-decoration-color: #008080\">    0</span> │ <span style=\"color: #008080; text-decoration-color: #008080\">     0</span> │ <span style=\"color: #008080; text-decoration-color: #008080\"> 1200</span> │ <span style=\"color: #008080; text-decoration-color: #008080\">380000</span> │ <span style=\"color: #008000; text-decoration-color: #008000\">  █  </span> │  │\n",
              "│ │        │        │        │        │        │       │        │       │ <span style=\"color: #008080; text-decoration-color: #008080\">    00</span> │       │  │\n",
              "│ │ <span style=\"color: #af87ff; text-decoration-color: #af87ff\">am_0  </span> │ <span style=\"color: #008080; text-decoration-color: #008080\">   790</span> │ <span style=\"color: #008080; text-decoration-color: #008080\">  0.99</span> │ <span style=\"color: #008080; text-decoration-color: #008080\"> 97000</span> │ <span style=\"color: #008080; text-decoration-color: #008080\">890000</span> │ <span style=\"color: #008080; text-decoration-color: #008080\">    0</span> │ <span style=\"color: #008080; text-decoration-color: #008080\">     0</span> │ <span style=\"color: #008080; text-decoration-color: #008080\"> 2400</span> │ <span style=\"color: #008080; text-decoration-color: #008080\">560000</span> │ <span style=\"color: #008000; text-decoration-color: #008000\">  █  </span> │  │\n",
              "│ │        │        │        │        │        │       │        │       │ <span style=\"color: #008080; text-decoration-color: #008080\">    00</span> │       │  │\n",
              "│ │ <span style=\"color: #af87ff; text-decoration-color: #af87ff\">an_000</span> │ <span style=\"color: #008080; text-decoration-color: #008080\">   810</span> │ <span style=\"color: #008080; text-decoration-color: #008080\">  0.99</span> │ <span style=\"color: #008080; text-decoration-color: #008080\">350000</span> │ <span style=\"color: #008080; text-decoration-color: #008080\">790000</span> │ <span style=\"color: #008080; text-decoration-color: #008080\">    0</span> │ <span style=\"color: #008080; text-decoration-color: #008080\"> 74000</span> │ <span style=\"color: #008080; text-decoration-color: #008080\">31000</span> │ <span style=\"color: #008080; text-decoration-color: #008080\">150000</span> │ <span style=\"color: #008000; text-decoration-color: #008000\">  █  </span> │  │\n",
              "│ │        │        │        │ <span style=\"color: #008080; text-decoration-color: #008080\">     0</span> │ <span style=\"color: #008080; text-decoration-color: #008080\">     0</span> │       │        │ <span style=\"color: #008080; text-decoration-color: #008080\">   00</span> │ <span style=\"color: #008080; text-decoration-color: #008080\">   000</span> │       │  │\n",
              "│ │ <span style=\"color: #af87ff; text-decoration-color: #af87ff\">ao_000</span> │ <span style=\"color: #008080; text-decoration-color: #008080\">   750</span> │ <span style=\"color: #008080; text-decoration-color: #008080\">  0.99</span> │ <span style=\"color: #008080; text-decoration-color: #008080\">300000</span> │ <span style=\"color: #008080; text-decoration-color: #008080\">700000</span> │ <span style=\"color: #008080; text-decoration-color: #008080\">    0</span> │ <span style=\"color: #008080; text-decoration-color: #008080\"> 66000</span> │ <span style=\"color: #008080; text-decoration-color: #008080\">27000</span> │ <span style=\"color: #008080; text-decoration-color: #008080\">140000</span> │ <span style=\"color: #008000; text-decoration-color: #008000\">  █  </span> │  │\n",
              "│ │        │        │        │ <span style=\"color: #008080; text-decoration-color: #008080\">     0</span> │ <span style=\"color: #008080; text-decoration-color: #008080\">     0</span> │       │        │ <span style=\"color: #008080; text-decoration-color: #008080\">   00</span> │ <span style=\"color: #008080; text-decoration-color: #008080\">   000</span> │       │  │\n",
              "│ │ <span style=\"color: #af87ff; text-decoration-color: #af87ff\">ap_000</span> │ <span style=\"color: #008080; text-decoration-color: #008080\">   810</span> │ <span style=\"color: #008080; text-decoration-color: #008080\">  0.99</span> │ <span style=\"color: #008080; text-decoration-color: #008080\">100000</span> │ <span style=\"color: #008080; text-decoration-color: #008080\">320000</span> │ <span style=\"color: #008080; text-decoration-color: #008080\">    0</span> │ <span style=\"color: #008080; text-decoration-color: #008080\"> 25000</span> │ <span style=\"color: #008080; text-decoration-color: #008080\">73000</span> │ <span style=\"color: #008080; text-decoration-color: #008080\">120000</span> │ <span style=\"color: #008000; text-decoration-color: #008000\">  █  </span> │  │\n",
              "│ │        │        │        │ <span style=\"color: #008080; text-decoration-color: #008080\">     0</span> │ <span style=\"color: #008080; text-decoration-color: #008080\">     0</span> │       │        │ <span style=\"color: #008080; text-decoration-color: #008080\">    0</span> │ <span style=\"color: #008080; text-decoration-color: #008080\">   000</span> │       │  │\n",
              "│ │ <span style=\"color: #af87ff; text-decoration-color: #af87ff\">aq_000</span> │ <span style=\"color: #008080; text-decoration-color: #008080\">   750</span> │ <span style=\"color: #008080; text-decoration-color: #008080\">  0.99</span> │ <span style=\"color: #008080; text-decoration-color: #008080\">450000</span> │ <span style=\"color: #008080; text-decoration-color: #008080\">130000</span> │ <span style=\"color: #008080; text-decoration-color: #008080\">    0</span> │ <span style=\"color: #008080; text-decoration-color: #008080\">  4200</span> │ <span style=\"color: #008080; text-decoration-color: #008080\">38000</span> │ <span style=\"color: #008080; text-decoration-color: #008080\">350000</span> │ <span style=\"color: #008000; text-decoration-color: #008000\">  █  </span> │  │\n",
              "│ │        │        │        │        │ <span style=\"color: #008080; text-decoration-color: #008080\">     0</span> │       │        │ <span style=\"color: #008080; text-decoration-color: #008080\">    0</span> │ <span style=\"color: #008080; text-decoration-color: #008080\">    00</span> │       │  │\n",
              "│ │ <span style=\"color: #af87ff; text-decoration-color: #af87ff\">ar_000</span> │ <span style=\"color: #008080; text-decoration-color: #008080\">  3500</span> │ <span style=\"color: #008080; text-decoration-color: #008080\">  0.95</span> │ <span style=\"color: #008080; text-decoration-color: #008080\">  0.49</span> │ <span style=\"color: #008080; text-decoration-color: #008080\">   5.3</span> │ <span style=\"color: #008080; text-decoration-color: #008080\">    0</span> │ <span style=\"color: #008080; text-decoration-color: #008080\">     0</span> │ <span style=\"color: #008080; text-decoration-color: #008080\">    0</span> │ <span style=\"color: #008080; text-decoration-color: #008080\">   350</span> │ <span style=\"color: #008000; text-decoration-color: #008000\">  █  </span> │  │\n",
              "│ │ <span style=\"color: #af87ff; text-decoration-color: #af87ff\">as_000</span> │ <span style=\"color: #008080; text-decoration-color: #008080\">   790</span> │ <span style=\"color: #008080; text-decoration-color: #008080\">  0.99</span> │ <span style=\"color: #008080; text-decoration-color: #008080\">   250</span> │ <span style=\"color: #008080; text-decoration-color: #008080\"> 28000</span> │ <span style=\"color: #008080; text-decoration-color: #008080\">    0</span> │ <span style=\"color: #008080; text-decoration-color: #008080\">     0</span> │ <span style=\"color: #008080; text-decoration-color: #008080\">    0</span> │ <span style=\"color: #008080; text-decoration-color: #008080\">640000</span> │ <span style=\"color: #008000; text-decoration-color: #008000\">  █  </span> │  │\n",
              "│ │        │        │        │        │        │       │        │       │ <span style=\"color: #008080; text-decoration-color: #008080\">     0</span> │       │  │\n",
              "│ │ <span style=\"color: #af87ff; text-decoration-color: #af87ff\">at_000</span> │ <span style=\"color: #008080; text-decoration-color: #008080\">   790</span> │ <span style=\"color: #008080; text-decoration-color: #008080\">  0.99</span> │ <span style=\"color: #008080; text-decoration-color: #008080\">  5200</span> │ <span style=\"color: #008080; text-decoration-color: #008080\">120000</span> │ <span style=\"color: #008080; text-decoration-color: #008080\">    0</span> │ <span style=\"color: #008080; text-decoration-color: #008080\">     0</span> │ <span style=\"color: #008080; text-decoration-color: #008080\">    0</span> │ <span style=\"color: #008080; text-decoration-color: #008080\">110000</span> │ <span style=\"color: #008000; text-decoration-color: #008000\">  █  </span> │  │\n",
              "│ │        │        │        │        │        │       │        │       │ <span style=\"color: #008080; text-decoration-color: #008080\">    00</span> │       │  │\n",
              "│ │ <span style=\"color: #af87ff; text-decoration-color: #af87ff\">au_000</span> │ <span style=\"color: #008080; text-decoration-color: #008080\">   790</span> │ <span style=\"color: #008080; text-decoration-color: #008080\">  0.99</span> │ <span style=\"color: #008080; text-decoration-color: #008080\">   300</span> │ <span style=\"color: #008080; text-decoration-color: #008080\"> 26000</span> │ <span style=\"color: #008080; text-decoration-color: #008080\">    0</span> │ <span style=\"color: #008080; text-decoration-color: #008080\">     0</span> │ <span style=\"color: #008080; text-decoration-color: #008080\">    0</span> │ <span style=\"color: #008080; text-decoration-color: #008080\">570000</span> │ <span style=\"color: #008000; text-decoration-color: #008000\">  █  </span> │  │\n",
              "│ │        │        │        │        │        │       │        │       │ <span style=\"color: #008080; text-decoration-color: #008080\">     0</span> │       │  │\n",
              "│ │ <span style=\"color: #af87ff; text-decoration-color: #af87ff\">av_000</span> │ <span style=\"color: #008080; text-decoration-color: #008080\">  3200</span> │ <span style=\"color: #008080; text-decoration-color: #008080\">  0.96</span> │ <span style=\"color: #008080; text-decoration-color: #008080\">  1100</span> │ <span style=\"color: #008080; text-decoration-color: #008080\">  6700</span> │ <span style=\"color: #008080; text-decoration-color: #008080\">    0</span> │ <span style=\"color: #008080; text-decoration-color: #008080\">    12</span> │ <span style=\"color: #008080; text-decoration-color: #008080\">  650</span> │ <span style=\"color: #008080; text-decoration-color: #008080\">790000</span> │ <span style=\"color: #008000; text-decoration-color: #008000\">  █  </span> │  │\n",
              "│ │ <span style=\"color: #af87ff; text-decoration-color: #af87ff\">ax_000</span> │ <span style=\"color: #008080; text-decoration-color: #008080\">  3200</span> │ <span style=\"color: #008080; text-decoration-color: #008080\">  0.96</span> │ <span style=\"color: #008080; text-decoration-color: #008080\">   380</span> │ <span style=\"color: #008080; text-decoration-color: #008080\">  1500</span> │ <span style=\"color: #008080; text-decoration-color: #008080\">    0</span> │ <span style=\"color: #008080; text-decoration-color: #008080\">    10</span> │ <span style=\"color: #008080; text-decoration-color: #008080\">  260</span> │ <span style=\"color: #008080; text-decoration-color: #008080\">120000</span> │ <span style=\"color: #008000; text-decoration-color: #008000\">  █  </span> │  │\n",
              "│ │ <span style=\"color: #af87ff; text-decoration-color: #af87ff\">ay_000</span> │ <span style=\"color: #008080; text-decoration-color: #008080\">   860</span> │ <span style=\"color: #008080; text-decoration-color: #008080\">  0.99</span> │ <span style=\"color: #008080; text-decoration-color: #008080\"> 15000</span> │ <span style=\"color: #008080; text-decoration-color: #008080\">620000</span> │ <span style=\"color: #008080; text-decoration-color: #008080\">    0</span> │ <span style=\"color: #008080; text-decoration-color: #008080\">     0</span> │ <span style=\"color: #008080; text-decoration-color: #008080\">    0</span> │ <span style=\"color: #008080; text-decoration-color: #008080\">740000</span> │ <span style=\"color: #008000; text-decoration-color: #008000\">  █  </span> │  │\n",
              "│ │        │        │        │        │        │       │        │       │ <span style=\"color: #008080; text-decoration-color: #008080\">    00</span> │       │  │\n",
              "│ │ <span style=\"color: #af87ff; text-decoration-color: #af87ff\">ay_001</span> │ <span style=\"color: #008080; text-decoration-color: #008080\">   860</span> │ <span style=\"color: #008080; text-decoration-color: #008080\">  0.99</span> │ <span style=\"color: #008080; text-decoration-color: #008080\"> 11000</span> │ <span style=\"color: #008080; text-decoration-color: #008080\">560000</span> │ <span style=\"color: #008080; text-decoration-color: #008080\">    0</span> │ <span style=\"color: #008080; text-decoration-color: #008080\">     0</span> │ <span style=\"color: #008080; text-decoration-color: #008080\">    0</span> │ <span style=\"color: #008080; text-decoration-color: #008080\">810000</span> │ <span style=\"color: #008000; text-decoration-color: #008000\">  █  </span> │  │\n",
              "│ │        │        │        │        │        │       │        │       │ <span style=\"color: #008080; text-decoration-color: #008080\">    00</span> │       │  │\n",
              "│ │ <span style=\"color: #af87ff; text-decoration-color: #af87ff\">ay_002</span> │ <span style=\"color: #008080; text-decoration-color: #008080\">   860</span> │ <span style=\"color: #008080; text-decoration-color: #008080\">  0.99</span> │ <span style=\"color: #008080; text-decoration-color: #008080\"> 11000</span> │ <span style=\"color: #008080; text-decoration-color: #008080\">440000</span> │ <span style=\"color: #008080; text-decoration-color: #008080\">    0</span> │ <span style=\"color: #008080; text-decoration-color: #008080\">     0</span> │ <span style=\"color: #008080; text-decoration-color: #008080\">    0</span> │ <span style=\"color: #008080; text-decoration-color: #008080\">300000</span> │ <span style=\"color: #008000; text-decoration-color: #008000\">  █  </span> │  │\n",
              "│ │        │        │        │        │        │       │        │       │ <span style=\"color: #008080; text-decoration-color: #008080\">    00</span> │       │  │\n",
              "│ │ <span style=\"color: #af87ff; text-decoration-color: #af87ff\">ay_003</span> │ <span style=\"color: #008080; text-decoration-color: #008080\">   860</span> │ <span style=\"color: #008080; text-decoration-color: #008080\">  0.99</span> │ <span style=\"color: #008080; text-decoration-color: #008080\">  7300</span> │ <span style=\"color: #008080; text-decoration-color: #008080\">210000</span> │ <span style=\"color: #008080; text-decoration-color: #008080\">    0</span> │ <span style=\"color: #008080; text-decoration-color: #008080\">     0</span> │ <span style=\"color: #008080; text-decoration-color: #008080\">    0</span> │ <span style=\"color: #008080; text-decoration-color: #008080\">140000</span> │ <span style=\"color: #008000; text-decoration-color: #008000\">  █  </span> │  │\n",
              "│ │        │        │        │        │        │       │        │       │ <span style=\"color: #008080; text-decoration-color: #008080\">    00</span> │       │  │\n",
              "│ │ <span style=\"color: #af87ff; text-decoration-color: #af87ff\">ay_004</span> │ <span style=\"color: #008080; text-decoration-color: #008080\">   860</span> │ <span style=\"color: #008080; text-decoration-color: #008080\">  0.99</span> │ <span style=\"color: #008080; text-decoration-color: #008080\"> 10000</span> │ <span style=\"color: #008080; text-decoration-color: #008080\">340000</span> │ <span style=\"color: #008080; text-decoration-color: #008080\">    0</span> │ <span style=\"color: #008080; text-decoration-color: #008080\">     0</span> │ <span style=\"color: #008080; text-decoration-color: #008080\">    0</span> │ <span style=\"color: #008080; text-decoration-color: #008080\">400000</span> │ <span style=\"color: #008000; text-decoration-color: #008000\">  █  </span> │  │\n",
              "│ │        │        │        │        │        │       │        │       │ <span style=\"color: #008080; text-decoration-color: #008080\">    00</span> │       │  │\n",
              "│ │ <span style=\"color: #af87ff; text-decoration-color: #af87ff\">ay_005</span> │ <span style=\"color: #008080; text-decoration-color: #008080\">   860</span> │ <span style=\"color: #008080; text-decoration-color: #008080\">  0.99</span> │ <span style=\"color: #008080; text-decoration-color: #008080\">110000</span> │ <span style=\"color: #008080; text-decoration-color: #008080\">130000</span> │ <span style=\"color: #008080; text-decoration-color: #008080\">    0</span> │ <span style=\"color: #008080; text-decoration-color: #008080\">     0</span> │ <span style=\"color: #008080; text-decoration-color: #008080\">40000</span> │ <span style=\"color: #008080; text-decoration-color: #008080\">120000</span> │ <span style=\"color: #008000; text-decoration-color: #008000\">  █  </span> │  │\n",
              "│ │        │        │        │        │ <span style=\"color: #008080; text-decoration-color: #008080\">     0</span> │       │        │       │ <span style=\"color: #008080; text-decoration-color: #008080\">   000</span> │       │  │\n",
              "│ │ <span style=\"color: #af87ff; text-decoration-color: #af87ff\">ay_006</span> │ <span style=\"color: #008080; text-decoration-color: #008080\">   860</span> │ <span style=\"color: #008080; text-decoration-color: #008080\">  0.99</span> │ <span style=\"color: #008080; text-decoration-color: #008080\">110000</span> │ <span style=\"color: #008080; text-decoration-color: #008080\">330000</span> │ <span style=\"color: #008080; text-decoration-color: #008080\">    0</span> │ <span style=\"color: #008080; text-decoration-color: #008080\">     0</span> │ <span style=\"color: #008080; text-decoration-color: #008080\">13000</span> │ <span style=\"color: #008080; text-decoration-color: #008080\">130000</span> │ <span style=\"color: #008000; text-decoration-color: #008000\">  █  </span> │  │\n",
              "│ │        │        │        │ <span style=\"color: #008080; text-decoration-color: #008080\">     0</span> │ <span style=\"color: #008080; text-decoration-color: #008080\">     0</span> │       │        │ <span style=\"color: #008080; text-decoration-color: #008080\">   00</span> │ <span style=\"color: #008080; text-decoration-color: #008080\">   000</span> │       │  │\n",
              "│ │ <span style=\"color: #af87ff; text-decoration-color: #af87ff\">ay_007</span> │ <span style=\"color: #008080; text-decoration-color: #008080\">   860</span> │ <span style=\"color: #008080; text-decoration-color: #008080\">  0.99</span> │ <span style=\"color: #008080; text-decoration-color: #008080\">160000</span> │ <span style=\"color: #008080; text-decoration-color: #008080\">510000</span> │ <span style=\"color: #008080; text-decoration-color: #008080\">    0</span> │ <span style=\"color: #008080; text-decoration-color: #008080\">  6100</span> │ <span style=\"color: #008080; text-decoration-color: #008080\">13000</span> │ <span style=\"color: #008080; text-decoration-color: #008080\">490000</span> │ <span style=\"color: #008000; text-decoration-color: #008000\">  █  </span> │  │\n",
              "│ │        │        │        │ <span style=\"color: #008080; text-decoration-color: #008080\">     0</span> │ <span style=\"color: #008080; text-decoration-color: #008080\">     0</span> │       │        │ <span style=\"color: #008080; text-decoration-color: #008080\">   00</span> │ <span style=\"color: #008080; text-decoration-color: #008080\">   000</span> │       │  │\n",
              "│ │ <span style=\"color: #af87ff; text-decoration-color: #af87ff\">ay_008</span> │ <span style=\"color: #008080; text-decoration-color: #008080\">   860</span> │ <span style=\"color: #008080; text-decoration-color: #008080\">  0.99</span> │ <span style=\"color: #008080; text-decoration-color: #008080\">110000</span> │ <span style=\"color: #008080; text-decoration-color: #008080\">430000</span> │ <span style=\"color: #008080; text-decoration-color: #008080\">    0</span> │ <span style=\"color: #008080; text-decoration-color: #008080\">  7600</span> │ <span style=\"color: #008080; text-decoration-color: #008080\">62000</span> │ <span style=\"color: #008080; text-decoration-color: #008080\">330000</span> │ <span style=\"color: #008000; text-decoration-color: #008000\">  █  </span> │  │\n",
              "│ │        │        │        │ <span style=\"color: #008080; text-decoration-color: #008080\">     0</span> │ <span style=\"color: #008080; text-decoration-color: #008080\">     0</span> │       │        │ <span style=\"color: #008080; text-decoration-color: #008080\">    0</span> │ <span style=\"color: #008080; text-decoration-color: #008080\">   000</span> │       │  │\n",
              "│ │ <span style=\"color: #af87ff; text-decoration-color: #af87ff\">ay_009</span> │ <span style=\"color: #008080; text-decoration-color: #008080\">   860</span> │ <span style=\"color: #008080; text-decoration-color: #008080\">  0.99</span> │ <span style=\"color: #008080; text-decoration-color: #008080\">  1200</span> │ <span style=\"color: #008080; text-decoration-color: #008080\"> 90000</span> │ <span style=\"color: #008080; text-decoration-color: #008080\">    0</span> │ <span style=\"color: #008080; text-decoration-color: #008080\">     0</span> │ <span style=\"color: #008080; text-decoration-color: #008080\">    0</span> │ <span style=\"color: #008080; text-decoration-color: #008080\">190000</span> │ <span style=\"color: #008000; text-decoration-color: #008000\">  █  </span> │  │\n",
              "│ │        │        │        │        │        │       │        │       │ <span style=\"color: #008080; text-decoration-color: #008080\">    00</span> │       │  │\n",
              "│ │ <span style=\"color: #af87ff; text-decoration-color: #af87ff\">az_000</span> │ <span style=\"color: #008080; text-decoration-color: #008080\">   860</span> │ <span style=\"color: #008080; text-decoration-color: #008080\">  0.99</span> │ <span style=\"color: #008080; text-decoration-color: #008080\">  7900</span> │ <span style=\"color: #008080; text-decoration-color: #008080\"> 72000</span> │ <span style=\"color: #008080; text-decoration-color: #008080\">    0</span> │ <span style=\"color: #008080; text-decoration-color: #008080\">  1000</span> │ <span style=\"color: #008080; text-decoration-color: #008080\"> 4200</span> │ <span style=\"color: #008080; text-decoration-color: #008080\">100000</span> │ <span style=\"color: #008000; text-decoration-color: #008000\">  █  </span> │  │\n",
              "│ │        │        │        │        │        │       │        │       │ <span style=\"color: #008080; text-decoration-color: #008080\">    00</span> │       │  │\n",
              "│ │ <span style=\"color: #af87ff; text-decoration-color: #af87ff\">az_001</span> │ <span style=\"color: #008080; text-decoration-color: #008080\">   860</span> │ <span style=\"color: #008080; text-decoration-color: #008080\">  0.99</span> │ <span style=\"color: #008080; text-decoration-color: #008080\">  4500</span> │ <span style=\"color: #008080; text-decoration-color: #008080\"> 33000</span> │ <span style=\"color: #008080; text-decoration-color: #008080\">    0</span> │ <span style=\"color: #008080; text-decoration-color: #008080\">    60</span> │ <span style=\"color: #008080; text-decoration-color: #008080\"> 2000</span> │ <span style=\"color: #008080; text-decoration-color: #008080\">450000</span> │ <span style=\"color: #008000; text-decoration-color: #008000\">  █  </span> │  │\n",
              "│ │        │        │        │        │        │       │        │       │ <span style=\"color: #008080; text-decoration-color: #008080\">     0</span> │       │  │\n",
              "│ │ <span style=\"color: #af87ff; text-decoration-color: #af87ff\">az_002</span> │ <span style=\"color: #008080; text-decoration-color: #008080\">   860</span> │ <span style=\"color: #008080; text-decoration-color: #008080\">  0.99</span> │ <span style=\"color: #008080; text-decoration-color: #008080\">  8000</span> │ <span style=\"color: #008080; text-decoration-color: #008080\"> 98000</span> │ <span style=\"color: #008080; text-decoration-color: #008080\">    0</span> │ <span style=\"color: #008080; text-decoration-color: #008080\">    90</span> │ <span style=\"color: #008080; text-decoration-color: #008080\"> 3100</span> │ <span style=\"color: #008080; text-decoration-color: #008080\">140000</span> │ <span style=\"color: #008000; text-decoration-color: #008000\">  █  </span> │  │\n",
              "│ │        │        │        │        │        │       │        │       │ <span style=\"color: #008080; text-decoration-color: #008080\">    00</span> │       │  │\n",
              "│ │ <span style=\"color: #af87ff; text-decoration-color: #af87ff\">az_003</span> │ <span style=\"color: #008080; text-decoration-color: #008080\">   860</span> │ <span style=\"color: #008080; text-decoration-color: #008080\">  0.99</span> │ <span style=\"color: #008080; text-decoration-color: #008080\"> 88000</span> │ <span style=\"color: #008080; text-decoration-color: #008080\">670000</span> │ <span style=\"color: #008080; text-decoration-color: #008080\">    0</span> │ <span style=\"color: #008080; text-decoration-color: #008080\">   300</span> │ <span style=\"color: #008080; text-decoration-color: #008080\">43000</span> │ <span style=\"color: #008080; text-decoration-color: #008080\">460000</span> │ <span style=\"color: #008000; text-decoration-color: #008000\">  █  </span> │  │\n",
              "│ │        │        │        │        │        │       │        │       │ <span style=\"color: #008080; text-decoration-color: #008080\">    00</span> │       │  │\n",
              "│ │ <span style=\"color: #af87ff; text-decoration-color: #af87ff\">az_004</span> │ <span style=\"color: #008080; text-decoration-color: #008080\">   860</span> │ <span style=\"color: #008080; text-decoration-color: #008080\">  0.99</span> │ <span style=\"color: #008080; text-decoration-color: #008080\">150000</span> │ <span style=\"color: #008080; text-decoration-color: #008080\">420000</span> │ <span style=\"color: #008080; text-decoration-color: #008080\">    0</span> │ <span style=\"color: #008080; text-decoration-color: #008080\">  1500</span> │ <span style=\"color: #008080; text-decoration-color: #008080\">18000</span> │ <span style=\"color: #008080; text-decoration-color: #008080\">130000</span> │ <span style=\"color: #008000; text-decoration-color: #008000\">  █  </span> │  │\n",
              "│ │        │        │        │ <span style=\"color: #008080; text-decoration-color: #008080\">     0</span> │ <span style=\"color: #008080; text-decoration-color: #008080\">     0</span> │       │        │ <span style=\"color: #008080; text-decoration-color: #008080\">   00</span> │ <span style=\"color: #008080; text-decoration-color: #008080\">   000</span> │       │  │\n",
              "│ │ <span style=\"color: #af87ff; text-decoration-color: #af87ff\">az_005</span> │ <span style=\"color: #008080; text-decoration-color: #008080\">   860</span> │ <span style=\"color: #008080; text-decoration-color: #008080\">  0.99</span> │ <span style=\"color: #008080; text-decoration-color: #008080\">220000</span> │ <span style=\"color: #008080; text-decoration-color: #008080\">670000</span> │ <span style=\"color: #008080; text-decoration-color: #008080\">    0</span> │ <span style=\"color: #008080; text-decoration-color: #008080\"> 39000</span> │ <span style=\"color: #008080; text-decoration-color: #008080\">18000</span> │ <span style=\"color: #008080; text-decoration-color: #008080\">480000</span> │ <span style=\"color: #008000; text-decoration-color: #008000\">  █  </span> │  │\n",
              "│ │        │        │        │ <span style=\"color: #008080; text-decoration-color: #008080\">     0</span> │ <span style=\"color: #008080; text-decoration-color: #008080\">     0</span> │       │        │ <span style=\"color: #008080; text-decoration-color: #008080\">   00</span> │ <span style=\"color: #008080; text-decoration-color: #008080\">   000</span> │       │  │\n",
              "│ │ <span style=\"color: #af87ff; text-decoration-color: #af87ff\">az_006</span> │ <span style=\"color: #008080; text-decoration-color: #008080\">   860</span> │ <span style=\"color: #008080; text-decoration-color: #008080\">  0.99</span> │ <span style=\"color: #008080; text-decoration-color: #008080\">100000</span> │ <span style=\"color: #008080; text-decoration-color: #008080\">900000</span> │ <span style=\"color: #008080; text-decoration-color: #008080\">    0</span> │ <span style=\"color: #008080; text-decoration-color: #008080\">    10</span> │ <span style=\"color: #008080; text-decoration-color: #008080\"> 4300</span> │ <span style=\"color: #008080; text-decoration-color: #008080\">650000</span> │ <span style=\"color: #008000; text-decoration-color: #008000\">  █  </span> │  │\n",
              "│ │        │        │        │        │        │       │        │       │ <span style=\"color: #008080; text-decoration-color: #008080\">    00</span> │       │  │\n",
              "│ │ <span style=\"color: #af87ff; text-decoration-color: #af87ff\">az_007</span> │ <span style=\"color: #008080; text-decoration-color: #008080\">   860</span> │ <span style=\"color: #008080; text-decoration-color: #008080\">  0.99</span> │ <span style=\"color: #008080; text-decoration-color: #008080\"> 18000</span> │ <span style=\"color: #008080; text-decoration-color: #008080\">280000</span> │ <span style=\"color: #008080; text-decoration-color: #008080\">    0</span> │ <span style=\"color: #008080; text-decoration-color: #008080\">     0</span> │ <span style=\"color: #008080; text-decoration-color: #008080\">    0</span> │ <span style=\"color: #008080; text-decoration-color: #008080\">390000</span> │ <span style=\"color: #008000; text-decoration-color: #008000\">  █  </span> │  │\n",
              "│ │        │        │        │        │        │       │        │       │ <span style=\"color: #008080; text-decoration-color: #008080\">    00</span> │       │  │\n",
              "│ │ <span style=\"color: #af87ff; text-decoration-color: #af87ff\">az_008</span> │ <span style=\"color: #008080; text-decoration-color: #008080\">   860</span> │ <span style=\"color: #008080; text-decoration-color: #008080\">  0.99</span> │ <span style=\"color: #008080; text-decoration-color: #008080\">   630</span> │ <span style=\"color: #008080; text-decoration-color: #008080\"> 14000</span> │ <span style=\"color: #008080; text-decoration-color: #008080\">    0</span> │ <span style=\"color: #008080; text-decoration-color: #008080\">     0</span> │ <span style=\"color: #008080; text-decoration-color: #008080\">    0</span> │ <span style=\"color: #008080; text-decoration-color: #008080\">190000</span> │ <span style=\"color: #008000; text-decoration-color: #008000\">  █  </span> │  │\n",
              "│ │        │        │        │        │        │       │        │       │ <span style=\"color: #008080; text-decoration-color: #008080\">     0</span> │       │  │\n",
              "│ │ <span style=\"color: #af87ff; text-decoration-color: #af87ff\">az_009</span> │ <span style=\"color: #008080; text-decoration-color: #008080\">   860</span> │ <span style=\"color: #008080; text-decoration-color: #008080\">  0.99</span> │ <span style=\"color: #008080; text-decoration-color: #008080\">    38</span> │ <span style=\"color: #008080; text-decoration-color: #008080\">  3000</span> │ <span style=\"color: #008080; text-decoration-color: #008080\">    0</span> │ <span style=\"color: #008080; text-decoration-color: #008080\">     0</span> │ <span style=\"color: #008080; text-decoration-color: #008080\">    0</span> │ <span style=\"color: #008080; text-decoration-color: #008080\">670000</span> │ <span style=\"color: #008000; text-decoration-color: #008000\">  █  </span> │  │\n",
              "│ │ <span style=\"color: #af87ff; text-decoration-color: #af87ff\">ba_000</span> │ <span style=\"color: #008080; text-decoration-color: #008080\">   880</span> │ <span style=\"color: #008080; text-decoration-color: #008080\">  0.99</span> │ <span style=\"color: #008080; text-decoration-color: #008080\">140000</span> │ <span style=\"color: #008080; text-decoration-color: #008080\">380000</span> │ <span style=\"color: #008080; text-decoration-color: #008080\">    0</span> │ <span style=\"color: #008080; text-decoration-color: #008080\"> 34000</span> │ <span style=\"color: #008080; text-decoration-color: #008080\">13000</span> │ <span style=\"color: #008080; text-decoration-color: #008080\">230000</span> │ <span style=\"color: #008000; text-decoration-color: #008000\">  █  </span> │  │\n",
              "│ │        │        │        │ <span style=\"color: #008080; text-decoration-color: #008080\">     0</span> │ <span style=\"color: #008080; text-decoration-color: #008080\">     0</span> │       │        │ <span style=\"color: #008080; text-decoration-color: #008080\">   00</span> │ <span style=\"color: #008080; text-decoration-color: #008080\">   000</span> │       │  │\n",
              "│ │ <span style=\"color: #af87ff; text-decoration-color: #af87ff\">ba_001</span> │ <span style=\"color: #008080; text-decoration-color: #008080\">   880</span> │ <span style=\"color: #008080; text-decoration-color: #008080\">  0.99</span> │ <span style=\"color: #008080; text-decoration-color: #008080\">900000</span> │ <span style=\"color: #008080; text-decoration-color: #008080\">240000</span> │ <span style=\"color: #008080; text-decoration-color: #008080\">    0</span> │ <span style=\"color: #008080; text-decoration-color: #008080\"> 15000</span> │ <span style=\"color: #008080; text-decoration-color: #008080\">81000</span> │ <span style=\"color: #008080; text-decoration-color: #008080\">140000</span> │ <span style=\"color: #008000; text-decoration-color: #008000\">  █  </span> │  │\n",
              "│ │        │        │        │        │ <span style=\"color: #008080; text-decoration-color: #008080\">     0</span> │       │        │ <span style=\"color: #008080; text-decoration-color: #008080\">    0</span> │ <span style=\"color: #008080; text-decoration-color: #008080\">   000</span> │       │  │\n",
              "│ │ <span style=\"color: #af87ff; text-decoration-color: #af87ff\">ba_002</span> │ <span style=\"color: #008080; text-decoration-color: #008080\">   880</span> │ <span style=\"color: #008080; text-decoration-color: #008080\">  0.99</span> │ <span style=\"color: #008080; text-decoration-color: #008080\">420000</span> │ <span style=\"color: #008080; text-decoration-color: #008080\">120000</span> │ <span style=\"color: #008080; text-decoration-color: #008080\">    0</span> │ <span style=\"color: #008080; text-decoration-color: #008080\">  5300</span> │ <span style=\"color: #008080; text-decoration-color: #008080\">34000</span> │ <span style=\"color: #008080; text-decoration-color: #008080\">560000</span> │ <span style=\"color: #008000; text-decoration-color: #008000\">  █  </span> │  │\n",
              "│ │        │        │        │        │ <span style=\"color: #008080; text-decoration-color: #008080\">     0</span> │       │        │ <span style=\"color: #008080; text-decoration-color: #008080\">    0</span> │ <span style=\"color: #008080; text-decoration-color: #008080\">    00</span> │       │  │\n",
              "│ │ <span style=\"color: #af87ff; text-decoration-color: #af87ff\">ba_003</span> │ <span style=\"color: #008080; text-decoration-color: #008080\">   880</span> │ <span style=\"color: #008080; text-decoration-color: #008080\">  0.99</span> │ <span style=\"color: #008080; text-decoration-color: #008080\">280000</span> │ <span style=\"color: #008080; text-decoration-color: #008080\">760000</span> │ <span style=\"color: #008080; text-decoration-color: #008080\">    0</span> │ <span style=\"color: #008080; text-decoration-color: #008080\">  1900</span> │ <span style=\"color: #008080; text-decoration-color: #008080\">24000</span> │ <span style=\"color: #008080; text-decoration-color: #008080\">370000</span> │ <span style=\"color: #008000; text-decoration-color: #008000\">  █  </span> │  │\n",
              "│ │        │        │        │        │        │       │        │ <span style=\"color: #008080; text-decoration-color: #008080\">    0</span> │ <span style=\"color: #008080; text-decoration-color: #008080\">    00</span> │       │  │\n",
              "│ │ <span style=\"color: #af87ff; text-decoration-color: #af87ff\">ba_004</span> │ <span style=\"color: #008080; text-decoration-color: #008080\">   880</span> │ <span style=\"color: #008080; text-decoration-color: #008080\">  0.99</span> │ <span style=\"color: #008080; text-decoration-color: #008080\">210000</span> │ <span style=\"color: #008080; text-decoration-color: #008080\">550000</span> │ <span style=\"color: #008080; text-decoration-color: #008080\">    0</span> │ <span style=\"color: #008080; text-decoration-color: #008080\">   630</span> │ <span style=\"color: #008080; text-decoration-color: #008080\">20000</span> │ <span style=\"color: #008080; text-decoration-color: #008080\">250000</span> │ <span style=\"color: #008000; text-decoration-color: #008000\">  █  </span> │  │\n",
              "│ │        │        │        │        │        │       │        │ <span style=\"color: #008080; text-decoration-color: #008080\">    0</span> │ <span style=\"color: #008080; text-decoration-color: #008080\">    00</span> │       │  │\n",
              "│ │ <span style=\"color: #af87ff; text-decoration-color: #af87ff\">ba_005</span> │ <span style=\"color: #008080; text-decoration-color: #008080\">   880</span> │ <span style=\"color: #008080; text-decoration-color: #008080\">  0.99</span> │ <span style=\"color: #008080; text-decoration-color: #008080\">190000</span> │ <span style=\"color: #008080; text-decoration-color: #008080\">520000</span> │ <span style=\"color: #008080; text-decoration-color: #008080\">    0</span> │ <span style=\"color: #008080; text-decoration-color: #008080\">   380</span> │ <span style=\"color: #008080; text-decoration-color: #008080\">18000</span> │ <span style=\"color: #008080; text-decoration-color: #008080\">190000</span> │ <span style=\"color: #008000; text-decoration-color: #008000\">  █  </span> │  │\n",
              "│ │        │        │        │        │        │       │        │ <span style=\"color: #008080; text-decoration-color: #008080\">    0</span> │ <span style=\"color: #008080; text-decoration-color: #008080\">    00</span> │       │  │\n",
              "│ │ <span style=\"color: #af87ff; text-decoration-color: #af87ff\">ba_006</span> │ <span style=\"color: #008080; text-decoration-color: #008080\">   880</span> │ <span style=\"color: #008080; text-decoration-color: #008080\">  0.99</span> │ <span style=\"color: #008080; text-decoration-color: #008080\">210000</span> │ <span style=\"color: #008080; text-decoration-color: #008080\">640000</span> │ <span style=\"color: #008080; text-decoration-color: #008080\">    0</span> │ <span style=\"color: #008080; text-decoration-color: #008080\">   360</span> │ <span style=\"color: #008080; text-decoration-color: #008080\">21000</span> │ <span style=\"color: #008080; text-decoration-color: #008080\">190000</span> │ <span style=\"color: #008000; text-decoration-color: #008000\">  █  </span> │  │\n",
              "│ │        │        │        │        │        │       │        │ <span style=\"color: #008080; text-decoration-color: #008080\">    0</span> │ <span style=\"color: #008080; text-decoration-color: #008080\">    00</span> │       │  │\n",
              "│ │ <span style=\"color: #af87ff; text-decoration-color: #af87ff\">ba_007</span> │ <span style=\"color: #008080; text-decoration-color: #008080\">   880</span> │ <span style=\"color: #008080; text-decoration-color: #008080\">  0.99</span> │ <span style=\"color: #008080; text-decoration-color: #008080\">190000</span> │ <span style=\"color: #008080; text-decoration-color: #008080\">530000</span> │ <span style=\"color: #008080; text-decoration-color: #008080\">    0</span> │ <span style=\"color: #008080; text-decoration-color: #008080\">    74</span> │ <span style=\"color: #008080; text-decoration-color: #008080\">21000</span> │ <span style=\"color: #008080; text-decoration-color: #008080\">150000</span> │ <span style=\"color: #008000; text-decoration-color: #008000\">  █  </span> │  │\n",
              "│ │        │        │        │        │        │       │        │ <span style=\"color: #008080; text-decoration-color: #008080\">    0</span> │ <span style=\"color: #008080; text-decoration-color: #008080\">    00</span> │       │  │\n",
              "│ │ <span style=\"color: #af87ff; text-decoration-color: #af87ff\">ba_008</span> │ <span style=\"color: #008080; text-decoration-color: #008080\">   880</span> │ <span style=\"color: #008080; text-decoration-color: #008080\">  0.99</span> │ <span style=\"color: #008080; text-decoration-color: #008080\"> 36000</span> │ <span style=\"color: #008080; text-decoration-color: #008080\">240000</span> │ <span style=\"color: #008080; text-decoration-color: #008080\">    0</span> │ <span style=\"color: #008080; text-decoration-color: #008080\">     0</span> │ <span style=\"color: #008080; text-decoration-color: #008080\"> 1800</span> │ <span style=\"color: #008080; text-decoration-color: #008080\">310000</span> │ <span style=\"color: #008000; text-decoration-color: #008000\">  █  </span> │  │\n",
              "│ │        │        │        │        │        │       │        │       │ <span style=\"color: #008080; text-decoration-color: #008080\">    00</span> │       │  │\n",
              "│ │ <span style=\"color: #af87ff; text-decoration-color: #af87ff\">ba_009</span> │ <span style=\"color: #008080; text-decoration-color: #008080\">   880</span> │ <span style=\"color: #008080; text-decoration-color: #008080\">  0.99</span> │ <span style=\"color: #008080; text-decoration-color: #008080\"> 37000</span> │ <span style=\"color: #008080; text-decoration-color: #008080\">360000</span> │ <span style=\"color: #008080; text-decoration-color: #008080\">    0</span> │ <span style=\"color: #008080; text-decoration-color: #008080\">     0</span> │ <span style=\"color: #008080; text-decoration-color: #008080\">   62</span> │ <span style=\"color: #008080; text-decoration-color: #008080\">440000</span> │ <span style=\"color: #008000; text-decoration-color: #008000\">  █  </span> │  │\n",
              "│ │        │        │        │        │        │       │        │       │ <span style=\"color: #008080; text-decoration-color: #008080\">    00</span> │       │  │\n",
              "│ │ <span style=\"color: #af87ff; text-decoration-color: #af87ff\">bb_000</span> │ <span style=\"color: #008080; text-decoration-color: #008080\">   820</span> │ <span style=\"color: #008080; text-decoration-color: #008080\">  0.99</span> │ <span style=\"color: #008080; text-decoration-color: #008080\">460000</span> │ <span style=\"color: #008080; text-decoration-color: #008080\">110000</span> │ <span style=\"color: #008080; text-decoration-color: #008080\">    0</span> │ <span style=\"color: #008080; text-decoration-color: #008080\">110000</span> │ <span style=\"color: #008080; text-decoration-color: #008080\">39000</span> │ <span style=\"color: #008080; text-decoration-color: #008080\">230000</span> │ <span style=\"color: #008000; text-decoration-color: #008000\">  █  </span> │  │\n",
              "│ │        │        │        │ <span style=\"color: #008080; text-decoration-color: #008080\">     0</span> │ <span style=\"color: #008080; text-decoration-color: #008080\">    00</span> │       │        │ <span style=\"color: #008080; text-decoration-color: #008080\">   00</span> │ <span style=\"color: #008080; text-decoration-color: #008080\">   000</span> │       │  │\n",
              "│ │ <span style=\"color: #af87ff; text-decoration-color: #af87ff\">bc_000</span> │ <span style=\"color: #008080; text-decoration-color: #008080\">  3500</span> │ <span style=\"color: #008080; text-decoration-color: #008080\">  0.95</span> │ <span style=\"color: #008080; text-decoration-color: #008080\">   570</span> │ <span style=\"color: #008080; text-decoration-color: #008080\">  3900</span> │ <span style=\"color: #008080; text-decoration-color: #008080\">    0</span> │ <span style=\"color: #008080; text-decoration-color: #008080\">     0</span> │ <span style=\"color: #008080; text-decoration-color: #008080\">  140</span> │ <span style=\"color: #008080; text-decoration-color: #008080\">400000</span> │ <span style=\"color: #008000; text-decoration-color: #008000\">  █  </span> │  │\n",
              "│ │ <span style=\"color: #af87ff; text-decoration-color: #af87ff\">bd_000</span> │ <span style=\"color: #008080; text-decoration-color: #008080\">  3500</span> │ <span style=\"color: #008080; text-decoration-color: #008080\">  0.95</span> │ <span style=\"color: #008080; text-decoration-color: #008080\">   930</span> │ <span style=\"color: #008080; text-decoration-color: #008080\">  4800</span> │ <span style=\"color: #008080; text-decoration-color: #008080\">    0</span> │ <span style=\"color: #008080; text-decoration-color: #008080\">     8</span> │ <span style=\"color: #008080; text-decoration-color: #008080\">  440</span> │ <span style=\"color: #008080; text-decoration-color: #008080\">310000</span> │ <span style=\"color: #008000; text-decoration-color: #008000\">  █  </span> │  │\n",
              "│ │ <span style=\"color: #af87ff; text-decoration-color: #af87ff\">be_000</span> │ <span style=\"color: #008080; text-decoration-color: #008080\">  3200</span> │ <span style=\"color: #008080; text-decoration-color: #008080\">  0.96</span> │ <span style=\"color: #008080; text-decoration-color: #008080\">  1400</span> │ <span style=\"color: #008080; text-decoration-color: #008080\">  9000</span> │ <span style=\"color: #008080; text-decoration-color: #008080\">    0</span> │ <span style=\"color: #008080; text-decoration-color: #008080\">    18</span> │ <span style=\"color: #008080; text-decoration-color: #008080\">  620</span> │ <span style=\"color: #008080; text-decoration-color: #008080\">810000</span> │ <span style=\"color: #008000; text-decoration-color: #008000\">  █  </span> │  │\n",
              "│ │ <span style=\"color: #af87ff; text-decoration-color: #af87ff\">bf_000</span> │ <span style=\"color: #008080; text-decoration-color: #008080\">  3200</span> │ <span style=\"color: #008080; text-decoration-color: #008080\">  0.96</span> │ <span style=\"color: #008080; text-decoration-color: #008080\">    76</span> │ <span style=\"color: #008080; text-decoration-color: #008080\">   550</span> │ <span style=\"color: #008080; text-decoration-color: #008080\">    0</span> │ <span style=\"color: #008080; text-decoration-color: #008080\">     0</span> │ <span style=\"color: #008080; text-decoration-color: #008080\">   20</span> │ <span style=\"color: #008080; text-decoration-color: #008080\"> 51000</span> │ <span style=\"color: #008000; text-decoration-color: #008000\">  █  </span> │  │\n",
              "│ │ <span style=\"color: #af87ff; text-decoration-color: #af87ff\">bg_000</span> │ <span style=\"color: #008080; text-decoration-color: #008080\">   810</span> │ <span style=\"color: #008080; text-decoration-color: #008080\">  0.99</span> │ <span style=\"color: #008080; text-decoration-color: #008080\">180000</span> │ <span style=\"color: #008080; text-decoration-color: #008080\">430000</span> │ <span style=\"color: #008080; text-decoration-color: #008080\">    0</span> │ <span style=\"color: #008080; text-decoration-color: #008080\"> 30000</span> │ <span style=\"color: #008080; text-decoration-color: #008080\">16000</span> │ <span style=\"color: #008080; text-decoration-color: #008080\">820000</span> │ <span style=\"color: #008000; text-decoration-color: #008000\">  █  </span> │  │\n",
              "│ │        │        │        │ <span style=\"color: #008080; text-decoration-color: #008080\">     0</span> │ <span style=\"color: #008080; text-decoration-color: #008080\">     0</span> │       │        │ <span style=\"color: #008080; text-decoration-color: #008080\">   00</span> │ <span style=\"color: #008080; text-decoration-color: #008080\">    00</span> │       │  │\n",
              "│ │ <span style=\"color: #af87ff; text-decoration-color: #af87ff\">bh_000</span> │ <span style=\"color: #008080; text-decoration-color: #008080\">   810</span> │ <span style=\"color: #008080; text-decoration-color: #008080\">  0.99</span> │ <span style=\"color: #008080; text-decoration-color: #008080\"> 59000</span> │ <span style=\"color: #008080; text-decoration-color: #008080\">160000</span> │ <span style=\"color: #008080; text-decoration-color: #008080\">    0</span> │ <span style=\"color: #008080; text-decoration-color: #008080\">   860</span> │ <span style=\"color: #008080; text-decoration-color: #008080\">49000</span> │ <span style=\"color: #008080; text-decoration-color: #008080\">390000</span> │ <span style=\"color: #008000; text-decoration-color: #008000\">  █  </span> │  │\n",
              "│ │        │        │        │        │        │       │        │       │ <span style=\"color: #008080; text-decoration-color: #008080\">     0</span> │       │  │\n",
              "│ │ <span style=\"color: #af87ff; text-decoration-color: #af87ff\">bi_000</span> │ <span style=\"color: #008080; text-decoration-color: #008080\">   750</span> │ <span style=\"color: #008080; text-decoration-color: #008080\">  0.99</span> │ <span style=\"color: #008080; text-decoration-color: #008080\">500000</span> │ <span style=\"color: #008080; text-decoration-color: #008080\">150000</span> │ <span style=\"color: #008080; text-decoration-color: #008080\">    0</span> │ <span style=\"color: #008080; text-decoration-color: #008080\"> 16000</span> │ <span style=\"color: #008080; text-decoration-color: #008080\">38000</span> │ <span style=\"color: #008080; text-decoration-color: #008080\">540000</span> │ <span style=\"color: #008000; text-decoration-color: #008000\">  █  </span> │  │\n",
              "│ │        │        │        │        │ <span style=\"color: #008080; text-decoration-color: #008080\">     0</span> │       │        │ <span style=\"color: #008080; text-decoration-color: #008080\">    0</span> │ <span style=\"color: #008080; text-decoration-color: #008080\">    00</span> │       │  │\n",
              "│ │ <span style=\"color: #af87ff; text-decoration-color: #af87ff\">bj_000</span> │ <span style=\"color: #008080; text-decoration-color: #008080\">   750</span> │ <span style=\"color: #008080; text-decoration-color: #008080\">  0.99</span> │ <span style=\"color: #008080; text-decoration-color: #008080\">520000</span> │ <span style=\"color: #008080; text-decoration-color: #008080\">190000</span> │ <span style=\"color: #008080; text-decoration-color: #008080\">    0</span> │ <span style=\"color: #008080; text-decoration-color: #008080\">  8700</span> │ <span style=\"color: #008080; text-decoration-color: #008080\">33000</span> │ <span style=\"color: #008080; text-decoration-color: #008080\">640000</span> │ <span style=\"color: #008000; text-decoration-color: #008000\">  █  </span> │  │\n",
              "│ │        │        │        │        │ <span style=\"color: #008080; text-decoration-color: #008080\">     0</span> │       │        │ <span style=\"color: #008080; text-decoration-color: #008080\">    0</span> │ <span style=\"color: #008080; text-decoration-color: #008080\">    00</span> │       │  │\n",
              "│ │ <span style=\"color: #af87ff; text-decoration-color: #af87ff\">bk_000</span> │ <span style=\"color: #008080; text-decoration-color: #008080\"> 29000</span> │ <span style=\"color: #008080; text-decoration-color: #008080\">  0.62</span> │ <span style=\"color: #008080; text-decoration-color: #008080\">280000</span> │ <span style=\"color: #008080; text-decoration-color: #008080\">260000</span> │ <span style=\"color: #008080; text-decoration-color: #008080\">    0</span> │ <span style=\"color: #008080; text-decoration-color: #008080\">160000</span> │ <span style=\"color: #008080; text-decoration-color: #008080\">28000</span> │ <span style=\"color: #008080; text-decoration-color: #008080\">130000</span> │ <span style=\"color: #008000; text-decoration-color: #008000\"> █▆  </span> │  │\n",
              "│ │        │        │        │        │        │       │        │ <span style=\"color: #008080; text-decoration-color: #008080\">    0</span> │ <span style=\"color: #008080; text-decoration-color: #008080\">     0</span> │ <span style=\"color: #008000; text-decoration-color: #008000\">  ▁  </span> │  │\n",
              "│ │ <span style=\"color: #af87ff; text-decoration-color: #af87ff\">bl_000</span> │ <span style=\"color: #008080; text-decoration-color: #008080\"> 35000</span> │ <span style=\"color: #008080; text-decoration-color: #008080\">  0.55</span> │ <span style=\"color: #008080; text-decoration-color: #008080\">320000</span> │ <span style=\"color: #008080; text-decoration-color: #008080\">320000</span> │ <span style=\"color: #008080; text-decoration-color: #008080\">    0</span> │ <span style=\"color: #008080; text-decoration-color: #008080\">170000</span> │ <span style=\"color: #008080; text-decoration-color: #008080\">30000</span> │ <span style=\"color: #008080; text-decoration-color: #008080\">130000</span> │ <span style=\"color: #008000; text-decoration-color: #008000\"> █▇▁ </span> │  │\n",
              "│ │        │        │        │        │        │       │        │ <span style=\"color: #008080; text-decoration-color: #008080\">    0</span> │ <span style=\"color: #008080; text-decoration-color: #008080\">     0</span> │ <span style=\"color: #008000; text-decoration-color: #008000\">  ▁  </span> │  │\n",
              "│ │ <span style=\"color: #af87ff; text-decoration-color: #af87ff\">bm_000</span> │ <span style=\"color: #008080; text-decoration-color: #008080\"> 50000</span> │ <span style=\"color: #008080; text-decoration-color: #008080\">  0.34</span> │ <span style=\"color: #008080; text-decoration-color: #008080\">400000</span> │ <span style=\"color: #008080; text-decoration-color: #008080\">410000</span> │ <span style=\"color: #008080; text-decoration-color: #008080\">    0</span> │ <span style=\"color: #008080; text-decoration-color: #008080\">170000</span> │ <span style=\"color: #008080; text-decoration-color: #008080\">37000</span> │ <span style=\"color: #008080; text-decoration-color: #008080\">130000</span> │ <span style=\"color: #008000; text-decoration-color: #008000\"> █▇▁ </span> │  │\n",
              "│ │        │        │        │        │        │       │        │ <span style=\"color: #008080; text-decoration-color: #008080\">    0</span> │ <span style=\"color: #008080; text-decoration-color: #008080\">     0</span> │ <span style=\"color: #008000; text-decoration-color: #008000\">  ▃  </span> │  │\n",
              "│ │ <span style=\"color: #af87ff; text-decoration-color: #af87ff\">bn_000</span> │ <span style=\"color: #008080; text-decoration-color: #008080\"> 56000</span> │ <span style=\"color: #008080; text-decoration-color: #008080\">  0.27</span> │ <span style=\"color: #008080; text-decoration-color: #008080\">460000</span> │ <span style=\"color: #008080; text-decoration-color: #008080\">460000</span> │ <span style=\"color: #008080; text-decoration-color: #008080\">    0</span> │ <span style=\"color: #008080; text-decoration-color: #008080\">170000</span> │ <span style=\"color: #008080; text-decoration-color: #008080\">49000</span> │ <span style=\"color: #008080; text-decoration-color: #008080\">130000</span> │ <span style=\"color: #008000; text-decoration-color: #008000\"> █▆▁ </span> │  │\n",
              "│ │        │        │        │        │        │       │        │ <span style=\"color: #008080; text-decoration-color: #008080\">    0</span> │ <span style=\"color: #008080; text-decoration-color: #008080\">     0</span> │ <span style=\"color: #008000; text-decoration-color: #008000\">  ▄  </span> │  │\n",
              "│ │ <span style=\"color: #af87ff; text-decoration-color: #af87ff\">bo_000</span> │ <span style=\"color: #008080; text-decoration-color: #008080\"> 59000</span> │ <span style=\"color: #008080; text-decoration-color: #008080\">  0.23</span> │ <span style=\"color: #008080; text-decoration-color: #008080\">510000</span> │ <span style=\"color: #008080; text-decoration-color: #008080\">500000</span> │ <span style=\"color: #008080; text-decoration-color: #008080\">    0</span> │ <span style=\"color: #008080; text-decoration-color: #008080\">170000</span> │ <span style=\"color: #008080; text-decoration-color: #008080\">13000</span> │ <span style=\"color: #008080; text-decoration-color: #008080\">130000</span> │ <span style=\"color: #008000; text-decoration-color: #008000\"> █▆▁ </span> │  │\n",
              "│ │        │        │        │        │        │       │        │ <span style=\"color: #008080; text-decoration-color: #008080\">   00</span> │ <span style=\"color: #008080; text-decoration-color: #008080\">     0</span> │ <span style=\"color: #008000; text-decoration-color: #008000\">  ▆  </span> │  │\n",
              "│ │ <span style=\"color: #af87ff; text-decoration-color: #af87ff\">bp_000</span> │ <span style=\"color: #008080; text-decoration-color: #008080\"> 60000</span> │ <span style=\"color: #008080; text-decoration-color: #008080\">   0.2</span> │ <span style=\"color: #008080; text-decoration-color: #008080\">550000</span> │ <span style=\"color: #008080; text-decoration-color: #008080\">520000</span> │ <span style=\"color: #008080; text-decoration-color: #008080\">    0</span> │ <span style=\"color: #008080; text-decoration-color: #008080\">170000</span> │ <span style=\"color: #008080; text-decoration-color: #008080\">13000</span> │ <span style=\"color: #008080; text-decoration-color: #008080\">130000</span> │ <span style=\"color: #008000; text-decoration-color: #008000\"> █▆▁ </span> │  │\n",
              "│ │        │        │        │        │        │       │        │ <span style=\"color: #008080; text-decoration-color: #008080\">   00</span> │ <span style=\"color: #008080; text-decoration-color: #008080\">     0</span> │ <span style=\"color: #008000; text-decoration-color: #008000\">  ▇  </span> │  │\n",
              "│ │ <span style=\"color: #af87ff; text-decoration-color: #af87ff\">bq_000</span> │ <span style=\"color: #008080; text-decoration-color: #008080\"> 62000</span> │ <span style=\"color: #008080; text-decoration-color: #008080\">  0.19</span> │ <span style=\"color: #008080; text-decoration-color: #008080\">580000</span> │ <span style=\"color: #008080; text-decoration-color: #008080\">530000</span> │ <span style=\"color: #008080; text-decoration-color: #008080\">    0</span> │ <span style=\"color: #008080; text-decoration-color: #008080\">170000</span> │ <span style=\"color: #008080; text-decoration-color: #008080\">13000</span> │ <span style=\"color: #008080; text-decoration-color: #008080\">130000</span> │ <span style=\"color: #008000; text-decoration-color: #008000\"> █▆▁ </span> │  │\n",
              "│ │        │        │        │        │        │       │        │ <span style=\"color: #008080; text-decoration-color: #008080\">   00</span> │ <span style=\"color: #008080; text-decoration-color: #008080\">     0</span> │ <span style=\"color: #008000; text-decoration-color: #008000\">  █  </span> │  │\n",
              "│ │ <span style=\"color: #af87ff; text-decoration-color: #af87ff\">br_000</span> │ <span style=\"color: #008080; text-decoration-color: #008080\"> 62000</span> │ <span style=\"color: #008080; text-decoration-color: #008080\">  0.18</span> │ <span style=\"color: #008080; text-decoration-color: #008080\">600000</span> │ <span style=\"color: #008080; text-decoration-color: #008080\">550000</span> │ <span style=\"color: #008080; text-decoration-color: #008080\">    0</span> │ <span style=\"color: #008080; text-decoration-color: #008080\">170000</span> │ <span style=\"color: #008080; text-decoration-color: #008080\">13000</span> │ <span style=\"color: #008080; text-decoration-color: #008080\">130000</span> │ <span style=\"color: #008000; text-decoration-color: #008000\"> █▆▁ </span> │  │\n",
              "│ │        │        │        │        │        │       │        │ <span style=\"color: #008080; text-decoration-color: #008080\">   00</span> │ <span style=\"color: #008080; text-decoration-color: #008080\">     0</span> │ <span style=\"color: #008000; text-decoration-color: #008000\">  █  </span> │  │\n",
              "│ │ <span style=\"color: #af87ff; text-decoration-color: #af87ff\">bs_000</span> │ <span style=\"color: #008080; text-decoration-color: #008080\">   930</span> │ <span style=\"color: #008080; text-decoration-color: #008080\">  0.99</span> │ <span style=\"color: #008080; text-decoration-color: #008080\"> 81000</span> │ <span style=\"color: #008080; text-decoration-color: #008080\"> 85000</span> │ <span style=\"color: #008080; text-decoration-color: #008080\">    0</span> │ <span style=\"color: #008080; text-decoration-color: #008080\"> 17000</span> │ <span style=\"color: #008080; text-decoration-color: #008080\">12000</span> │ <span style=\"color: #008080; text-decoration-color: #008080\">100000</span> │ <span style=\"color: #008000; text-decoration-color: #008000\"> █▁  </span> │  │\n",
              "│ │        │        │        │        │        │       │        │ <span style=\"color: #008080; text-decoration-color: #008080\">    0</span> │ <span style=\"color: #008080; text-decoration-color: #008080\">     0</span> │       │  │\n",
              "│ │ <span style=\"color: #af87ff; text-decoration-color: #af87ff\">bt_000</span> │ <span style=\"color: #008080; text-decoration-color: #008080\">   200</span> │ <span style=\"color: #008080; text-decoration-color: #008080\">     1</span> │ <span style=\"color: #008080; text-decoration-color: #008080\"> 61000</span> │ <span style=\"color: #008080; text-decoration-color: #008080\">260000</span> │ <span style=\"color: #008080; text-decoration-color: #008080\">    0</span> │ <span style=\"color: #008080; text-decoration-color: #008080\">   880</span> │ <span style=\"color: #008080; text-decoration-color: #008080\">49000</span> │ <span style=\"color: #008080; text-decoration-color: #008080\">430000</span> │ <span style=\"color: #008000; text-decoration-color: #008000\">  █  </span> │  │\n",
              "│ │        │        │        │        │        │       │        │       │ <span style=\"color: #008080; text-decoration-color: #008080\">    00</span> │       │  │\n",
              "│ │ <span style=\"color: #af87ff; text-decoration-color: #af87ff\">bu_000</span> │ <span style=\"color: #008080; text-decoration-color: #008080\">   880</span> │ <span style=\"color: #008080; text-decoration-color: #008080\">  0.99</span> │ <span style=\"color: #008080; text-decoration-color: #008080\">460000</span> │ <span style=\"color: #008080; text-decoration-color: #008080\">110000</span> │ <span style=\"color: #008080; text-decoration-color: #008080\">    0</span> │ <span style=\"color: #008080; text-decoration-color: #008080\">110000</span> │ <span style=\"color: #008080; text-decoration-color: #008080\">39000</span> │ <span style=\"color: #008080; text-decoration-color: #008080\">230000</span> │ <span style=\"color: #008000; text-decoration-color: #008000\">  █  </span> │  │\n",
              "│ │        │        │        │ <span style=\"color: #008080; text-decoration-color: #008080\">     0</span> │ <span style=\"color: #008080; text-decoration-color: #008080\">    00</span> │       │        │ <span style=\"color: #008080; text-decoration-color: #008080\">   00</span> │ <span style=\"color: #008080; text-decoration-color: #008080\">   000</span> │       │  │\n",
              "│ │ <span style=\"color: #af87ff; text-decoration-color: #af87ff\">bv_000</span> │ <span style=\"color: #008080; text-decoration-color: #008080\">   880</span> │ <span style=\"color: #008080; text-decoration-color: #008080\">  0.99</span> │ <span style=\"color: #008080; text-decoration-color: #008080\">460000</span> │ <span style=\"color: #008080; text-decoration-color: #008080\">110000</span> │ <span style=\"color: #008080; text-decoration-color: #008080\">    0</span> │ <span style=\"color: #008080; text-decoration-color: #008080\">110000</span> │ <span style=\"color: #008080; text-decoration-color: #008080\">39000</span> │ <span style=\"color: #008080; text-decoration-color: #008080\">230000</span> │ <span style=\"color: #008000; text-decoration-color: #008000\">  █  </span> │  │\n",
              "│ │        │        │        │ <span style=\"color: #008080; text-decoration-color: #008080\">     0</span> │ <span style=\"color: #008080; text-decoration-color: #008080\">    00</span> │       │        │ <span style=\"color: #008080; text-decoration-color: #008080\">   00</span> │ <span style=\"color: #008080; text-decoration-color: #008080\">   000</span> │       │  │\n",
              "│ │ <span style=\"color: #af87ff; text-decoration-color: #af87ff\">bx_000</span> │ <span style=\"color: #008080; text-decoration-color: #008080\">  4100</span> │ <span style=\"color: #008080; text-decoration-color: #008080\">  0.95</span> │ <span style=\"color: #008080; text-decoration-color: #008080\">420000</span> │ <span style=\"color: #008080; text-decoration-color: #008080\">110000</span> │ <span style=\"color: #008080; text-decoration-color: #008080\">  170</span> │ <span style=\"color: #008080; text-decoration-color: #008080\"> 91000</span> │ <span style=\"color: #008080; text-decoration-color: #008080\">36000</span> │ <span style=\"color: #008080; text-decoration-color: #008080\">530000</span> │ <span style=\"color: #008000; text-decoration-color: #008000\">  █  </span> │  │\n",
              "│ │        │        │        │ <span style=\"color: #008080; text-decoration-color: #008080\">     0</span> │ <span style=\"color: #008080; text-decoration-color: #008080\">    00</span> │       │        │ <span style=\"color: #008080; text-decoration-color: #008080\">   00</span> │ <span style=\"color: #008080; text-decoration-color: #008080\">   000</span> │       │  │\n",
              "│ │ <span style=\"color: #af87ff; text-decoration-color: #af87ff\">by_000</span> │ <span style=\"color: #008080; text-decoration-color: #008080\">   580</span> │ <span style=\"color: #008080; text-decoration-color: #008080\">  0.99</span> │ <span style=\"color: #008080; text-decoration-color: #008080\"> 22000</span> │ <span style=\"color: #008080; text-decoration-color: #008080\"> 54000</span> │ <span style=\"color: #008080; text-decoration-color: #008080\">    0</span> │ <span style=\"color: #008080; text-decoration-color: #008080\">   220</span> │ <span style=\"color: #008080; text-decoration-color: #008080\">20000</span> │ <span style=\"color: #008080; text-decoration-color: #008080\">100000</span> │ <span style=\"color: #008000; text-decoration-color: #008000\">  █  </span> │  │\n",
              "│ │        │        │        │        │        │       │        │       │ <span style=\"color: #008080; text-decoration-color: #008080\">     0</span> │       │  │\n",
              "│ │ <span style=\"color: #af87ff; text-decoration-color: #af87ff\">bz_000</span> │ <span style=\"color: #008080; text-decoration-color: #008080\">  3500</span> │ <span style=\"color: #008080; text-decoration-color: #008080\">  0.95</span> │ <span style=\"color: #008080; text-decoration-color: #008080\">100000</span> │ <span style=\"color: #008080; text-decoration-color: #008080\">640000</span> │ <span style=\"color: #008080; text-decoration-color: #008080\">    0</span> │ <span style=\"color: #008080; text-decoration-color: #008080\">     8</span> │ <span style=\"color: #008080; text-decoration-color: #008080\">14000</span> │ <span style=\"color: #008080; text-decoration-color: #008080\">410000</span> │ <span style=\"color: #008000; text-decoration-color: #008000\">  █  </span> │  │\n",
              "│ │        │        │        │        │        │       │        │       │ <span style=\"color: #008080; text-decoration-color: #008080\">    00</span> │       │  │\n",
              "│ │ <span style=\"color: #af87ff; text-decoration-color: #af87ff\">ca_000</span> │ <span style=\"color: #008080; text-decoration-color: #008080\">  5600</span> │ <span style=\"color: #008080; text-decoration-color: #008080\">  0.93</span> │ <span style=\"color: #008080; text-decoration-color: #008080\"> 39000</span> │ <span style=\"color: #008080; text-decoration-color: #008080\"> 37000</span> │ <span style=\"color: #008080; text-decoration-color: #008080\">    0</span> │ <span style=\"color: #008080; text-decoration-color: #008080\">  7000</span> │ <span style=\"color: #008080; text-decoration-color: #008080\">68000</span> │ <span style=\"color: #008080; text-decoration-color: #008080\">120000</span> │ <span style=\"color: #008000; text-decoration-color: #008000\">█▂▂▂▂</span> │  │\n",
              "│ │        │        │        │        │        │       │        │       │        │ <span style=\"color: #008000; text-decoration-color: #008000\">  ▂  </span> │  │\n",
              "│ │ <span style=\"color: #af87ff; text-decoration-color: #af87ff\">cb_000</span> │ <span style=\"color: #008080; text-decoration-color: #008080\">   930</span> │ <span style=\"color: #008080; text-decoration-color: #008080\">  0.99</span> │ <span style=\"color: #008080; text-decoration-color: #008080\">410000</span> │ <span style=\"color: #008080; text-decoration-color: #008080\">370000</span> │ <span style=\"color: #008080; text-decoration-color: #008080\">    0</span> │ <span style=\"color: #008080; text-decoration-color: #008080\"> 78000</span> │ <span style=\"color: #008080; text-decoration-color: #008080\">71000</span> │ <span style=\"color: #008080; text-decoration-color: #008080\">120000</span> │ <span style=\"color: #008000; text-decoration-color: #008000\">█▃▂▂▂</span> │  │\n",
              "│ │        │        │        │        │        │       │        │ <span style=\"color: #008080; text-decoration-color: #008080\">    0</span> │ <span style=\"color: #008080; text-decoration-color: #008080\">     0</span> │ <span style=\"color: #008000; text-decoration-color: #008000\">  ▂  </span> │  │\n",
              "│ │ <span style=\"color: #af87ff; text-decoration-color: #af87ff\">cc_000</span> │ <span style=\"color: #008080; text-decoration-color: #008080\">  4100</span> │ <span style=\"color: #008080; text-decoration-color: #008080\">  0.95</span> │ <span style=\"color: #008080; text-decoration-color: #008080\">380000</span> │ <span style=\"color: #008080; text-decoration-color: #008080\">990000</span> │ <span style=\"color: #008080; text-decoration-color: #008080\">    0</span> │ <span style=\"color: #008080; text-decoration-color: #008080\"> 63000</span> │ <span style=\"color: #008080; text-decoration-color: #008080\">34000</span> │ <span style=\"color: #008080; text-decoration-color: #008080\">510000</span> │ <span style=\"color: #008000; text-decoration-color: #008000\">  █  </span> │  │\n",
              "│ │        │        │        │ <span style=\"color: #008080; text-decoration-color: #008080\">     0</span> │ <span style=\"color: #008080; text-decoration-color: #008080\">     0</span> │       │        │ <span style=\"color: #008080; text-decoration-color: #008080\">   00</span> │ <span style=\"color: #008080; text-decoration-color: #008080\">   000</span> │       │  │\n",
              "│ │ <span style=\"color: #af87ff; text-decoration-color: #af87ff\">cd_000</span> │ <span style=\"color: #008080; text-decoration-color: #008080\">   860</span> │ <span style=\"color: #008080; text-decoration-color: #008080\">  0.99</span> │ <span style=\"color: #008080; text-decoration-color: #008080\">120000</span> │ <span style=\"color: #008080; text-decoration-color: #008080\">     0</span> │ <span style=\"color: #008080; text-decoration-color: #008080\">12000</span> │ <span style=\"color: #008080; text-decoration-color: #008080\">120000</span> │ <span style=\"color: #008080; text-decoration-color: #008080\">12000</span> │ <span style=\"color: #008080; text-decoration-color: #008080\">120000</span> │ <span style=\"color: #008000; text-decoration-color: #008000\">   █ </span> │  │\n",
              "│ │        │        │        │ <span style=\"color: #008080; text-decoration-color: #008080\">     0</span> │        │ <span style=\"color: #008080; text-decoration-color: #008080\">   00</span> │ <span style=\"color: #008080; text-decoration-color: #008080\">     0</span> │ <span style=\"color: #008080; text-decoration-color: #008080\">   00</span> │ <span style=\"color: #008080; text-decoration-color: #008080\">     0</span> │       │  │\n",
              "│ │ <span style=\"color: #af87ff; text-decoration-color: #af87ff\">ce_000</span> │ <span style=\"color: #008080; text-decoration-color: #008080\">  3200</span> │ <span style=\"color: #008080; text-decoration-color: #008080\">  0.96</span> │ <span style=\"color: #008080; text-decoration-color: #008080\"> 64000</span> │ <span style=\"color: #008080; text-decoration-color: #008080\">140000</span> │ <span style=\"color: #008080; text-decoration-color: #008080\">    0</span> │ <span style=\"color: #008080; text-decoration-color: #008080\">   260</span> │ <span style=\"color: #008080; text-decoration-color: #008080\">87000</span> │ <span style=\"color: #008080; text-decoration-color: #008080\">490000</span> │ <span style=\"color: #008000; text-decoration-color: #008000\">  █  </span> │  │\n",
              "│ │        │        │        │        │        │       │        │       │ <span style=\"color: #008080; text-decoration-color: #008080\">     0</span> │       │  │\n",
              "│ │ <span style=\"color: #af87ff; text-decoration-color: #af87ff\">cf_000</span> │ <span style=\"color: #008080; text-decoration-color: #008080\"> 19000</span> │ <span style=\"color: #008080; text-decoration-color: #008080\">  0.75</span> │ <span style=\"color: #008080; text-decoration-color: #008080\">150000</span> │ <span style=\"color: #008080; text-decoration-color: #008080\">360000</span> │ <span style=\"color: #008080; text-decoration-color: #008080\">    0</span> │ <span style=\"color: #008080; text-decoration-color: #008080\">     0</span> │ <span style=\"color: #008080; text-decoration-color: #008080\">    2</span> │ <span style=\"color: #008080; text-decoration-color: #008080\">860000</span> │ <span style=\"color: #008000; text-decoration-color: #008000\">  █  </span> │  │\n",
              "│ │        │        │        │        │ <span style=\"color: #008080; text-decoration-color: #008080\">    00</span> │       │        │       │ <span style=\"color: #008080; text-decoration-color: #008080\">  0000</span> │       │  │\n",
              "│ │ <span style=\"color: #af87ff; text-decoration-color: #af87ff\">cg_000</span> │ <span style=\"color: #008080; text-decoration-color: #008080\"> 19000</span> │ <span style=\"color: #008080; text-decoration-color: #008080\">  0.75</span> │ <span style=\"color: #008080; text-decoration-color: #008080\">    92</span> │ <span style=\"color: #008080; text-decoration-color: #008080\">   370</span> │ <span style=\"color: #008080; text-decoration-color: #008080\">    0</span> │ <span style=\"color: #008080; text-decoration-color: #008080\">     8</span> │ <span style=\"color: #008080; text-decoration-color: #008080\">  100</span> │ <span style=\"color: #008080; text-decoration-color: #008080\"> 21000</span> │ <span style=\"color: #008000; text-decoration-color: #008000\">  █  </span> │  │\n",
              "│ │ <span style=\"color: #af87ff; text-decoration-color: #af87ff\">ch_000</span> │ <span style=\"color: #008080; text-decoration-color: #008080\"> 19000</span> │ <span style=\"color: #008080; text-decoration-color: #008080\">  0.75</span> │ <span style=\"color: #008080; text-decoration-color: #008080\">0.0004</span> │ <span style=\"color: #008080; text-decoration-color: #008080\">  0.03</span> │ <span style=\"color: #008080; text-decoration-color: #008080\">    0</span> │ <span style=\"color: #008080; text-decoration-color: #008080\">     0</span> │ <span style=\"color: #008080; text-decoration-color: #008080\">    0</span> │ <span style=\"color: #008080; text-decoration-color: #008080\">     2</span> │ <span style=\"color: #008000; text-decoration-color: #008000\">  █  </span> │  │\n",
              "│ │        │        │        │ <span style=\"color: #008080; text-decoration-color: #008080\">     5</span> │        │       │        │       │        │       │  │\n",
              "│ │ <span style=\"color: #af87ff; text-decoration-color: #af87ff\">ci_000</span> │ <span style=\"color: #008080; text-decoration-color: #008080\">   420</span> │ <span style=\"color: #008080; text-decoration-color: #008080\">  0.99</span> │ <span style=\"color: #008080; text-decoration-color: #008080\">350000</span> │ <span style=\"color: #008080; text-decoration-color: #008080\">840000</span> │ <span style=\"color: #008080; text-decoration-color: #008080\">    0</span> │ <span style=\"color: #008080; text-decoration-color: #008080\"> 49000</span> │ <span style=\"color: #008080; text-decoration-color: #008080\">30000</span> │ <span style=\"color: #008080; text-decoration-color: #008080\">140000</span> │ <span style=\"color: #008000; text-decoration-color: #008000\">  █  </span> │  │\n",
              "│ │        │        │        │ <span style=\"color: #008080; text-decoration-color: #008080\">     0</span> │ <span style=\"color: #008080; text-decoration-color: #008080\">     0</span> │       │        │ <span style=\"color: #008080; text-decoration-color: #008080\">   00</span> │ <span style=\"color: #008080; text-decoration-color: #008080\">   000</span> │       │  │\n",
              "│ │ <span style=\"color: #af87ff; text-decoration-color: #af87ff\">cj_000</span> │ <span style=\"color: #008080; text-decoration-color: #008080\">   420</span> │ <span style=\"color: #008080; text-decoration-color: #008080\">  0.99</span> │ <span style=\"color: #008080; text-decoration-color: #008080\">110000</span> │ <span style=\"color: #008080; text-decoration-color: #008080\">120000</span> │ <span style=\"color: #008080; text-decoration-color: #008080\">    0</span> │ <span style=\"color: #008080; text-decoration-color: #008080\">     0</span> │ <span style=\"color: #008080; text-decoration-color: #008080\">    0</span> │ <span style=\"color: #008080; text-decoration-color: #008080\">740000</span> │ <span style=\"color: #008000; text-decoration-color: #008000\">  █  </span> │  │\n",
              "│ │        │        │        │        │ <span style=\"color: #008080; text-decoration-color: #008080\">     0</span> │       │        │       │ <span style=\"color: #008080; text-decoration-color: #008080\">    00</span> │       │  │\n",
              "│ │ <span style=\"color: #af87ff; text-decoration-color: #af87ff\">ck_000</span> │ <span style=\"color: #008080; text-decoration-color: #008080\">   420</span> │ <span style=\"color: #008080; text-decoration-color: #008080\">  0.99</span> │ <span style=\"color: #008080; text-decoration-color: #008080\">720000</span> │ <span style=\"color: #008080; text-decoration-color: #008080\">220000</span> │ <span style=\"color: #008080; text-decoration-color: #008080\">    0</span> │ <span style=\"color: #008080; text-decoration-color: #008080\"> 15000</span> │ <span style=\"color: #008080; text-decoration-color: #008080\">55000</span> │ <span style=\"color: #008080; text-decoration-color: #008080\">550000</span> │ <span style=\"color: #008000; text-decoration-color: #008000\">  █  </span> │  │\n",
              "│ │        │        │        │        │ <span style=\"color: #008080; text-decoration-color: #008080\">     0</span> │       │        │ <span style=\"color: #008080; text-decoration-color: #008080\">    0</span> │ <span style=\"color: #008080; text-decoration-color: #008080\">    00</span> │       │  │\n",
              "│ │ <span style=\"color: #af87ff; text-decoration-color: #af87ff\">cl_000</span> │ <span style=\"color: #008080; text-decoration-color: #008080\"> 12000</span> │ <span style=\"color: #008080; text-decoration-color: #008080\">  0.84</span> │ <span style=\"color: #008080; text-decoration-color: #008080\">   360</span> │ <span style=\"color: #008080; text-decoration-color: #008080\">  4800</span> │ <span style=\"color: #008080; text-decoration-color: #008080\">    0</span> │ <span style=\"color: #008080; text-decoration-color: #008080\">     0</span> │ <span style=\"color: #008080; text-decoration-color: #008080\">    2</span> │ <span style=\"color: #008080; text-decoration-color: #008080\">130000</span> │ <span style=\"color: #008000; text-decoration-color: #008000\">  █  </span> │  │\n",
              "│ │ <span style=\"color: #af87ff; text-decoration-color: #af87ff\">cm_000</span> │ <span style=\"color: #008080; text-decoration-color: #008080\"> 12000</span> │ <span style=\"color: #008080; text-decoration-color: #008080\">  0.84</span> │ <span style=\"color: #008080; text-decoration-color: #008080\">   350</span> │ <span style=\"color: #008080; text-decoration-color: #008080\">  1800</span> │ <span style=\"color: #008080; text-decoration-color: #008080\">    0</span> │ <span style=\"color: #008080; text-decoration-color: #008080\">     0</span> │ <span style=\"color: #008080; text-decoration-color: #008080\">  100</span> │ <span style=\"color: #008080; text-decoration-color: #008080\"> 98000</span> │ <span style=\"color: #008000; text-decoration-color: #008000\">  █  </span> │  │\n",
              "│ │ <span style=\"color: #af87ff; text-decoration-color: #af87ff\">cn_000</span> │ <span style=\"color: #008080; text-decoration-color: #008080\">   880</span> │ <span style=\"color: #008080; text-decoration-color: #008080\">  0.99</span> │ <span style=\"color: #008080; text-decoration-color: #008080\">  2700</span> │ <span style=\"color: #008080; text-decoration-color: #008080\"> 75000</span> │ <span style=\"color: #008080; text-decoration-color: #008080\">    0</span> │ <span style=\"color: #008080; text-decoration-color: #008080\">     0</span> │ <span style=\"color: #008080; text-decoration-color: #008080\">    0</span> │ <span style=\"color: #008080; text-decoration-color: #008080\">130000</span> │ <span style=\"color: #008000; text-decoration-color: #008000\">  █  </span> │  │\n",
              "│ │        │        │        │        │        │       │        │       │ <span style=\"color: #008080; text-decoration-color: #008080\">    00</span> │       │  │\n",
              "│ │ <span style=\"color: #af87ff; text-decoration-color: #af87ff\">cn_001</span> │ <span style=\"color: #008080; text-decoration-color: #008080\">   880</span> │ <span style=\"color: #008080; text-decoration-color: #008080\">  0.99</span> │ <span style=\"color: #008080; text-decoration-color: #008080\"> 24000</span> │ <span style=\"color: #008080; text-decoration-color: #008080\">310000</span> │ <span style=\"color: #008080; text-decoration-color: #008080\">    0</span> │ <span style=\"color: #008080; text-decoration-color: #008080\">     0</span> │ <span style=\"color: #008080; text-decoration-color: #008080\">    0</span> │ <span style=\"color: #008080; text-decoration-color: #008080\">450000</span> │ <span style=\"color: #008000; text-decoration-color: #008000\">  █  </span> │  │\n",
              "│ │        │        │        │        │        │       │        │       │ <span style=\"color: #008080; text-decoration-color: #008080\">    00</span> │       │  │\n",
              "│ │ <span style=\"color: #af87ff; text-decoration-color: #af87ff\">cn_002</span> │ <span style=\"color: #008080; text-decoration-color: #008080\">   880</span> │ <span style=\"color: #008080; text-decoration-color: #008080\">  0.99</span> │ <span style=\"color: #008080; text-decoration-color: #008080\">170000</span> │ <span style=\"color: #008080; text-decoration-color: #008080\">110000</span> │ <span style=\"color: #008080; text-decoration-color: #008080\">    0</span> │ <span style=\"color: #008080; text-decoration-color: #008080\">     0</span> │ <span style=\"color: #008080; text-decoration-color: #008080\"> 8000</span> │ <span style=\"color: #008080; text-decoration-color: #008080\">840000</span> │ <span style=\"color: #008000; text-decoration-color: #008000\">  █  </span> │  │\n",
              "│ │        │        │        │        │ <span style=\"color: #008080; text-decoration-color: #008080\">     0</span> │       │        │       │ <span style=\"color: #008080; text-decoration-color: #008080\">    00</span> │       │  │\n",
              "│ │ <span style=\"color: #af87ff; text-decoration-color: #af87ff\">cn_003</span> │ <span style=\"color: #008080; text-decoration-color: #008080\">   880</span> │ <span style=\"color: #008080; text-decoration-color: #008080\">  0.99</span> │ <span style=\"color: #008080; text-decoration-color: #008080\">540000</span> │ <span style=\"color: #008080; text-decoration-color: #008080\">230000</span> │ <span style=\"color: #008080; text-decoration-color: #008080\">    0</span> │ <span style=\"color: #008080; text-decoration-color: #008080\">  4700</span> │ <span style=\"color: #008080; text-decoration-color: #008080\">24000</span> │ <span style=\"color: #008080; text-decoration-color: #008080\">160000</span> │ <span style=\"color: #008000; text-decoration-color: #008000\">  █  </span> │  │\n",
              "│ │        │        │        │        │ <span style=\"color: #008080; text-decoration-color: #008080\">     0</span> │       │        │ <span style=\"color: #008080; text-decoration-color: #008080\">    0</span> │ <span style=\"color: #008080; text-decoration-color: #008080\">   000</span> │       │  │\n",
              "│ │ <span style=\"color: #af87ff; text-decoration-color: #af87ff\">cn_004</span> │ <span style=\"color: #008080; text-decoration-color: #008080\">   880</span> │ <span style=\"color: #008080; text-decoration-color: #008080\">  0.99</span> │ <span style=\"color: #008080; text-decoration-color: #008080\">130000</span> │ <span style=\"color: #008080; text-decoration-color: #008080\">340000</span> │ <span style=\"color: #008080; text-decoration-color: #008080\">    0</span> │ <span style=\"color: #008080; text-decoration-color: #008080\"> 20000</span> │ <span style=\"color: #008080; text-decoration-color: #008080\">12000</span> │ <span style=\"color: #008080; text-decoration-color: #008080\">170000</span> │ <span style=\"color: #008000; text-decoration-color: #008000\">  █  </span> │  │\n",
              "│ │        │        │        │ <span style=\"color: #008080; text-decoration-color: #008080\">     0</span> │ <span style=\"color: #008080; text-decoration-color: #008080\">     0</span> │       │        │ <span style=\"color: #008080; text-decoration-color: #008080\">   00</span> │ <span style=\"color: #008080; text-decoration-color: #008080\">   000</span> │       │  │\n",
              "│ │ <span style=\"color: #af87ff; text-decoration-color: #af87ff\">cn_005</span> │ <span style=\"color: #008080; text-decoration-color: #008080\">   880</span> │ <span style=\"color: #008080; text-decoration-color: #008080\">  0.99</span> │ <span style=\"color: #008080; text-decoration-color: #008080\">130000</span> │ <span style=\"color: #008080; text-decoration-color: #008080\">320000</span> │ <span style=\"color: #008080; text-decoration-color: #008080\">    0</span> │ <span style=\"color: #008080; text-decoration-color: #008080\">  5200</span> │ <span style=\"color: #008080; text-decoration-color: #008080\">15000</span> │ <span style=\"color: #008080; text-decoration-color: #008080\">120000</span> │ <span style=\"color: #008000; text-decoration-color: #008000\">  █  </span> │  │\n",
              "│ │        │        │        │ <span style=\"color: #008080; text-decoration-color: #008080\">     0</span> │ <span style=\"color: #008080; text-decoration-color: #008080\">     0</span> │       │        │ <span style=\"color: #008080; text-decoration-color: #008080\">   00</span> │ <span style=\"color: #008080; text-decoration-color: #008080\">   000</span> │       │  │\n",
              "│ │ <span style=\"color: #af87ff; text-decoration-color: #af87ff\">cn_006</span> │ <span style=\"color: #008080; text-decoration-color: #008080\">   880</span> │ <span style=\"color: #008080; text-decoration-color: #008080\">  0.99</span> │ <span style=\"color: #008080; text-decoration-color: #008080\">410000</span> │ <span style=\"color: #008080; text-decoration-color: #008080\">130000</span> │ <span style=\"color: #008080; text-decoration-color: #008080\">    0</span> │ <span style=\"color: #008080; text-decoration-color: #008080\">   630</span> │ <span style=\"color: #008080; text-decoration-color: #008080\">45000</span> │ <span style=\"color: #008080; text-decoration-color: #008080\">720000</span> │ <span style=\"color: #008000; text-decoration-color: #008000\">  █  </span> │  │\n",
              "│ │        │        │        │        │ <span style=\"color: #008080; text-decoration-color: #008080\">     0</span> │       │        │ <span style=\"color: #008080; text-decoration-color: #008080\">    0</span> │ <span style=\"color: #008080; text-decoration-color: #008080\">    00</span> │       │  │\n",
              "│ │ <span style=\"color: #af87ff; text-decoration-color: #af87ff\">cn_007</span> │ <span style=\"color: #008080; text-decoration-color: #008080\">   880</span> │ <span style=\"color: #008080; text-decoration-color: #008080\">  0.99</span> │ <span style=\"color: #008080; text-decoration-color: #008080\"> 65000</span> │ <span style=\"color: #008080; text-decoration-color: #008080\">400000</span> │ <span style=\"color: #008080; text-decoration-color: #008080\">    0</span> │ <span style=\"color: #008080; text-decoration-color: #008080\">    64</span> │ <span style=\"color: #008080; text-decoration-color: #008080\">31000</span> │ <span style=\"color: #008080; text-decoration-color: #008080\">330000</span> │ <span style=\"color: #008000; text-decoration-color: #008000\">  █  </span> │  │\n",
              "│ │        │        │        │        │        │       │        │       │ <span style=\"color: #008080; text-decoration-color: #008080\">    00</span> │       │  │\n",
              "│ │ <span style=\"color: #af87ff; text-decoration-color: #af87ff\">cn_008</span> │ <span style=\"color: #008080; text-decoration-color: #008080\">   880</span> │ <span style=\"color: #008080; text-decoration-color: #008080\">  0.99</span> │ <span style=\"color: #008080; text-decoration-color: #008080\"> 20000</span> │ <span style=\"color: #008080; text-decoration-color: #008080\">190000</span> │ <span style=\"color: #008080; text-decoration-color: #008080\">    0</span> │ <span style=\"color: #008080; text-decoration-color: #008080\">     0</span> │ <span style=\"color: #008080; text-decoration-color: #008080\"> 5300</span> │ <span style=\"color: #008080; text-decoration-color: #008080\">960000</span> │ <span style=\"color: #008000; text-decoration-color: #008000\">  █  </span> │  │\n",
              "│ │        │        │        │        │        │       │        │       │ <span style=\"color: #008080; text-decoration-color: #008080\">     0</span> │       │  │\n",
              "│ │ <span style=\"color: #af87ff; text-decoration-color: #af87ff\">cn_009</span> │ <span style=\"color: #008080; text-decoration-color: #008080\">   880</span> │ <span style=\"color: #008080; text-decoration-color: #008080\">  0.99</span> │ <span style=\"color: #008080; text-decoration-color: #008080\">  8000</span> │ <span style=\"color: #008080; text-decoration-color: #008080\">250000</span> │ <span style=\"color: #008080; text-decoration-color: #008080\">    0</span> │ <span style=\"color: #008080; text-decoration-color: #008080\">     0</span> │ <span style=\"color: #008080; text-decoration-color: #008080\">  290</span> │ <span style=\"color: #008080; text-decoration-color: #008080\">360000</span> │ <span style=\"color: #008000; text-decoration-color: #008000\">  █  </span> │  │\n",
              "│ │        │        │        │        │        │       │        │       │ <span style=\"color: #008080; text-decoration-color: #008080\">    00</span> │       │  │\n",
              "│ │ <span style=\"color: #af87ff; text-decoration-color: #af87ff\">co_000</span> │ <span style=\"color: #008080; text-decoration-color: #008080\"> 19000</span> │ <span style=\"color: #008080; text-decoration-color: #008080\">  0.75</span> │ <span style=\"color: #008080; text-decoration-color: #008080\">150000</span> │ <span style=\"color: #008080; text-decoration-color: #008080\">360000</span> │ <span style=\"color: #008080; text-decoration-color: #008080\">    0</span> │ <span style=\"color: #008080; text-decoration-color: #008080\">     0</span> │ <span style=\"color: #008080; text-decoration-color: #008080\">   74</span> │ <span style=\"color: #008080; text-decoration-color: #008080\">860000</span> │ <span style=\"color: #008000; text-decoration-color: #008000\">  █  </span> │  │\n",
              "│ │        │        │        │        │ <span style=\"color: #008080; text-decoration-color: #008080\">    00</span> │       │        │       │ <span style=\"color: #008080; text-decoration-color: #008080\">  0000</span> │       │  │\n",
              "│ │ <span style=\"color: #af87ff; text-decoration-color: #af87ff\">cp_000</span> │ <span style=\"color: #008080; text-decoration-color: #008080\">  3500</span> │ <span style=\"color: #008080; text-decoration-color: #008080\">  0.95</span> │ <span style=\"color: #008080; text-decoration-color: #008080\">   550</span> │ <span style=\"color: #008080; text-decoration-color: #008080\">  7300</span> │ <span style=\"color: #008080; text-decoration-color: #008080\">    0</span> │ <span style=\"color: #008080; text-decoration-color: #008080\">     4</span> │ <span style=\"color: #008080; text-decoration-color: #008080\">   82</span> │ <span style=\"color: #008080; text-decoration-color: #008080\">500000</span> │ <span style=\"color: #008000; text-decoration-color: #008000\">  █  </span> │  │\n",
              "│ │ <span style=\"color: #af87ff; text-decoration-color: #af87ff\">cq_000</span> │ <span style=\"color: #008080; text-decoration-color: #008080\">   880</span> │ <span style=\"color: #008080; text-decoration-color: #008080\">  0.99</span> │ <span style=\"color: #008080; text-decoration-color: #008080\">460000</span> │ <span style=\"color: #008080; text-decoration-color: #008080\">110000</span> │ <span style=\"color: #008080; text-decoration-color: #008080\">    0</span> │ <span style=\"color: #008080; text-decoration-color: #008080\">110000</span> │ <span style=\"color: #008080; text-decoration-color: #008080\">39000</span> │ <span style=\"color: #008080; text-decoration-color: #008080\">230000</span> │ <span style=\"color: #008000; text-decoration-color: #008000\">  █  </span> │  │\n",
              "│ │        │        │        │ <span style=\"color: #008080; text-decoration-color: #008080\">     0</span> │ <span style=\"color: #008080; text-decoration-color: #008080\">    00</span> │       │        │ <span style=\"color: #008080; text-decoration-color: #008080\">   00</span> │ <span style=\"color: #008080; text-decoration-color: #008080\">   000</span> │       │  │\n",
              "│ │ <span style=\"color: #af87ff; text-decoration-color: #af87ff\">cr_000</span> │ <span style=\"color: #008080; text-decoration-color: #008080\"> 59000</span> │ <span style=\"color: #008080; text-decoration-color: #008080\">  0.23</span> │ <span style=\"color: #008080; text-decoration-color: #008080\">    40</span> │ <span style=\"color: #008080; text-decoration-color: #008080\">  1000</span> │ <span style=\"color: #008080; text-decoration-color: #008080\">    0</span> │ <span style=\"color: #008080; text-decoration-color: #008080\">     0</span> │ <span style=\"color: #008080; text-decoration-color: #008080\">    0</span> │ <span style=\"color: #008080; text-decoration-color: #008080\"> 57000</span> │ <span style=\"color: #008000; text-decoration-color: #008000\">  █  </span> │  │\n",
              "│ │ <span style=\"color: #af87ff; text-decoration-color: #af87ff\">cs_000</span> │ <span style=\"color: #008080; text-decoration-color: #008080\">   860</span> │ <span style=\"color: #008080; text-decoration-color: #008080\">  0.99</span> │ <span style=\"color: #008080; text-decoration-color: #008080\">  5500</span> │ <span style=\"color: #008080; text-decoration-color: #008080\"> 11000</span> │ <span style=\"color: #008080; text-decoration-color: #008080\">    0</span> │ <span style=\"color: #008080; text-decoration-color: #008080\">  1200</span> │ <span style=\"color: #008080; text-decoration-color: #008080\"> 5700</span> │ <span style=\"color: #008080; text-decoration-color: #008080\">920000</span> │ <span style=\"color: #008000; text-decoration-color: #008000\">  █  </span> │  │\n",
              "│ │ <span style=\"color: #af87ff; text-decoration-color: #af87ff\">cs_001</span> │ <span style=\"color: #008080; text-decoration-color: #008080\">   860</span> │ <span style=\"color: #008080; text-decoration-color: #008080\">  0.99</span> │ <span style=\"color: #008080; text-decoration-color: #008080\">   790</span> │ <span style=\"color: #008080; text-decoration-color: #008080\">  2800</span> │ <span style=\"color: #008080; text-decoration-color: #008080\">    0</span> │ <span style=\"color: #008080; text-decoration-color: #008080\">    32</span> │ <span style=\"color: #008080; text-decoration-color: #008080\">  690</span> │ <span style=\"color: #008080; text-decoration-color: #008080\">440000</span> │ <span style=\"color: #008000; text-decoration-color: #008000\">  █  </span> │  │\n",
              "│ │ <span style=\"color: #af87ff; text-decoration-color: #af87ff\">cs_002</span> │ <span style=\"color: #008080; text-decoration-color: #008080\">   860</span> │ <span style=\"color: #008080; text-decoration-color: #008080\">  0.99</span> │ <span style=\"color: #008080; text-decoration-color: #008080\">240000</span> │ <span style=\"color: #008080; text-decoration-color: #008080\">130000</span> │ <span style=\"color: #008080; text-decoration-color: #008080\">    0</span> │ <span style=\"color: #008080; text-decoration-color: #008080\">   230</span> │ <span style=\"color: #008080; text-decoration-color: #008080\">95000</span> │ <span style=\"color: #008080; text-decoration-color: #008080\">660000</span> │ <span style=\"color: #008000; text-decoration-color: #008000\">  █  </span> │  │\n",
              "│ │        │        │        │        │ <span style=\"color: #008080; text-decoration-color: #008080\">     0</span> │       │        │       │ <span style=\"color: #008080; text-decoration-color: #008080\">    00</span> │       │  │\n",
              "│ │ <span style=\"color: #af87ff; text-decoration-color: #af87ff\">cs_003</span> │ <span style=\"color: #008080; text-decoration-color: #008080\">   860</span> │ <span style=\"color: #008080; text-decoration-color: #008080\">  0.99</span> │ <span style=\"color: #008080; text-decoration-color: #008080\">360000</span> │ <span style=\"color: #008080; text-decoration-color: #008080\">120000</span> │ <span style=\"color: #008080; text-decoration-color: #008080\">    0</span> │ <span style=\"color: #008080; text-decoration-color: #008080\">  3100</span> │ <span style=\"color: #008080; text-decoration-color: #008080\">30000</span> │ <span style=\"color: #008080; text-decoration-color: #008080\">620000</span> │ <span style=\"color: #008000; text-decoration-color: #008000\">  █  </span> │  │\n",
              "│ │        │        │        │        │ <span style=\"color: #008080; text-decoration-color: #008080\">     0</span> │       │        │ <span style=\"color: #008080; text-decoration-color: #008080\">    0</span> │ <span style=\"color: #008080; text-decoration-color: #008080\">    00</span> │       │  │\n",
              "│ │ <span style=\"color: #af87ff; text-decoration-color: #af87ff\">cs_004</span> │ <span style=\"color: #008080; text-decoration-color: #008080\">   860</span> │ <span style=\"color: #008080; text-decoration-color: #008080\">  0.99</span> │ <span style=\"color: #008080; text-decoration-color: #008080\">450000</span> │ <span style=\"color: #008080; text-decoration-color: #008080\">220000</span> │ <span style=\"color: #008080; text-decoration-color: #008080\">    0</span> │ <span style=\"color: #008080; text-decoration-color: #008080\">  2800</span> │ <span style=\"color: #008080; text-decoration-color: #008080\">21000</span> │ <span style=\"color: #008080; text-decoration-color: #008080\">150000</span> │ <span style=\"color: #008000; text-decoration-color: #008000\">  █  </span> │  │\n",
              "│ │        │        │        │        │ <span style=\"color: #008080; text-decoration-color: #008080\">     0</span> │       │        │ <span style=\"color: #008080; text-decoration-color: #008080\">    0</span> │ <span style=\"color: #008080; text-decoration-color: #008080\">   000</span> │       │  │\n",
              "│ │ <span style=\"color: #af87ff; text-decoration-color: #af87ff\">cs_005</span> │ <span style=\"color: #008080; text-decoration-color: #008080\">   860</span> │ <span style=\"color: #008080; text-decoration-color: #008080\">  0.99</span> │ <span style=\"color: #008080; text-decoration-color: #008080\">230000</span> │ <span style=\"color: #008080; text-decoration-color: #008080\">570000</span> │ <span style=\"color: #008080; text-decoration-color: #008080\">    0</span> │ <span style=\"color: #008080; text-decoration-color: #008080\"> 19000</span> │ <span style=\"color: #008080; text-decoration-color: #008080\">21000</span> │ <span style=\"color: #008080; text-decoration-color: #008080\">380000</span> │ <span style=\"color: #008000; text-decoration-color: #008000\">  █  </span> │  │\n",
              "│ │        │        │        │ <span style=\"color: #008080; text-decoration-color: #008080\">     0</span> │ <span style=\"color: #008080; text-decoration-color: #008080\">     0</span> │       │        │ <span style=\"color: #008080; text-decoration-color: #008080\">   00</span> │ <span style=\"color: #008080; text-decoration-color: #008080\">   000</span> │       │  │\n",
              "│ │ <span style=\"color: #af87ff; text-decoration-color: #af87ff\">cs_006</span> │ <span style=\"color: #008080; text-decoration-color: #008080\">   860</span> │ <span style=\"color: #008080; text-decoration-color: #008080\">  0.99</span> │ <span style=\"color: #008080; text-decoration-color: #008080\">550000</span> │ <span style=\"color: #008080; text-decoration-color: #008080\">120000</span> │ <span style=\"color: #008080; text-decoration-color: #008080\">    0</span> │ <span style=\"color: #008080; text-decoration-color: #008080\"> 13000</span> │ <span style=\"color: #008080; text-decoration-color: #008080\">69000</span> │ <span style=\"color: #008080; text-decoration-color: #008080\">740000</span> │ <span style=\"color: #008000; text-decoration-color: #008000\">  █  </span> │  │\n",
              "│ │        │        │        │        │ <span style=\"color: #008080; text-decoration-color: #008080\">     0</span> │       │        │ <span style=\"color: #008080; text-decoration-color: #008080\">    0</span> │ <span style=\"color: #008080; text-decoration-color: #008080\">    00</span> │       │  │\n",
              "│ │ <span style=\"color: #af87ff; text-decoration-color: #af87ff\">cs_007</span> │ <span style=\"color: #008080; text-decoration-color: #008080\">   860</span> │ <span style=\"color: #008080; text-decoration-color: #008080\">  0.99</span> │ <span style=\"color: #008080; text-decoration-color: #008080\"> 15000</span> │ <span style=\"color: #008080; text-decoration-color: #008080\"> 73000</span> │ <span style=\"color: #008080; text-decoration-color: #008080\">    0</span> │ <span style=\"color: #008080; text-decoration-color: #008080\">  1200</span> │ <span style=\"color: #008080; text-decoration-color: #008080\">18000</span> │ <span style=\"color: #008080; text-decoration-color: #008080\">130000</span> │ <span style=\"color: #008000; text-decoration-color: #008000\">  █  </span> │  │\n",
              "│ │        │        │        │        │        │       │        │       │ <span style=\"color: #008080; text-decoration-color: #008080\">    00</span> │       │  │\n",
              "│ │ <span style=\"color: #af87ff; text-decoration-color: #af87ff\">cs_008</span> │ <span style=\"color: #008080; text-decoration-color: #008080\">   860</span> │ <span style=\"color: #008080; text-decoration-color: #008080\">  0.99</span> │ <span style=\"color: #008080; text-decoration-color: #008080\">   250</span> │ <span style=\"color: #008080; text-decoration-color: #008080\"> 14000</span> │ <span style=\"color: #008080; text-decoration-color: #008080\">    0</span> │ <span style=\"color: #008080; text-decoration-color: #008080\">     2</span> │ <span style=\"color: #008080; text-decoration-color: #008080\">  150</span> │ <span style=\"color: #008080; text-decoration-color: #008080\">280000</span> │ <span style=\"color: #008000; text-decoration-color: #008000\">  █  </span> │  │\n",
              "│ │        │        │        │        │        │       │        │       │ <span style=\"color: #008080; text-decoration-color: #008080\">     0</span> │       │  │\n",
              "│ │ <span style=\"color: #af87ff; text-decoration-color: #af87ff\">cs_009</span> │ <span style=\"color: #008080; text-decoration-color: #008080\">   860</span> │ <span style=\"color: #008080; text-decoration-color: #008080\">  0.99</span> │ <span style=\"color: #008080; text-decoration-color: #008080\">  1000</span> │ <span style=\"color: #008080; text-decoration-color: #008080\">200000</span> │ <span style=\"color: #008080; text-decoration-color: #008080\">    0</span> │ <span style=\"color: #008080; text-decoration-color: #008080\">     0</span> │ <span style=\"color: #008080; text-decoration-color: #008080\">    0</span> │ <span style=\"color: #008080; text-decoration-color: #008080\">450000</span> │ <span style=\"color: #008000; text-decoration-color: #008000\">  █  </span> │  │\n",
              "│ │        │        │        │        │        │       │        │       │ <span style=\"color: #008080; text-decoration-color: #008080\">    00</span> │       │  │\n",
              "│ │ <span style=\"color: #af87ff; text-decoration-color: #af87ff\">ct_000</span> │ <span style=\"color: #008080; text-decoration-color: #008080\"> 18000</span> │ <span style=\"color: #008080; text-decoration-color: #008080\">  0.77</span> │ <span style=\"color: #008080; text-decoration-color: #008080\">   750</span> │ <span style=\"color: #008080; text-decoration-color: #008080\">  5300</span> │ <span style=\"color: #008080; text-decoration-color: #008080\">    0</span> │ <span style=\"color: #008080; text-decoration-color: #008080\">    40</span> │ <span style=\"color: #008080; text-decoration-color: #008080\">  670</span> │ <span style=\"color: #008080; text-decoration-color: #008080\">910000</span> │ <span style=\"color: #008000; text-decoration-color: #008000\">  █  </span> │  │\n",
              "│ │ <span style=\"color: #af87ff; text-decoration-color: #af87ff\">cu_000</span> │ <span style=\"color: #008080; text-decoration-color: #008080\"> 18000</span> │ <span style=\"color: #008080; text-decoration-color: #008080\">  0.77</span> │ <span style=\"color: #008080; text-decoration-color: #008080\">  1200</span> │ <span style=\"color: #008080; text-decoration-color: #008080\">  7400</span> │ <span style=\"color: #008080; text-decoration-color: #008080\">    0</span> │ <span style=\"color: #008080; text-decoration-color: #008080\">    82</span> │ <span style=\"color: #008080; text-decoration-color: #008080\">  860</span> │ <span style=\"color: #008080; text-decoration-color: #008080\">730000</span> │ <span style=\"color: #008000; text-decoration-color: #008000\">  █  </span> │  │\n",
              "│ │ <span style=\"color: #af87ff; text-decoration-color: #af87ff\">cv_000</span> │ <span style=\"color: #008080; text-decoration-color: #008080\"> 18000</span> │ <span style=\"color: #008080; text-decoration-color: #008080\">  0.77</span> │ <span style=\"color: #008080; text-decoration-color: #008080\">190000</span> │ <span style=\"color: #008080; text-decoration-color: #008080\">360000</span> │ <span style=\"color: #008080; text-decoration-color: #008080\">    0</span> │ <span style=\"color: #008080; text-decoration-color: #008080\"> 24000</span> │ <span style=\"color: #008080; text-decoration-color: #008080\">24000</span> │ <span style=\"color: #008080; text-decoration-color: #008080\">820000</span> │ <span style=\"color: #008000; text-decoration-color: #008000\">  █  </span> │  │\n",
              "│ │        │        │        │ <span style=\"color: #008080; text-decoration-color: #008080\">     0</span> │ <span style=\"color: #008080; text-decoration-color: #008080\">     0</span> │       │        │ <span style=\"color: #008080; text-decoration-color: #008080\">   00</span> │ <span style=\"color: #008080; text-decoration-color: #008080\">    00</span> │       │  │\n",
              "│ │ <span style=\"color: #af87ff; text-decoration-color: #af87ff\">cx_000</span> │ <span style=\"color: #008080; text-decoration-color: #008080\"> 18000</span> │ <span style=\"color: #008080; text-decoration-color: #008080\">  0.77</span> │ <span style=\"color: #008080; text-decoration-color: #008080\">350000</span> │ <span style=\"color: #008080; text-decoration-color: #008080\">150000</span> │ <span style=\"color: #008080; text-decoration-color: #008080\">    0</span> │ <span style=\"color: #008080; text-decoration-color: #008080\">   940</span> │ <span style=\"color: #008080; text-decoration-color: #008080\">13000</span> │ <span style=\"color: #008080; text-decoration-color: #008080\">440000</span> │ <span style=\"color: #008000; text-decoration-color: #008000\">  █  </span> │  │\n",
              "│ │        │        │        │        │ <span style=\"color: #008080; text-decoration-color: #008080\">     0</span> │       │        │ <span style=\"color: #008080; text-decoration-color: #008080\">    0</span> │ <span style=\"color: #008080; text-decoration-color: #008080\">    00</span> │       │  │\n",
              "│ │ <span style=\"color: #af87ff; text-decoration-color: #af87ff\">cy_000</span> │ <span style=\"color: #008080; text-decoration-color: #008080\"> 18000</span> │ <span style=\"color: #008080; text-decoration-color: #008080\">  0.77</span> │ <span style=\"color: #008080; text-decoration-color: #008080\">   260</span> │ <span style=\"color: #008080; text-decoration-color: #008080\">  8100</span> │ <span style=\"color: #008080; text-decoration-color: #008080\">    0</span> │ <span style=\"color: #008080; text-decoration-color: #008080\">     0</span> │ <span style=\"color: #008080; text-decoration-color: #008080\">    0</span> │ <span style=\"color: #008080; text-decoration-color: #008080\">930000</span> │ <span style=\"color: #008000; text-decoration-color: #008000\">  █  </span> │  │\n",
              "│ │ <span style=\"color: #af87ff; text-decoration-color: #af87ff\">cz_000</span> │ <span style=\"color: #008080; text-decoration-color: #008080\"> 18000</span> │ <span style=\"color: #008080; text-decoration-color: #008080\">  0.77</span> │ <span style=\"color: #008080; text-decoration-color: #008080\"> 19000</span> │ <span style=\"color: #008080; text-decoration-color: #008080\">230000</span> │ <span style=\"color: #008080; text-decoration-color: #008080\">    0</span> │ <span style=\"color: #008080; text-decoration-color: #008080\">     4</span> │ <span style=\"color: #008080; text-decoration-color: #008080\"> 6200</span> │ <span style=\"color: #008080; text-decoration-color: #008080\">190000</span> │ <span style=\"color: #008000; text-decoration-color: #008000\">  █  </span> │  │\n",
              "│ │        │        │        │        │        │       │        │       │ <span style=\"color: #008080; text-decoration-color: #008080\">    00</span> │       │  │\n",
              "│ │ <span style=\"color: #af87ff; text-decoration-color: #af87ff\">da_000</span> │ <span style=\"color: #008080; text-decoration-color: #008080\"> 18000</span> │ <span style=\"color: #008080; text-decoration-color: #008080\">  0.77</span> │ <span style=\"color: #008080; text-decoration-color: #008080\">   7.5</span> │ <span style=\"color: #008080; text-decoration-color: #008080\">   210</span> │ <span style=\"color: #008080; text-decoration-color: #008080\">    0</span> │ <span style=\"color: #008080; text-decoration-color: #008080\">     0</span> │ <span style=\"color: #008080; text-decoration-color: #008080\">    0</span> │ <span style=\"color: #008080; text-decoration-color: #008080\"> 22000</span> │ <span style=\"color: #008000; text-decoration-color: #008000\">  █  </span> │  │\n",
              "│ │ <span style=\"color: #af87ff; text-decoration-color: #af87ff\">db_000</span> │ <span style=\"color: #008080; text-decoration-color: #008080\"> 18000</span> │ <span style=\"color: #008080; text-decoration-color: #008080\">  0.77</span> │ <span style=\"color: #008080; text-decoration-color: #008080\">    13</span> │ <span style=\"color: #008080; text-decoration-color: #008080\">    66</span> │ <span style=\"color: #008080; text-decoration-color: #008080\">    0</span> │ <span style=\"color: #008080; text-decoration-color: #008080\">     0</span> │ <span style=\"color: #008080; text-decoration-color: #008080\">   18</span> │ <span style=\"color: #008080; text-decoration-color: #008080\">  9600</span> │ <span style=\"color: #008000; text-decoration-color: #008000\">  █  </span> │  │\n",
              "│ │ <span style=\"color: #af87ff; text-decoration-color: #af87ff\">dc_000</span> │ <span style=\"color: #008080; text-decoration-color: #008080\"> 18000</span> │ <span style=\"color: #008080; text-decoration-color: #008080\">  0.77</span> │ <span style=\"color: #008080; text-decoration-color: #008080\">220000</span> │ <span style=\"color: #008080; text-decoration-color: #008080\">410000</span> │ <span style=\"color: #008080; text-decoration-color: #008080\">    0</span> │ <span style=\"color: #008080; text-decoration-color: #008080\"> 27000</span> │ <span style=\"color: #008080; text-decoration-color: #008080\">26000</span> │ <span style=\"color: #008080; text-decoration-color: #008080\">120000</span> │ <span style=\"color: #008000; text-decoration-color: #008000\">  █  </span> │  │\n",
              "│ │        │        │        │ <span style=\"color: #008080; text-decoration-color: #008080\">     0</span> │ <span style=\"color: #008080; text-decoration-color: #008080\">     0</span> │       │        │ <span style=\"color: #008080; text-decoration-color: #008080\">   00</span> │ <span style=\"color: #008080; text-decoration-color: #008080\">   000</span> │       │  │\n",
              "│ │ <span style=\"color: #af87ff; text-decoration-color: #af87ff\">dd_000</span> │ <span style=\"color: #008080; text-decoration-color: #008080\">  3200</span> │ <span style=\"color: #008080; text-decoration-color: #008080\">  0.96</span> │ <span style=\"color: #008080; text-decoration-color: #008080\">  3200</span> │ <span style=\"color: #008080; text-decoration-color: #008080\">  9900</span> │ <span style=\"color: #008080; text-decoration-color: #008080\">    0</span> │ <span style=\"color: #008080; text-decoration-color: #008080\">   130</span> │ <span style=\"color: #008080; text-decoration-color: #008080\"> 2700</span> │ <span style=\"color: #008080; text-decoration-color: #008080\">450000</span> │ <span style=\"color: #008000; text-decoration-color: #008000\">  █  </span> │  │\n",
              "│ │ <span style=\"color: #af87ff; text-decoration-color: #af87ff\">de_000</span> │ <span style=\"color: #008080; text-decoration-color: #008080\">  3500</span> │ <span style=\"color: #008080; text-decoration-color: #008080\">  0.95</span> │ <span style=\"color: #008080; text-decoration-color: #008080\">   370</span> │ <span style=\"color: #008080; text-decoration-color: #008080\">  1600</span> │ <span style=\"color: #008080; text-decoration-color: #008080\">    0</span> │ <span style=\"color: #008080; text-decoration-color: #008080\">    66</span> │ <span style=\"color: #008080; text-decoration-color: #008080\">  300</span> │ <span style=\"color: #008080; text-decoration-color: #008080\">180000</span> │ <span style=\"color: #008000; text-decoration-color: #008000\">  █  </span> │  │\n",
              "│ │ <span style=\"color: #af87ff; text-decoration-color: #af87ff\">df_000</span> │ <span style=\"color: #008080; text-decoration-color: #008080\">  5100</span> │ <span style=\"color: #008080; text-decoration-color: #008080\">  0.93</span> │ <span style=\"color: #008080; text-decoration-color: #008080\">  7000</span> │ <span style=\"color: #008080; text-decoration-color: #008080\">810000</span> │ <span style=\"color: #008080; text-decoration-color: #008080\">    0</span> │ <span style=\"color: #008080; text-decoration-color: #008080\">     0</span> │ <span style=\"color: #008080; text-decoration-color: #008080\">    0</span> │ <span style=\"color: #008080; text-decoration-color: #008080\">200000</span> │ <span style=\"color: #008000; text-decoration-color: #008000\">  █  </span> │  │\n",
              "│ │        │        │        │        │        │       │        │       │ <span style=\"color: #008080; text-decoration-color: #008080\">   000</span> │       │  │\n",
              "│ │ <span style=\"color: #af87ff; text-decoration-color: #af87ff\">dg_000</span> │ <span style=\"color: #008080; text-decoration-color: #008080\">  5100</span> │ <span style=\"color: #008080; text-decoration-color: #008080\">  0.93</span> │ <span style=\"color: #008080; text-decoration-color: #008080\">  7000</span> │ <span style=\"color: #008080; text-decoration-color: #008080\">250000</span> │ <span style=\"color: #008080; text-decoration-color: #008080\">    0</span> │ <span style=\"color: #008080; text-decoration-color: #008080\">     0</span> │ <span style=\"color: #008080; text-decoration-color: #008080\">    0</span> │ <span style=\"color: #008080; text-decoration-color: #008080\">270000</span> │ <span style=\"color: #008000; text-decoration-color: #008000\">  █  </span> │  │\n",
              "│ │        │        │        │        │        │       │        │       │ <span style=\"color: #008080; text-decoration-color: #008080\">    00</span> │       │  │\n",
              "│ │ <span style=\"color: #af87ff; text-decoration-color: #af87ff\">dh_000</span> │ <span style=\"color: #008080; text-decoration-color: #008080\">  5100</span> │ <span style=\"color: #008080; text-decoration-color: #008080\">  0.93</span> │ <span style=\"color: #008080; text-decoration-color: #008080\">  4300</span> │ <span style=\"color: #008080; text-decoration-color: #008080\">500000</span> │ <span style=\"color: #008080; text-decoration-color: #008080\">    0</span> │ <span style=\"color: #008080; text-decoration-color: #008080\">     0</span> │ <span style=\"color: #008080; text-decoration-color: #008080\">    0</span> │ <span style=\"color: #008080; text-decoration-color: #008080\">120000</span> │ <span style=\"color: #008000; text-decoration-color: #008000\">  █  </span> │  │\n",
              "│ │        │        │        │        │        │       │        │       │ <span style=\"color: #008080; text-decoration-color: #008080\">   000</span> │       │  │\n",
              "│ │ <span style=\"color: #af87ff; text-decoration-color: #af87ff\">di_000</span> │ <span style=\"color: #008080; text-decoration-color: #008080\">  5100</span> │ <span style=\"color: #008080; text-decoration-color: #008080\">  0.93</span> │ <span style=\"color: #008080; text-decoration-color: #008080\"> 37000</span> │ <span style=\"color: #008080; text-decoration-color: #008080\">430000</span> │ <span style=\"color: #008080; text-decoration-color: #008080\">    0</span> │ <span style=\"color: #008080; text-decoration-color: #008080\">     0</span> │ <span style=\"color: #008080; text-decoration-color: #008080\">    0</span> │ <span style=\"color: #008080; text-decoration-color: #008080\">230000</span> │ <span style=\"color: #008000; text-decoration-color: #008000\">  █  </span> │  │\n",
              "│ │        │        │        │        │        │       │        │       │ <span style=\"color: #008080; text-decoration-color: #008080\">    00</span> │       │  │\n",
              "│ │ <span style=\"color: #af87ff; text-decoration-color: #af87ff\">dj_000</span> │ <span style=\"color: #008080; text-decoration-color: #008080\">  5100</span> │ <span style=\"color: #008080; text-decoration-color: #008080\">  0.93</span> │ <span style=\"color: #008080; text-decoration-color: #008080\">    32</span> │ <span style=\"color: #008080; text-decoration-color: #008080\">  4000</span> │ <span style=\"color: #008080; text-decoration-color: #008080\">    0</span> │ <span style=\"color: #008080; text-decoration-color: #008080\">     0</span> │ <span style=\"color: #008080; text-decoration-color: #008080\">    0</span> │ <span style=\"color: #008080; text-decoration-color: #008080\">730000</span> │ <span style=\"color: #008000; text-decoration-color: #008000\">  █  </span> │  │\n",
              "│ │ <span style=\"color: #af87ff; text-decoration-color: #af87ff\">dk_000</span> │ <span style=\"color: #008080; text-decoration-color: #008080\">  5100</span> │ <span style=\"color: #008080; text-decoration-color: #008080\">  0.93</span> │ <span style=\"color: #008080; text-decoration-color: #008080\">  1700</span> │ <span style=\"color: #008080; text-decoration-color: #008080\"> 63000</span> │ <span style=\"color: #008080; text-decoration-color: #008080\">    0</span> │ <span style=\"color: #008080; text-decoration-color: #008080\">     0</span> │ <span style=\"color: #008080; text-decoration-color: #008080\">    0</span> │ <span style=\"color: #008080; text-decoration-color: #008080\">550000</span> │ <span style=\"color: #008000; text-decoration-color: #008000\">  █  </span> │  │\n",
              "│ │        │        │        │        │        │       │        │       │ <span style=\"color: #008080; text-decoration-color: #008080\">     0</span> │       │  │\n",
              "│ │ <span style=\"color: #af87ff; text-decoration-color: #af87ff\">dl_000</span> │ <span style=\"color: #008080; text-decoration-color: #008080\">  5100</span> │ <span style=\"color: #008080; text-decoration-color: #008080\">  0.93</span> │ <span style=\"color: #008080; text-decoration-color: #008080\"> 29000</span> │ <span style=\"color: #008080; text-decoration-color: #008080\">110000</span> │ <span style=\"color: #008080; text-decoration-color: #008080\">    0</span> │ <span style=\"color: #008080; text-decoration-color: #008080\">     0</span> │ <span style=\"color: #008080; text-decoration-color: #008080\">    0</span> │ <span style=\"color: #008080; text-decoration-color: #008080\">100000</span> │ <span style=\"color: #008000; text-decoration-color: #008000\">  █  </span> │  │\n",
              "│ │        │        │        │        │ <span style=\"color: #008080; text-decoration-color: #008080\">     0</span> │       │        │       │ <span style=\"color: #008080; text-decoration-color: #008080\">   000</span> │       │  │\n",
              "│ │ <span style=\"color: #af87ff; text-decoration-color: #af87ff\">dm_000</span> │ <span style=\"color: #008080; text-decoration-color: #008080\">  5100</span> │ <span style=\"color: #008080; text-decoration-color: #008080\">  0.93</span> │ <span style=\"color: #008080; text-decoration-color: #008080\">  7800</span> │ <span style=\"color: #008080; text-decoration-color: #008080\">280000</span> │ <span style=\"color: #008080; text-decoration-color: #008080\">    0</span> │ <span style=\"color: #008080; text-decoration-color: #008080\">     0</span> │ <span style=\"color: #008080; text-decoration-color: #008080\">    0</span> │ <span style=\"color: #008080; text-decoration-color: #008080\">240000</span> │ <span style=\"color: #008000; text-decoration-color: #008000\">  █  </span> │  │\n",
              "│ │        │        │        │        │        │       │        │       │ <span style=\"color: #008080; text-decoration-color: #008080\">    00</span> │       │  │\n",
              "│ │ <span style=\"color: #af87ff; text-decoration-color: #af87ff\">dn_000</span> │ <span style=\"color: #008080; text-decoration-color: #008080\">   880</span> │ <span style=\"color: #008080; text-decoration-color: #008080\">  0.99</span> │ <span style=\"color: #008080; text-decoration-color: #008080\"> 34000</span> │ <span style=\"color: #008080; text-decoration-color: #008080\"> 99000</span> │ <span style=\"color: #008080; text-decoration-color: #008080\">    0</span> │ <span style=\"color: #008080; text-decoration-color: #008080\">   670</span> │ <span style=\"color: #008080; text-decoration-color: #008080\">27000</span> │ <span style=\"color: #008080; text-decoration-color: #008080\">290000</span> │ <span style=\"color: #008000; text-decoration-color: #008000\">  █  </span> │  │\n",
              "│ │        │        │        │        │        │       │        │       │ <span style=\"color: #008080; text-decoration-color: #008080\">     0</span> │       │  │\n",
              "│ │ <span style=\"color: #af87ff; text-decoration-color: #af87ff\">do_000</span> │ <span style=\"color: #008080; text-decoration-color: #008080\">  3500</span> │ <span style=\"color: #008080; text-decoration-color: #008080\">  0.95</span> │ <span style=\"color: #008080; text-decoration-color: #008080\"> 29000</span> │ <span style=\"color: #008080; text-decoration-color: #008080\"> 64000</span> │ <span style=\"color: #008080; text-decoration-color: #008080\">    0</span> │ <span style=\"color: #008080; text-decoration-color: #008080\">    20</span> │ <span style=\"color: #008080; text-decoration-color: #008080\">38000</span> │ <span style=\"color: #008080; text-decoration-color: #008080\">250000</span> │ <span style=\"color: #008000; text-decoration-color: #008000\">  █  </span> │  │\n",
              "│ │        │        │        │        │        │       │        │       │ <span style=\"color: #008080; text-decoration-color: #008080\">     0</span> │       │  │\n",
              "│ │ <span style=\"color: #af87ff; text-decoration-color: #af87ff\">dp_000</span> │ <span style=\"color: #008080; text-decoration-color: #008080\">  3500</span> │ <span style=\"color: #008080; text-decoration-color: #008080\">  0.95</span> │ <span style=\"color: #008080; text-decoration-color: #008080\">  7000</span> │ <span style=\"color: #008080; text-decoration-color: #008080\"> 14000</span> │ <span style=\"color: #008080; text-decoration-color: #008080\">    0</span> │ <span style=\"color: #008080; text-decoration-color: #008080\">     6</span> │ <span style=\"color: #008080; text-decoration-color: #008080\"> 8300</span> │ <span style=\"color: #008080; text-decoration-color: #008080\">540000</span> │ <span style=\"color: #008000; text-decoration-color: #008000\">  █  </span> │  │\n",
              "│ │ <span style=\"color: #af87ff; text-decoration-color: #af87ff\">dq_000</span> │ <span style=\"color: #008080; text-decoration-color: #008080\">  3500</span> │ <span style=\"color: #008080; text-decoration-color: #008080\">  0.95</span> │ <span style=\"color: #008080; text-decoration-color: #008080\">440000</span> │ <span style=\"color: #008080; text-decoration-color: #008080\">940000</span> │ <span style=\"color: #008080; text-decoration-color: #008080\">    0</span> │ <span style=\"color: #008080; text-decoration-color: #008080\">     0</span> │ <span style=\"color: #008080; text-decoration-color: #008080\">    0</span> │ <span style=\"color: #008080; text-decoration-color: #008080\">640000</span> │ <span style=\"color: #008000; text-decoration-color: #008000\">  █  </span> │  │\n",
              "│ │        │        │        │ <span style=\"color: #008080; text-decoration-color: #008080\">     0</span> │ <span style=\"color: #008080; text-decoration-color: #008080\">    00</span> │       │        │       │ <span style=\"color: #008080; text-decoration-color: #008080\">  0000</span> │       │  │\n",
              "│ │ <span style=\"color: #af87ff; text-decoration-color: #af87ff\">dr_000</span> │ <span style=\"color: #008080; text-decoration-color: #008080\">  3500</span> │ <span style=\"color: #008080; text-decoration-color: #008080\">  0.95</span> │ <span style=\"color: #008080; text-decoration-color: #008080\">200000</span> │ <span style=\"color: #008080; text-decoration-color: #008080\">140000</span> │ <span style=\"color: #008080; text-decoration-color: #008080\">    0</span> │ <span style=\"color: #008080; text-decoration-color: #008080\">     0</span> │ <span style=\"color: #008080; text-decoration-color: #008080\">    0</span> │ <span style=\"color: #008080; text-decoration-color: #008080\">500000</span> │ <span style=\"color: #008000; text-decoration-color: #008000\">  █  </span> │  │\n",
              "│ │        │        │        │        │ <span style=\"color: #008080; text-decoration-color: #008080\">     0</span> │       │        │       │ <span style=\"color: #008080; text-decoration-color: #008080\">    00</span> │       │  │\n",
              "│ │ <span style=\"color: #af87ff; text-decoration-color: #af87ff\">ds_000</span> │ <span style=\"color: #008080; text-decoration-color: #008080\">  3500</span> │ <span style=\"color: #008080; text-decoration-color: #008080\">  0.95</span> │ <span style=\"color: #008080; text-decoration-color: #008080\"> 90000</span> │ <span style=\"color: #008080; text-decoration-color: #008080\">210000</span> │ <span style=\"color: #008080; text-decoration-color: #008080\">    0</span> │ <span style=\"color: #008080; text-decoration-color: #008080\">   700</span> │ <span style=\"color: #008080; text-decoration-color: #008080\">99000</span> │ <span style=\"color: #008080; text-decoration-color: #008080\">500000</span> │ <span style=\"color: #008000; text-decoration-color: #008000\">  █  </span> │  │\n",
              "│ │        │        │        │        │        │       │        │       │ <span style=\"color: #008080; text-decoration-color: #008080\">     0</span> │       │  │\n",
              "│ │ <span style=\"color: #af87ff; text-decoration-color: #af87ff\">dt_000</span> │ <span style=\"color: #008080; text-decoration-color: #008080\">  3500</span> │ <span style=\"color: #008080; text-decoration-color: #008080\">  0.95</span> │ <span style=\"color: #008080; text-decoration-color: #008080\"> 16000</span> │ <span style=\"color: #008080; text-decoration-color: #008080\"> 34000</span> │ <span style=\"color: #008080; text-decoration-color: #008080\">    0</span> │ <span style=\"color: #008080; text-decoration-color: #008080\">   150</span> │ <span style=\"color: #008080; text-decoration-color: #008080\">18000</span> │ <span style=\"color: #008080; text-decoration-color: #008080\">860000</span> │ <span style=\"color: #008000; text-decoration-color: #008000\">  █  </span> │  │\n",
              "│ │ <span style=\"color: #af87ff; text-decoration-color: #af87ff\">du_000</span> │ <span style=\"color: #008080; text-decoration-color: #008080\">  3500</span> │ <span style=\"color: #008080; text-decoration-color: #008080\">  0.95</span> │ <span style=\"color: #008080; text-decoration-color: #008080\">410000</span> │ <span style=\"color: #008080; text-decoration-color: #008080\">120000</span> │ <span style=\"color: #008080; text-decoration-color: #008080\">    0</span> │ <span style=\"color: #008080; text-decoration-color: #008080\">  5500</span> │ <span style=\"color: #008080; text-decoration-color: #008080\">35000</span> │ <span style=\"color: #008080; text-decoration-color: #008080\">460000</span> │ <span style=\"color: #008000; text-decoration-color: #008000\">  █  </span> │  │\n",
              "│ │        │        │        │ <span style=\"color: #008080; text-decoration-color: #008080\">     0</span> │ <span style=\"color: #008080; text-decoration-color: #008080\">    00</span> │       │        │ <span style=\"color: #008080; text-decoration-color: #008080\">   00</span> │ <span style=\"color: #008080; text-decoration-color: #008080\">   000</span> │       │  │\n",
              "│ │ <span style=\"color: #af87ff; text-decoration-color: #af87ff\">dv_000</span> │ <span style=\"color: #008080; text-decoration-color: #008080\">  3500</span> │ <span style=\"color: #008080; text-decoration-color: #008080\">  0.95</span> │ <span style=\"color: #008080; text-decoration-color: #008080\">600000</span> │ <span style=\"color: #008080; text-decoration-color: #008080\">210000</span> │ <span style=\"color: #008080; text-decoration-color: #008080\">    0</span> │ <span style=\"color: #008080; text-decoration-color: #008080\">   760</span> │ <span style=\"color: #008080; text-decoration-color: #008080\">54000</span> │ <span style=\"color: #008080; text-decoration-color: #008080\">130000</span> │ <span style=\"color: #008000; text-decoration-color: #008000\">  █  </span> │  │\n",
              "│ │        │        │        │        │ <span style=\"color: #008080; text-decoration-color: #008080\">     0</span> │       │        │ <span style=\"color: #008080; text-decoration-color: #008080\">    0</span> │ <span style=\"color: #008080; text-decoration-color: #008080\">   000</span> │       │  │\n",
              "│ │ <span style=\"color: #af87ff; text-decoration-color: #af87ff\">dx_000</span> │ <span style=\"color: #008080; text-decoration-color: #008080\">  3500</span> │ <span style=\"color: #008080; text-decoration-color: #008080\">  0.95</span> │ <span style=\"color: #008080; text-decoration-color: #008080\">790000</span> │ <span style=\"color: #008080; text-decoration-color: #008080\">410000</span> │ <span style=\"color: #008080; text-decoration-color: #008080\">    0</span> │ <span style=\"color: #008080; text-decoration-color: #008080\">     0</span> │ <span style=\"color: #008080; text-decoration-color: #008080\"> 9000</span> │ <span style=\"color: #008080; text-decoration-color: #008080\">110000</span> │ <span style=\"color: #008000; text-decoration-color: #008000\">  █  </span> │  │\n",
              "│ │        │        │        │        │ <span style=\"color: #008080; text-decoration-color: #008080\">     0</span> │       │        │       │ <span style=\"color: #008080; text-decoration-color: #008080\">   000</span> │       │  │\n",
              "│ │ <span style=\"color: #af87ff; text-decoration-color: #af87ff\">dy_000</span> │ <span style=\"color: #008080; text-decoration-color: #008080\">  3500</span> │ <span style=\"color: #008080; text-decoration-color: #008080\">  0.95</span> │ <span style=\"color: #008080; text-decoration-color: #008080\">  7800</span> │ <span style=\"color: #008080; text-decoration-color: #008080\"> 60000</span> │ <span style=\"color: #008080; text-decoration-color: #008080\">    0</span> │ <span style=\"color: #008080; text-decoration-color: #008080\">     0</span> │ <span style=\"color: #008080; text-decoration-color: #008080\">   36</span> │ <span style=\"color: #008080; text-decoration-color: #008080\">380000</span> │ <span style=\"color: #008000; text-decoration-color: #008000\">  █  </span> │  │\n",
              "│ │        │        │        │        │        │       │        │       │ <span style=\"color: #008080; text-decoration-color: #008080\">     0</span> │       │  │\n",
              "│ │ <span style=\"color: #af87ff; text-decoration-color: #af87ff\">dz_000</span> │ <span style=\"color: #008080; text-decoration-color: #008080\">  3500</span> │ <span style=\"color: #008080; text-decoration-color: #008080\">  0.95</span> │ <span style=\"color: #008080; text-decoration-color: #008080\">  0.21</span> │ <span style=\"color: #008080; text-decoration-color: #008080\">    10</span> │ <span style=\"color: #008080; text-decoration-color: #008080\">    0</span> │ <span style=\"color: #008080; text-decoration-color: #008080\">     0</span> │ <span style=\"color: #008080; text-decoration-color: #008080\">    0</span> │ <span style=\"color: #008080; text-decoration-color: #008080\">  1400</span> │ <span style=\"color: #008000; text-decoration-color: #008000\">  █  </span> │  │\n",
              "│ │ <span style=\"color: #af87ff; text-decoration-color: #af87ff\">ea_000</span> │ <span style=\"color: #008080; text-decoration-color: #008080\">  3500</span> │ <span style=\"color: #008080; text-decoration-color: #008080\">  0.95</span> │ <span style=\"color: #008080; text-decoration-color: #008080\">   1.5</span> │ <span style=\"color: #008080; text-decoration-color: #008080\">    52</span> │ <span style=\"color: #008080; text-decoration-color: #008080\">    0</span> │ <span style=\"color: #008080; text-decoration-color: #008080\">     0</span> │ <span style=\"color: #008080; text-decoration-color: #008080\">    0</span> │ <span style=\"color: #008080; text-decoration-color: #008080\">  8500</span> │ <span style=\"color: #008000; text-decoration-color: #008000\">  █  </span> │  │\n",
              "│ │ <span style=\"color: #af87ff; text-decoration-color: #af87ff\">eb_000</span> │ <span style=\"color: #008080; text-decoration-color: #008080\">  5100</span> │ <span style=\"color: #008080; text-decoration-color: #008080\">  0.93</span> │ <span style=\"color: #008080; text-decoration-color: #008080\">990000</span> │ <span style=\"color: #008080; text-decoration-color: #008080\">470000</span> │ <span style=\"color: #008080; text-decoration-color: #008080\">    0</span> │ <span style=\"color: #008080; text-decoration-color: #008080\">     0</span> │ <span style=\"color: #008080; text-decoration-color: #008080\">40000</span> │ <span style=\"color: #008080; text-decoration-color: #008080\">450000</span> │ <span style=\"color: #008000; text-decoration-color: #008000\">  █  </span> │  │\n",
              "│ │        │        │        │ <span style=\"color: #008080; text-decoration-color: #008080\">     0</span> │ <span style=\"color: #008080; text-decoration-color: #008080\">    00</span> │       │        │ <span style=\"color: #008080; text-decoration-color: #008080\">   00</span> │ <span style=\"color: #008080; text-decoration-color: #008080\">  0000</span> │       │  │\n",
              "│ │ <span style=\"color: #af87ff; text-decoration-color: #af87ff\">ec_00 </span> │ <span style=\"color: #008080; text-decoration-color: #008080\"> 13000</span> │ <span style=\"color: #008080; text-decoration-color: #008080\">  0.83</span> │ <span style=\"color: #008080; text-decoration-color: #008080\">  1400</span> │ <span style=\"color: #008080; text-decoration-color: #008080\">  3500</span> │ <span style=\"color: #008080; text-decoration-color: #008080\">    0</span> │ <span style=\"color: #008080; text-decoration-color: #008080\">   120</span> │ <span style=\"color: #008080; text-decoration-color: #008080\"> 1400</span> │ <span style=\"color: #008080; text-decoration-color: #008080\">110000</span> │ <span style=\"color: #008000; text-decoration-color: #008000\">  █  </span> │  │\n",
              "│ │ <span style=\"color: #af87ff; text-decoration-color: #af87ff\">ed_000</span> │ <span style=\"color: #008080; text-decoration-color: #008080\"> 12000</span> │ <span style=\"color: #008080; text-decoration-color: #008080\">  0.84</span> │ <span style=\"color: #008080; text-decoration-color: #008080\">  1500</span> │ <span style=\"color: #008080; text-decoration-color: #008080\">  3600</span> │ <span style=\"color: #008080; text-decoration-color: #008080\">    0</span> │ <span style=\"color: #008080; text-decoration-color: #008080\">    98</span> │ <span style=\"color: #008080; text-decoration-color: #008080\"> 1500</span> │ <span style=\"color: #008080; text-decoration-color: #008080\"> 88000</span> │ <span style=\"color: #008000; text-decoration-color: #008000\">  █  </span> │  │\n",
              "│ │ <span style=\"color: #af87ff; text-decoration-color: #af87ff\">ee_000</span> │ <span style=\"color: #008080; text-decoration-color: #008080\">   860</span> │ <span style=\"color: #008080; text-decoration-color: #008080\">  0.99</span> │ <span style=\"color: #008080; text-decoration-color: #008080\">740000</span> │ <span style=\"color: #008080; text-decoration-color: #008080\">250000</span> │ <span style=\"color: #008080; text-decoration-color: #008080\">    0</span> │ <span style=\"color: #008080; text-decoration-color: #008080\"> 16000</span> │ <span style=\"color: #008080; text-decoration-color: #008080\">57000</span> │ <span style=\"color: #008080; text-decoration-color: #008080\">160000</span> │ <span style=\"color: #008000; text-decoration-color: #008000\">  █  </span> │  │\n",
              "│ │        │        │        │        │ <span style=\"color: #008080; text-decoration-color: #008080\">     0</span> │       │        │ <span style=\"color: #008080; text-decoration-color: #008080\">    0</span> │ <span style=\"color: #008080; text-decoration-color: #008080\">   000</span> │       │  │\n",
              "│ │ <span style=\"color: #af87ff; text-decoration-color: #af87ff\">ee_001</span> │ <span style=\"color: #008080; text-decoration-color: #008080\">   860</span> │ <span style=\"color: #008080; text-decoration-color: #008080\">  0.99</span> │ <span style=\"color: #008080; text-decoration-color: #008080\">790000</span> │ <span style=\"color: #008080; text-decoration-color: #008080\">260000</span> │ <span style=\"color: #008080; text-decoration-color: #008080\">    0</span> │ <span style=\"color: #008080; text-decoration-color: #008080\">  8600</span> │ <span style=\"color: #008080; text-decoration-color: #008080\">67000</span> │ <span style=\"color: #008080; text-decoration-color: #008080\">980000</span> │ <span style=\"color: #008000; text-decoration-color: #008000\">  █  </span> │  │\n",
              "│ │        │        │        │        │ <span style=\"color: #008080; text-decoration-color: #008080\">     0</span> │       │        │ <span style=\"color: #008080; text-decoration-color: #008080\">    0</span> │ <span style=\"color: #008080; text-decoration-color: #008080\">    00</span> │       │  │\n",
              "│ │ <span style=\"color: #af87ff; text-decoration-color: #af87ff\">ee_002</span> │ <span style=\"color: #008080; text-decoration-color: #008080\">   860</span> │ <span style=\"color: #008080; text-decoration-color: #008080\">  0.99</span> │ <span style=\"color: #008080; text-decoration-color: #008080\">450000</span> │ <span style=\"color: #008080; text-decoration-color: #008080\">120000</span> │ <span style=\"color: #008080; text-decoration-color: #008080\">    0</span> │ <span style=\"color: #008080; text-decoration-color: #008080\">  3000</span> │ <span style=\"color: #008080; text-decoration-color: #008080\">44000</span> │ <span style=\"color: #008080; text-decoration-color: #008080\">780000</span> │ <span style=\"color: #008000; text-decoration-color: #008000\">  █  </span> │  │\n",
              "│ │        │        │        │        │ <span style=\"color: #008080; text-decoration-color: #008080\">     0</span> │       │        │ <span style=\"color: #008080; text-decoration-color: #008080\">    0</span> │ <span style=\"color: #008080; text-decoration-color: #008080\">    00</span> │       │  │\n",
              "│ │ <span style=\"color: #af87ff; text-decoration-color: #af87ff\">ee_003</span> │ <span style=\"color: #008080; text-decoration-color: #008080\">   860</span> │ <span style=\"color: #008080; text-decoration-color: #008080\">  0.99</span> │ <span style=\"color: #008080; text-decoration-color: #008080\">210000</span> │ <span style=\"color: #008080; text-decoration-color: #008080\">550000</span> │ <span style=\"color: #008080; text-decoration-color: #008080\">    0</span> │ <span style=\"color: #008080; text-decoration-color: #008080\">  1200</span> │ <span style=\"color: #008080; text-decoration-color: #008080\">22000</span> │ <span style=\"color: #008080; text-decoration-color: #008080\">380000</span> │ <span style=\"color: #008000; text-decoration-color: #008000\">  █  </span> │  │\n",
              "│ │        │        │        │        │        │       │        │ <span style=\"color: #008080; text-decoration-color: #008080\">    0</span> │ <span style=\"color: #008080; text-decoration-color: #008080\">    00</span> │       │  │\n",
              "│ │ <span style=\"color: #af87ff; text-decoration-color: #af87ff\">ee_004</span> │ <span style=\"color: #008080; text-decoration-color: #008080\">   860</span> │ <span style=\"color: #008080; text-decoration-color: #008080\">  0.99</span> │ <span style=\"color: #008080; text-decoration-color: #008080\">450000</span> │ <span style=\"color: #008080; text-decoration-color: #008080\">120000</span> │ <span style=\"color: #008080; text-decoration-color: #008080\">    0</span> │ <span style=\"color: #008080; text-decoration-color: #008080\">  2700</span> │ <span style=\"color: #008080; text-decoration-color: #008080\">47000</span> │ <span style=\"color: #008080; text-decoration-color: #008080\">970000</span> │ <span style=\"color: #008000; text-decoration-color: #008000\">  █  </span> │  │\n",
              "│ │        │        │        │        │ <span style=\"color: #008080; text-decoration-color: #008080\">     0</span> │       │        │ <span style=\"color: #008080; text-decoration-color: #008080\">    0</span> │ <span style=\"color: #008080; text-decoration-color: #008080\">    00</span> │       │  │\n",
              "│ │ <span style=\"color: #af87ff; text-decoration-color: #af87ff\">ee_005</span> │ <span style=\"color: #008080; text-decoration-color: #008080\">   860</span> │ <span style=\"color: #008080; text-decoration-color: #008080\">  0.99</span> │ <span style=\"color: #008080; text-decoration-color: #008080\">400000</span> │ <span style=\"color: #008080; text-decoration-color: #008080\">120000</span> │ <span style=\"color: #008080; text-decoration-color: #008080\">    0</span> │ <span style=\"color: #008080; text-decoration-color: #008080\">  3600</span> │ <span style=\"color: #008080; text-decoration-color: #008080\">40000</span> │ <span style=\"color: #008080; text-decoration-color: #008080\">570000</span> │ <span style=\"color: #008000; text-decoration-color: #008000\">  █  </span> │  │\n",
              "│ │        │        │        │        │ <span style=\"color: #008080; text-decoration-color: #008080\">     0</span> │       │        │ <span style=\"color: #008080; text-decoration-color: #008080\">    0</span> │ <span style=\"color: #008080; text-decoration-color: #008080\">    00</span> │       │  │\n",
              "│ │ <span style=\"color: #af87ff; text-decoration-color: #af87ff\">ee_006</span> │ <span style=\"color: #008080; text-decoration-color: #008080\">   860</span> │ <span style=\"color: #008080; text-decoration-color: #008080\">  0.99</span> │ <span style=\"color: #008080; text-decoration-color: #008080\">340000</span> │ <span style=\"color: #008080; text-decoration-color: #008080\">110000</span> │ <span style=\"color: #008080; text-decoration-color: #008080\">    0</span> │ <span style=\"color: #008080; text-decoration-color: #008080\">   530</span> │ <span style=\"color: #008080; text-decoration-color: #008080\">28000</span> │ <span style=\"color: #008080; text-decoration-color: #008080\">420000</span> │ <span style=\"color: #008000; text-decoration-color: #008000\">  █  </span> │  │\n",
              "│ │        │        │        │        │ <span style=\"color: #008080; text-decoration-color: #008080\">     0</span> │       │        │ <span style=\"color: #008080; text-decoration-color: #008080\">    0</span> │ <span style=\"color: #008080; text-decoration-color: #008080\">    00</span> │       │  │\n",
              "│ │ <span style=\"color: #af87ff; text-decoration-color: #af87ff\">ee_007</span> │ <span style=\"color: #008080; text-decoration-color: #008080\">   860</span> │ <span style=\"color: #008080; text-decoration-color: #008080\">  0.99</span> │ <span style=\"color: #008080; text-decoration-color: #008080\">350000</span> │ <span style=\"color: #008080; text-decoration-color: #008080\">170000</span> │ <span style=\"color: #008080; text-decoration-color: #008080\">    0</span> │ <span style=\"color: #008080; text-decoration-color: #008080\">   110</span> │ <span style=\"color: #008080; text-decoration-color: #008080\">17000</span> │ <span style=\"color: #008080; text-decoration-color: #008080\">120000</span> │ <span style=\"color: #008000; text-decoration-color: #008000\">  █  </span> │  │\n",
              "│ │        │        │        │        │ <span style=\"color: #008080; text-decoration-color: #008080\">     0</span> │       │        │ <span style=\"color: #008080; text-decoration-color: #008080\">    0</span> │ <span style=\"color: #008080; text-decoration-color: #008080\">   000</span> │       │  │\n",
              "│ │ <span style=\"color: #af87ff; text-decoration-color: #af87ff\">ee_008</span> │ <span style=\"color: #008080; text-decoration-color: #008080\">   860</span> │ <span style=\"color: #008080; text-decoration-color: #008080\">  0.99</span> │ <span style=\"color: #008080; text-decoration-color: #008080\">140000</span> │ <span style=\"color: #008080; text-decoration-color: #008080\">470000</span> │ <span style=\"color: #008080; text-decoration-color: #008080\">    0</span> │ <span style=\"color: #008080; text-decoration-color: #008080\">     0</span> │ <span style=\"color: #008080; text-decoration-color: #008080\">14000</span> │ <span style=\"color: #008080; text-decoration-color: #008080\">190000</span> │ <span style=\"color: #008000; text-decoration-color: #008000\">  █  </span> │  │\n",
              "│ │        │        │        │        │        │       │        │ <span style=\"color: #008080; text-decoration-color: #008080\">    0</span> │ <span style=\"color: #008080; text-decoration-color: #008080\">    00</span> │       │  │\n",
              "│ │ <span style=\"color: #af87ff; text-decoration-color: #af87ff\">ee_009</span> │ <span style=\"color: #008080; text-decoration-color: #008080\">   860</span> │ <span style=\"color: #008080; text-decoration-color: #008080\">  0.99</span> │ <span style=\"color: #008080; text-decoration-color: #008080\">  8400</span> │ <span style=\"color: #008080; text-decoration-color: #008080\"> 49000</span> │ <span style=\"color: #008080; text-decoration-color: #008080\">    0</span> │ <span style=\"color: #008080; text-decoration-color: #008080\">     0</span> │ <span style=\"color: #008080; text-decoration-color: #008080\"> 2000</span> │ <span style=\"color: #008080; text-decoration-color: #008080\">460000</span> │ <span style=\"color: #008000; text-decoration-color: #008000\">  █  </span> │  │\n",
              "│ │        │        │        │        │        │       │        │       │ <span style=\"color: #008080; text-decoration-color: #008080\">     0</span> │       │  │\n",
              "│ │ <span style=\"color: #af87ff; text-decoration-color: #af87ff\">ef_000</span> │ <span style=\"color: #008080; text-decoration-color: #008080\">  3500</span> │ <span style=\"color: #008080; text-decoration-color: #008080\">  0.95</span> │ <span style=\"color: #008080; text-decoration-color: #008080\"> 0.085</span> │ <span style=\"color: #008080; text-decoration-color: #008080\">   4.2</span> │ <span style=\"color: #008080; text-decoration-color: #008080\">    0</span> │ <span style=\"color: #008080; text-decoration-color: #008080\">     0</span> │ <span style=\"color: #008080; text-decoration-color: #008080\">    0</span> │ <span style=\"color: #008080; text-decoration-color: #008080\">   480</span> │ <span style=\"color: #008000; text-decoration-color: #008000\">  █  </span> │  │\n",
              "│ │ <span style=\"color: #af87ff; text-decoration-color: #af87ff\">eg_000</span> │ <span style=\"color: #008080; text-decoration-color: #008080\">  3500</span> │ <span style=\"color: #008080; text-decoration-color: #008080\">  0.95</span> │ <span style=\"color: #008080; text-decoration-color: #008080\">  0.22</span> │ <span style=\"color: #008080; text-decoration-color: #008080\">    10</span> │ <span style=\"color: #008080; text-decoration-color: #008080\">    0</span> │ <span style=\"color: #008080; text-decoration-color: #008080\">     0</span> │ <span style=\"color: #008080; text-decoration-color: #008080\">    0</span> │ <span style=\"color: #008080; text-decoration-color: #008080\">  1700</span> │ <span style=\"color: #008000; text-decoration-color: #008000\">  █  </span> │  │\n",
              "│ └────────┴────────┴────────┴────────┴────────┴───────┴────────┴───────┴────────┴───────┘  │\n",
              "╰─────────────────────────────────────────── End ───────────────────────────────────────────╯\n",
              "</pre>\n"
            ]
          },
          "metadata": {}
        }
      ],
      "source": [
        "# Summerizing the dataset\n",
        "\n",
        "skim(df_bo)"
      ]
    },
    {
      "cell_type": "markdown",
      "source": [
        "#### Observation:\n",
        "- ab_000 has most number of missing values.\n",
        "- Features in the dataset are not normally distributed.\n",
        "- We will choose median imputation to handle the null values."
      ],
      "metadata": {
        "id": "1jl_uf5dpaqY"
      },
      "id": "1jl_uf5dpaqY"
    },
    {
      "cell_type": "markdown",
      "id": "4cfde5fc",
      "metadata": {
        "id": "4cfde5fc"
      },
      "source": [
        "#### Statistical Analysis"
      ]
    },
    {
      "cell_type": "code",
      "execution_count": null,
      "id": "0722369b",
      "metadata": {
        "id": "0722369b",
        "outputId": "1285d6bd-6f0a-4bc1-cdcd-8d1eb3086d5a",
        "colab": {
          "base_uri": "https://localhost:8080/",
          "height": 424
        }
      },
      "outputs": [
        {
          "output_type": "execute_result",
          "data": {
            "text/plain": [
              "          count          mean           std  min    25%      50%       75%  \\\n",
              "aa_000  76000.0  6.115976e+04  2.647366e+05  0.0  860.0  30813.0   48840.0   \n",
              "ab_000  17308.0  7.255604e-01  3.311913e+00  0.0    0.0      0.0       0.0   \n",
              "ac_000  71739.0  3.564398e+08  7.952530e+08  0.0   16.0    154.0     970.0   \n",
              "ad_000  57158.0  1.506300e+05  3.590593e+07  0.0   24.0    128.0     430.0   \n",
              "ae_000  72810.0  6.736959e+00  1.534465e+02  0.0    0.0      0.0       0.0   \n",
              "...         ...           ...           ...  ...    ...      ...       ...   \n",
              "ee_007  75137.0  3.475611e+05  1.707593e+06  0.0  112.0  41260.0  168046.0   \n",
              "ee_008  75137.0  1.398968e+05  4.692327e+05  0.0    0.0   3862.0  139500.0   \n",
              "ee_009  75137.0  8.424984e+03  4.875440e+04  0.0    0.0      0.0    2000.0   \n",
              "ef_000  72514.0  8.519734e-02  4.179600e+00  0.0    0.0      0.0       0.0   \n",
              "eg_000  72515.0  2.190443e-01  1.023705e+01  0.0    0.0      0.0       0.0   \n",
              "\n",
              "                 max  \n",
              "aa_000  4.294967e+07  \n",
              "ab_000  2.040000e+02  \n",
              "ac_000  2.130707e+09  \n",
              "ad_000  8.584298e+09  \n",
              "ae_000  2.105000e+04  \n",
              "...              ...  \n",
              "ee_007  1.195801e+08  \n",
              "ee_008  1.926740e+07  \n",
              "ee_009  4.570398e+06  \n",
              "ef_000  4.820000e+02  \n",
              "eg_000  1.720000e+03  \n",
              "\n",
              "[170 rows x 8 columns]"
            ],
            "text/html": [
              "\n",
              "  <div id=\"df-85a3a7e1-2979-4c0f-8af0-8c06ab835402\">\n",
              "    <div class=\"colab-df-container\">\n",
              "      <div>\n",
              "<style scoped>\n",
              "    .dataframe tbody tr th:only-of-type {\n",
              "        vertical-align: middle;\n",
              "    }\n",
              "\n",
              "    .dataframe tbody tr th {\n",
              "        vertical-align: top;\n",
              "    }\n",
              "\n",
              "    .dataframe thead th {\n",
              "        text-align: right;\n",
              "    }\n",
              "</style>\n",
              "<table border=\"1\" class=\"dataframe\">\n",
              "  <thead>\n",
              "    <tr style=\"text-align: right;\">\n",
              "      <th></th>\n",
              "      <th>count</th>\n",
              "      <th>mean</th>\n",
              "      <th>std</th>\n",
              "      <th>min</th>\n",
              "      <th>25%</th>\n",
              "      <th>50%</th>\n",
              "      <th>75%</th>\n",
              "      <th>max</th>\n",
              "    </tr>\n",
              "  </thead>\n",
              "  <tbody>\n",
              "    <tr>\n",
              "      <th>aa_000</th>\n",
              "      <td>76000.0</td>\n",
              "      <td>6.115976e+04</td>\n",
              "      <td>2.647366e+05</td>\n",
              "      <td>0.0</td>\n",
              "      <td>860.0</td>\n",
              "      <td>30813.0</td>\n",
              "      <td>48840.0</td>\n",
              "      <td>4.294967e+07</td>\n",
              "    </tr>\n",
              "    <tr>\n",
              "      <th>ab_000</th>\n",
              "      <td>17308.0</td>\n",
              "      <td>7.255604e-01</td>\n",
              "      <td>3.311913e+00</td>\n",
              "      <td>0.0</td>\n",
              "      <td>0.0</td>\n",
              "      <td>0.0</td>\n",
              "      <td>0.0</td>\n",
              "      <td>2.040000e+02</td>\n",
              "    </tr>\n",
              "    <tr>\n",
              "      <th>ac_000</th>\n",
              "      <td>71739.0</td>\n",
              "      <td>3.564398e+08</td>\n",
              "      <td>7.952530e+08</td>\n",
              "      <td>0.0</td>\n",
              "      <td>16.0</td>\n",
              "      <td>154.0</td>\n",
              "      <td>970.0</td>\n",
              "      <td>2.130707e+09</td>\n",
              "    </tr>\n",
              "    <tr>\n",
              "      <th>ad_000</th>\n",
              "      <td>57158.0</td>\n",
              "      <td>1.506300e+05</td>\n",
              "      <td>3.590593e+07</td>\n",
              "      <td>0.0</td>\n",
              "      <td>24.0</td>\n",
              "      <td>128.0</td>\n",
              "      <td>430.0</td>\n",
              "      <td>8.584298e+09</td>\n",
              "    </tr>\n",
              "    <tr>\n",
              "      <th>ae_000</th>\n",
              "      <td>72810.0</td>\n",
              "      <td>6.736959e+00</td>\n",
              "      <td>1.534465e+02</td>\n",
              "      <td>0.0</td>\n",
              "      <td>0.0</td>\n",
              "      <td>0.0</td>\n",
              "      <td>0.0</td>\n",
              "      <td>2.105000e+04</td>\n",
              "    </tr>\n",
              "    <tr>\n",
              "      <th>...</th>\n",
              "      <td>...</td>\n",
              "      <td>...</td>\n",
              "      <td>...</td>\n",
              "      <td>...</td>\n",
              "      <td>...</td>\n",
              "      <td>...</td>\n",
              "      <td>...</td>\n",
              "      <td>...</td>\n",
              "    </tr>\n",
              "    <tr>\n",
              "      <th>ee_007</th>\n",
              "      <td>75137.0</td>\n",
              "      <td>3.475611e+05</td>\n",
              "      <td>1.707593e+06</td>\n",
              "      <td>0.0</td>\n",
              "      <td>112.0</td>\n",
              "      <td>41260.0</td>\n",
              "      <td>168046.0</td>\n",
              "      <td>1.195801e+08</td>\n",
              "    </tr>\n",
              "    <tr>\n",
              "      <th>ee_008</th>\n",
              "      <td>75137.0</td>\n",
              "      <td>1.398968e+05</td>\n",
              "      <td>4.692327e+05</td>\n",
              "      <td>0.0</td>\n",
              "      <td>0.0</td>\n",
              "      <td>3862.0</td>\n",
              "      <td>139500.0</td>\n",
              "      <td>1.926740e+07</td>\n",
              "    </tr>\n",
              "    <tr>\n",
              "      <th>ee_009</th>\n",
              "      <td>75137.0</td>\n",
              "      <td>8.424984e+03</td>\n",
              "      <td>4.875440e+04</td>\n",
              "      <td>0.0</td>\n",
              "      <td>0.0</td>\n",
              "      <td>0.0</td>\n",
              "      <td>2000.0</td>\n",
              "      <td>4.570398e+06</td>\n",
              "    </tr>\n",
              "    <tr>\n",
              "      <th>ef_000</th>\n",
              "      <td>72514.0</td>\n",
              "      <td>8.519734e-02</td>\n",
              "      <td>4.179600e+00</td>\n",
              "      <td>0.0</td>\n",
              "      <td>0.0</td>\n",
              "      <td>0.0</td>\n",
              "      <td>0.0</td>\n",
              "      <td>4.820000e+02</td>\n",
              "    </tr>\n",
              "    <tr>\n",
              "      <th>eg_000</th>\n",
              "      <td>72515.0</td>\n",
              "      <td>2.190443e-01</td>\n",
              "      <td>1.023705e+01</td>\n",
              "      <td>0.0</td>\n",
              "      <td>0.0</td>\n",
              "      <td>0.0</td>\n",
              "      <td>0.0</td>\n",
              "      <td>1.720000e+03</td>\n",
              "    </tr>\n",
              "  </tbody>\n",
              "</table>\n",
              "<p>170 rows × 8 columns</p>\n",
              "</div>\n",
              "      <button class=\"colab-df-convert\" onclick=\"convertToInteractive('df-85a3a7e1-2979-4c0f-8af0-8c06ab835402')\"\n",
              "              title=\"Convert this dataframe to an interactive table.\"\n",
              "              style=\"display:none;\">\n",
              "        \n",
              "  <svg xmlns=\"http://www.w3.org/2000/svg\" height=\"24px\"viewBox=\"0 0 24 24\"\n",
              "       width=\"24px\">\n",
              "    <path d=\"M0 0h24v24H0V0z\" fill=\"none\"/>\n",
              "    <path d=\"M18.56 5.44l.94 2.06.94-2.06 2.06-.94-2.06-.94-.94-2.06-.94 2.06-2.06.94zm-11 1L8.5 8.5l.94-2.06 2.06-.94-2.06-.94L8.5 2.5l-.94 2.06-2.06.94zm10 10l.94 2.06.94-2.06 2.06-.94-2.06-.94-.94-2.06-.94 2.06-2.06.94z\"/><path d=\"M17.41 7.96l-1.37-1.37c-.4-.4-.92-.59-1.43-.59-.52 0-1.04.2-1.43.59L10.3 9.45l-7.72 7.72c-.78.78-.78 2.05 0 2.83L4 21.41c.39.39.9.59 1.41.59.51 0 1.02-.2 1.41-.59l7.78-7.78 2.81-2.81c.8-.78.8-2.07 0-2.86zM5.41 20L4 18.59l7.72-7.72 1.47 1.35L5.41 20z\"/>\n",
              "  </svg>\n",
              "      </button>\n",
              "      \n",
              "  <style>\n",
              "    .colab-df-container {\n",
              "      display:flex;\n",
              "      flex-wrap:wrap;\n",
              "      gap: 12px;\n",
              "    }\n",
              "\n",
              "    .colab-df-convert {\n",
              "      background-color: #E8F0FE;\n",
              "      border: none;\n",
              "      border-radius: 50%;\n",
              "      cursor: pointer;\n",
              "      display: none;\n",
              "      fill: #1967D2;\n",
              "      height: 32px;\n",
              "      padding: 0 0 0 0;\n",
              "      width: 32px;\n",
              "    }\n",
              "\n",
              "    .colab-df-convert:hover {\n",
              "      background-color: #E2EBFA;\n",
              "      box-shadow: 0px 1px 2px rgba(60, 64, 67, 0.3), 0px 1px 3px 1px rgba(60, 64, 67, 0.15);\n",
              "      fill: #174EA6;\n",
              "    }\n",
              "\n",
              "    [theme=dark] .colab-df-convert {\n",
              "      background-color: #3B4455;\n",
              "      fill: #D2E3FC;\n",
              "    }\n",
              "\n",
              "    [theme=dark] .colab-df-convert:hover {\n",
              "      background-color: #434B5C;\n",
              "      box-shadow: 0px 1px 3px 1px rgba(0, 0, 0, 0.15);\n",
              "      filter: drop-shadow(0px 1px 2px rgba(0, 0, 0, 0.3));\n",
              "      fill: #FFFFFF;\n",
              "    }\n",
              "  </style>\n",
              "\n",
              "      <script>\n",
              "        const buttonEl =\n",
              "          document.querySelector('#df-85a3a7e1-2979-4c0f-8af0-8c06ab835402 button.colab-df-convert');\n",
              "        buttonEl.style.display =\n",
              "          google.colab.kernel.accessAllowed ? 'block' : 'none';\n",
              "\n",
              "        async function convertToInteractive(key) {\n",
              "          const element = document.querySelector('#df-85a3a7e1-2979-4c0f-8af0-8c06ab835402');\n",
              "          const dataTable =\n",
              "            await google.colab.kernel.invokeFunction('convertToInteractive',\n",
              "                                                     [key], {});\n",
              "          if (!dataTable) return;\n",
              "\n",
              "          const docLinkHtml = 'Like what you see? Visit the ' +\n",
              "            '<a target=\"_blank\" href=https://colab.research.google.com/notebooks/data_table.ipynb>data table notebook</a>'\n",
              "            + ' to learn more about interactive tables.';\n",
              "          element.innerHTML = '';\n",
              "          dataTable['output_type'] = 'display_data';\n",
              "          await google.colab.output.renderOutput(dataTable, element);\n",
              "          const docLink = document.createElement('div');\n",
              "          docLink.innerHTML = docLinkHtml;\n",
              "          element.appendChild(docLink);\n",
              "        }\n",
              "      </script>\n",
              "    </div>\n",
              "  </div>\n",
              "  "
            ]
          },
          "metadata": {},
          "execution_count": 22
        }
      ],
      "source": [
        "# For numeric columns\n",
        "\n",
        "df_bo.describe().T"
      ]
    },
    {
      "cell_type": "markdown",
      "source": [
        "# Feature encoding\n",
        "Converting the output levels into numeric"
      ],
      "metadata": {
        "id": "Bld9DAqd4Gtl"
      },
      "id": "Bld9DAqd4Gtl"
    },
    {
      "cell_type": "code",
      "execution_count": null,
      "id": "660b8da5",
      "metadata": {
        "id": "660b8da5"
      },
      "outputs": [],
      "source": [
        "#df_bo['class'] = df_bo['class'].map({'neg' : 0 , 'pos' : 1 })\n",
        "\n",
        "def get_label(y):\n",
        "  \"\"\"\n",
        "  This function converts the output class lavels 'neg', 'pos' to 0,1 \n",
        "  \"\"\"\n",
        "  return y.replace(['neg', 'pos'], [0,1])"
      ]
    },
    {
      "cell_type": "code",
      "execution_count": null,
      "id": "8405a916",
      "metadata": {
        "id": "8405a916",
        "colab": {
          "base_uri": "https://localhost:8080/"
        },
        "outputId": "7cd5949f-4d5d-4e82-fce8-6799ef1a8105"
      },
      "outputs": [
        {
          "output_type": "execute_result",
          "data": {
            "text/plain": [
              "array(['neg', 'pos'], dtype=object)"
            ]
          },
          "metadata": {},
          "execution_count": 24
        }
      ],
      "source": [
        "df_bo['class'].unique()"
      ]
    },
    {
      "cell_type": "code",
      "execution_count": null,
      "id": "02e55871",
      "metadata": {
        "id": "02e55871"
      },
      "outputs": [],
      "source": [
        "df_bo['class'] = get_label(df_bo['class'])"
      ]
    },
    {
      "cell_type": "code",
      "execution_count": null,
      "id": "cbd81892",
      "metadata": {
        "id": "cbd81892",
        "colab": {
          "base_uri": "https://localhost:8080/"
        },
        "outputId": "4e5392e2-259f-42c4-81a9-50c46c09a65b"
      },
      "outputs": [
        {
          "output_type": "execute_result",
          "data": {
            "text/plain": [
              "array([0, 1])"
            ]
          },
          "metadata": {},
          "execution_count": 26
        }
      ],
      "source": [
        "df_bo['class'].unique()"
      ]
    },
    {
      "cell_type": "markdown",
      "source": [
        "### Analysis of class feature\n",
        "### Count plot : To check output distribution"
      ],
      "metadata": {
        "id": "TeDED0bD7HAv"
      },
      "id": "TeDED0bD7HAv"
    },
    {
      "cell_type": "code",
      "execution_count": null,
      "id": "60ec7c21",
      "metadata": {
        "id": "60ec7c21",
        "colab": {
          "base_uri": "https://localhost:8080/",
          "height": 330
        },
        "outputId": "f751ac3e-c8d9-49e8-be80-d4d9c80942ca"
      },
      "outputs": [
        {
          "output_type": "display_data",
          "data": {
            "text/plain": [
              "<Figure size 432x288 with 1 Axes>"
            ],
            "image/png": "[encoded data removed]"
          },
          "metadata": {
            "needs_background": "light"
          }
        },
        {
          "output_type": "stream",
          "name": "stdout",
          "text": [
            "The negative number of observations :  74625\n",
            "The positive number of observations :  1375\n"
          ]
        }
      ],
      "source": [
        "sns.countplot(data=df_bo, x='class')\n",
        "plt.title('Class label distribution')\n",
        "plt.xlabel('Output Label')\n",
        "plt.show()\n",
        "\n",
        "print('The negative number of observations : ', df_bo['class'].value_counts()[0])\n",
        "print('The positive number of observations : ', df_bo['class'].value_counts()[1])"
      ]
    },
    {
      "cell_type": "markdown",
      "source": [
        "#### Observation:\n",
        "- The dataset is highly imbalanced. As we can see number of negative class is much more greater than positive class. We can do random sampling to upsample the minority class and resolve this problem. "
      ],
      "metadata": {
        "id": "w_ts0ljb9NSX"
      },
      "id": "w_ts0ljb9NSX"
    },
    {
      "cell_type": "markdown",
      "source": [
        "### Checking the single valued features\n",
        "Out of all features we can check if any feature is holding single value and we will reduce it. That feature may not have that much impact in our output as it contains only one value for all the observations."
      ],
      "metadata": {
        "id": "EsMXe5Bi-jcu"
      },
      "id": "EsMXe5Bi-jcu"
    },
    {
      "cell_type": "code",
      "execution_count": null,
      "id": "7d2e1083",
      "metadata": {
        "id": "7d2e1083"
      },
      "outputs": [],
      "source": [
        "def constant_value(df):\n",
        "  '''\n",
        "  This function takes df as input, removes the feature with std dev 0 and returns the new dataframe & feature having constant value\n",
        "  '''\n",
        "  constant_value_features = []\n",
        "  info = df_bo.describe()\n",
        "  for col in df_bo.columns:\n",
        "    if info[col]['std'] == 0:\n",
        "      constant_value_features.append(col)\n",
        "\n",
        "  df_bo.drop(constant_value_features, axis=1, inplace=True)\n",
        "  return df, constant_value_features"
      ]
    },
    {
      "cell_type": "code",
      "execution_count": null,
      "id": "9c83d964",
      "metadata": {
        "id": "9c83d964"
      },
      "outputs": [],
      "source": [
        "df_bo, dropped_columns = constant_value(df_bo)"
      ]
    },
    {
      "cell_type": "code",
      "execution_count": null,
      "id": "0aa7090a",
      "metadata": {
        "id": "0aa7090a",
        "colab": {
          "base_uri": "https://localhost:8080/"
        },
        "outputId": "0a92dc29-70ef-432a-c532-bc010095783b"
      },
      "outputs": [
        {
          "output_type": "stream",
          "name": "stdout",
          "text": [
            "The feature with constant value(std = 0) are :  ['cd_000']\n"
          ]
        }
      ],
      "source": [
        "print('The feature with constant value(std = 0) are : ', dropped_columns)"
      ]
    },
    {
      "cell_type": "code",
      "execution_count": null,
      "id": "0ce8132a",
      "metadata": {
        "id": "0ce8132a",
        "colab": {
          "base_uri": "https://localhost:8080/"
        },
        "outputId": "1ff0fa1b-848c-495c-fc7d-e754b6719534"
      },
      "outputs": [
        {
          "output_type": "stream",
          "name": "stdout",
          "text": [
            "Shape of the data after reducing the feature (76000, 170)\n"
          ]
        }
      ],
      "source": [
        "print('Shape of the data after reducing the feature {}'.format(df_bo.shape))"
      ]
    },
    {
      "cell_type": "markdown",
      "source": [
        "# Missing Value"
      ],
      "metadata": {
        "id": "i-q1_V23GQOY"
      },
      "id": "i-q1_V23GQOY"
    },
    {
      "cell_type": "code",
      "source": [
        "# Creating a dictonary to get store the column names as key and percentage of null values as values\n",
        "\n",
        "nan_count = {value:list(df_bo.isnull().sum()*100/df_bo.shape[0])[index] for index,value in enumerate(df_bo.columns)}"
      ],
      "metadata": {
        "id": "JMJjfJ7EGL9J"
      },
      "id": "JMJjfJ7EGL9J",
      "execution_count": null,
      "outputs": []
    },
    {
      "cell_type": "code",
      "source": [
        "# Sorting the dictonary in descending order based on percentage of missing values\n",
        "\n",
        "nan_count = {k:v for k,v in sorted(nan_count.items(), key=lambda item:item[1], reverse=True)}\n",
        "nan_count"
      ],
      "metadata": {
        "colab": {
          "base_uri": "https://localhost:8080/"
        },
        "id": "VjiJC4cmI5nw",
        "outputId": "90a71dea-5177-4642-9f3b-73702eca81ff"
      },
      "id": "VjiJC4cmI5nw",
      "execution_count": null,
      "outputs": [
        {
          "output_type": "execute_result",
          "data": {
            "text/plain": [
              "{'br_000': 82.09605263157894,\n",
              " 'bq_000': 81.18815789473685,\n",
              " 'bp_000': 79.55394736842105,\n",
              " 'bo_000': 77.24868421052632,\n",
              " 'ab_000': 77.22631578947369,\n",
              " 'cr_000': 77.22631578947369,\n",
              " 'bn_000': 73.31842105263158,\n",
              " 'bm_000': 65.91447368421052,\n",
              " 'bl_000': 45.39868421052632,\n",
              " 'bk_000': 38.32631578947368,\n",
              " 'ad_000': 24.792105263157893,\n",
              " 'cf_000': 24.792105263157893,\n",
              " 'cg_000': 24.792105263157893,\n",
              " 'ch_000': 24.792105263157893,\n",
              " 'co_000': 24.792105263157893,\n",
              " 'ct_000': 23.060526315789474,\n",
              " 'cu_000': 23.060526315789474,\n",
              " 'cv_000': 23.060526315789474,\n",
              " 'cx_000': 23.060526315789474,\n",
              " 'cy_000': 23.060526315789474,\n",
              " 'cz_000': 23.060526315789474,\n",
              " 'da_000': 23.060526315789474,\n",
              " 'db_000': 23.060526315789474,\n",
              " 'dc_000': 23.060526315789474,\n",
              " 'ec_00': 16.951315789473686,\n",
              " 'cm_000': 16.388157894736842,\n",
              " 'cl_000': 15.805263157894737,\n",
              " 'ed_000': 15.805263157894737,\n",
              " 'ak_000': 7.36578947368421,\n",
              " 'ca_000': 7.318421052631579,\n",
              " 'dm_000': 6.714473684210526,\n",
              " 'df_000': 6.713157894736842,\n",
              " 'dg_000': 6.713157894736842,\n",
              " 'dh_000': 6.713157894736842,\n",
              " 'dl_000': 6.713157894736842,\n",
              " 'dj_000': 6.711842105263158,\n",
              " 'dk_000': 6.711842105263158,\n",
              " 'eb_000': 6.711842105263158,\n",
              " 'di_000': 6.7105263157894735,\n",
              " 'ac_000': 5.606578947368421,\n",
              " 'bx_000': 5.425,\n",
              " 'cc_000': 5.421052631578948,\n",
              " 'bd_000': 4.593421052631579,\n",
              " 'ds_000': 4.593421052631579,\n",
              " 'dt_000': 4.593421052631579,\n",
              " 'dp_000': 4.592105263157895,\n",
              " 'dq_000': 4.592105263157895,\n",
              " 'dr_000': 4.592105263157895,\n",
              " 'du_000': 4.592105263157895,\n",
              " 'dv_000': 4.592105263157895,\n",
              " 'bc_000': 4.59078947368421,\n",
              " 'de_000': 4.589473684210526,\n",
              " 'do_000': 4.589473684210526,\n",
              " 'dy_000': 4.589473684210526,\n",
              " 'ar_000': 4.588157894736842,\n",
              " 'cp_000': 4.588157894736842,\n",
              " 'dx_000': 4.588157894736842,\n",
              " 'bz_000': 4.586842105263158,\n",
              " 'ef_000': 4.586842105263158,\n",
              " 'dz_000': 4.5855263157894735,\n",
              " 'ea_000': 4.5855263157894735,\n",
              " 'eg_000': 4.5855263157894735,\n",
              " 'be_000': 4.201315789473684,\n",
              " 'dd_000': 4.198684210526316,\n",
              " 'ae_000': 4.197368421052632,\n",
              " 'af_000': 4.197368421052632,\n",
              " 'ce_000': 4.197368421052632,\n",
              " 'ax_000': 4.196052631578947,\n",
              " 'bf_000': 4.196052631578947,\n",
              " 'av_000': 4.1947368421052635,\n",
              " 'bs_000': 1.2210526315789474,\n",
              " 'cb_000': 1.2210526315789474,\n",
              " 'ba_000': 1.1592105263157895,\n",
              " 'ba_001': 1.1592105263157895,\n",
              " 'ba_002': 1.1592105263157895,\n",
              " 'ba_003': 1.1592105263157895,\n",
              " 'ba_004': 1.1592105263157895,\n",
              " 'ba_005': 1.1592105263157895,\n",
              " 'ba_006': 1.1592105263157895,\n",
              " 'ba_007': 1.1592105263157895,\n",
              " 'ba_008': 1.1592105263157895,\n",
              " 'ba_009': 1.1592105263157895,\n",
              " 'bu_000': 1.1592105263157895,\n",
              " 'bv_000': 1.1592105263157895,\n",
              " 'cn_000': 1.1592105263157895,\n",
              " 'cn_001': 1.1592105263157895,\n",
              " 'cn_002': 1.1592105263157895,\n",
              " 'cn_003': 1.1592105263157895,\n",
              " 'cn_004': 1.1592105263157895,\n",
              " 'cn_005': 1.1592105263157895,\n",
              " 'cn_006': 1.1592105263157895,\n",
              " 'cn_007': 1.1592105263157895,\n",
              " 'cn_008': 1.1592105263157895,\n",
              " 'cn_009': 1.1592105263157895,\n",
              " 'cq_000': 1.1592105263157895,\n",
              " 'dn_000': 1.1592105263157895,\n",
              " 'ay_000': 1.1355263157894737,\n",
              " 'ay_001': 1.1355263157894737,\n",
              " 'ay_002': 1.1355263157894737,\n",
              " 'ay_003': 1.1355263157894737,\n",
              " 'ay_004': 1.1355263157894737,\n",
              " 'ay_005': 1.1355263157894737,\n",
              " 'ay_006': 1.1355263157894737,\n",
              " 'ay_007': 1.1355263157894737,\n",
              " 'ay_008': 1.1355263157894737,\n",
              " 'ay_009': 1.1355263157894737,\n",
              " 'az_000': 1.1355263157894737,\n",
              " 'az_001': 1.1355263157894737,\n",
              " 'az_002': 1.1355263157894737,\n",
              " 'az_003': 1.1355263157894737,\n",
              " 'az_004': 1.1355263157894737,\n",
              " 'az_005': 1.1355263157894737,\n",
              " 'az_006': 1.1355263157894737,\n",
              " 'az_007': 1.1355263157894737,\n",
              " 'az_008': 1.1355263157894737,\n",
              " 'az_009': 1.1355263157894737,\n",
              " 'ee_000': 1.1355263157894737,\n",
              " 'ee_001': 1.1355263157894737,\n",
              " 'ee_002': 1.1355263157894737,\n",
              " 'ee_003': 1.1355263157894737,\n",
              " 'ee_004': 1.1355263157894737,\n",
              " 'ee_005': 1.1355263157894737,\n",
              " 'ee_006': 1.1355263157894737,\n",
              " 'ee_007': 1.1355263157894737,\n",
              " 'ee_008': 1.1355263157894737,\n",
              " 'ee_009': 1.1355263157894737,\n",
              " 'ag_000': 1.131578947368421,\n",
              " 'ag_001': 1.131578947368421,\n",
              " 'ag_002': 1.131578947368421,\n",
              " 'ag_003': 1.131578947368421,\n",
              " 'ag_004': 1.131578947368421,\n",
              " 'ag_005': 1.131578947368421,\n",
              " 'ag_006': 1.131578947368421,\n",
              " 'ag_007': 1.131578947368421,\n",
              " 'ag_008': 1.131578947368421,\n",
              " 'ag_009': 1.131578947368421,\n",
              " 'cs_000': 1.1289473684210527,\n",
              " 'cs_001': 1.1289473684210527,\n",
              " 'cs_002': 1.1289473684210527,\n",
              " 'cs_003': 1.1289473684210527,\n",
              " 'cs_004': 1.1289473684210527,\n",
              " 'cs_005': 1.1289473684210527,\n",
              " 'cs_006': 1.1289473684210527,\n",
              " 'cs_007': 1.1289473684210527,\n",
              " 'cs_008': 1.1289473684210527,\n",
              " 'cs_009': 1.1289473684210527,\n",
              " 'ah_000': 1.0789473684210527,\n",
              " 'bb_000': 1.0789473684210527,\n",
              " 'al_000': 1.0671052631578948,\n",
              " 'an_000': 1.0671052631578948,\n",
              " 'ap_000': 1.0671052631578948,\n",
              " 'bg_000': 1.0671052631578948,\n",
              " 'bh_000': 1.0671052631578948,\n",
              " 'ai_000': 1.0421052631578946,\n",
              " 'aj_000': 1.0421052631578946,\n",
              " 'am_0': 1.0421052631578946,\n",
              " 'as_000': 1.0421052631578946,\n",
              " 'at_000': 1.0421052631578946,\n",
              " 'au_000': 1.0421052631578946,\n",
              " 'ao_000': 0.9881578947368421,\n",
              " 'aq_000': 0.9881578947368421,\n",
              " 'bi_000': 0.9881578947368421,\n",
              " 'bj_000': 0.9881578947368421,\n",
              " 'by_000': 0.7631578947368421,\n",
              " 'ci_000': 0.5578947368421052,\n",
              " 'cj_000': 0.5578947368421052,\n",
              " 'ck_000': 0.5578947368421052,\n",
              " 'bt_000': 0.2565789473684211,\n",
              " 'class': 0.0,\n",
              " 'aa_000': 0.0}"
            ]
          },
          "metadata": {},
          "execution_count": 33
        }
      ]
    },
    {
      "cell_type": "markdown",
      "source": [
        "### Barplot\n",
        "To display percentage of missing values"
      ],
      "metadata": {
        "id": "dX1nCgMIKvgb"
      },
      "id": "dX1nCgMIKvgb"
    },
    {
      "cell_type": "code",
      "source": [
        "## Plotting graph to display top 15 features with most number of missing values\n",
        "\n",
        "sns.set_style(style='whitegrid')\n",
        "plt.figure(figsize=(20,10))\n",
        "\n",
        "plot = sns.barplot(x=list(nan_count.keys())[:15], y=list(nan_count.values())[:15], palette='hls')\n",
        "\n",
        "# Add annotation above each bar signiifying their value\n",
        "for p in plot.patches:\n",
        "  plot.annotate('{:.1f}%'.format(p.get_height()), (p.get_x()+0.2, p.get_height()+1))\n",
        "\n",
        "# Make y axis more interpretable\n",
        "plot.set_yticklabels(map('{:.1f}%'.format, plot.yaxis.get_majorticklocs()))\n",
        "plt.show()"
      ],
      "metadata": {
        "colab": {
          "base_uri": "https://localhost:8080/",
          "height": 592
        },
        "id": "ecF3Fi39Hnin",
        "outputId": "02f50616-a3c1-4924-a8d4-37cda5e17834"
      },
      "id": "ecF3Fi39Hnin",
      "execution_count": null,
      "outputs": [
        {
          "output_type": "display_data",
          "data": {
            "text/plain": [
              "<Figure size 1440x720 with 1 Axes>"
            ],
            "image/png": "[encoded data removed]"
          },
          "metadata": {}
        }
      ]
    },
    {
      "cell_type": "markdown",
      "source": [
        "#### Observation:\n",
        "- Feature 'br_000', 'bq_000', 'bp_000', 'bo_000', 'ab_000', 'o_000', 'bn_000', 'bm_000' has more than 50% null values."
      ],
      "metadata": {
        "id": "mOlyraPk0mVc"
      },
      "id": "mOlyraPk0mVc"
    },
    {
      "cell_type": "markdown",
      "source": [
        "### Handling missing values\n",
        "Dropping features and rows"
      ],
      "metadata": {
        "id": "5N7YIaGu1gMd"
      },
      "id": "5N7YIaGu1gMd"
    },
    {
      "cell_type": "code",
      "source": [
        "def remove_na(df, nan_feat):\n",
        "  '''\n",
        "  This function removes features with more than 70% missing data,\n",
        "  and removes rows that have NA values from features have less than 5% missing data. \n",
        "  '''\n",
        "\n",
        "  # Removing features having more than 70 null values\n",
        "  df = df.dropna(axis=1, thresh=22800)\n",
        "\n",
        "  # Removing rows having NA from above created dictionaryof features\n",
        "  df = df.dropna(subset=nan_feat)\n",
        "\n",
        "  # Reset index\n",
        "  df = df.reset_index(drop=True)\n",
        "\n",
        "  return df"
      ],
      "metadata": {
        "id": "uARSrBenHn_h"
      },
      "id": "uARSrBenHn_h",
      "execution_count": null,
      "outputs": []
    },
    {
      "cell_type": "code",
      "source": [
        "print('Old shape of data : ', df_bo.shape)"
      ],
      "metadata": {
        "colab": {
          "base_uri": "https://localhost:8080/"
        },
        "id": "tdOffAVq31Ov",
        "outputId": "b906740c-0454-4c3a-e25e-2c53d016b3b6"
      },
      "id": "tdOffAVq31Ov",
      "execution_count": null,
      "outputs": [
        {
          "output_type": "stream",
          "name": "stdout",
          "text": [
            "Old shape of data :  (76000, 170)\n"
          ]
        }
      ]
    },
    {
      "cell_type": "code",
      "source": [
        "# List of features having less than 5% NA\n",
        "na_5 = {k for k,v in nan_count.items() if v<5}"
      ],
      "metadata": {
        "id": "BZeoC8m04DAC"
      },
      "id": "BZeoC8m04DAC",
      "execution_count": null,
      "outputs": []
    },
    {
      "cell_type": "code",
      "source": [
        "df_null = remove_na(df_bo, na_5)"
      ],
      "metadata": {
        "id": "SYY5lpxf4bF0"
      },
      "id": "SYY5lpxf4bF0",
      "execution_count": null,
      "outputs": []
    },
    {
      "cell_type": "code",
      "source": [
        "print('Shape of the data after dropping values : ', df_null.shape)"
      ],
      "metadata": {
        "colab": {
          "base_uri": "https://localhost:8080/"
        },
        "id": "US17PlDu4vtY",
        "outputId": "e24d6fa1-0e2c-41e8-e99b-725831a7487a"
      },
      "id": "US17PlDu4vtY",
      "execution_count": null,
      "outputs": [
        {
          "output_type": "stream",
          "name": "stdout",
          "text": [
            "Shape of the data after dropping values :  (70872, 163)\n"
          ]
        }
      ]
    },
    {
      "cell_type": "markdown",
      "source": [
        "### Median Imputing"
      ],
      "metadata": {
        "id": "17vhv5nq_vxC"
      },
      "id": "17vhv5nq_vxC"
    },
    {
      "cell_type": "code",
      "source": [
        "imp = SimpleImputer(missing_values= np.nan, strategy='median')\n",
        "for col in df_null.columns:\n",
        "  df_null[col] = imp.fit_transform(df_null[col].values.reshape(-1,1))"
      ],
      "metadata": {
        "id": "dSMSTApr7oP-"
      },
      "id": "dSMSTApr7oP-",
      "execution_count": null,
      "outputs": []
    },
    {
      "cell_type": "code",
      "source": [
        "df_null.isnull().sum().sum()"
      ],
      "metadata": {
        "id": "y3oNZN6s5zSa",
        "colab": {
          "base_uri": "https://localhost:8080/"
        },
        "outputId": "8de34d30-214e-4f8d-9b2f-6759e2c6a041"
      },
      "id": "y3oNZN6s5zSa",
      "execution_count": null,
      "outputs": [
        {
          "output_type": "execute_result",
          "data": {
            "text/plain": [
              "0"
            ]
          },
          "metadata": {},
          "execution_count": 41
        }
      ]
    },
    {
      "cell_type": "markdown",
      "source": [
        "### Displaying dropped features"
      ],
      "metadata": {
        "id": "RfhmgC8WdpKW"
      },
      "id": "RfhmgC8WdpKW"
    },
    {
      "cell_type": "code",
      "source": [
        "# Creating a list of features top 7 features having most number of missing values(>70%)\n",
        "null_value_70 = list(nan_count.keys())[:7]\n",
        "\n",
        "# Total Removed features\n",
        "removed_features = null_value_70 + dropped_columns\n",
        "print('Total removed features are : ', removed_features)"
      ],
      "metadata": {
        "id": "CWF9oPjQ7964",
        "colab": {
          "base_uri": "https://localhost:8080/"
        },
        "outputId": "de2457b0-fd3e-4c61-c651-95922f299e34"
      },
      "id": "CWF9oPjQ7964",
      "execution_count": null,
      "outputs": [
        {
          "output_type": "stream",
          "name": "stdout",
          "text": [
            "Total removed features are :  ['br_000', 'bq_000', 'bp_000', 'bo_000', 'ab_000', 'cr_000', 'bn_000', 'cd_000']\n"
          ]
        }
      ]
    },
    {
      "cell_type": "markdown",
      "source": [
        "### Checking the duplicate records"
      ],
      "metadata": {
        "id": "-Vky4aYQhsF9"
      },
      "id": "-Vky4aYQhsF9"
    },
    {
      "cell_type": "code",
      "source": [
        "df_null.duplicated().sum()"
      ],
      "metadata": {
        "colab": {
          "base_uri": "https://localhost:8080/"
        },
        "id": "DOht4yKgfq9e",
        "outputId": "165e90c2-6c65-4278-ad19-9f9fe6fa39bb"
      },
      "id": "DOht4yKgfq9e",
      "execution_count": null,
      "outputs": [
        {
          "output_type": "execute_result",
          "data": {
            "text/plain": [
              "1"
            ]
          },
          "metadata": {},
          "execution_count": 43
        }
      ]
    },
    {
      "cell_type": "code",
      "source": [
        "## Dropping duplicate records\n",
        "\n",
        "df_null.drop_duplicates(inplace=True)"
      ],
      "metadata": {
        "id": "_Xz81pydhl6I"
      },
      "id": "_Xz81pydhl6I",
      "execution_count": null,
      "outputs": []
    },
    {
      "cell_type": "code",
      "source": [
        "df_null.duplicated().sum()"
      ],
      "metadata": {
        "colab": {
          "base_uri": "https://localhost:8080/"
        },
        "id": "R2zWuwD5iD8q",
        "outputId": "2519eb31-cc10-4d26-d979-ed686894703f"
      },
      "id": "R2zWuwD5iD8q",
      "execution_count": null,
      "outputs": [
        {
          "output_type": "execute_result",
          "data": {
            "text/plain": [
              "0"
            ]
          },
          "metadata": {},
          "execution_count": 45
        }
      ]
    },
    {
      "cell_type": "markdown",
      "source": [
        "# Final Dataset"
      ],
      "metadata": {
        "id": "rXeIyqeKip42"
      },
      "id": "rXeIyqeKip42"
    },
    {
      "cell_type": "code",
      "source": [
        "df_final = df_null.copy()"
      ],
      "metadata": {
        "id": "5cksZYtLiJuD"
      },
      "id": "5cksZYtLiJuD",
      "execution_count": null,
      "outputs": []
    },
    {
      "cell_type": "markdown",
      "source": [
        "## Separating the feature and label"
      ],
      "metadata": {
        "id": "zwfF6Ehxjum4"
      },
      "id": "zwfF6Ehxjum4"
    },
    {
      "cell_type": "code",
      "source": [
        "X = df_final.drop('class', axis=1)\n",
        "y = df_final['class']"
      ],
      "metadata": {
        "id": "1KB97Po7jLJA"
      },
      "id": "1KB97Po7jLJA",
      "execution_count": null,
      "outputs": []
    },
    {
      "cell_type": "markdown",
      "source": [
        "## Train-test split"
      ],
      "metadata": {
        "id": "necJ1nuQkCIu"
      },
      "id": "necJ1nuQkCIu"
    },
    {
      "cell_type": "code",
      "source": [
        "X_train, X_test, y_train, y_test = train_test_split(X, y, test_size=0.22, random_state=11)"
      ],
      "metadata": {
        "id": "-dlqdP6uj8B6"
      },
      "id": "-dlqdP6uj8B6",
      "execution_count": null,
      "outputs": []
    },
    {
      "cell_type": "code",
      "source": [
        "X_train.shape, y_train.shape"
      ],
      "metadata": {
        "colab": {
          "base_uri": "https://localhost:8080/"
        },
        "id": "S98Z5eOakvQP",
        "outputId": "c2ff3c2d-f964-48b3-c195-274e1269ef53"
      },
      "id": "S98Z5eOakvQP",
      "execution_count": null,
      "outputs": [
        {
          "output_type": "execute_result",
          "data": {
            "text/plain": [
              "((55279, 162), (55279,))"
            ]
          },
          "metadata": {},
          "execution_count": 49
        }
      ]
    },
    {
      "cell_type": "code",
      "source": [
        "X_test.shape, y_test.shape"
      ],
      "metadata": {
        "colab": {
          "base_uri": "https://localhost:8080/"
        },
        "id": "idG7b-6Ek1Ae",
        "outputId": "f56c795d-56b9-4953-d0dd-14c2055bebd0"
      },
      "id": "idG7b-6Ek1Ae",
      "execution_count": null,
      "outputs": [
        {
          "output_type": "execute_result",
          "data": {
            "text/plain": [
              "((15592, 162), (15592,))"
            ]
          },
          "metadata": {},
          "execution_count": 50
        }
      ]
    },
    {
      "cell_type": "markdown",
      "source": [
        "#Feature Scaling "
      ],
      "metadata": {
        "id": "FoxnRR4_mDw-"
      },
      "id": "FoxnRR4_mDw-"
    },
    {
      "cell_type": "code",
      "source": [
        "scaler = StandardScaler()\n",
        "\n",
        "X_train_scaled = scaler.fit_transform(X_train)\n",
        "X_test_scaled = scaler.fit_transform(X_test)"
      ],
      "metadata": {
        "id": "f9026wzqmBO1"
      },
      "id": "f9026wzqmBO1",
      "execution_count": null,
      "outputs": []
    },
    {
      "cell_type": "markdown",
      "source": [
        "# Logistic Regression"
      ],
      "metadata": {
        "id": "Zv8Gm7rUlMoO"
      },
      "id": "Zv8Gm7rUlMoO"
    },
    {
      "cell_type": "code",
      "source": [
        "log_reg = LogisticRegression()\n",
        "\n",
        "log_reg.fit(X_train_scaled, y_train)"
      ],
      "metadata": {
        "colab": {
          "base_uri": "https://localhost:8080/"
        },
        "id": "2HzRmS51k-g2",
        "outputId": "d058a4c0-2880-44ab-b5a2-9d15e3a6c670"
      },
      "id": "2HzRmS51k-g2",
      "execution_count": null,
      "outputs": [
        {
          "output_type": "execute_result",
          "data": {
            "text/plain": [
              "LogisticRegression()"
            ]
          },
          "metadata": {},
          "execution_count": 52
        }
      ]
    },
    {
      "cell_type": "code",
      "source": [
        "y_pred_log_reg = log_reg.predict(X_test_scaled)"
      ],
      "metadata": {
        "id": "kSTjFSABlbku"
      },
      "id": "kSTjFSABlbku",
      "execution_count": null,
      "outputs": []
    },
    {
      "cell_type": "markdown",
      "source": [
        "### 5.1 Accuracy Score"
      ],
      "metadata": {
        "id": "wkP1ClHgnat2"
      },
      "id": "wkP1ClHgnat2"
    },
    {
      "cell_type": "code",
      "source": [
        "# Logistic Regression model accuracy after hyper-parameter tuning\n",
        "\n",
        "print(\"Logistic Regression best param training accuracy score is : {}%\".format(round(log_reg.score(X_train_scaled, y_train)*100, 2)))\n",
        "print(\"Logistic Regression best param model's accuracy score is : {}%\".format(round(accuracy_score(y_test, y_pred_log_reg)*100, 2)))"
      ],
      "metadata": {
        "colab": {
          "base_uri": "https://localhost:8080/"
        },
        "id": "k6P61d2Dl6-a",
        "outputId": "bb7f792b-bad2-4d9e-a255-1bab5a59c24d"
      },
      "id": "k6P61d2Dl6-a",
      "execution_count": null,
      "outputs": [
        {
          "output_type": "stream",
          "name": "stdout",
          "text": [
            "Logistic Regression best param training accuracy score is : 99.52%\n",
            "Logistic Regression best param model's accuracy score is : 99.38%\n"
          ]
        }
      ]
    },
    {
      "cell_type": "markdown",
      "source": [
        "#### 5.2 Roc-auc score"
      ],
      "metadata": {
        "id": "HFYUNUSxoVm1"
      },
      "id": "HFYUNUSxoVm1"
    },
    {
      "cell_type": "code",
      "source": [
        "y_train_predict_roc_log_reg = log_reg.predict_proba(X_train_scaled)\n",
        "\n",
        "print(\"Extra Trees Classifier model with best parameter training training roc-auc score is : {}%\".format(round(roc_auc_score(y_train, y_train_predict_roc_log_reg[:,1])*100)))\n",
        "\n",
        "y_test_predict_roc_etc_log_reg = log_reg.predict_proba(X_test)\n",
        "\n",
        "print(\"Extra Trees Classifier model with best parameter training roc-auc accuracy score is : {}%\".format(round(roc_auc_score(y_test, y_test_predict_roc_etc_log_reg[:,1])*100)))"
      ],
      "metadata": {
        "colab": {
          "base_uri": "https://localhost:8080/"
        },
        "id": "DSBJN_2MoIiZ",
        "outputId": "f753f106-e84e-4ac7-fbfc-32a586912ff6"
      },
      "id": "DSBJN_2MoIiZ",
      "execution_count": null,
      "outputs": [
        {
          "output_type": "stream",
          "name": "stdout",
          "text": [
            "Extra Trees Classifier model with best parameter training training roc-auc score is : 98%\n",
            "Extra Trees Classifier model with best parameter training roc-auc accuracy score is : 67%\n"
          ]
        }
      ]
    },
    {
      "cell_type": "markdown",
      "source": [
        "#### 5.3 Confusion_matrix"
      ],
      "metadata": {
        "id": "niwmTnGco-eZ"
      },
      "id": "niwmTnGco-eZ"
    },
    {
      "cell_type": "code",
      "source": [
        "conf_mat = confusion_matrix(y_test, y_pred_log_reg)\n",
        "conf_mat"
      ],
      "metadata": {
        "colab": {
          "base_uri": "https://localhost:8080/"
        },
        "id": "vhO7CsW-oq8c",
        "outputId": "40d0f154-20ac-4e3c-f3d8-fa8c33200c5a"
      },
      "id": "vhO7CsW-oq8c",
      "execution_count": null,
      "outputs": [
        {
          "output_type": "execute_result",
          "data": {
            "text/plain": [
              "array([[15389,    20],\n",
              "       [   76,   107]])"
            ]
          },
          "metadata": {},
          "execution_count": 56
        }
      ]
    },
    {
      "cell_type": "code",
      "source": [
        "true_positive = conf_mat[0][0]\n",
        "false_positive = conf_mat[0][1]\n",
        "false_negative = conf_mat[1][0]\n",
        "true_negative = conf_mat[1][0]\n",
        "print('True Positive:',true_positive, '\\nTrue Negative:',true_negative, '\\nFalse Negative:',false_negative, '\\nFalse Positive:',false_positive)"
      ],
      "metadata": {
        "colab": {
          "base_uri": "https://localhost:8080/"
        },
        "id": "kw7Kss59pFa5",
        "outputId": "7a739b7d-64a8-4b88-b98b-4ee379411ebb"
      },
      "id": "kw7Kss59pFa5",
      "execution_count": null,
      "outputs": [
        {
          "output_type": "stream",
          "name": "stdout",
          "text": [
            "True Positive: 15389 \n",
            "True Negative: 76 \n",
            "False Negative: 76 \n",
            "False Positive: 20\n"
          ]
        }
      ]
    },
    {
      "cell_type": "markdown",
      "source": [
        "##### 5.4 Classification Report"
      ],
      "metadata": {
        "id": "nW9f5y-dpPSg"
      },
      "id": "nW9f5y-dpPSg"
    },
    {
      "cell_type": "code",
      "source": [
        "class_reprt_log_reg = classification_report(y_test, y_pred_log_reg)\n",
        "print(class_reprt_log_reg)"
      ],
      "metadata": {
        "colab": {
          "base_uri": "https://localhost:8080/"
        },
        "id": "kOy2JRnSpMnm",
        "outputId": "456f28bc-1901-49cb-d0ef-154263ab0f5a"
      },
      "id": "kOy2JRnSpMnm",
      "execution_count": null,
      "outputs": [
        {
          "output_type": "stream",
          "name": "stdout",
          "text": [
            "              precision    recall  f1-score   support\n",
            "\n",
            "         0.0       1.00      1.00      1.00     15409\n",
            "         1.0       0.84      0.58      0.69       183\n",
            "\n",
            "    accuracy                           0.99     15592\n",
            "   macro avg       0.92      0.79      0.84     15592\n",
            "weighted avg       0.99      0.99      0.99     15592\n",
            "\n"
          ]
        }
      ]
    },
    {
      "cell_type": "markdown",
      "source": [
        "## Hyper parameter tuning\n",
        "### Logistic Regression"
      ],
      "metadata": {
        "id": "IHOwcgGbpl-B"
      },
      "id": "IHOwcgGbpl-B"
    },
    {
      "cell_type": "code",
      "source": [
        "grid_param = {\n",
        "    'penalty' : ['l1', 'l2', 'elasticnet', 'none'],\n",
        "    'C' : [0.01, 0.1, 1.0, 10],\n",
        "    'max_iter' : [20, 40, 60, 80]\n",
        "}"
      ],
      "metadata": {
        "id": "AeM-RmDgpXOY"
      },
      "id": "AeM-RmDgpXOY",
      "execution_count": null,
      "outputs": []
    },
    {
      "cell_type": "code",
      "source": [
        "grid_search_log_reg = GridSearchCV(estimator=log_reg, param_grid=grid_param, verbose=3, n_jobs=-1, cv=3)"
      ],
      "metadata": {
        "id": "BA24WhebrEPy"
      },
      "id": "BA24WhebrEPy",
      "execution_count": null,
      "outputs": []
    },
    {
      "cell_type": "code",
      "source": [
        "grid_search_log_reg.fit(X_train_scaled, y_train)"
      ],
      "metadata": {
        "colab": {
          "base_uri": "https://localhost:8080/"
        },
        "id": "l9GY9NfArz5z",
        "outputId": "1c4f6b70-141f-4bb7-c375-9a36947c4aba"
      },
      "id": "l9GY9NfArz5z",
      "execution_count": null,
      "outputs": [
        {
          "output_type": "stream",
          "name": "stdout",
          "text": [
            "Fitting 3 folds for each of 64 candidates, totalling 192 fits\n"
          ]
        },
        {
          "output_type": "execute_result",
          "data": {
            "text/plain": [
              "GridSearchCV(cv=3, estimator=LogisticRegression(), n_jobs=-1,\n",
              "             param_grid={'C': [0.01, 0.1, 1.0, 10],\n",
              "                         'max_iter': [20, 40, 60, 80],\n",
              "                         'penalty': ['l1', 'l2', 'elasticnet', 'none']},\n",
              "             verbose=3)"
            ]
          },
          "metadata": {},
          "execution_count": 61
        }
      ]
    },
    {
      "cell_type": "code",
      "source": [
        "grid_search_log_reg.best_params_"
      ],
      "metadata": {
        "colab": {
          "base_uri": "https://localhost:8080/"
        },
        "id": "4r_OrWw3r6_N",
        "outputId": "472f75fb-164c-4645-a1be-2b7f1adda715"
      },
      "id": "4r_OrWw3r6_N",
      "execution_count": null,
      "outputs": [
        {
          "output_type": "execute_result",
          "data": {
            "text/plain": [
              "{'C': 1.0, 'max_iter': 40, 'penalty': 'l2'}"
            ]
          },
          "metadata": {},
          "execution_count": 62
        }
      ]
    },
    {
      "cell_type": "code",
      "source": [
        "model_with_bst_prm_log_reg = LogisticRegression(C = 1.0, max_iter = 40, penalty = 'l2')"
      ],
      "metadata": {
        "id": "1P9wJADispRm"
      },
      "id": "1P9wJADispRm",
      "execution_count": null,
      "outputs": []
    },
    {
      "cell_type": "code",
      "source": [
        "model_with_bst_prm_log_reg.fit(X_train_scaled, y_train)"
      ],
      "metadata": {
        "colab": {
          "base_uri": "https://localhost:8080/"
        },
        "id": "Sby0rQvRtXhQ",
        "outputId": "6f3ae698-5b4a-4c83-932c-a99fbea3a8c4"
      },
      "id": "Sby0rQvRtXhQ",
      "execution_count": null,
      "outputs": [
        {
          "output_type": "execute_result",
          "data": {
            "text/plain": [
              "LogisticRegression(max_iter=40)"
            ]
          },
          "metadata": {},
          "execution_count": 64
        }
      ]
    },
    {
      "cell_type": "code",
      "source": [
        "y_pred_bst_prm_log_reg = model_with_bst_prm_log_reg.predict(X_test_scaled)"
      ],
      "metadata": {
        "id": "XvUk-guZs5s6"
      },
      "id": "XvUk-guZs5s6",
      "execution_count": null,
      "outputs": []
    },
    {
      "cell_type": "markdown",
      "source": [
        "#### 5.1 Accuracy Score"
      ],
      "metadata": {
        "id": "7NQBPSgatmJQ"
      },
      "id": "7NQBPSgatmJQ"
    },
    {
      "cell_type": "code",
      "source": [
        "# LogisticRegression Model with best params accuracy score\n",
        "\n",
        "print(\"LogisticRegression Model with best params training accuracy score is : {}%\".format(round(model_with_bst_prm_log_reg.score(X_train_scaled, y_train)*100, 2)))\n",
        "print(\"LogisticRegression Model with best params accuracy score is : {}%\".format(round(accuracy_score(y_test, y_pred_bst_prm_log_reg)*100, 2)))"
      ],
      "metadata": {
        "colab": {
          "base_uri": "https://localhost:8080/"
        },
        "id": "pbqKEwm9tPZm",
        "outputId": "e3e863cd-42e6-4412-decb-ee62806390cc"
      },
      "id": "pbqKEwm9tPZm",
      "execution_count": null,
      "outputs": [
        {
          "output_type": "stream",
          "name": "stdout",
          "text": [
            "LogisticRegression Model with best params training accuracy score is : 99.52%\n",
            "LogisticRegression Model with best params accuracy score is : 99.42%\n"
          ]
        }
      ]
    },
    {
      "cell_type": "markdown",
      "source": [
        "#### 5.2 Roc-auc score"
      ],
      "metadata": {
        "id": "JDOMeMDxuFdg"
      },
      "id": "JDOMeMDxuFdg"
    },
    {
      "cell_type": "code",
      "source": [
        "y_train_predict_roc_bst_prm_log_reg = model_with_bst_prm_log_reg.predict_proba(X_train_scaled)\n",
        "\n",
        "print(\"LogisticRegression  Model with best params training roc-auc score is : {}%\".format(round(roc_auc_score(y_train, y_train_predict_roc_bst_prm_log_reg[:,1])*100)))\n",
        "\n",
        "y_test_predict_roc_bst_prm_log_reg = model_with_bst_prm_log_reg.predict_proba(X_test_scaled)\n",
        "\n",
        "print(\"LogisticRegression  Model with best params roc-auc accuracy score is : {}%\".format(round(roc_auc_score(y_test, y_test_predict_roc_bst_prm_log_reg[:,1])*100)))"
      ],
      "metadata": {
        "colab": {
          "base_uri": "https://localhost:8080/"
        },
        "id": "lNlUkngBt9lT",
        "outputId": "919ed605-6211-4fd9-ffcd-109bfa31bb7f"
      },
      "id": "lNlUkngBt9lT",
      "execution_count": null,
      "outputs": [
        {
          "output_type": "stream",
          "name": "stdout",
          "text": [
            "LogisticRegression  Model with best params training roc-auc score is : 98%\n",
            "LogisticRegression  Model with best params roc-auc accuracy score is : 96%\n"
          ]
        }
      ]
    },
    {
      "cell_type": "markdown",
      "source": [
        "#### 5.3 Confusion_matrix"
      ],
      "metadata": {
        "id": "rJmxP5q7vDe1"
      },
      "id": "rJmxP5q7vDe1"
    },
    {
      "cell_type": "code",
      "source": [
        "conf_mat_bst_prm_log_reg = confusion_matrix(y_test, y_pred_bst_prm_log_reg)\n",
        "conf_mat_bst_prm_log_reg"
      ],
      "metadata": {
        "colab": {
          "base_uri": "https://localhost:8080/"
        },
        "id": "D-0JLO2nu5xQ",
        "outputId": "86902cc5-a712-4d97-80fa-10621dd112be"
      },
      "id": "D-0JLO2nu5xQ",
      "execution_count": null,
      "outputs": [
        {
          "output_type": "execute_result",
          "data": {
            "text/plain": [
              "array([[15389,    20],\n",
              "       [   70,   113]])"
            ]
          },
          "metadata": {},
          "execution_count": 68
        }
      ]
    },
    {
      "cell_type": "code",
      "source": [
        "true_positive = conf_mat_bst_prm_log_reg[0][0]\n",
        "false_positive = conf_mat_bst_prm_log_reg[0][1]\n",
        "false_negative = conf_mat_bst_prm_log_reg[1][0]\n",
        "true_negative = conf_mat_bst_prm_log_reg[1][0]\n",
        "print('True Positive:',true_positive, '\\nTrue Negative:',true_negative, '\\nFalse Negative:',false_negative, '\\nFalse Positive:',false_positive)"
      ],
      "metadata": {
        "colab": {
          "base_uri": "https://localhost:8080/"
        },
        "id": "u3WROLomvRu6",
        "outputId": "59c9572c-33c3-4e1f-a28d-3a50b5108322"
      },
      "id": "u3WROLomvRu6",
      "execution_count": null,
      "outputs": [
        {
          "output_type": "stream",
          "name": "stdout",
          "text": [
            "True Positive: 15389 \n",
            "True Negative: 70 \n",
            "False Negative: 70 \n",
            "False Positive: 20\n"
          ]
        }
      ]
    },
    {
      "cell_type": "markdown",
      "source": [
        "##### 5.4 Classification Report"
      ],
      "metadata": {
        "id": "KrwSjRULvcRl"
      },
      "id": "KrwSjRULvcRl"
    },
    {
      "cell_type": "code",
      "source": [
        "class_reprt_bst_prm_log_reg = classification_report(y_test, y_pred_bst_prm_log_reg)\n",
        "print(class_reprt_bst_prm_log_reg)"
      ],
      "metadata": {
        "colab": {
          "base_uri": "https://localhost:8080/"
        },
        "id": "KnGwQHcTvYGn",
        "outputId": "063d93ca-d8db-4fd2-a086-cc96fcee7dc5"
      },
      "id": "KnGwQHcTvYGn",
      "execution_count": null,
      "outputs": [
        {
          "output_type": "stream",
          "name": "stdout",
          "text": [
            "              precision    recall  f1-score   support\n",
            "\n",
            "         0.0       1.00      1.00      1.00     15409\n",
            "         1.0       0.85      0.62      0.72       183\n",
            "\n",
            "    accuracy                           0.99     15592\n",
            "   macro avg       0.92      0.81      0.86     15592\n",
            "weighted avg       0.99      0.99      0.99     15592\n",
            "\n"
          ]
        }
      ]
    },
    {
      "cell_type": "markdown",
      "source": [
        "## Hyper-parameter tuning\n",
        "### Randomized Searh CV"
      ],
      "metadata": {
        "id": "K-yD9qm9v18H"
      },
      "id": "K-yD9qm9v18H"
    },
    {
      "cell_type": "code",
      "source": [
        "dist_param = {\n",
        "    'penalty' : ['l1', 'l2', 'elasticnet', 'none'],\n",
        "    'C' : [0.01, 0.1, 1.0, 10],\n",
        "    'max_iter' : [20, 40, 60, 80]\n",
        "}"
      ],
      "metadata": {
        "id": "0ve-dFEN1qOm"
      },
      "id": "0ve-dFEN1qOm",
      "execution_count": null,
      "outputs": []
    },
    {
      "cell_type": "code",
      "source": [
        "randomized_search_log_reg = RandomizedSearchCV(estimator=log_reg, param_distributions=dist_param, cv = 3, n_iter = 10, n_jobs=-1)"
      ],
      "metadata": {
        "id": "AwHKSOXsvmQP"
      },
      "id": "AwHKSOXsvmQP",
      "execution_count": null,
      "outputs": []
    },
    {
      "cell_type": "code",
      "source": [
        "randomized_search_log_reg.fit(X_train_scaled, y_train)"
      ],
      "metadata": {
        "colab": {
          "base_uri": "https://localhost:8080/"
        },
        "id": "VwRmLt0g2xKK",
        "outputId": "66d8004f-21fc-44be-bc2e-3574ca438c91"
      },
      "id": "VwRmLt0g2xKK",
      "execution_count": null,
      "outputs": [
        {
          "output_type": "execute_result",
          "data": {
            "text/plain": [
              "RandomizedSearchCV(cv=3, estimator=LogisticRegression(), n_jobs=-1,\n",
              "                   param_distributions={'C': [0.01, 0.1, 1.0, 10],\n",
              "                                        'max_iter': [20, 40, 60, 80],\n",
              "                                        'penalty': ['l1', 'l2', 'elasticnet',\n",
              "                                                    'none']})"
            ]
          },
          "metadata": {},
          "execution_count": 73
        }
      ]
    },
    {
      "cell_type": "code",
      "source": [
        "randomized_search_log_reg.best_params_"
      ],
      "metadata": {
        "colab": {
          "base_uri": "https://localhost:8080/"
        },
        "id": "WPZn5lPJ25Yc",
        "outputId": "143b2d59-5c19-457e-df0c-be8e7e10c08a"
      },
      "id": "WPZn5lPJ25Yc",
      "execution_count": null,
      "outputs": [
        {
          "output_type": "execute_result",
          "data": {
            "text/plain": [
              "{'penalty': 'none', 'max_iter': 40, 'C': 0.01}"
            ]
          },
          "metadata": {},
          "execution_count": 74
        }
      ]
    },
    {
      "cell_type": "code",
      "source": [
        "model_with_bst_prm_log_reg_r = LogisticRegression(penalty = 'l2', max_iter = 40, C = 0.1, verbose=3, n_jobs=-1)"
      ],
      "metadata": {
        "id": "TSBsIgh82_Q1"
      },
      "id": "TSBsIgh82_Q1",
      "execution_count": null,
      "outputs": []
    },
    {
      "cell_type": "code",
      "source": [
        "model_with_bst_prm_log_reg_r.fit(X_train_scaled, y_train)"
      ],
      "metadata": {
        "colab": {
          "base_uri": "https://localhost:8080/"
        },
        "id": "AO2RbzDT4CLQ",
        "outputId": "ded46a60-6953-4a55-ef44-849934e2d5e9"
      },
      "id": "AO2RbzDT4CLQ",
      "execution_count": null,
      "outputs": [
        {
          "output_type": "stream",
          "name": "stderr",
          "text": [
            "[Parallel(n_jobs=-1)]: Using backend LokyBackend with 2 concurrent workers.\n",
            "[Parallel(n_jobs=-1)]: Done   1 out of   1 | elapsed:    1.0s finished\n"
          ]
        },
        {
          "output_type": "execute_result",
          "data": {
            "text/plain": [
              "LogisticRegression(C=0.1, max_iter=40, n_jobs=-1, verbose=3)"
            ]
          },
          "metadata": {},
          "execution_count": 76
        }
      ]
    },
    {
      "cell_type": "code",
      "source": [
        "y_pred_bst_prm_log_reg_r = model_with_bst_prm_log_reg_r.predict(X_test_scaled)"
      ],
      "metadata": {
        "id": "H9jjezv34KZ1"
      },
      "id": "H9jjezv34KZ1",
      "execution_count": null,
      "outputs": []
    },
    {
      "cell_type": "markdown",
      "source": [
        "#### 5.1 Accuracy Score"
      ],
      "metadata": {
        "id": "-kWQQA794leA"
      },
      "id": "-kWQQA794leA"
    },
    {
      "cell_type": "code",
      "source": [
        "# LogisticRegression Model with best params  randomized search accuracy score\n",
        "\n",
        "print(\"LogisticRegression Model with best params randomized search training accuracy score is : {}%\".format(round(model_with_bst_prm_log_reg_r.score(X_train_scaled, y_train)*100, 2)))\n",
        "print(\"LogisticRegression Model with best params randomized search accuracy score is : {}%\".format(round(accuracy_score(y_test, y_pred_bst_prm_log_reg_r)*100, 2)))"
      ],
      "metadata": {
        "colab": {
          "base_uri": "https://localhost:8080/"
        },
        "id": "dZkWw1WL4Z6q",
        "outputId": "e75648b2-39d4-4d6e-badc-34a86922f7f3"
      },
      "id": "dZkWw1WL4Z6q",
      "execution_count": null,
      "outputs": [
        {
          "output_type": "stream",
          "name": "stdout",
          "text": [
            "LogisticRegression Model with best params randomized search training accuracy score is : 99.51%\n",
            "LogisticRegression Model with best params randomized search accuracy score is : 99.44%\n"
          ]
        }
      ]
    },
    {
      "cell_type": "markdown",
      "source": [
        "#### 5.2 Roc-auc score"
      ],
      "metadata": {
        "id": "LIVo2_FF5Ga2"
      },
      "id": "LIVo2_FF5Ga2"
    },
    {
      "cell_type": "code",
      "source": [
        "y_train_predict_roc_bst_prm_log_reg_r = model_with_bst_prm_log_reg_r.predict_proba(X_train_scaled)\n",
        "\n",
        "print(\"LogisticRegression  Model with best params randomized search training roc-auc score is : {}%\".format(round(roc_auc_score(y_train, y_train_predict_roc_bst_prm_log_reg_r[:,1])*100)))\n",
        "\n",
        "y_test_predict_roc_bst_prm_log_reg_r = model_with_bst_prm_log_reg_r.predict_proba(X_test_scaled)\n",
        "\n",
        "print(\"LogisticRegression  Model with best params randomized search roc-auc accuracy score is : {}%\".format(round(roc_auc_score(y_test, y_test_predict_roc_bst_prm_log_reg_r[:,1])*100)))"
      ],
      "metadata": {
        "colab": {
          "base_uri": "https://localhost:8080/"
        },
        "id": "tuD0jT4B5CKT",
        "outputId": "fd967729-455a-4653-9534-f7567dc2294f"
      },
      "id": "tuD0jT4B5CKT",
      "execution_count": null,
      "outputs": [
        {
          "output_type": "stream",
          "name": "stdout",
          "text": [
            "LogisticRegression  Model with best params randomized search training roc-auc score is : 98%\n",
            "LogisticRegression  Model with best params randomized search roc-auc accuracy score is : 96%\n"
          ]
        }
      ]
    },
    {
      "cell_type": "markdown",
      "source": [
        "#### 5.3 Confusion_matrix"
      ],
      "metadata": {
        "id": "49x4H8z-6Ggl"
      },
      "id": "49x4H8z-6Ggl"
    },
    {
      "cell_type": "code",
      "source": [
        "conf_mat_bst_prm_log_reg_r = confusion_matrix(y_test, y_pred_bst_prm_log_reg_r)\n",
        "conf_mat_bst_prm_log_reg_r"
      ],
      "metadata": {
        "colab": {
          "base_uri": "https://localhost:8080/"
        },
        "id": "4o0uQt9b53qb",
        "outputId": "bc277031-2a97-43c4-9071-571179a26874"
      },
      "id": "4o0uQt9b53qb",
      "execution_count": null,
      "outputs": [
        {
          "output_type": "execute_result",
          "data": {
            "text/plain": [
              "array([[15389,    20],\n",
              "       [   68,   115]])"
            ]
          },
          "metadata": {},
          "execution_count": 80
        }
      ]
    },
    {
      "cell_type": "code",
      "source": [
        "true_positive = conf_mat_bst_prm_log_reg_r[0][0]\n",
        "false_positive = conf_mat_bst_prm_log_reg_r[0][1]\n",
        "false_negative = conf_mat_bst_prm_log_reg_r[1][0]\n",
        "true_negative = conf_mat_bst_prm_log_reg_r[1][0]\n",
        "print('True Positive:',true_positive, '\\nTrue Negative:',true_negative, '\\nFalse Negative:',false_negative, '\\nFalse Positive:',false_positive)"
      ],
      "metadata": {
        "colab": {
          "base_uri": "https://localhost:8080/"
        },
        "id": "5lx4C5AR6LvD",
        "outputId": "fd5d7668-646a-46ed-b69b-cc3424036394"
      },
      "id": "5lx4C5AR6LvD",
      "execution_count": null,
      "outputs": [
        {
          "output_type": "stream",
          "name": "stdout",
          "text": [
            "True Positive: 15389 \n",
            "True Negative: 68 \n",
            "False Negative: 68 \n",
            "False Positive: 20\n"
          ]
        }
      ]
    },
    {
      "cell_type": "markdown",
      "source": [
        "##### 5.4 Classification Report"
      ],
      "metadata": {
        "id": "VpoMjRnK6UWw"
      },
      "id": "VpoMjRnK6UWw"
    },
    {
      "cell_type": "code",
      "source": [
        "class_reprt_bst_prm_log_reg_r = classification_report(y_test, y_pred_bst_prm_log_reg_r)\n",
        "print(class_reprt_bst_prm_log_reg_r)"
      ],
      "metadata": {
        "colab": {
          "base_uri": "https://localhost:8080/"
        },
        "id": "WN4QdzA86Qzd",
        "outputId": "34be0cbd-0dc2-44d2-c4c3-7a9fa312b234"
      },
      "id": "WN4QdzA86Qzd",
      "execution_count": null,
      "outputs": [
        {
          "output_type": "stream",
          "name": "stdout",
          "text": [
            "              precision    recall  f1-score   support\n",
            "\n",
            "         0.0       1.00      1.00      1.00     15409\n",
            "         1.0       0.85      0.63      0.72       183\n",
            "\n",
            "    accuracy                           0.99     15592\n",
            "   macro avg       0.92      0.81      0.86     15592\n",
            "weighted avg       0.99      0.99      0.99     15592\n",
            "\n"
          ]
        }
      ]
    },
    {
      "cell_type": "code",
      "source": [],
      "metadata": {
        "id": "VGrKc5wmFRRp"
      },
      "id": "VGrKc5wmFRRp",
      "execution_count": null,
      "outputs": []
    }
  ],
  "metadata": {
    "kernelspec": {
      "display_name": "Python 3 (ipykernel)",
      "language": "python",
      "name": "python3"
    },
    "language_info": {
      "codemirror_mode": {
        "name": "ipython",
        "version": 3
      },
      "file_extension": ".py",
      "mimetype": "text/x-python",
      "name": "python",
      "nbconvert_exporter": "python",
      "pygments_lexer": "ipython3",
      "version": "3.9.13"
    },
    "colab": {
      "provenance": [],
      "collapsed_sections": [
        "1jl_uf5dpaqY",
        "w_ts0ljb9NSX",
        "mOlyraPk0mVc"
      ]
    },
    "accelerator": "GPU",
    "gpuClass": "standard"
  },
  "nbformat": 4,
  "nbformat_minor": 5
}